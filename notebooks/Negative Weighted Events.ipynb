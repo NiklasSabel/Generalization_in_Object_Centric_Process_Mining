{
 "cells": [
  {
   "cell_type": "markdown",
   "id": "3629febf",
   "metadata": {},
   "source": [
    "# Negative Weighted Events"
   ]
  },
  {
   "cell_type": "markdown",
   "id": "ad07bf88",
   "metadata": {},
   "source": [
    "In this notebook, we adapt the negative events-based measure"
   ]
  },
  {
   "cell_type": "code",
   "execution_count": 1,
   "id": "c9aeff9a",
   "metadata": {
    "ExecuteTime": {
     "end_time": "2023-05-12T10:16:36.475430Z",
     "start_time": "2023-05-12T10:16:36.453655Z"
    }
   },
   "outputs": [],
   "source": [
    "import warnings\n",
    "warnings.filterwarnings('ignore')"
   ]
  },
  {
   "cell_type": "code",
   "execution_count": 2,
   "id": "7cd21f2c",
   "metadata": {
    "ExecuteTime": {
     "end_time": "2023-05-12T10:16:47.286454Z",
     "start_time": "2023-05-12T10:16:36.473777Z"
    }
   },
   "outputs": [],
   "source": [
    "from ocpa.objects.log.importer.ocel import factory as ocel_import_factory\n",
    "from ocpa.algo.discovery.ocpn import algorithm as ocpn_discovery_factory\n",
    "from src.utils import get_happy_path_log, create_flower_model, generate_variant_model\n",
    "from ocpa.objects.log.importer.csv import factory as ocel_import_factory_csv\n",
    "from models.negative_events_measure import negative_events_with_weighting\n",
    "import pickle"
   ]
  },
  {
   "cell_type": "markdown",
   "id": "2f5acca2",
   "metadata": {},
   "source": [
    "# P2P Log"
   ]
  },
  {
   "cell_type": "code",
   "execution_count": 3,
   "id": "87f49d3f",
   "metadata": {
    "ExecuteTime": {
     "end_time": "2023-05-12T10:16:48.789559Z",
     "start_time": "2023-05-12T10:16:46.966163Z"
    }
   },
   "outputs": [
    {
     "name": "stderr",
     "output_type": "stream",
     "text": [
      "Generating Variant Models: 100%|██████████| 12/12 [00:04<00:00,  2.69it/s]\n",
      "Processing Variant Nets: 100%|██████████| 12/12 [00:00<00:00, 2219.60it/s]\n"
     ]
    },
    {
     "name": "stdout",
     "output_type": "stream",
     "text": [
      "#########Start generating Object-Centric Petri Net#########\n",
      "#########Finished generating Object-Centric Petri Net#########\n"
     ]
    }
   ],
   "source": [
    "filename = \"../src/data/jsonocel/order_process.jsonocel\"\n",
    "ocel = ocel_import_factory.apply(filename)\n",
    "ocpn = ocpn_discovery_factory.apply(ocel, parameters={\"debug\": False})\n",
    "happy_path__ocel = get_happy_path_log(filename)\n",
    "happy_path_ocpn = ocpn_discovery_factory.apply(happy_path__ocel, parameters={\"debug\": False})\n",
    "ots = [\"order\",\"item\",\"delivery\"]\n",
    "flower_model_ocpn = create_flower_model(filename,ots)\n",
    "filename_variant = \"../src/data/csv/order_process_variant_log.csv\" \n",
    "parameters = {\"obj_names\": ots,\n",
    "              \"val_names\": [],\n",
    "              \"act_name\": \"event_activity\",\n",
    "              \"time_name\": \"event_timestamp\",\n",
    "              \"sep\": \",\"}\n",
    "ocel_variant = ocel_import_factory_csv.apply(file_path=filename_variant, parameters=parameters)\n",
    "variant_ocpn = generate_variant_model(ocel,save_path_logs='../src/data/csv/order_process_variants/order_variant',object_types = ots,save_path_visuals=f\"../reports/figures/order_variant_total.svg\" )"
   ]
  },
  {
   "cell_type": "code",
   "execution_count": 5,
   "id": "f9e15bcd",
   "metadata": {},
   "outputs": [
    {
     "name": "stderr",
     "output_type": "stream",
     "text": [
      "Check the arcs: 100%|██████████| 46/46 [00:00<00:00, 45893.91it/s]\n",
      "Calculate Generalization for all process executions: 100%|██████████| 48/48 [01:55<00:00,  2.41s/it] "
     ]
    },
    {
     "name": "stdout",
     "output_type": "stream",
     "text": [
      "Allowed: 149921.8158, Disallowed: 176731.859, Generalization 0.459 for ocpn model\n"
     ]
    },
    {
     "name": "stderr",
     "output_type": "stream",
     "text": [
      "\n"
     ]
    }
   ],
   "source": [
    "generalization, AG, DG = negative_events_with_weighting(ocel,ocpn)\n",
    "print(f'Allowed: {AG}, Disallowed: {DG}, Generalization {generalization} for ocpn model')"
   ]
  },
  {
   "cell_type": "code",
   "execution_count": 6,
   "id": "296bb09f",
   "metadata": {},
   "outputs": [
    {
     "name": "stderr",
     "output_type": "stream",
     "text": [
      "Check the arcs: 100%|██████████| 26/26 [00:00<00:00, 23914.89it/s]\n",
      "Calculate Generalization for all process executions: 100%|██████████| 48/48 [01:45<00:00,  2.19s/it] "
     ]
    },
    {
     "name": "stdout",
     "output_type": "stream",
     "text": [
      "Allowed: 68379.9245, Disallowed: 258273.7504, Generalization 0.2093 for happy path model\n"
     ]
    },
    {
     "name": "stderr",
     "output_type": "stream",
     "text": [
      "\n"
     ]
    }
   ],
   "source": [
    "generalization, AG, DG = negative_events_with_weighting(ocel,happy_path_ocpn)\n",
    "print(f'Allowed: {AG}, Disallowed: {DG}, Generalization {generalization} for happy path model')"
   ]
  },
  {
   "cell_type": "code",
   "execution_count": 7,
   "id": "d3ff4fca",
   "metadata": {},
   "outputs": [
    {
     "name": "stderr",
     "output_type": "stream",
     "text": [
      "Check the arcs: 100%|██████████| 32/32 [00:00<00:00, 31857.99it/s]\n",
      "Calculate Generalization for all process executions: 100%|██████████| 48/48 [01:48<00:00,  2.27s/it] "
     ]
    },
    {
     "name": "stdout",
     "output_type": "stream",
     "text": [
      "Allowed: 302371.1176, Disallowed: 24282.5573, Generalization 0.9257 for flower model\n"
     ]
    },
    {
     "name": "stderr",
     "output_type": "stream",
     "text": [
      "\n"
     ]
    }
   ],
   "source": [
    "generalization, AG, DG = negative_events_with_weighting(ocel,flower_model_ocpn)\n",
    "print(f'Allowed: {AG}, Disallowed: {DG}, Generalization {generalization} for flower model')"
   ]
  },
  {
   "cell_type": "code",
   "execution_count": 8,
   "id": "54968043",
   "metadata": {
    "scrolled": true
   },
   "outputs": [
    {
     "name": "stderr",
     "output_type": "stream",
     "text": [
      "Check the arcs: 100%|██████████| 378/378 [00:00<00:00, 15136.98it/s]\n",
      "Calculate Generalization for all process executions: 100%|██████████| 48/48 [06:40<00:00,  8.34s/it]  "
     ]
    },
    {
     "name": "stdout",
     "output_type": "stream",
     "text": [
      "Allowed: 50597.391, Disallowed: 339933.4536, Generalization 0.1296 for variant model\n"
     ]
    },
    {
     "name": "stderr",
     "output_type": "stream",
     "text": [
      "\n"
     ]
    }
   ],
   "source": [
    "generalization, AG, DG = negative_events_with_weighting(ocel_variant,variant_ocpn)\n",
    "print(f'Allowed: {AG}, Disallowed: {DG}, Generalization {generalization} for variant model')"
   ]
  },
  {
   "cell_type": "markdown",
   "id": "eaab8829",
   "metadata": {},
   "source": [
    "# P2P Log"
   ]
  },
  {
   "cell_type": "code",
   "execution_count": 9,
   "id": "425aa3b1",
   "metadata": {},
   "outputs": [
    {
     "name": "stderr",
     "output_type": "stream",
     "text": [
      "Generating Variant Models: 100%|██████████| 20/20 [00:01<00:00, 10.54it/s]\n",
      "Processing Variant Nets: 100%|██████████| 20/20 [00:00<00:00, 8121.41it/s]\n"
     ]
    },
    {
     "name": "stdout",
     "output_type": "stream",
     "text": [
      "#########Start generating Object-Centric Petri Net#########\n",
      "#########Finished generating Object-Centric Petri Net#########\n"
     ]
    }
   ],
   "source": [
    "filename = \"../src/data/jsonocel/p2p-normal.jsonocel\"\n",
    "ocel = ocel_import_factory.apply(filename)\n",
    "ocpn = ocpn_discovery_factory.apply(ocel, parameters={\"debug\": False})\n",
    "happy_path__ocel = get_happy_path_log(filename)\n",
    "happy_path_ocpn = ocpn_discovery_factory.apply(happy_path__ocel, parameters={\"debug\": False})\n",
    "ots = [\"PURCHORD\",\"INVOICE\",\"PURCHREQ\",\"MATERIAL\",\"GDSRCPT\"]\n",
    "flower_model_ocpn = create_flower_model(filename,ots)\n",
    "filename_variant = \"../src/data/csv/p2p_variant_log.csv\" \n",
    "parameters = {\"obj_names\": ots,\n",
    "              \"val_names\": [],\n",
    "              \"act_name\": \"event_activity\",\n",
    "              \"time_name\": \"event_timestamp\",\n",
    "              \"sep\": \",\"}\n",
    "ocel_variant = ocel_import_factory_csv.apply(file_path=filename_variant, parameters=parameters)\n",
    "variant_ocpn = generate_variant_model(ocel,save_path_logs='../src/data/csv/p2p-normal_variants/p2p_variant',object_types = ots ,save_path_visuals=f\"../reports/figures/p2p_variant_total.svg\" ,save=True)"
   ]
  },
  {
   "cell_type": "code",
   "execution_count": 10,
   "id": "fa35f222",
   "metadata": {},
   "outputs": [
    {
     "name": "stderr",
     "output_type": "stream",
     "text": [
      "Check the arcs: 100%|██████████| 40/40 [00:00<?, ?it/s]\n",
      "Calculate Generalization for all process executions: 100%|██████████| 80/80 [00:02<00:00, 32.02it/s]"
     ]
    },
    {
     "name": "stdout",
     "output_type": "stream",
     "text": [
      "Allowed: 28168.981, Disallowed: 107407.4762, Generalization 0.2078 for ocpn model\n"
     ]
    },
    {
     "name": "stderr",
     "output_type": "stream",
     "text": [
      "\n"
     ]
    }
   ],
   "source": [
    "generalization, AG, DG = negative_events_with_weighting(ocel,ocpn)\n",
    "print(f'Allowed: {AG}, Disallowed: {DG}, Generalization {generalization} for ocpn model')"
   ]
  },
  {
   "cell_type": "code",
   "execution_count": 11,
   "id": "aa914642",
   "metadata": {},
   "outputs": [
    {
     "name": "stderr",
     "output_type": "stream",
     "text": [
      "Check the arcs: 100%|██████████| 38/38 [00:00<00:00, 38002.75it/s]\n",
      "Calculate Generalization for all process executions: 100%|██████████| 80/80 [00:02<00:00, 28.59it/s]"
     ]
    },
    {
     "name": "stdout",
     "output_type": "stream",
     "text": [
      "Allowed: 28811.6095, Disallowed: 106764.8476, Generalization 0.2125 for happy path model\n"
     ]
    },
    {
     "name": "stderr",
     "output_type": "stream",
     "text": [
      "\n"
     ]
    }
   ],
   "source": [
    "generalization, AG, DG = negative_events_with_weighting(ocel,happy_path_ocpn)\n",
    "print(f'Allowed: {AG}, Disallowed: {DG}, Generalization {generalization} for happy path model')"
   ]
  },
  {
   "cell_type": "code",
   "execution_count": 12,
   "id": "f2b13ebd",
   "metadata": {},
   "outputs": [
    {
     "name": "stderr",
     "output_type": "stream",
     "text": [
      "Check the arcs: 100%|██████████| 38/38 [00:00<00:00, 38148.29it/s]\n",
      "Calculate Generalization for all process executions: 100%|██████████| 80/80 [00:02<00:00, 28.11it/s]"
     ]
    },
    {
     "name": "stdout",
     "output_type": "stream",
     "text": [
      "Allowed: 135576.4571, Disallowed: 0, Generalization 1.0 for flower model\n"
     ]
    },
    {
     "name": "stderr",
     "output_type": "stream",
     "text": [
      "\n"
     ]
    }
   ],
   "source": [
    "generalization, AG, DG = negative_events_with_weighting(ocel,flower_model_ocpn)\n",
    "print(f'Allowed: {AG}, Disallowed: {DG}, Generalization {generalization} for flower model')"
   ]
  },
  {
   "cell_type": "code",
   "execution_count": 13,
   "id": "ff696739",
   "metadata": {
    "scrolled": true
   },
   "outputs": [
    {
     "name": "stderr",
     "output_type": "stream",
     "text": [
      "Check the arcs: 100%|██████████| 760/760 [00:00<00:00, 20595.25it/s]\n",
      "Calculate Generalization for all process executions: 100%|██████████| 80/80 [00:53<00:00,  1.50it/s]"
     ]
    },
    {
     "name": "stdout",
     "output_type": "stream",
     "text": [
      "Allowed: 18063.2333, Disallowed: 137865.7976, Generalization 0.1158 for variant model\n"
     ]
    },
    {
     "name": "stderr",
     "output_type": "stream",
     "text": [
      "\n"
     ]
    }
   ],
   "source": [
    "generalization, AG, DG = negative_events_with_weighting(ocel_variant,variant_ocpn)\n",
    "print(f'Allowed: {AG}, Disallowed: {DG}, Generalization {generalization} for variant model')"
   ]
  },
  {
   "cell_type": "markdown",
   "id": "1c20e2e7",
   "metadata": {},
   "source": [
    "# DS3 Log"
   ]
  },
  {
   "cell_type": "code",
   "execution_count": 14,
   "id": "92f91d39",
   "metadata": {},
   "outputs": [
    {
     "ename": "NameError",
     "evalue": "name 'pickle' is not defined",
     "output_type": "error",
     "traceback": [
      "\u001B[1;31m---------------------------------------------------------------------------\u001B[0m",
      "\u001B[1;31mNameError\u001B[0m                                 Traceback (most recent call last)",
      "Cell \u001B[1;32mIn[14], line 16\u001B[0m\n\u001B[0;32m     14\u001B[0m ocel_variant \u001B[38;5;241m=\u001B[39m ocel_import_factory_csv\u001B[38;5;241m.\u001B[39mapply(file_path\u001B[38;5;241m=\u001B[39mfilename_variant, parameters\u001B[38;5;241m=\u001B[39mparameters)\n\u001B[0;32m     15\u001B[0m \u001B[38;5;28;01mwith\u001B[39;00m \u001B[38;5;28mopen\u001B[39m(\u001B[38;5;124m\"\u001B[39m\u001B[38;5;124m../src/data/csv/DS3_variant_ocpn.pickle\u001B[39m\u001B[38;5;124m\"\u001B[39m, \u001B[38;5;124m\"\u001B[39m\u001B[38;5;124mrb\u001B[39m\u001B[38;5;124m\"\u001B[39m) \u001B[38;5;28;01mas\u001B[39;00m file:\n\u001B[1;32m---> 16\u001B[0m     variant_ocpn \u001B[38;5;241m=\u001B[39m \u001B[43mpickle\u001B[49m\u001B[38;5;241m.\u001B[39mload(file)\n",
      "\u001B[1;31mNameError\u001B[0m: name 'pickle' is not defined"
     ]
    }
   ],
   "source": [
    "filename = \"../src/data/jsonocel/DS3.jsonocel\"\n",
    "ocel = ocel_import_factory.apply(filename)\n",
    "ocpn = ocpn_discovery_factory.apply(ocel, parameters={\"debug\": False})\n",
    "happy_path__ocel = get_happy_path_log(filename)\n",
    "happy_path_ocpn = ocpn_discovery_factory.apply(happy_path__ocel, parameters={\"debug\": False})\n",
    "ots = [\"incident\",\"customer\"]\n",
    "flower_model_ocpn = create_flower_model(filename,ots)\n",
    "filename_variant = \"../src/data/csv/DS3_variant_log.csv\" \n",
    "parameters = {\"obj_names\": ots,\n",
    "              \"val_names\": [],\n",
    "              \"act_name\": \"event_activity\",\n",
    "              \"time_name\": \"event_timestamp\",\n",
    "              \"sep\": \",\"}\n",
    "ocel_variant = ocel_import_factory_csv.apply(file_path=filename_variant, parameters=parameters)\n",
    "with open(\"../src/data/csv/DS3_variant_ocpn.pickle\", \"rb\") as file:\n",
    "    variant_ocpn = pickle.load(file)"
   ]
  },
  {
   "cell_type": "code",
   "execution_count": 16,
   "id": "c59e01d6",
   "metadata": {},
   "outputs": [
    {
     "name": "stderr",
     "output_type": "stream",
     "text": [
      "Check the arcs: 100%|██████████| 130/130 [00:00<00:00, 66927.64it/s]\n",
      "Calculate Generalization for all process executions:   0%|          | 1/4825 [04:23<352:27:01, 263.02s/it]\n"
     ]
    },
    {
     "ename": "KeyboardInterrupt",
     "evalue": "",
     "output_type": "error",
     "traceback": [
      "\u001B[1;31m---------------------------------------------------------------------------\u001B[0m",
      "\u001B[1;31mKeyboardInterrupt\u001B[0m                         Traceback (most recent call last)",
      "Cell \u001B[1;32mIn[16], line 1\u001B[0m\n\u001B[1;32m----> 1\u001B[0m generalization, AG, DG \u001B[38;5;241m=\u001B[39m \u001B[43mnegative_events_with_weighting\u001B[49m\u001B[43m(\u001B[49m\u001B[43mocel\u001B[49m\u001B[43m,\u001B[49m\u001B[43mocpn\u001B[49m\u001B[43m)\u001B[49m\n\u001B[0;32m      2\u001B[0m \u001B[38;5;28mprint\u001B[39m(\u001B[38;5;124mf\u001B[39m\u001B[38;5;124m'\u001B[39m\u001B[38;5;124mAllowed: \u001B[39m\u001B[38;5;132;01m{\u001B[39;00mAG\u001B[38;5;132;01m}\u001B[39;00m\u001B[38;5;124m, Disallowed: \u001B[39m\u001B[38;5;132;01m{\u001B[39;00mDG\u001B[38;5;132;01m}\u001B[39;00m\u001B[38;5;124m, Generalization \u001B[39m\u001B[38;5;132;01m{\u001B[39;00mgeneralization\u001B[38;5;132;01m}\u001B[39;00m\u001B[38;5;124m for ocpn model\u001B[39m\u001B[38;5;124m'\u001B[39m)\n",
      "Cell \u001B[1;32mIn[4], line 158\u001B[0m, in \u001B[0;36mnegative_events_with_weighting\u001B[1;34m(ocel, ocpn)\u001B[0m\n\u001B[0;32m    156\u001B[0m l \u001B[38;5;241m=\u001B[39m \u001B[38;5;241m1\u001B[39m\n\u001B[0;32m    157\u001B[0m \u001B[38;5;66;03m#while the counter is smaller than the window size or the remaining trace of the suffix and the values at the corresponding positions are the same\u001B[39;00m\n\u001B[1;32m--> 158\u001B[0m \u001B[38;5;28;01mwhile\u001B[39;00m (\u001B[43ml\u001B[49m\u001B[43m \u001B[49m\u001B[38;5;241;43m<\u001B[39;49m\u001B[43m \u001B[49m\u001B[38;5;28;43mmin\u001B[39;49m\u001B[43m(\u001B[49m\u001B[43mwindow_size\u001B[49m\u001B[43m,\u001B[49m\u001B[38;5;28;43mlen\u001B[39;49m\u001B[43m(\u001B[49m\u001B[43msuffix\u001B[49m\u001B[43m)\u001B[49m\u001B[38;5;241;43m-\u001B[39;49m\u001B[38;5;241;43m1\u001B[39;49m\u001B[43m)\u001B[49m) \u001B[38;5;241m&\u001B[39m (trace[\u001B[38;5;28mlen\u001B[39m(trace)\u001B[38;5;241m-\u001B[39ml] \u001B[38;5;241m==\u001B[39m suffix[l\u001B[38;5;241m-\u001B[39m\u001B[38;5;241m1\u001B[39m]):\n\u001B[0;32m    159\u001B[0m     \u001B[38;5;66;03m#increment the matching window by one position and the counter by one\u001B[39;00m\n\u001B[0;32m    160\u001B[0m     matching_window \u001B[38;5;241m=\u001B[39m matching_window \u001B[38;5;241m+\u001B[39m \u001B[38;5;241m1\u001B[39m\n\u001B[0;32m    161\u001B[0m     l \u001B[38;5;241m=\u001B[39m l \u001B[38;5;241m+\u001B[39m \u001B[38;5;241m1\u001B[39m\n",
      "\u001B[1;31mKeyboardInterrupt\u001B[0m: "
     ]
    }
   ],
   "source": [
    "generalization, AG, DG = negative_events_with_weighting(ocel,ocpn)\n",
    "print(f'Allowed: {AG}, Disallowed: {DG}, Generalization {generalization} for ocpn model')"
   ]
  },
  {
   "cell_type": "code",
   "execution_count": 11,
   "id": "c90de867",
   "metadata": {},
   "outputs": [
    {
     "name": "stderr",
     "output_type": "stream",
     "text": [
      "Check the arcs: 100%|██████████| 38/38 [00:00<00:00, 38002.75it/s]\n",
      "Calculate Generalization for all process executions: 100%|██████████| 80/80 [00:02<00:00, 28.59it/s]"
     ]
    },
    {
     "name": "stdout",
     "output_type": "stream",
     "text": [
      "Allowed: 28811.6095, Disallowed: 106764.8476, Generalization 0.2125 for happy path model\n"
     ]
    },
    {
     "name": "stderr",
     "output_type": "stream",
     "text": [
      "\n"
     ]
    }
   ],
   "source": [
    "generalization, AG, DG = negative_events_with_weighting(ocel,happy_path_ocpn)\n",
    "print(f'Allowed: {AG}, Disallowed: {DG}, Generalization {generalization} for happy path model')"
   ]
  },
  {
   "cell_type": "code",
   "execution_count": 12,
   "id": "f4f0cde9",
   "metadata": {},
   "outputs": [
    {
     "name": "stderr",
     "output_type": "stream",
     "text": [
      "Check the arcs: 100%|██████████| 38/38 [00:00<00:00, 38148.29it/s]\n",
      "Calculate Generalization for all process executions: 100%|██████████| 80/80 [00:02<00:00, 28.11it/s]"
     ]
    },
    {
     "name": "stdout",
     "output_type": "stream",
     "text": [
      "Allowed: 135576.4571, Disallowed: 0, Generalization 1.0 for flower model\n"
     ]
    },
    {
     "name": "stderr",
     "output_type": "stream",
     "text": [
      "\n"
     ]
    }
   ],
   "source": [
    "generalization, AG, DG = negative_events_with_weighting(ocel,flower_model_ocpn)\n",
    "print(f'Allowed: {AG}, Disallowed: {DG}, Generalization {generalization} for flower model')"
   ]
  },
  {
   "cell_type": "code",
   "execution_count": 13,
   "id": "d1df8335",
   "metadata": {
    "scrolled": true
   },
   "outputs": [
    {
     "name": "stderr",
     "output_type": "stream",
     "text": [
      "Check the arcs: 100%|██████████| 760/760 [00:00<00:00, 20595.25it/s]\n",
      "Calculate Generalization for all process executions: 100%|██████████| 80/80 [00:53<00:00,  1.50it/s]"
     ]
    },
    {
     "name": "stdout",
     "output_type": "stream",
     "text": [
      "Allowed: 18063.2333, Disallowed: 137865.7976, Generalization 0.1158 for variant model\n"
     ]
    },
    {
     "name": "stderr",
     "output_type": "stream",
     "text": [
      "\n"
     ]
    }
   ],
   "source": [
    "generalization, AG, DG = negative_events_with_weighting(ocel_variant,variant_ocpn)\n",
    "print(f'Allowed: {AG}, Disallowed: {DG}, Generalization {generalization} for variant model')"
   ]
  }
 ],
 "metadata": {
  "kernelspec": {
   "display_name": "Python 3 (ipykernel)",
   "language": "python",
   "name": "python3"
  },
  "language_info": {
   "codemirror_mode": {
    "name": "ipython",
    "version": 3
   },
   "file_extension": ".py",
   "mimetype": "text/x-python",
   "name": "python",
   "nbconvert_exporter": "python",
   "pygments_lexer": "ipython3",
   "version": "3.8.6"
  }
 },
 "nbformat": 4,
 "nbformat_minor": 5
}
