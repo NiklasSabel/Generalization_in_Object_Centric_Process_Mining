{
 "cells": [
  {
   "cell_type": "markdown",
   "id": "3629febf",
   "metadata": {},
   "source": [
    "# Alignment-based Measure"
   ]
  },
  {
   "cell_type": "markdown",
   "id": "ad07bf88",
   "metadata": {},
   "source": [
    "In this notebook, we adapt the alignment-based measure that was introduced by van der Aalst et al. in 2012  in the paper: \"Replaying history on process models for conformance checking and performance analysis\" (doi: https://doi.org/10.1002/widm.1045). <br>\n",
    "The measure is defined as follows:\n",
    "<br>\n",
    "For event log $E$, set of unique activities $E'$, process model $M$, $|\\text{sim}(e)|$ as the number of times a state $s$ was visited by the log and $|\\text{diff}(e)|$ as the number of unique activities when leaving state $s$, generalization is defined as:\n",
    "\n",
    "$$Generalization(E,M) = 1-\\frac{1}{|E|}\\sum_{e\\,\\text{in}\\,E'}|e\\,\\text{in}\\,E|\\,*\\,{pnew}(|\\text{diff}(e)|,|\\text{sim}(e)|),\\; \\text{where} $$\n",
    "$$pnew(w,n)\\begin{cases}\n",
    "    \\frac{w(w+1)}{n(n-1)} & \\text{if } n\\geq w+2, \\\\\n",
    "    1 & \\text{otherwise}.\n",
    "\\end{cases}$$ \n",
    "\n",
    "If generalization converges towards $0$, it is highly likely that a new event occurs in state $s$, and if generalization converges towards $1$, it is highly unlikely."
   ]
  },
  {
   "cell_type": "code",
   "execution_count": 1,
   "id": "c9aeff9a",
   "metadata": {
    "pycharm": {
     "is_executing": true
    }
   },
   "outputs": [],
   "source": [
    "import warnings\n",
    "warnings.filterwarnings('ignore')"
   ]
  },
  {
   "cell_type": "code",
   "execution_count": 2,
   "id": "7cd21f2c",
   "metadata": {},
   "outputs": [],
   "source": [
    "from ocpa.objects.log.importer.ocel import factory as ocel_import_factory\n",
    "from ocpa.algo.discovery.ocpn import algorithm as ocpn_discovery_factory\n",
    "import numpy as np\n",
    "from src.models.baseline_measure import baseline_measure\n",
    "from src.utils import get_happy_path_log, create_flower_model"
   ]
  },
  {
   "cell_type": "markdown",
   "id": "2f5acca2",
   "metadata": {},
   "source": [
    "# O2C Log"
   ]
  },
  {
   "cell_type": "markdown",
   "id": "79f9f1b6",
   "metadata": {},
   "source": [
    "### Standard Petri Net"
   ]
  },
  {
   "cell_type": "markdown",
   "id": "ea029b35",
   "metadata": {},
   "source": [
    "In a first step, we load the OCEL-log into the notebook and generate the object-centric petri net."
   ]
  },
  {
   "cell_type": "code",
   "execution_count": 3,
   "id": "d8448274",
   "metadata": {},
   "outputs": [],
   "source": [
    "filename = \"../src/data/jsonocel/order_process.jsonocel\"\n",
    "ocel = ocel_import_factory.apply(filename)\n",
    "ocpn = ocpn_discovery_factory.apply(ocel, parameters={\"debug\": False})"
   ]
  },
  {
   "cell_type": "code",
   "execution_count": 32,
   "id": "4a361b7e",
   "metadata": {},
   "outputs": [],
   "source": [
    "ots = [\"order\",\"item\",\"delivery\"]\n",
    "flower_ocpn = create_flower_model(filename,ots)"
   ]
  },
  {
   "cell_type": "code",
   "execution_count": 103,
   "id": "92dc49ce",
   "metadata": {},
   "outputs": [],
   "source": [
    "#list for values in sum of formula\n",
    "pnew = []\n",
    "# We only calculate the values for \"non-silent\" transitions\n",
    "transitions = [x for x in flower_ocpn.transitions if not x.silent]\n",
    "# dictionary to store each activity as key and a list of its prior states/places as value\n",
    "targets = {}"
   ]
  },
  {
   "cell_type": "code",
   "execution_count": 104,
   "id": "e6757520",
   "metadata": {},
   "outputs": [],
   "source": [
    "for arc in flower_ocpn.arcs:\n",
    "    # for each arc, check if our target is a valid (non-silent) transition\n",
    "    if arc.target in transitions:\n",
    "        # load all the prior places of a valid transition into a dictionary, where the key is the transition and the value\n",
    "        # a list of all directly prior places\n",
    "        if arc.target.name in targets:\n",
    "            targets[arc.target.name].append(arc.source.name)\n",
    "        else:\n",
    "            targets[arc.target.name] = [arc.source.name]"
   ]
  },
  {
   "cell_type": "code",
   "execution_count": 105,
   "id": "3cf3cca7",
   "metadata": {},
   "outputs": [],
   "source": [
    "# get a list of all activities that have been performed in the log\n",
    "log = ocel.log.log.event_activity\n",
    "# for each valid transition/event -> for computing reasons(efficiency), we work with a small difference to above\n",
    "for event in transitions:\n",
    "    # create an empty list where we can store all enabled transitions in the specific prior place\n",
    "    enabled= []\n",
    "    # print(event) #used for debugging\n",
    "    # get the list of all events that are simultaneously in the current state\n",
    "    for key in targets:\n",
    "        # we check if the value is the same or if the value of another key is a subset, because then it is also enabled\n",
    "        if (targets[event.name] == targets[key]) or (set(targets[key]).issubset(set(targets[event.name]))):\n",
    "            enabled.append(key)\n",
    "    # number of activities that can be triggered\n",
    "    w = len(enabled)\n",
    "    # number of times this state is visited in the log\n",
    "    n = len(log[log.isin(enabled)])\n",
    "    # frequency of event that is currently watched\n",
    "    freq = len(log[log == event.name])\n",
    "    #print(w) #used for debugging\n",
    "    #print(n) #used for debugging\n",
    "    #print(freq) #used for debugging\n",
    "    # derive the value for the sum in the formula given\n",
    "    if n >= w+2 :\n",
    "        pnew.append(freq*(w*(w+1))/(n*(n-1)))\n",
    "    else:\n",
    "        pnew.append(freq*1)\n",
    "#derive the final generalization value\n",
    "generalization = 1 - np.sum(pnew)/len(log)"
   ]
  },
  {
   "cell_type": "code",
   "execution_count": 108,
   "id": "9fbae6fe",
   "metadata": {},
   "outputs": [
    {
     "data": {
      "text/plain": [
       "0.9999739979667729"
      ]
     },
     "execution_count": 108,
     "metadata": {},
     "output_type": "execute_result"
    }
   ],
   "source": [
    "generalization"
   ]
  },
  {
   "cell_type": "code",
   "execution_count": 110,
   "id": "69069c87",
   "metadata": {},
   "outputs": [],
   "source": [
    "def alignment_measure(ocel,ocpn):\n",
    "    #list for values in sum of formula\n",
    "    pnew = []\n",
    "    # get a list of all activities that have been performed in the log\n",
    "    log = ocel.log.log.event_activity\n",
    "    # We only calculate the values for \"non-silent\" transitions\n",
    "    transitions = [x for x in flower_ocpn.transitions if not x.silent]\n",
    "    # dictionary to store each activity as key and a list of its prior states/places as value\n",
    "    targets = {}\n",
    "    for arc in flower_ocpn.arcs:\n",
    "        # for each arc, check if our target is a valid (non-silent) transition\n",
    "        if arc.target in transitions:\n",
    "            # load all the prior places of a valid transition into a dictionary, where the key is the transition and the value\n",
    "            # a list of all directly prior places\n",
    "            if arc.target.name in targets:\n",
    "                targets[arc.target.name].append(arc.source.name)\n",
    "            else:\n",
    "                targets[arc.target.name] = [arc.source.name]\n",
    "    # for each valid transition/event -> for computing reasons(efficiency), we work with a small difference to above\n",
    "    for event in transitions:\n",
    "        # create an empty list where we can store all enabled transitions in the specific prior place\n",
    "        enabled= []\n",
    "        # print(event) #used for debugging\n",
    "        # get the list of all events that are simultaneously in the current state\n",
    "        for key in targets:\n",
    "            # we check if the value is the same or if the value of another key is a subset, because then it is also enabled\n",
    "            if (targets[event.name] == targets[key]) or (set(targets[key]).issubset(set(targets[event.name]))):\n",
    "                enabled.append(key)\n",
    "        # number of activities that can be triggered\n",
    "        w = len(enabled)\n",
    "        # number of times this state is visited in the log\n",
    "        n = len(log[log.isin(enabled)])\n",
    "        # frequency of event that is currently watched\n",
    "        freq = len(log[log == event.name])\n",
    "        #print(w) #used for debugging\n",
    "        #print(n) #used for debugging\n",
    "        #print(freq) #used for debugging\n",
    "        # derive the value for the sum in the formula given\n",
    "        if n >= w+2 :\n",
    "            pnew.append(freq*(w*(w+1))/(n*(n-1)))\n",
    "        else:\n",
    "            pnew.append(freq*1)\n",
    "    #derive the final generalization value\n",
    "    return (1 - np.sum(pnew)/len(log))"
   ]
  },
  {
   "cell_type": "code",
   "execution_count": 111,
   "id": "a34a3464",
   "metadata": {},
   "outputs": [],
   "source": [
    "generalization = alignment_measure (ocel,flower_ocpn)"
   ]
  },
  {
   "cell_type": "code",
   "execution_count": 112,
   "id": "27d28fb4",
   "metadata": {},
   "outputs": [
    {
     "data": {
      "text/plain": [
       "0.9999739979667729"
      ]
     },
     "execution_count": 112,
     "metadata": {},
     "output_type": "execute_result"
    }
   ],
   "source": [
    "generalization"
   ]
  },
  {
   "cell_type": "code",
   "execution_count": null,
   "id": "051b1381",
   "metadata": {},
   "outputs": [],
   "source": []
  }
 ],
 "metadata": {
  "kernelspec": {
   "display_name": "Python 3 (ipykernel)",
   "language": "python",
   "name": "python3"
  },
  "language_info": {
   "codemirror_mode": {
    "name": "ipython",
    "version": 3
   },
   "file_extension": ".py",
   "mimetype": "text/x-python",
   "name": "python",
   "nbconvert_exporter": "python",
   "pygments_lexer": "ipython3",
   "version": "3.8.6"
  }
 },
 "nbformat": 4,
 "nbformat_minor": 5
}
