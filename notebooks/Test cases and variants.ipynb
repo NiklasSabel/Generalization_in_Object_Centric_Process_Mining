{
 "cells": [
  {
   "cell_type": "markdown",
   "id": "3629febf",
   "metadata": {},
   "source": [
    "# Cases and Variants"
   ]
  },
  {
   "cell_type": "markdown",
   "id": "ad07bf88",
   "metadata": {},
   "source": [
    "In this notebook, we test the pre-implemented functions of the ocpa package from Adams et al. to determine how good we can already create cases and variants for our object-centric event logs."
   ]
  },
  {
   "cell_type": "code",
   "execution_count": 2,
   "id": "c9aeff9a",
   "metadata": {},
   "outputs": [],
   "source": [
    "import warnings\n",
    "warnings.filterwarnings('ignore')"
   ]
  },
  {
   "cell_type": "code",
   "execution_count": 3,
   "id": "7cd21f2c",
   "metadata": {},
   "outputs": [],
   "source": [
    "from ocpa.objects.log.importer.ocel import factory as ocel_import_factory\n",
    "from ocpa.objects.log.importer.csv import factory as ocel_import_factory_csv\n",
    "from ocpa.algo.conformance.precision_and_fitness import evaluator as quality_measure_factory\n",
    "from ocpa.algo.discovery.ocpn import algorithm as ocpn_discovery_factory\n",
    "from ocpa.objects.log.exporter.ocel import factory as ocel_export_factory\n",
    "from ocpa.objects.log.exporter.ocel import factory as ocel_export_factory\n",
    "from ocpa.visualization.log.variants import factory as variants_visualization_factory\n",
    "from ocpa.algo.util.filtering.log import case_filtering\n",
    "from ocpa.algo.util.filtering.log.variant_filtering import filter_infrequent_variants"
   ]
  },
  {
   "cell_type": "code",
   "execution_count": 4,
   "id": "09c27fb7",
   "metadata": {},
   "outputs": [
    {
     "name": "stdout",
     "output_type": "stream",
     "text": [
      "Number of process executions: 80\n",
      "Number of variants: 20\n",
      "([['Create Purchase Requisition', [[0, 0], [7, 8, 5, 10, 6, 3, 4]]], ['Create Purchase Order', [[1, 1], [7, 8, 5, 10, 6, 9, 3, 4]]], ['Receive Goods', [[2, 2], [7, 8, 0, 5, 6, 9, 3, 4]]], ['Issue Goods Receipt', [[3, 3], [7, 0, 8, 5, 6, 9, 3, 4]]], ['Verify Material', [[4, 4], [7, 8, 5, 6, 3, 4]]], ['Plan Goods Issue', [[5, 5], [7, 8, 5, 6, 3, 4]]], ['Receive Invoice', [[4, 4], [9, 1, 2]]], ['Goods Issue', [[6, 6], [7, 8, 5, 6, 3, 4]]], ['Clear Invoice', [[5, 5], [9, 0, 2, 1]]]], {0: ('GDSRCPT', 'GDSRCPT_1'), 1: ('INVOICE', 'INVOICE_1'), 2: ('INVOICE', 'INVOICE_2'), 3: ('MATERIAL', 'MATERIAL_1'), 4: ('MATERIAL', 'MATERIAL_2'), 5: ('MATERIAL', 'MATERIAL_3'), 6: ('MATERIAL', 'MATERIAL_4'), 7: ('MATERIAL', 'MATERIAL_5'), 8: ('MATERIAL', 'MATERIAL_6'), 9: ('PURCHORD', 'PURCHORD_1'), 10: ('PURCHREQ', 'PURCHREQ_1')})\n"
     ]
    }
   ],
   "source": [
    "filename = \"../src/data/jsonocel/p2p-normal.jsonocel\"\n",
    "ocel = ocel_import_factory.apply(filename)\n",
    "print(\"Number of process executions: \"+str(len(ocel.process_executions)))\n",
    "print(\"Number of variants: \"+str(len(ocel.variants)))\n",
    "variant_layouting = variants_visualization_factory.apply(ocel)\n",
    "print(variant_layouting[ocel.variants[0]])"
   ]
  },
  {
   "cell_type": "code",
   "execution_count": 6,
   "id": "3701a8b8",
   "metadata": {},
   "outputs": [
    {
     "name": "stdout",
     "output_type": "stream",
     "text": [
      "Events of the first process execution: {0, 1, 2, 3, 4, 5, 6, 7, 8}\n",
      "Objects of the first process execution: [('MATERIAL', 'MATERIAL3'), ('MATERIAL', 'MATERIAL1'), ('MATERIAL', 'MATERIAL0'), ('PURCHORD', 'PURCHORD0'), ('MATERIAL', 'MATERIAL5'), ('GDSRCPT', 'GDSRCPT0'), ('MATERIAL', 'MATERIAL4'), ('INVOICE', 'INVOICE0'), ('PURCHREQ', 'PURCHREQ0'), ('INVOICE', 'INVOICE1'), ('MATERIAL', 'MATERIAL2')]\n",
      "Process execution graph of the first execution:\n",
      "DiGraph with 9 nodes and 9 edges\n",
      "Process execution of the first event with event id 0: [0]\n"
     ]
    }
   ],
   "source": [
    "print(\"Events of the first process execution: \" +\n",
    "      str(ocel.process_executions[0]))\n",
    "print(\"Objects of the first process execution: \" +\n",
    "      str(ocel.process_execution_objects[0]))\n",
    "print(\"Process execution graph of the first execution:\")\n",
    "print(ocel.get_process_execution_graph(0))\n",
    "print(\"Process execution of the first event with event id 0: \" +\n",
    "      str(ocel.process_execution_mappings[0]))"
   ]
  },
  {
   "cell_type": "code",
   "execution_count": 7,
   "id": "d8448274",
   "metadata": {},
   "outputs": [
    {
     "name": "stdout",
     "output_type": "stream",
     "text": [
      "Number of process executions: 48\n",
      "Number of variants: 12\n",
      "([['Place Order', [[0, 0], [2, 3, 1]]], ['Confirm Order', [[1, 1], [2, 3, 1]]], ['Pick Item', [[2, 2], [2]]], ['Pick Item', [[2, 2], [1]]], ['Pay Order', [[2, 2], [3]]], ['Start Route', [[5, 5], [2, 0, 1]]], ['End Route', [[6, 6], [2, 0, 1]]], ['Fuel Car', [[4, 4], [0]]], ['Load Cargo', [[3, 3], [2, 0, 1]]]], {0: ('delivery', 'delivery_1'), 1: ('item', 'item_1'), 2: ('item', 'item_2'), 3: ('order', 'order_1')})\n"
     ]
    }
   ],
   "source": [
    "filename = \"../src/data/jsonocel/order_process.jsonocel\"\n",
    "ocel = ocel_import_factory.apply(filename)\n",
    "print(\"Number of process executions: \"+str(len(ocel.process_executions)))\n",
    "print(\"Number of variants: \"+str(len(ocel.variants)))\n",
    "variant_layouting = variants_visualization_factory.apply(ocel)\n",
    "print(variant_layouting[ocel.variants[0]])"
   ]
  },
  {
   "cell_type": "code",
   "execution_count": null,
   "id": "0bb60276",
   "metadata": {},
   "outputs": [
    {
     "name": "stdout",
     "output_type": "stream",
     "text": [
      "Number of process executions: 1\n"
     ]
    }
   ],
   "source": [
    "filename = \"../src/data/jsonocel/DS2.jsonocel\"\n",
    "ocel = ocel_import_factory.apply(filename)\n",
    "print(\"Number of process executions: \"+str(len(ocel.process_executions)))\n",
    "print(\"Number of variants: \"+str(len(ocel.variants)))\n",
    "variant_layouting = variants_visualization_factory.apply(ocel)\n",
    "print(variant_layouting[ocel.variants[0]])"
   ]
  },
  {
   "cell_type": "code",
   "execution_count": 10,
   "id": "61e09b70",
   "metadata": {},
   "outputs": [
    {
     "name": "stdout",
     "output_type": "stream",
     "text": [
      "Number of process executions: 31509\n",
      "Number of variants: 5071\n",
      "([['Create application', [[0, 0], [0]]], ['Submit', [[1, 1], [0]]], ['Complete', [[4, 4], [0]]], ['Accept', [[2, 2], [0]]], ['Create offer', [[3, 3], [1, 0]]], ['Send (mail and online)', [[4, 4], [1]]], ['Call', [[5, 5], [1, 0]]], ['Cancel application', [[6, 6], [1, 0]]], ['Cancel offer', [[7, 7], [1, 0]]]], {0: ('application', 'application_1'), 1: ('offer', 'offer_1')})\n"
     ]
    }
   ],
   "source": [
    "filename = \"../src/data/jsonocel/BPI2017-Final.jsonocel\"\n",
    "ocel = ocel_import_factory.apply(filename)\n",
    "print(\"Number of process executions: \"+str(len(ocel.process_executions)))\n",
    "print(\"Number of variants: \"+str(len(ocel.variants)))\n",
    "variant_layouting = variants_visualization_factory.apply(ocel)\n",
    "print(variant_layouting[ocel.variants[0]])"
   ]
  },
  {
   "cell_type": "code",
   "execution_count": null,
   "id": "5a26c8d3",
   "metadata": {},
   "outputs": [],
   "source": []
  }
 ],
 "metadata": {
  "kernelspec": {
   "display_name": "Python 3 (ipykernel)",
   "language": "python",
   "name": "python3"
  },
  "language_info": {
   "codemirror_mode": {
    "name": "ipython",
    "version": 3
   },
   "file_extension": ".py",
   "mimetype": "text/x-python",
   "name": "python",
   "nbconvert_exporter": "python",
   "pygments_lexer": "ipython3",
   "version": "3.8.6"
  }
 },
 "nbformat": 4,
 "nbformat_minor": 5
}