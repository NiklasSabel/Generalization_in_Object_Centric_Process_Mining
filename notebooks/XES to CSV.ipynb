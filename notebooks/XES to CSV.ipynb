{
 "cells": [
  {
   "cell_type": "code",
   "execution_count": 2,
   "id": "eab33617",
   "metadata": {},
   "outputs": [],
   "source": [
    "import pm4py\n",
    "import pandas "
   ]
  },
  {
   "cell_type": "code",
   "execution_count": 3,
   "id": "37eabffd",
   "metadata": {},
   "outputs": [],
   "source": [
    "filename = \"../src/data/BPI Challenge 2018.xes.gz\""
   ]
  },
  {
   "cell_type": "code",
   "execution_count": null,
   "id": "02f38cea",
   "metadata": {},
   "outputs": [
    {
     "data": {
      "application/vnd.jupyter.widget-view+json": {
       "model_id": "d348a8adde444fa5af8adb482f598911",
       "version_major": 2,
       "version_minor": 0
      },
      "text/plain": [
       "parsing log, completed traces ::   0%|          | 0/43809 [00:00<?, ?it/s]"
      ]
     },
     "metadata": {},
     "output_type": "display_data"
    }
   ],
   "source": [
    "log = pm4py.read_xes(filename)"
   ]
  },
  {
   "cell_type": "code",
   "execution_count": null,
   "id": "c18f1946",
   "metadata": {},
   "outputs": [],
   "source": [
    "pd = pm4py.convert_to_dataframe(log)"
   ]
  },
  {
   "cell_type": "code",
   "execution_count": null,
   "id": "098d020c",
   "metadata": {},
   "outputs": [],
   "source": [
    "pd"
   ]
  },
  {
   "cell_type": "code",
   "execution_count": null,
   "id": "6881350a",
   "metadata": {},
   "outputs": [],
   "source": [
    "pd.to_csv('BPI Challenge 2018.csv')"
   ]
  }
 ],
 "metadata": {
  "kernelspec": {
   "display_name": "Python 3 (ipykernel)",
   "language": "python",
   "name": "python3"
  },
  "language_info": {
   "codemirror_mode": {
    "name": "ipython",
    "version": 3
   },
   "file_extension": ".py",
   "mimetype": "text/x-python",
   "name": "python",
   "nbconvert_exporter": "python",
   "pygments_lexer": "ipython3",
   "version": "3.8.6"
  }
 },
 "nbformat": 4,
 "nbformat_minor": 5
}
