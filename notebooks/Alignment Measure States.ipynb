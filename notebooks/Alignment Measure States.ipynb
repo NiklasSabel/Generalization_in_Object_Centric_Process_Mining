{
 "cells": [
  {
   "cell_type": "markdown",
   "id": "3629febf",
   "metadata": {},
   "source": [
    "# Alignment-based Measure States"
   ]
  },
  {
   "cell_type": "markdown",
   "id": "ad07bf88",
   "metadata": {},
   "source": [
    "In this notebook, we adapt the alignment-based measure with focus on states instead of events that was introduced by van der Aalst et al. in 2012  in the paper: \"Replaying history on process models for conformance checking and performance analysis\" (doi: https://doi.org/10.1002/widm.1045). <br>\n",
    "The measure is defined as follows:\n",
    "<br>\n",
    "For event log $E$, set of unique activities $E'$, process model $M$, $|\\text{sim}(s)=\\{e\\,in\\,E|\\text{state}_M(e)=s\\}|$ as the set of alle events that happended in state $s$ and $|\\text{diff}(e)=\\{\\text{act}(e)|e\\,\\in\\,\\text{sim}(s)\\}|$ are the different activities executed in state $s$, generalization is defined as:\n",
    "\n",
    "$$Generalization_S(E,M) = 1-\\frac{1}{|S|}\\sum_{s\\,\\text{in}\\,S}|s\\,\\text{in}\\,E|\\,*\\,{pnew}(|\\text{diff}(s)|,|\\text{sim}(s)|),\\; \\text{where} $$\n",
    "$$pnew(w,n)\\begin{cases}\n",
    "    \\frac{w(w+1)}{n(n-1)} & \\text{if } n\\geq w+2, \\\\\n",
    "    1 & \\text{otherwise}.\n",
    "\\end{cases}$$ \n",
    "\n",
    "If generalization converges towards $0$, it is highly likely that a new event occurs in state $s$, and if generalization converges towards $1$, it is highly unlikely."
   ]
  },
  {
   "cell_type": "code",
   "execution_count": 1,
   "id": "c9aeff9a",
   "metadata": {
    "pycharm": {
     "is_executing": true
    }
   },
   "outputs": [],
   "source": [
    "import warnings\n",
    "warnings.filterwarnings('ignore')"
   ]
  },
  {
   "cell_type": "code",
   "execution_count": 2,
   "id": "7cd21f2c",
   "metadata": {},
   "outputs": [],
   "source": [
    "from ocpa.objects.log.importer.ocel import factory as ocel_import_factory\n",
    "from ocpa.algo.discovery.ocpn import algorithm as ocpn_discovery_factory\n",
    "from models.alignment_measure import alignment_measure_states\n",
    "from src.utils import get_happy_path_log, create_flower_model, generate_variant_model\n",
    "from ocpa.objects.log.importer.csv import factory as ocel_import_factory_csv\n",
    "import pickle"
   ]
  },
  {
   "cell_type": "markdown",
   "id": "2f5acca2",
   "metadata": {},
   "source": [
    "# O2C Log"
   ]
  },
  {
   "cell_type": "markdown",
   "id": "79f9f1b6",
   "metadata": {},
   "source": [
    "### Standard Petri Net"
   ]
  },
  {
   "cell_type": "markdown",
   "id": "ea029b35",
   "metadata": {},
   "source": [
    "In a first step, we load the OCEL-log into the notebook and generate the object-centric petri net."
   ]
  },
  {
   "cell_type": "code",
   "execution_count": 3,
   "id": "87f49d3f",
   "metadata": {},
   "outputs": [],
   "source": [
    "filename = \"../src/data/jsonocel/order_process.jsonocel\"\n",
    "ocel = ocel_import_factory.apply(filename)\n",
    "ocpn = ocpn_discovery_factory.apply(ocel, parameters={\"debug\": False})"
   ]
  },
  {
   "cell_type": "code",
   "execution_count": 4,
   "id": "46403402",
   "metadata": {},
   "outputs": [
    {
     "data": {
      "text/plain": [
       "0.9904"
      ]
     },
     "execution_count": 4,
     "metadata": {},
     "output_type": "execute_result"
    }
   ],
   "source": [
    "value = alignment_measure_states(ocel,ocpn)\n",
    "value"
   ]
  },
  {
   "cell_type": "markdown",
   "id": "f5a08e25",
   "metadata": {},
   "source": [
    "### Happy Path Petri Net"
   ]
  },
  {
   "cell_type": "code",
   "execution_count": 5,
   "id": "0c4f310f",
   "metadata": {},
   "outputs": [],
   "source": [
    "happy_path__ocel = get_happy_path_log(filename)"
   ]
  },
  {
   "cell_type": "code",
   "execution_count": 6,
   "id": "35668a50",
   "metadata": {},
   "outputs": [],
   "source": [
    "happy_path_ocpn = ocpn_discovery_factory.apply(happy_path__ocel, parameters={\"debug\": False})"
   ]
  },
  {
   "cell_type": "code",
   "execution_count": 7,
   "id": "0105752b",
   "metadata": {},
   "outputs": [
    {
     "data": {
      "text/plain": [
       "0.9905"
      ]
     },
     "execution_count": 7,
     "metadata": {},
     "output_type": "execute_result"
    }
   ],
   "source": [
    "value = alignment_measure_states(ocel,happy_path_ocpn)\n",
    "value"
   ]
  },
  {
   "cell_type": "markdown",
   "id": "d5b26a81",
   "metadata": {},
   "source": [
    "### Flower Model Petri Net"
   ]
  },
  {
   "cell_type": "code",
   "execution_count": 8,
   "id": "cf08a8c5",
   "metadata": {},
   "outputs": [],
   "source": [
    "ots = [\"order\",\"item\",\"delivery\"]"
   ]
  },
  {
   "cell_type": "code",
   "execution_count": 9,
   "id": "89072314",
   "metadata": {},
   "outputs": [],
   "source": [
    "flower_ocpn = create_flower_model(filename,ots)"
   ]
  },
  {
   "cell_type": "code",
   "execution_count": 10,
   "id": "4d01ce1d",
   "metadata": {},
   "outputs": [
    {
     "data": {
      "text/plain": [
       "0.9943"
      ]
     },
     "execution_count": 10,
     "metadata": {},
     "output_type": "execute_result"
    }
   ],
   "source": [
    "value = alignment_measure_states(ocel,flower_ocpn)\n",
    "value"
   ]
  },
  {
   "cell_type": "markdown",
   "id": "bd9e64a9",
   "metadata": {},
   "source": [
    "### Variant Model Petri Net"
   ]
  },
  {
   "cell_type": "markdown",
   "id": "37f894eb",
   "metadata": {},
   "source": [
    "Import the primarly generated variant log for our measure computation, while we generate the variant model with the original log."
   ]
  },
  {
   "cell_type": "code",
   "execution_count": 11,
   "id": "3826907e",
   "metadata": {},
   "outputs": [],
   "source": [
    "filename_variant = \"../src/data/csv/order_process_variant_log.csv\" \n",
    "object_types = [\"order\",\"item\",\"delivery\"]\n",
    "parameters = {\"obj_names\": object_types,\n",
    "              \"val_names\": [],\n",
    "              \"act_name\": \"event_activity\",\n",
    "              \"time_name\": \"event_timestamp\",\n",
    "              \"sep\": \",\"}\n",
    "ocel_variant = ocel_import_factory_csv.apply(file_path=filename_variant, parameters=parameters)"
   ]
  },
  {
   "cell_type": "code",
   "execution_count": 12,
   "id": "50217a11",
   "metadata": {},
   "outputs": [],
   "source": [
    "filename = \"../src/data/jsonocel/order_process.jsonocel\"\n",
    "ots = [\"order\",\"item\",\"delivery\"]\n",
    "ocel = ocel_import_factory.apply(filename)\n",
    "variant_ocpn = generate_variant_model(ocel,save_path_logs='../src/data/csv/order_variants/order_variant',object_types = ots,save_path_visuals=f\"../reports/figures/order_variant_total.svg\" )"
   ]
  },
  {
   "cell_type": "code",
   "execution_count": 13,
   "id": "6da2c58f",
   "metadata": {},
   "outputs": [
    {
     "data": {
      "text/plain": [
       "0.1717"
      ]
     },
     "execution_count": 13,
     "metadata": {},
     "output_type": "execute_result"
    }
   ],
   "source": [
    "value = alignment_measure_states(ocel_variant,variant_ocpn)\n",
    "value"
   ]
  },
  {
   "cell_type": "markdown",
   "id": "eaab8829",
   "metadata": {},
   "source": [
    "# P2P Log"
   ]
  },
  {
   "cell_type": "markdown",
   "id": "a7816235",
   "metadata": {},
   "source": [
    "### Standard Petri Net"
   ]
  },
  {
   "cell_type": "markdown",
   "id": "8500148a",
   "metadata": {},
   "source": [
    "In a first step, we load the OCEL-log into the notebook and generate the object-centric petri net."
   ]
  },
  {
   "cell_type": "code",
   "execution_count": 14,
   "id": "425aa3b1",
   "metadata": {},
   "outputs": [],
   "source": [
    "filename = \"../src/data/jsonocel/p2p-normal.jsonocel\"\n",
    "ocel = ocel_import_factory.apply(filename)\n",
    "ocpn = ocpn_discovery_factory.apply(ocel, parameters={\"debug\": False})"
   ]
  },
  {
   "cell_type": "code",
   "execution_count": 15,
   "id": "b611a86c",
   "metadata": {},
   "outputs": [
    {
     "data": {
      "text/plain": [
       "0.9747"
      ]
     },
     "execution_count": 15,
     "metadata": {},
     "output_type": "execute_result"
    }
   ],
   "source": [
    "value = alignment_measure_states(ocel,ocpn)\n",
    "value"
   ]
  },
  {
   "cell_type": "markdown",
   "id": "9a051ca9",
   "metadata": {},
   "source": [
    "### Happy Path Petri Net"
   ]
  },
  {
   "cell_type": "code",
   "execution_count": 16,
   "id": "9910bb98",
   "metadata": {},
   "outputs": [],
   "source": [
    "happy_path__ocel = get_happy_path_log(filename)"
   ]
  },
  {
   "cell_type": "code",
   "execution_count": 17,
   "id": "84d3b838",
   "metadata": {},
   "outputs": [],
   "source": [
    "happy_path_ocpn = ocpn_discovery_factory.apply(happy_path__ocel, parameters={\"debug\": False})"
   ]
  },
  {
   "cell_type": "code",
   "execution_count": 18,
   "id": "aedb409b",
   "metadata": {},
   "outputs": [
    {
     "data": {
      "text/plain": [
       "0.9747"
      ]
     },
     "execution_count": 18,
     "metadata": {},
     "output_type": "execute_result"
    }
   ],
   "source": [
    "value = alignment_measure_states(ocel,happy_path_ocpn)\n",
    "value"
   ]
  },
  {
   "cell_type": "markdown",
   "id": "e3ec2ccf",
   "metadata": {},
   "source": [
    "### Flower Model Petri Net"
   ]
  },
  {
   "cell_type": "code",
   "execution_count": 19,
   "id": "5deafd77",
   "metadata": {},
   "outputs": [],
   "source": [
    "ots = [\"PURCHORD\",\"INVOICE\",\"PURCHREQ\",\"MATERIAL\",\"GDSRCPT\"]"
   ]
  },
  {
   "cell_type": "code",
   "execution_count": 20,
   "id": "8caa38bd",
   "metadata": {},
   "outputs": [],
   "source": [
    "flower_ocpn = create_flower_model(filename,ots)"
   ]
  },
  {
   "cell_type": "code",
   "execution_count": 21,
   "id": "6b926427",
   "metadata": {},
   "outputs": [
    {
     "data": {
      "text/plain": [
       "0.9828"
      ]
     },
     "execution_count": 21,
     "metadata": {},
     "output_type": "execute_result"
    }
   ],
   "source": [
    "value = alignment_measure_states(ocel,flower_ocpn)\n",
    "value"
   ]
  },
  {
   "cell_type": "markdown",
   "id": "be531c3f",
   "metadata": {},
   "source": [
    "### Variant Model Petri Net"
   ]
  },
  {
   "cell_type": "markdown",
   "id": "ea940710",
   "metadata": {},
   "source": [
    "Import the primarly generated variant log for our measure computation, while we generate the variant model with the original log."
   ]
  },
  {
   "cell_type": "code",
   "execution_count": 22,
   "id": "5befc84a",
   "metadata": {},
   "outputs": [],
   "source": [
    "filename_variant = \"../src/data/csv/p2p_variant_log.csv\" \n",
    "object_types = [\"PURCHORD\",\"INVOICE\",\"PURCHREQ\",\"MATERIAL\",\"GDSRCPT\"]\n",
    "parameters = {\"obj_names\": object_types,\n",
    "              \"val_names\": [],\n",
    "              \"act_name\": \"event_activity\",\n",
    "              \"time_name\": \"event_timestamp\",\n",
    "              \"sep\": \",\"}\n",
    "ocel_variant = ocel_import_factory_csv.apply(file_path=filename_variant, parameters=parameters)"
   ]
  },
  {
   "cell_type": "code",
   "execution_count": 23,
   "id": "955b4247",
   "metadata": {},
   "outputs": [],
   "source": [
    "filename = \"../src/data/jsonocel/p2p-normal.jsonocel\"\n",
    "ots = [\"PURCHORD\",\"INVOICE\",\"PURCHREQ\",\"MATERIAL\",\"GDSRCPT\"]\n",
    "ocel = ocel_import_factory.apply(filename)\n",
    "variant_ocpn = generate_variant_model(ocel,save_path_logs='../src/data/csv/p2p_variants/p2p_variant',object_types = ots ,save_path_visuals=f\"../reports/figures/p2p_variant_total.svg\" )"
   ]
  },
  {
   "cell_type": "code",
   "execution_count": 24,
   "id": "a62920b9",
   "metadata": {},
   "outputs": [
    {
     "data": {
      "text/plain": [
       "0.1408"
      ]
     },
     "execution_count": 24,
     "metadata": {},
     "output_type": "execute_result"
    }
   ],
   "source": [
    "value = alignment_measure_states(ocel_variant,variant_ocpn)\n",
    "value"
   ]
  },
  {
   "cell_type": "markdown",
   "id": "406b591f",
   "metadata": {},
   "source": [
    "# BPI-Challenge 2017 Log"
   ]
  },
  {
   "cell_type": "markdown",
   "id": "cef9fbd0",
   "metadata": {},
   "source": [
    "### Standard Petri Net"
   ]
  },
  {
   "cell_type": "markdown",
   "id": "35f37d90",
   "metadata": {},
   "source": [
    "In a first step, we load the OCEL-log into the notebook and generate the object-centric petri net."
   ]
  },
  {
   "cell_type": "code",
   "execution_count": 19,
   "id": "97d78201",
   "metadata": {},
   "outputs": [],
   "source": [
    "filename = \"../src/data/jsonocel/BPI2017-Final.jsonocel\"\n",
    "ocel = ocel_import_factory.apply(filename)\n",
    "ocpn = ocpn_discovery_factory.apply(ocel, parameters={\"debug\": False})"
   ]
  },
  {
   "cell_type": "code",
   "execution_count": 20,
   "id": "24ab8753",
   "metadata": {},
   "outputs": [
    {
     "data": {
      "text/plain": [
       "0.9679"
      ]
     },
     "execution_count": 20,
     "metadata": {},
     "output_type": "execute_result"
    }
   ],
   "source": [
    "value = alignment_measure_states(ocel,ocpn)\n",
    "value"
   ]
  },
  {
   "cell_type": "markdown",
   "id": "07f22ca5",
   "metadata": {},
   "source": [
    "### Happy Path Petri Net"
   ]
  },
  {
   "cell_type": "code",
   "execution_count": 21,
   "id": "da118f4e",
   "metadata": {},
   "outputs": [],
   "source": [
    "happy_path__ocel = get_happy_path_log(filename)"
   ]
  },
  {
   "cell_type": "code",
   "execution_count": 22,
   "id": "d570317a",
   "metadata": {},
   "outputs": [],
   "source": [
    "happy_path_ocpn = ocpn_discovery_factory.apply(happy_path__ocel, parameters={\"debug\": False})"
   ]
  },
  {
   "cell_type": "code",
   "execution_count": 23,
   "id": "9582914a",
   "metadata": {},
   "outputs": [
    {
     "data": {
      "text/plain": [
       "0.9999"
      ]
     },
     "execution_count": 23,
     "metadata": {},
     "output_type": "execute_result"
    }
   ],
   "source": [
    "value = alignment_measure_states(ocel,happy_path_ocpn)\n",
    "value"
   ]
  },
  {
   "cell_type": "markdown",
   "id": "9a62a8d3",
   "metadata": {},
   "source": [
    "### Flower Model Petri Net"
   ]
  },
  {
   "cell_type": "code",
   "execution_count": 28,
   "id": "69ddb486",
   "metadata": {},
   "outputs": [],
   "source": [
    "ots = [\"application\",\"offer\"]"
   ]
  },
  {
   "cell_type": "code",
   "execution_count": 29,
   "id": "a60d3fcb",
   "metadata": {},
   "outputs": [],
   "source": [
    "flower_ocpn = create_flower_model(filename,ots)"
   ]
  },
  {
   "cell_type": "code",
   "execution_count": 30,
   "id": "ca71b5f5",
   "metadata": {},
   "outputs": [
    {
     "data": {
      "text/plain": [
       "0.9999"
      ]
     },
     "execution_count": 30,
     "metadata": {},
     "output_type": "execute_result"
    }
   ],
   "source": [
    "value = alignment_measure_states(ocel,flower_ocpn)\n",
    "value"
   ]
  },
  {
   "cell_type": "markdown",
   "id": "0271f587",
   "metadata": {},
   "source": [
    "### Variant Model Petri Net"
   ]
  },
  {
   "cell_type": "markdown",
   "id": "38235e26",
   "metadata": {},
   "source": [
    "Import the primarly generated variant log for our measure computation, while we generate the variant model with the original log."
   ]
  },
  {
   "cell_type": "code",
   "execution_count": 3,
   "id": "2d8a6b70",
   "metadata": {},
   "outputs": [],
   "source": [
    "filename_variant = \"../src/data/csv/bpi2017_variant_log.csv\" \n",
    "object_types = [\"application\",\"offer\"]\n",
    "parameters = {\"obj_names\": object_types,\n",
    "              \"val_names\": [],\n",
    "              \"act_name\": \"event_activity\",\n",
    "              \"time_name\": \"event_timestamp\",\n",
    "              \"sep\": \",\"}\n",
    "ocel_variant = ocel_import_factory_csv.apply(file_path=filename_variant, parameters=parameters)"
   ]
  },
  {
   "cell_type": "code",
   "execution_count": 4,
   "id": "e9610409",
   "metadata": {},
   "outputs": [
    {
     "name": "stdout",
     "output_type": "stream",
     "text": [
      "<ocpa.objects.oc_petri_net.obj.ObjectCentricPetriNet object at 0x000001B78B1CA670>\n"
     ]
    }
   ],
   "source": [
    "with open(\"../src/data/csv/bpi_variant_ocpn.pickle\", \"rb\") as file:\n",
    "    variant_ocpn = pickle.load(file)\n",
    "\n",
    "print(variant_ocpn)"
   ]
  },
  {
   "cell_type": "code",
   "execution_count": null,
   "id": "c472a9ea",
   "metadata": {},
   "outputs": [
    {
     "name": "stderr",
     "output_type": "stream",
     "text": [
      "Check the arcs:  73%|███████▎  | 156120/214724 [35:15<18:26, 52.96it/s]"
     ]
    }
   ],
   "source": [
    "value = alignment_measure_states(ocel_variant,variant_ocpn)\n",
    "value"
   ]
  },
  {
   "cell_type": "markdown",
   "id": "a0560963",
   "metadata": {},
   "source": [
    "# DS3 Log"
   ]
  },
  {
   "cell_type": "markdown",
   "id": "70edadd1",
   "metadata": {},
   "source": [
    "### Standard Petri Net"
   ]
  },
  {
   "cell_type": "markdown",
   "id": "22f67100",
   "metadata": {},
   "source": [
    "In a first step, we load the OCEL-log into the notebook and generate the object-centric petri net."
   ]
  },
  {
   "cell_type": "code",
   "execution_count": 3,
   "id": "d8448274",
   "metadata": {},
   "outputs": [],
   "source": [
    "filename = \"../src/data/jsonocel/DS3.jsonocel\"\n",
    "ocel = ocel_import_factory.apply(filename)\n",
    "ocpn = ocpn_discovery_factory.apply(ocel, parameters={\"debug\": False})"
   ]
  },
  {
   "cell_type": "code",
   "execution_count": 4,
   "id": "bb4e1dba",
   "metadata": {},
   "outputs": [
    {
     "name": "stderr",
     "output_type": "stream",
     "text": [
      "Check the arcs: 100%|██████████| 130/130 [00:00<00:00, 89504.19it/s]\n",
      "Save the states: 100%|██████████| 8/8 [00:00<00:00, 27.49it/s]\n"
     ]
    },
    {
     "data": {
      "text/plain": [
       "0.985"
      ]
     },
     "execution_count": 4,
     "metadata": {},
     "output_type": "execute_result"
    }
   ],
   "source": [
    "value = alignment_measure_states(ocel,ocpn)\n",
    "value"
   ]
  },
  {
   "cell_type": "markdown",
   "id": "dfdce1b6",
   "metadata": {},
   "source": [
    "### Happy Path Petri Net"
   ]
  },
  {
   "cell_type": "code",
   "execution_count": 5,
   "id": "ffb5b16f",
   "metadata": {},
   "outputs": [],
   "source": [
    "happy_path__ocel = get_happy_path_log(filename)"
   ]
  },
  {
   "cell_type": "code",
   "execution_count": 6,
   "id": "756a3927",
   "metadata": {},
   "outputs": [],
   "source": [
    "happy_path_ocpn = ocpn_discovery_factory.apply(happy_path__ocel, parameters={\"debug\": False})"
   ]
  },
  {
   "cell_type": "code",
   "execution_count": 7,
   "id": "e257065f",
   "metadata": {},
   "outputs": [
    {
     "name": "stderr",
     "output_type": "stream",
     "text": [
      "Check the arcs: 100%|██████████| 8/8 [00:00<?, ?it/s]\n",
      "Save the states: 100%|██████████| 3/3 [00:00<00:00, 23.07it/s]\n"
     ]
    },
    {
     "data": {
      "text/plain": [
       "0.9999"
      ]
     },
     "execution_count": 7,
     "metadata": {},
     "output_type": "execute_result"
    }
   ],
   "source": [
    "value = alignment_measure_states(ocel,happy_path_ocpn)\n",
    "value"
   ]
  },
  {
   "cell_type": "markdown",
   "id": "0ca83081",
   "metadata": {},
   "source": [
    "### Flower Model Petri Net"
   ]
  },
  {
   "cell_type": "code",
   "execution_count": 8,
   "id": "c053e34c",
   "metadata": {},
   "outputs": [],
   "source": [
    "ots = [\"incident\",\"customer\"]"
   ]
  },
  {
   "cell_type": "code",
   "execution_count": 9,
   "id": "b522425e",
   "metadata": {},
   "outputs": [],
   "source": [
    "flower_ocpn = create_flower_model(filename,ots)"
   ]
  },
  {
   "cell_type": "code",
   "execution_count": 10,
   "id": "729a38e8",
   "metadata": {},
   "outputs": [
    {
     "name": "stderr",
     "output_type": "stream",
     "text": [
      "Check the arcs: 100%|██████████| 20/20 [00:00<?, ?it/s]\n",
      "Save the states: 100%|██████████| 8/8 [00:00<00:00, 21.62it/s]\n"
     ]
    },
    {
     "data": {
      "text/plain": [
       "0.9999"
      ]
     },
     "execution_count": 10,
     "metadata": {},
     "output_type": "execute_result"
    }
   ],
   "source": [
    "value = alignment_measure_states(ocel,flower_ocpn)\n",
    "value"
   ]
  },
  {
   "cell_type": "markdown",
   "id": "97473e81",
   "metadata": {},
   "source": [
    "### Variant Model Petri Net"
   ]
  },
  {
   "cell_type": "markdown",
   "id": "d65f2859",
   "metadata": {},
   "source": [
    "Import the primarly generated variant log for our measure computation, while we generate the variant model with the original log."
   ]
  },
  {
   "cell_type": "code",
   "execution_count": 11,
   "id": "808796e2",
   "metadata": {},
   "outputs": [],
   "source": [
    "filename_variant = \"../src/data/csv/DS3_variant_log.csv\" \n",
    "object_types = [\"incident\",\"customer\"]\n",
    "parameters = {\"obj_names\": object_types,\n",
    "              \"val_names\": [],\n",
    "              \"act_name\": \"event_activity\",\n",
    "              \"time_name\": \"event_timestamp\",\n",
    "              \"sep\": \",\"}\n",
    "ocel_variant = ocel_import_factory_csv.apply(file_path=filename_variant, parameters=parameters)"
   ]
  },
  {
   "cell_type": "code",
   "execution_count": 12,
   "id": "0adb547d",
   "metadata": {},
   "outputs": [
    {
     "name": "stderr",
     "output_type": "stream",
     "text": [
      "Generating Variant Models: 100%|██████████| 3377/3377 [10:02<00:00,  5.60it/s]\n",
      "Processing Variant Nets: 100%|██████████| 3377/3377 [00:00<00:00, 14743.30it/s]"
     ]
    },
    {
     "name": "stdout",
     "output_type": "stream",
     "text": [
      "#########Start generating Object-Centric Petri Net#########\n",
      "#########Finished generating Object-Centric Petri Net#########\n"
     ]
    },
    {
     "name": "stderr",
     "output_type": "stream",
     "text": [
      "\n"
     ]
    }
   ],
   "source": [
    "filename = \"../src/data/jsonocel/DS3.jsonocel\"\n",
    "ots = [\"incident\",\"customer\"]\n",
    "ocel = ocel_import_factory.apply(filename)\n",
    "variant_ocpn = generate_variant_model(ocel,save_path_logs='../src/data/csv/DS3_variants/DS3_variant',object_types = ots)"
   ]
  },
  {
   "cell_type": "code",
   "execution_count": 13,
   "id": "0330d8c1",
   "metadata": {},
   "outputs": [
    {
     "name": "stderr",
     "output_type": "stream",
     "text": [
      "Check the arcs: 100%|██████████| 146804/146804 [13:09<00:00, 185.91it/s]\n",
      "Save the states: 100%|██████████| 15792/15792 [10:26<00:00, 25.19it/s]\n"
     ]
    },
    {
     "data": {
      "text/plain": [
       "0.3282"
      ]
     },
     "execution_count": 13,
     "metadata": {},
     "output_type": "execute_result"
    }
   ],
   "source": [
    "value = alignment_measure_states(ocel_variant,variant_ocpn)\n",
    "value"
   ]
  },
  {
   "cell_type": "markdown",
   "id": "7a04e438",
   "metadata": {},
   "source": [
    "# DS4 Log"
   ]
  },
  {
   "cell_type": "markdown",
   "id": "53481878",
   "metadata": {},
   "source": [
    "### Standard Petri Net"
   ]
  },
  {
   "cell_type": "markdown",
   "id": "fbbc09c2",
   "metadata": {},
   "source": [
    "In a first step, we load the OCEL-log into the notebook and generate the object-centric petri net."
   ]
  },
  {
   "cell_type": "code",
   "execution_count": 14,
   "id": "daa4c1ce",
   "metadata": {},
   "outputs": [],
   "source": [
    "filename = \"../src/data/jsonocel/DS4.jsonocel\"\n",
    "ocel = ocel_import_factory.apply(filename)\n",
    "ocpn = ocpn_discovery_factory.apply(ocel, parameters={\"debug\": False})"
   ]
  },
  {
   "cell_type": "code",
   "execution_count": 15,
   "id": "6c280201",
   "metadata": {},
   "outputs": [
    {
     "name": "stderr",
     "output_type": "stream",
     "text": [
      "Check the arcs: 100%|██████████| 364/364 [00:00<00:00, 39339.50it/s]\n",
      "Save the states: 100%|██████████| 71/71 [00:21<00:00,  3.33it/s]\n"
     ]
    },
    {
     "data": {
      "text/plain": [
       "0.8726"
      ]
     },
     "execution_count": 15,
     "metadata": {},
     "output_type": "execute_result"
    }
   ],
   "source": [
    "value = alignment_measure_states(ocel,ocpn)\n",
    "value"
   ]
  },
  {
   "cell_type": "markdown",
   "id": "8739ff06",
   "metadata": {},
   "source": [
    "### Happy Path Petri Net"
   ]
  },
  {
   "cell_type": "code",
   "execution_count": 16,
   "id": "59fbb783",
   "metadata": {},
   "outputs": [],
   "source": [
    "happy_path__ocel = get_happy_path_log(filename)"
   ]
  },
  {
   "cell_type": "code",
   "execution_count": 17,
   "id": "1a9ba404",
   "metadata": {},
   "outputs": [],
   "source": [
    "happy_path_ocpn = ocpn_discovery_factory.apply(happy_path__ocel, parameters={\"debug\": False})"
   ]
  },
  {
   "cell_type": "code",
   "execution_count": 18,
   "id": "21ff78f7",
   "metadata": {},
   "outputs": [
    {
     "name": "stderr",
     "output_type": "stream",
     "text": [
      "Check the arcs: 100%|██████████| 70/70 [00:00<00:00, 69838.55it/s]\n",
      "Save the states: 100%|██████████| 21/21 [00:07<00:00,  2.96it/s]\n"
     ]
    },
    {
     "data": {
      "text/plain": [
       "0.9999"
      ]
     },
     "execution_count": 18,
     "metadata": {},
     "output_type": "execute_result"
    }
   ],
   "source": [
    "value = alignment_measure_states(ocel,happy_path_ocpn)\n",
    "value"
   ]
  },
  {
   "cell_type": "markdown",
   "id": "2bb7b153",
   "metadata": {},
   "source": [
    "### Flower Model Petri Net"
   ]
  },
  {
   "cell_type": "code",
   "execution_count": 19,
   "id": "4dfba0e7",
   "metadata": {},
   "outputs": [],
   "source": [
    "ots = [\"Payment application\",\"Control summary\",\"Entitlement application\",\"Geo parcel document\",\"Inspection\",\"Reference alignment\"]"
   ]
  },
  {
   "cell_type": "code",
   "execution_count": 20,
   "id": "eadbfca9",
   "metadata": {},
   "outputs": [],
   "source": [
    "flower_ocpn = create_flower_model(filename,ots)"
   ]
  },
  {
   "cell_type": "code",
   "execution_count": 21,
   "id": "64012601",
   "metadata": {},
   "outputs": [
    {
     "name": "stderr",
     "output_type": "stream",
     "text": [
      "Check the arcs: 100%|██████████| 162/162 [00:00<00:00, 32403.89it/s]\n",
      "Save the states: 100%|██████████| 71/71 [00:23<00:00,  3.02it/s]\n"
     ]
    },
    {
     "data": {
      "text/plain": [
       "0.9994"
      ]
     },
     "execution_count": 21,
     "metadata": {},
     "output_type": "execute_result"
    }
   ],
   "source": [
    "value = alignment_measure_states(ocel,flower_ocpn)\n",
    "value"
   ]
  },
  {
   "cell_type": "markdown",
   "id": "bf1098e2",
   "metadata": {},
   "source": [
    "### Variant Model Petri Net"
   ]
  },
  {
   "cell_type": "markdown",
   "id": "fc501df0",
   "metadata": {},
   "source": [
    "Import the primarly generated variant log for our measure computation, while we generate the variant model with the original log."
   ]
  },
  {
   "cell_type": "code",
   "execution_count": null,
   "id": "e27be04a",
   "metadata": {},
   "outputs": [],
   "source": [
    "filename_variant = \"../src/data/csv/DS4_variant_log.csv\" \n",
    "object_types = [\"Payment application\",\"Control summary\",\"Entitlement application\",\"Geo parcel document\",\"Inspection\",\"Reference alignment\"]\n",
    "parameters = {\"obj_names\": object_types,\n",
    "              \"val_names\": [],\n",
    "              \"act_name\": \"event_activity\",\n",
    "              \"time_name\": \"event_timestamp\",\n",
    "              \"sep\": \",\"}\n",
    "ocel_variant = ocel_import_factory_csv.apply(file_path=filename_variant, parameters=parameters)"
   ]
  },
  {
   "cell_type": "code",
   "execution_count": null,
   "id": "04d930b9",
   "metadata": {},
   "outputs": [],
   "source": [
    "filename = \"../src/data/jsonocel/DS4.jsonocel\"\n",
    "ots = [\"Payment application\",\"Control summary\",\"Entitlement application\",\"Geo parcel document\",\"Inspection\",\"Reference alignment\"]\n",
    "ocel = ocel_import_factory.apply(filename)\n",
    "variant_ocpn = generate_variant_model(ocel,save_path_logs='../src/data/csv/DS3_variants/DS4_variant',object_types = ots)"
   ]
  },
  {
   "cell_type": "code",
   "execution_count": null,
   "id": "388312b2",
   "metadata": {},
   "outputs": [],
   "source": [
    "value = alignment_measure_states(ocel_variant,variant_ocpn)\n",
    "value"
   ]
  },
  {
   "cell_type": "markdown",
   "id": "c777cd78",
   "metadata": {},
   "source": [
    "# Measure with each variant appearing only once in log"
   ]
  },
  {
   "cell_type": "markdown",
   "id": "50587b66",
   "metadata": {},
   "source": [
    "In a next step, we also want to see if our logs behave in a similar way, as soon as we use a log for the generated models that consists of each variant appearing only once. In a first step, we need to generate the logs for these filtered subsets and save them as csv (is saved as pandas df after filtering). With this csv, we are able to import the filtered log as ocel log again and calculate the results for our alignment measure. We need to be aware that we do not generate new ocpn, but keep the ones already generated with the full log."
   ]
  },
  {
   "cell_type": "markdown",
   "id": "30a9505e",
   "metadata": {},
   "source": [
    "# O2C Log"
   ]
  },
  {
   "cell_type": "code",
   "execution_count": 25,
   "id": "b4d24cc5",
   "metadata": {},
   "outputs": [],
   "source": [
    "filename = \"../src/data/jsonocel/order_process.jsonocel\"\n",
    "ocel = ocel_import_factory.apply(filename)\n",
    "ocpn = ocpn_discovery_factory.apply(ocel, parameters={\"debug\": False})"
   ]
  },
  {
   "cell_type": "code",
   "execution_count": 26,
   "id": "709f8a45",
   "metadata": {},
   "outputs": [],
   "source": [
    "filename_filtered = \"../src/data/filtered_traces/order_process_filtered.csv\"\n",
    "object_types = [\"order\",\"item\",\"delivery\"]\n",
    "parameters = {\"obj_names\": object_types,\n",
    "              \"val_names\": [],\n",
    "              \"act_name\": \"event_activity\",\n",
    "              \"time_name\": \"event_timestamp\",\n",
    "              \"sep\": \",\"}\n",
    "ocel_filtered = ocel_import_factory_csv.apply(file_path=filename_filtered, parameters=parameters)"
   ]
  },
  {
   "cell_type": "code",
   "execution_count": 27,
   "id": "c4e385c9",
   "metadata": {
    "scrolled": true
   },
   "outputs": [
    {
     "name": "stdout",
     "output_type": "stream",
     "text": [
      "Number of process executions: 12\n",
      "Number of variants: 12\n"
     ]
    }
   ],
   "source": [
    "print(\"Number of process executions: \"+str(len(ocel_filtered.process_executions)))\n",
    "print(\"Number of variants: \"+str(len(ocel_filtered.variants)))"
   ]
  },
  {
   "cell_type": "markdown",
   "id": "1efc6312",
   "metadata": {},
   "source": [
    "### Standard Petri Net"
   ]
  },
  {
   "cell_type": "code",
   "execution_count": 28,
   "id": "232bdc4d",
   "metadata": {},
   "outputs": [
    {
     "data": {
      "text/plain": [
       "0.9884"
      ]
     },
     "execution_count": 28,
     "metadata": {},
     "output_type": "execute_result"
    }
   ],
   "source": [
    "value = alignment_measure_states(ocel_filtered,ocpn)\n",
    "value"
   ]
  },
  {
   "cell_type": "markdown",
   "id": "4e256efe",
   "metadata": {},
   "source": [
    "### Happy Path Petri Net"
   ]
  },
  {
   "cell_type": "code",
   "execution_count": 29,
   "id": "a9df68b6",
   "metadata": {},
   "outputs": [],
   "source": [
    "happy_path__ocel = get_happy_path_log(filename)"
   ]
  },
  {
   "cell_type": "code",
   "execution_count": 30,
   "id": "fd314fac",
   "metadata": {},
   "outputs": [],
   "source": [
    "happy_path_ocpn = ocpn_discovery_factory.apply(happy_path__ocel, parameters={\"debug\": False})"
   ]
  },
  {
   "cell_type": "code",
   "execution_count": 31,
   "id": "32bba908",
   "metadata": {},
   "outputs": [
    {
     "data": {
      "text/plain": [
       "0.9884"
      ]
     },
     "execution_count": 31,
     "metadata": {},
     "output_type": "execute_result"
    }
   ],
   "source": [
    "value = alignment_measure_states(ocel_filtered,happy_path_ocpn)\n",
    "value"
   ]
  },
  {
   "cell_type": "markdown",
   "id": "6ffe4eb7",
   "metadata": {},
   "source": [
    "### Flower Model Petri Net"
   ]
  },
  {
   "cell_type": "code",
   "execution_count": 32,
   "id": "149bc1d3",
   "metadata": {},
   "outputs": [],
   "source": [
    "ots = [\"order\",\"item\",\"delivery\"]"
   ]
  },
  {
   "cell_type": "code",
   "execution_count": 33,
   "id": "4cc77ca4",
   "metadata": {},
   "outputs": [],
   "source": [
    "flower_ocpn = create_flower_model(filename,ots)"
   ]
  },
  {
   "cell_type": "code",
   "execution_count": 34,
   "id": "4010de19",
   "metadata": {},
   "outputs": [
    {
     "data": {
      "text/plain": [
       "0.9933"
      ]
     },
     "execution_count": 34,
     "metadata": {},
     "output_type": "execute_result"
    }
   ],
   "source": [
    "value = alignment_measure_states(ocel_filtered,flower_ocpn)\n",
    "value"
   ]
  },
  {
   "cell_type": "markdown",
   "id": "31891a35",
   "metadata": {},
   "source": [
    "### Variant Model Petri Net"
   ]
  },
  {
   "cell_type": "markdown",
   "id": "721d758f",
   "metadata": {},
   "source": [
    "Import the primarly generated variant log for our measure computation, while we generate the variant model with the original log."
   ]
  },
  {
   "cell_type": "code",
   "execution_count": 35,
   "id": "ef95502b",
   "metadata": {},
   "outputs": [],
   "source": [
    "filename_variant = \"../src/data/filtered_traces/order_process_variant_filtered.csv\" \n",
    "object_types = [\"order\",\"item\",\"delivery\"]\n",
    "parameters = {\"obj_names\": object_types,\n",
    "              \"val_names\": [],\n",
    "              \"act_name\": \"event_activity\",\n",
    "              \"time_name\": \"event_timestamp\",\n",
    "              \"sep\": \",\"}\n",
    "ocel_variant = ocel_import_factory_csv.apply(file_path=filename_variant, parameters=parameters)"
   ]
  },
  {
   "cell_type": "code",
   "execution_count": 36,
   "id": "824cffed",
   "metadata": {},
   "outputs": [],
   "source": [
    "filename = \"../src/data/jsonocel/order_process.jsonocel\"\n",
    "ots = [\"order\",\"item\",\"delivery\"]\n",
    "ocel = ocel_import_factory.apply(filename)\n",
    "variant_ocpn = generate_variant_model(ocel,save_path_logs='../src/data/csv/order_variants/order_variant',object_types = ots,save_path_visuals=f\"../reports/figures/order_variant_total.svg\" )"
   ]
  },
  {
   "cell_type": "code",
   "execution_count": 37,
   "id": "b319dea4",
   "metadata": {},
   "outputs": [
    {
     "data": {
      "text/plain": [
       "0.2037"
      ]
     },
     "execution_count": 37,
     "metadata": {},
     "output_type": "execute_result"
    }
   ],
   "source": [
    "value = alignment_measure_states(ocel_variant,variant_ocpn)\n",
    "value"
   ]
  },
  {
   "cell_type": "markdown",
   "id": "ef9de895",
   "metadata": {},
   "source": [
    "# P2P Log"
   ]
  },
  {
   "cell_type": "code",
   "execution_count": 38,
   "id": "e58ff264",
   "metadata": {},
   "outputs": [],
   "source": [
    "filename = \"../src/data/jsonocel/p2p-normal.jsonocel\"\n",
    "ocel = ocel_import_factory.apply(filename)\n",
    "ocpn = ocpn_discovery_factory.apply(ocel, parameters={\"debug\": False})"
   ]
  },
  {
   "cell_type": "code",
   "execution_count": 39,
   "id": "ea9b51d9",
   "metadata": {},
   "outputs": [],
   "source": [
    "filename_filtered = \"../src/data/filtered_traces/p2p-normal_filtered.csv\"\n",
    "object_types = [\"PURCHORD\",\"INVOICE\",\"PURCHREQ\",\"MATERIAL\",\"GDSRCPT\"]\n",
    "parameters = {\"obj_names\": object_types,\n",
    "              \"val_names\": [],\n",
    "              \"act_name\": \"event_activity\",\n",
    "              \"time_name\": \"event_timestamp\",\n",
    "              \"sep\": \",\"}\n",
    "ocel_filtered = ocel_import_factory_csv.apply(file_path=filename_filtered, parameters=parameters)"
   ]
  },
  {
   "cell_type": "code",
   "execution_count": 40,
   "id": "53ba251b",
   "metadata": {
    "scrolled": true
   },
   "outputs": [
    {
     "name": "stdout",
     "output_type": "stream",
     "text": [
      "Number of process executions: 20\n",
      "Number of variants: 20\n"
     ]
    }
   ],
   "source": [
    "print(\"Number of process executions: \"+str(len(ocel_filtered.process_executions)))\n",
    "print(\"Number of variants: \"+str(len(ocel_filtered.variants)))"
   ]
  },
  {
   "cell_type": "markdown",
   "id": "7ae61503",
   "metadata": {},
   "source": [
    "### Standard Petri Net"
   ]
  },
  {
   "cell_type": "code",
   "execution_count": 41,
   "id": "38b4b378",
   "metadata": {},
   "outputs": [
    {
     "data": {
      "text/plain": [
       "0.8947"
      ]
     },
     "execution_count": 41,
     "metadata": {},
     "output_type": "execute_result"
    }
   ],
   "source": [
    "value = alignment_measure_states(ocel_filtered,ocpn)\n",
    "value"
   ]
  },
  {
   "cell_type": "markdown",
   "id": "7f605998",
   "metadata": {},
   "source": [
    "### Happy Path Petri Net"
   ]
  },
  {
   "cell_type": "code",
   "execution_count": 42,
   "id": "a3f9f54a",
   "metadata": {},
   "outputs": [],
   "source": [
    "happy_path__ocel = get_happy_path_log(filename)"
   ]
  },
  {
   "cell_type": "code",
   "execution_count": 43,
   "id": "7a4e5c7b",
   "metadata": {},
   "outputs": [],
   "source": [
    "happy_path_ocpn = ocpn_discovery_factory.apply(happy_path__ocel, parameters={\"debug\": False})"
   ]
  },
  {
   "cell_type": "code",
   "execution_count": 44,
   "id": "a83b03d7",
   "metadata": {},
   "outputs": [
    {
     "data": {
      "text/plain": [
       "0.8947"
      ]
     },
     "execution_count": 44,
     "metadata": {},
     "output_type": "execute_result"
    }
   ],
   "source": [
    "value = alignment_measure_states(ocel_filtered,happy_path_ocpn)\n",
    "value"
   ]
  },
  {
   "cell_type": "markdown",
   "id": "1496ceb9",
   "metadata": {},
   "source": [
    "### Flower Model Petri Net"
   ]
  },
  {
   "cell_type": "code",
   "execution_count": 45,
   "id": "7a57ff7d",
   "metadata": {},
   "outputs": [],
   "source": [
    "ots = [\"PURCHORD\",\"INVOICE\",\"PURCHREQ\",\"MATERIAL\",\"GDSRCPT\"]"
   ]
  },
  {
   "cell_type": "code",
   "execution_count": 46,
   "id": "fa219c9a",
   "metadata": {},
   "outputs": [],
   "source": [
    "flower_ocpn = create_flower_model(filename,ots)"
   ]
  },
  {
   "cell_type": "code",
   "execution_count": 47,
   "id": "d63335aa",
   "metadata": {},
   "outputs": [
    {
     "data": {
      "text/plain": [
       "0.9299"
      ]
     },
     "execution_count": 47,
     "metadata": {},
     "output_type": "execute_result"
    }
   ],
   "source": [
    "value = alignment_measure_states(ocel_filtered,flower_ocpn)\n",
    "value"
   ]
  },
  {
   "cell_type": "markdown",
   "id": "fc31ceba",
   "metadata": {},
   "source": [
    "### Variant Model Petri Net"
   ]
  },
  {
   "cell_type": "markdown",
   "id": "298076ae",
   "metadata": {},
   "source": [
    "Import the primarly generated variant log for our measure computation, while we generate the variant model with the original log."
   ]
  },
  {
   "cell_type": "code",
   "execution_count": 48,
   "id": "4544bcab",
   "metadata": {},
   "outputs": [],
   "source": [
    "filename_variant = \"../src/data/filtered_traces/p2p_variant_filtered.csv\" \n",
    "object_types = [\"PURCHORD\",\"INVOICE\",\"PURCHREQ\",\"MATERIAL\",\"GDSRCPT\"]\n",
    "parameters = {\"obj_names\": object_types,\n",
    "              \"val_names\": [],\n",
    "              \"act_name\": \"event_activity\",\n",
    "              \"time_name\": \"event_timestamp\",\n",
    "              \"sep\": \",\"}\n",
    "ocel_variant = ocel_import_factory_csv.apply(file_path=filename_variant, parameters=parameters)"
   ]
  },
  {
   "cell_type": "code",
   "execution_count": 49,
   "id": "2d3b946c",
   "metadata": {},
   "outputs": [],
   "source": [
    "filename = \"../src/data/jsonocel/p2p-normal.jsonocel\"\n",
    "ots = [\"PURCHORD\",\"INVOICE\",\"PURCHREQ\",\"MATERIAL\",\"GDSRCPT\"]\n",
    "ocel = ocel_import_factory.apply(filename)\n",
    "variant_ocpn = generate_variant_model(ocel,save_path_logs='../src/data/csv/p2p_variants/p2p_variant',object_types = ots ,save_path_visuals=f\"../reports/figures/p2p_variant_total.svg\" )"
   ]
  },
  {
   "cell_type": "code",
   "execution_count": 51,
   "id": "7ec778a1",
   "metadata": {},
   "outputs": [
    {
     "data": {
      "text/plain": [
       "0.48"
      ]
     },
     "execution_count": 51,
     "metadata": {},
     "output_type": "execute_result"
    }
   ],
   "source": [
    "value = alignment_measure_states(ocel_variant,variant_ocpn)\n",
    "value"
   ]
  },
  {
   "cell_type": "markdown",
   "id": "40ecd526",
   "metadata": {},
   "source": [
    "# BPI-Challenge 2017 Log"
   ]
  },
  {
   "cell_type": "code",
   "execution_count": 54,
   "id": "dec03f91",
   "metadata": {},
   "outputs": [],
   "source": [
    "filename = \"../src/data/jsonocel/BPI2017-Final.jsonocel\"\n",
    "ocel = ocel_import_factory.apply(filename)\n",
    "ocpn = ocpn_discovery_factory.apply(ocel, parameters={\"debug\": False})"
   ]
  },
  {
   "cell_type": "code",
   "execution_count": 55,
   "id": "343a0327",
   "metadata": {},
   "outputs": [],
   "source": [
    "filename_filtered = \"../src/data/filtered_traces/BPI2017-Final_filtered.csv\"\n",
    "object_types = [\"application\",\"offer\"]\n",
    "parameters = {\"obj_names\": object_types,\n",
    "              \"val_names\": [],\n",
    "              \"act_name\": \"event_activity\",\n",
    "              \"time_name\": \"event_timestamp\",\n",
    "              \"sep\": \",\"}\n",
    "ocel_filtered = ocel_import_factory_csv.apply(file_path=filename_filtered, parameters=parameters)"
   ]
  },
  {
   "cell_type": "code",
   "execution_count": 56,
   "id": "a789c3f1",
   "metadata": {
    "scrolled": true
   },
   "outputs": [
    {
     "name": "stdout",
     "output_type": "stream",
     "text": [
      "Number of process executions: 5071\n",
      "Number of variants: 5071\n"
     ]
    }
   ],
   "source": [
    "print(\"Number of process executions: \"+str(len(ocel_filtered.process_executions)))\n",
    "print(\"Number of variants: \"+str(len(ocel_filtered.variants)))"
   ]
  },
  {
   "cell_type": "markdown",
   "id": "80173cc5",
   "metadata": {},
   "source": [
    "### Standard Petri Net"
   ]
  },
  {
   "cell_type": "code",
   "execution_count": 57,
   "id": "e3ec4ec8",
   "metadata": {},
   "outputs": [
    {
     "data": {
      "text/plain": [
       "0.9675"
      ]
     },
     "execution_count": 57,
     "metadata": {},
     "output_type": "execute_result"
    }
   ],
   "source": [
    "value = alignment_measure_states(ocel_filtered,ocpn)\n",
    "value"
   ]
  },
  {
   "cell_type": "markdown",
   "id": "ec4cd2ab",
   "metadata": {},
   "source": [
    "### Happy Path Petri Net"
   ]
  },
  {
   "cell_type": "code",
   "execution_count": 58,
   "id": "5d194249",
   "metadata": {},
   "outputs": [],
   "source": [
    "happy_path__ocel = get_happy_path_log(filename)"
   ]
  },
  {
   "cell_type": "code",
   "execution_count": 59,
   "id": "7064a609",
   "metadata": {},
   "outputs": [],
   "source": [
    "happy_path_ocpn = ocpn_discovery_factory.apply(happy_path__ocel, parameters={\"debug\": False})"
   ]
  },
  {
   "cell_type": "code",
   "execution_count": 60,
   "id": "d80b3421",
   "metadata": {},
   "outputs": [
    {
     "data": {
      "text/plain": [
       "0.9994"
      ]
     },
     "execution_count": 60,
     "metadata": {},
     "output_type": "execute_result"
    }
   ],
   "source": [
    "value = alignment_measure_states(ocel_filtered,happy_path_ocpn)\n",
    "value"
   ]
  },
  {
   "cell_type": "markdown",
   "id": "0d5c2353",
   "metadata": {},
   "source": [
    "### Flower Model Petri Net"
   ]
  },
  {
   "cell_type": "code",
   "execution_count": 61,
   "id": "b9800858",
   "metadata": {},
   "outputs": [],
   "source": [
    "ots = [\"application\",\"offer\"]"
   ]
  },
  {
   "cell_type": "code",
   "execution_count": 62,
   "id": "f8bf0374",
   "metadata": {},
   "outputs": [],
   "source": [
    "flower_ocpn = create_flower_model(filename,ots)"
   ]
  },
  {
   "cell_type": "code",
   "execution_count": 63,
   "id": "bd35ad8a",
   "metadata": {},
   "outputs": [
    {
     "data": {
      "text/plain": [
       "0.9997"
      ]
     },
     "execution_count": 63,
     "metadata": {},
     "output_type": "execute_result"
    }
   ],
   "source": [
    "value = alignment_measure_states(ocel_filtered,flower_ocpn)\n",
    "value"
   ]
  },
  {
   "cell_type": "markdown",
   "id": "680b617f",
   "metadata": {},
   "source": [
    "### Variant Model Petri Net"
   ]
  },
  {
   "cell_type": "code",
   "execution_count": null,
   "id": "81f1298b",
   "metadata": {},
   "outputs": [],
   "source": [
    "filename_filtered = \"../src/data/filtered_traces/BPI2017-Final_variant_filtered.csv\"\n",
    "object_types = [\"application\",\"offer\"]\n",
    "parameters = {\"obj_names\": object_types,\n",
    "              \"val_names\": [],\n",
    "              \"act_name\": \"event_activity\",\n",
    "              \"time_name\": \"event_timestamp\",\n",
    "              \"sep\": \",\"}\n",
    "ocel_filtered = ocel_import_factory_csv.apply(file_path=filename_filtered, parameters=parameters)"
   ]
  },
  {
   "cell_type": "code",
   "execution_count": null,
   "id": "157cf98b",
   "metadata": {},
   "outputs": [],
   "source": [
    "with open(\"../src/data/csv/bpi_variant_ocpn.pickle\", \"rb\") as file:\n",
    "    variant_ocpn = pickle.load(file)\n",
    "\n",
    "print(variant_ocpn)"
   ]
  },
  {
   "cell_type": "code",
   "execution_count": null,
   "id": "8a41408c",
   "metadata": {},
   "outputs": [],
   "source": [
    "value = alignment_measure_states(ocel_filtered,variant_ocpn)\n",
    "value"
   ]
  },
  {
   "cell_type": "markdown",
   "id": "573ba265",
   "metadata": {},
   "source": [
    "# DS3 Log"
   ]
  },
  {
   "cell_type": "code",
   "execution_count": 22,
   "id": "66bb4b08",
   "metadata": {},
   "outputs": [],
   "source": [
    "filename = \"../src/data/jsonocel/DS3.jsonocel\"\n",
    "ocel = ocel_import_factory.apply(filename)\n",
    "ocpn = ocpn_discovery_factory.apply(ocel, parameters={\"debug\": False})\n",
    "filename_filtered = \"../src/data/filtered_traces/DS3_filtered.csv\"\n",
    "object_types = [\"incident\",\"customer\"]\n",
    "parameters = {\"obj_names\": object_types,\n",
    "              \"val_names\": [],\n",
    "              \"act_name\": \"event_activity\",\n",
    "              \"time_name\": \"event_timestamp\",\n",
    "              \"sep\": \",\"}\n",
    "ocel_filtered = ocel_import_factory_csv.apply(file_path=filename_filtered, parameters=parameters)"
   ]
  },
  {
   "cell_type": "markdown",
   "id": "d6163579",
   "metadata": {},
   "source": [
    "### Standard Petri Net"
   ]
  },
  {
   "cell_type": "code",
   "execution_count": 23,
   "id": "eb7b24b8",
   "metadata": {},
   "outputs": [
    {
     "name": "stderr",
     "output_type": "stream",
     "text": [
      "Check the arcs: 100%|██████████| 130/130 [00:00<00:00, 130102.49it/s]\n",
      "Save the states: 100%|██████████| 8/8 [00:00<00:00, 85.16it/s]\n"
     ]
    },
    {
     "data": {
      "text/plain": [
       "0.985"
      ]
     },
     "execution_count": 23,
     "metadata": {},
     "output_type": "execute_result"
    }
   ],
   "source": [
    "value = alignment_measure_states(ocel_filtered,ocpn)\n",
    "value"
   ]
  },
  {
   "cell_type": "markdown",
   "id": "7c55efe6",
   "metadata": {},
   "source": [
    "### Happy Path Petri Net"
   ]
  },
  {
   "cell_type": "code",
   "execution_count": 24,
   "id": "146d394a",
   "metadata": {},
   "outputs": [],
   "source": [
    "happy_path__ocel = get_happy_path_log(filename)"
   ]
  },
  {
   "cell_type": "code",
   "execution_count": 25,
   "id": "5072ba41",
   "metadata": {},
   "outputs": [],
   "source": [
    "happy_path_ocpn = ocpn_discovery_factory.apply(happy_path__ocel, parameters={\"debug\": False})"
   ]
  },
  {
   "cell_type": "code",
   "execution_count": 26,
   "id": "5d340419",
   "metadata": {},
   "outputs": [
    {
     "name": "stderr",
     "output_type": "stream",
     "text": [
      "Check the arcs: 100%|██████████| 8/8 [00:00<00:00, 8291.19it/s]\n",
      "Save the states: 100%|██████████| 3/3 [00:00<00:00, 89.46it/s]\n"
     ]
    },
    {
     "data": {
      "text/plain": [
       "0.9999"
      ]
     },
     "execution_count": 26,
     "metadata": {},
     "output_type": "execute_result"
    }
   ],
   "source": [
    "value = alignment_measure_states(ocel_filtered,happy_path_ocpn)\n",
    "value"
   ]
  },
  {
   "cell_type": "markdown",
   "id": "752fb82b",
   "metadata": {},
   "source": [
    "### Flower Model Petri Net"
   ]
  },
  {
   "cell_type": "code",
   "execution_count": 27,
   "id": "cf288489",
   "metadata": {},
   "outputs": [],
   "source": [
    "ots = [\"incident\",\"customer\"]"
   ]
  },
  {
   "cell_type": "code",
   "execution_count": 28,
   "id": "ee3bc1b7",
   "metadata": {},
   "outputs": [],
   "source": [
    "flower_ocpn = create_flower_model(filename,ots)"
   ]
  },
  {
   "cell_type": "code",
   "execution_count": 29,
   "id": "7e41e2a1",
   "metadata": {},
   "outputs": [
    {
     "name": "stderr",
     "output_type": "stream",
     "text": [
      "Check the arcs: 100%|██████████| 20/20 [00:00<00:00, 19355.35it/s]\n",
      "Save the states: 100%|██████████| 8/8 [00:00<00:00, 69.01it/s]\n"
     ]
    },
    {
     "data": {
      "text/plain": [
       "0.9999"
      ]
     },
     "execution_count": 29,
     "metadata": {},
     "output_type": "execute_result"
    }
   ],
   "source": [
    "value = alignment_measure_states(ocel_filtered,flower_ocpn)\n",
    "value"
   ]
  },
  {
   "cell_type": "markdown",
   "id": "bf586f23",
   "metadata": {},
   "source": [
    "### Variant Model Petri Net"
   ]
  },
  {
   "cell_type": "markdown",
   "id": "621eb2fe",
   "metadata": {},
   "source": [
    "Import the primarly generated variant log for our measure computation, while we generate the variant model with the original log."
   ]
  },
  {
   "cell_type": "code",
   "execution_count": 30,
   "id": "2e5a3ecd",
   "metadata": {},
   "outputs": [],
   "source": [
    "filename_variant = \"../src/data/csv/DS3_variant_log.csv\" \n",
    "object_types = [\"incident\",\"customer\"]\n",
    "parameters = {\"obj_names\": object_types,\n",
    "              \"val_names\": [],\n",
    "              \"act_name\": \"event_activity\",\n",
    "              \"time_name\": \"event_timestamp\",\n",
    "              \"sep\": \",\"}\n",
    "ocel_filtered = ocel_import_factory_csv.apply(file_path=filename_variant, parameters=parameters)"
   ]
  },
  {
   "cell_type": "code",
   "execution_count": 31,
   "id": "832af4fe",
   "metadata": {},
   "outputs": [
    {
     "name": "stderr",
     "output_type": "stream",
     "text": [
      "Generating Variant Models: 100%|██████████| 3377/3377 [08:45<00:00,  6.43it/s]\n",
      "Processing Variant Nets: 100%|██████████| 3377/3377 [00:00<00:00, 14161.88it/s]"
     ]
    },
    {
     "name": "stdout",
     "output_type": "stream",
     "text": [
      "#########Start generating Object-Centric Petri Net#########\n",
      "#########Finished generating Object-Centric Petri Net#########\n"
     ]
    },
    {
     "name": "stderr",
     "output_type": "stream",
     "text": [
      "\n"
     ]
    }
   ],
   "source": [
    "filename = \"../src/data/jsonocel/DS3.jsonocel\"\n",
    "ots = [\"incident\",\"customer\"]\n",
    "ocel = ocel_import_factory.apply(filename)\n",
    "variant_ocpn = generate_variant_model(ocel,save_path_logs='../src/data/csv/DS3_variants/DS3_variant',object_types = ots)"
   ]
  },
  {
   "cell_type": "code",
   "execution_count": 32,
   "id": "66bb8966",
   "metadata": {},
   "outputs": [
    {
     "name": "stderr",
     "output_type": "stream",
     "text": [
      "Check the arcs: 100%|██████████| 146804/146804 [10:55<00:00, 223.81it/s]\n",
      "Save the states: 100%|██████████| 15792/15792 [08:45<00:00, 30.05it/s]\n"
     ]
    },
    {
     "data": {
      "text/plain": [
       "0.3282"
      ]
     },
     "execution_count": 32,
     "metadata": {},
     "output_type": "execute_result"
    }
   ],
   "source": [
    "value = alignment_measure_states(ocel_filtered,variant_ocpn)\n",
    "value"
   ]
  },
  {
   "cell_type": "markdown",
   "id": "a7511a6a",
   "metadata": {},
   "source": [
    "# DS4 Log"
   ]
  },
  {
   "cell_type": "code",
   "execution_count": 33,
   "id": "60461302",
   "metadata": {},
   "outputs": [],
   "source": [
    "filename = \"../src/data/jsonocel/DS4.jsonocel\"\n",
    "ocel = ocel_import_factory.apply(filename)\n",
    "ocpn = ocpn_discovery_factory.apply(ocel, parameters={\"debug\": False})\n",
    "filename_filtered = \"../src/data/filtered_traces/DS4_filtered.csv\"\n",
    "object_types = [\"Payment application\",\"Control summary\",\"Entitlement application\",\"Geo parcel document\",\"Inspection\",\"Reference alignment\"]\n",
    "parameters = {\"obj_names\": object_types,\n",
    "              \"val_names\": [],\n",
    "              \"act_name\": \"event_activity\",\n",
    "              \"time_name\": \"event_timestamp\",\n",
    "              \"sep\": \",\"}\n",
    "ocel_filtered = ocel_import_factory_csv.apply(file_path=filename_filtered, parameters=parameters)"
   ]
  },
  {
   "cell_type": "markdown",
   "id": "a3beb9aa",
   "metadata": {},
   "source": [
    "### Standard Petri Net"
   ]
  },
  {
   "cell_type": "code",
   "execution_count": 34,
   "id": "d9f48c33",
   "metadata": {},
   "outputs": [
    {
     "name": "stderr",
     "output_type": "stream",
     "text": [
      "Check the arcs: 100%|██████████| 364/364 [00:00<00:00, 72165.19it/s]\n",
      "Save the states: 100%|██████████| 71/71 [00:03<00:00, 17.78it/s]\n"
     ]
    },
    {
     "data": {
      "text/plain": [
       "0.8724"
      ]
     },
     "execution_count": 34,
     "metadata": {},
     "output_type": "execute_result"
    }
   ],
   "source": [
    "value = alignment_measure_states(ocel_filtered,ocpn)\n",
    "value"
   ]
  },
  {
   "cell_type": "markdown",
   "id": "04a662ea",
   "metadata": {},
   "source": [
    "### Happy Path Petri Net"
   ]
  },
  {
   "cell_type": "code",
   "execution_count": 35,
   "id": "1318076c",
   "metadata": {},
   "outputs": [],
   "source": [
    "happy_path__ocel = get_happy_path_log(filename)"
   ]
  },
  {
   "cell_type": "code",
   "execution_count": 36,
   "id": "dffd2e17",
   "metadata": {},
   "outputs": [],
   "source": [
    "happy_path_ocpn = ocpn_discovery_factory.apply(happy_path__ocel, parameters={\"debug\": False})"
   ]
  },
  {
   "cell_type": "code",
   "execution_count": 37,
   "id": "aebd60f8",
   "metadata": {},
   "outputs": [
    {
     "name": "stderr",
     "output_type": "stream",
     "text": [
      "Check the arcs: 100%|██████████| 70/70 [00:00<00:00, 69888.43it/s]\n",
      "Save the states: 100%|██████████| 21/21 [00:01<00:00, 20.90it/s]\n"
     ]
    },
    {
     "data": {
      "text/plain": [
       "0.9998"
      ]
     },
     "execution_count": 37,
     "metadata": {},
     "output_type": "execute_result"
    }
   ],
   "source": [
    "value = alignment_measure_states(ocel_filtered,happy_path_ocpn)\n",
    "value"
   ]
  },
  {
   "cell_type": "markdown",
   "id": "4b4d354b",
   "metadata": {},
   "source": [
    "### Flower Model Petri Net"
   ]
  },
  {
   "cell_type": "code",
   "execution_count": 38,
   "id": "46539d32",
   "metadata": {},
   "outputs": [],
   "source": [
    "ots = [\"Payment application\",\"Control summary\",\"Entitlement application\",\"Geo parcel document\",\"Inspection\",\"Reference alignment\"]"
   ]
  },
  {
   "cell_type": "code",
   "execution_count": 39,
   "id": "035bea14",
   "metadata": {},
   "outputs": [],
   "source": [
    "flower_ocpn = create_flower_model(filename,ots)"
   ]
  },
  {
   "cell_type": "code",
   "execution_count": 40,
   "id": "4e69b94e",
   "metadata": {},
   "outputs": [
    {
     "name": "stderr",
     "output_type": "stream",
     "text": [
      "Check the arcs: 100%|██████████| 162/162 [00:00<00:00, 27003.03it/s]\n",
      "Save the states: 100%|██████████| 71/71 [00:04<00:00, 17.06it/s]\n"
     ]
    },
    {
     "data": {
      "text/plain": [
       "0.9992"
      ]
     },
     "execution_count": 40,
     "metadata": {},
     "output_type": "execute_result"
    }
   ],
   "source": [
    "value = alignment_measure_states(ocel_filtered,flower_ocpn)\n",
    "value"
   ]
  },
  {
   "cell_type": "markdown",
   "id": "db7a2b73",
   "metadata": {},
   "source": [
    "### Variant Model Petri Net"
   ]
  },
  {
   "cell_type": "markdown",
   "id": "810d32d0",
   "metadata": {},
   "source": [
    "Import the primarly generated variant log for our measure computation, while we generate the variant model with the original log."
   ]
  },
  {
   "cell_type": "code",
   "execution_count": null,
   "id": "9aa035ca",
   "metadata": {},
   "outputs": [],
   "source": [
    "filename_variant = \"../src/data/csv/DS4_variant_log.csv\" \n",
    "object_types = [\"Payment application\",\"Control summary\",\"Entitlement application\",\"Geo parcel document\",\"Inspection\",\"Reference alignment\"]\n",
    "parameters = {\"obj_names\": object_types,\n",
    "              \"val_names\": [],\n",
    "              \"act_name\": \"event_activity\",\n",
    "              \"time_name\": \"event_timestamp\",\n",
    "              \"sep\": \",\"}\n",
    "ocel_filtered = ocel_import_factory_csv.apply(file_path=filename_variant, parameters=parameters)"
   ]
  },
  {
   "cell_type": "code",
   "execution_count": null,
   "id": "01ec6167",
   "metadata": {},
   "outputs": [],
   "source": [
    "filename = \"../src/data/jsonocel/DS4.jsonocel\"\n",
    "ots = [\"Payment application\",\"Control summary\",\"Entitlement application\",\"Geo parcel document\",\"Inspection\",\"Reference alignment\"]\n",
    "ocel = ocel_import_factory.apply(filename)\n",
    "variant_ocpn = generate_variant_model(ocel,save_path_logs='../src/data/csv/DS3_variants/DS4_variant',object_types = ots)"
   ]
  },
  {
   "cell_type": "code",
   "execution_count": null,
   "id": "e0a42cd7",
   "metadata": {},
   "outputs": [],
   "source": [
    "value = alignment_measure_states(ocel_filtered,variant_ocpn)\n",
    "value"
   ]
  },
  {
   "cell_type": "code",
   "execution_count": null,
   "id": "6717171c",
   "metadata": {},
   "outputs": [],
   "source": []
  }
 ],
 "metadata": {
  "kernelspec": {
   "display_name": "Python 3 (ipykernel)",
   "language": "python",
   "name": "python3"
  },
  "language_info": {
   "codemirror_mode": {
    "name": "ipython",
    "version": 3
   },
   "file_extension": ".py",
   "mimetype": "text/x-python",
   "name": "python",
   "nbconvert_exporter": "python",
   "pygments_lexer": "ipython3",
   "version": "3.8.6"
  }
 },
 "nbformat": 4,
 "nbformat_minor": 5
}
