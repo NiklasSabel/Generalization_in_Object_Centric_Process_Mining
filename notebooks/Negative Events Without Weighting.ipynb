{
 "cells": [
  {
   "cell_type": "markdown",
   "id": "3629febf",
   "metadata": {},
   "source": [
    "# Negative Weighted Events"
   ]
  },
  {
   "cell_type": "markdown",
   "id": "ad07bf88",
   "metadata": {},
   "source": [
    "In this notebook, we adapt the negative events-based measure"
   ]
  },
  {
   "cell_type": "code",
   "execution_count": 1,
   "id": "c9aeff9a",
   "metadata": {
    "ExecuteTime": {
     "end_time": "2023-04-13T10:38:42.168582Z",
     "start_time": "2023-04-13T10:38:42.138592Z"
    },
    "pycharm": {
     "is_executing": true
    }
   },
   "outputs": [],
   "source": [
    "import warnings\n",
    "warnings.filterwarnings('ignore')"
   ]
  },
  {
   "cell_type": "code",
   "execution_count": 2,
   "id": "7cd21f2c",
   "metadata": {
    "pycharm": {
     "is_executing": true
    }
   },
   "outputs": [],
   "source": [
    "from ocpa.objects.log.importer.ocel import factory as ocel_import_factory\n",
    "from ocpa.algo.discovery.ocpn import algorithm as ocpn_discovery_factory\n",
    "from src.utils import get_happy_path_log, create_flower_model, generate_variant_model\n",
    "from ocpa.objects.log.importer.csv import factory as ocel_import_factory_csv\n",
    "from models.negative_events_measure_without_weighting import negative_events_without_weighting\n",
    "import pickle"
   ]
  },
  {
   "cell_type": "markdown",
   "id": "2f5acca2",
   "metadata": {},
   "source": [
    "# O2C Log"
   ]
  },
  {
   "cell_type": "markdown",
   "id": "79f9f1b6",
   "metadata": {},
   "source": [
    "### Standard Petri Net"
   ]
  },
  {
   "cell_type": "markdown",
   "id": "ea029b35",
   "metadata": {},
   "source": [
    "In a first step, we load the OCEL-log into the notebook and generate the object-centric petri net."
   ]
  },
  {
   "cell_type": "code",
   "execution_count": 3,
   "id": "d8448274",
   "metadata": {},
   "outputs": [],
   "source": [
    "filename = \"../src/data/jsonocel/order_process.jsonocel\"\n",
    "ocel = ocel_import_factory.apply(filename)\n",
    "ocpn = ocpn_discovery_factory.apply(ocel, parameters={\"debug\": False})"
   ]
  },
  {
   "cell_type": "code",
   "execution_count": 4,
   "id": "46403402",
   "metadata": {},
   "outputs": [
    {
     "name": "stderr",
     "output_type": "stream",
     "text": [
      "Check the arcs: 100%|██████████| 46/46 [00:00<00:00, 44579.02it/s]\n",
      "Calculate Generalization for all process executions: 100%|██████████| 48/48 [00:00<00:00, 54.57it/s]\n"
     ]
    },
    {
     "data": {
      "text/plain": [
       "0.5063"
      ]
     },
     "execution_count": 4,
     "metadata": {},
     "output_type": "execute_result"
    }
   ],
   "source": [
    "value = negative_events_without_weighting (ocel, ocpn)\n",
    "value"
   ]
  },
  {
   "cell_type": "markdown",
   "id": "f5a08e25",
   "metadata": {},
   "source": [
    "### Happy Path Petri Net"
   ]
  },
  {
   "cell_type": "code",
   "execution_count": 5,
   "id": "0c4f310f",
   "metadata": {},
   "outputs": [],
   "source": [
    "happy_path__ocel = get_happy_path_log(filename)"
   ]
  },
  {
   "cell_type": "code",
   "execution_count": 6,
   "id": "35668a50",
   "metadata": {},
   "outputs": [],
   "source": [
    "happy_path_ocpn = ocpn_discovery_factory.apply(happy_path__ocel, parameters={\"debug\": False})"
   ]
  },
  {
   "cell_type": "code",
   "execution_count": 7,
   "id": "0105752b",
   "metadata": {},
   "outputs": [
    {
     "name": "stderr",
     "output_type": "stream",
     "text": [
      "Check the arcs: 100%|██████████| 26/26 [00:00<00:00, 26001.88it/s]\n",
      "Calculate Generalization for all process executions: 100%|██████████| 48/48 [00:00<00:00, 78.48it/s]\n"
     ]
    },
    {
     "data": {
      "text/plain": [
       "0.3073"
      ]
     },
     "execution_count": 7,
     "metadata": {},
     "output_type": "execute_result"
    }
   ],
   "source": [
    "value = negative_events_without_weighting (ocel, happy_path_ocpn)\n",
    "value"
   ]
  },
  {
   "cell_type": "markdown",
   "id": "d5b26a81",
   "metadata": {},
   "source": [
    "### Flower Model Petri Net"
   ]
  },
  {
   "cell_type": "code",
   "execution_count": 8,
   "id": "cf08a8c5",
   "metadata": {},
   "outputs": [],
   "source": [
    "ots = [\"order\",\"item\",\"delivery\"]"
   ]
  },
  {
   "cell_type": "code",
   "execution_count": 9,
   "id": "89072314",
   "metadata": {},
   "outputs": [],
   "source": [
    "flower_ocpn = create_flower_model(filename,ots)"
   ]
  },
  {
   "cell_type": "code",
   "execution_count": 10,
   "id": "4d01ce1d",
   "metadata": {},
   "outputs": [
    {
     "name": "stderr",
     "output_type": "stream",
     "text": [
      "Check the arcs: 100%|██████████| 32/32 [00:00<00:00, 37882.51it/s]\n",
      "Calculate Generalization for all process executions: 100%|██████████| 48/48 [00:00<00:00, 77.92it/s]\n"
     ]
    },
    {
     "data": {
      "text/plain": [
       "0.965"
      ]
     },
     "execution_count": 10,
     "metadata": {},
     "output_type": "execute_result"
    }
   ],
   "source": [
    "value = negative_events_without_weighting (ocel, flower_ocpn)\n",
    "value"
   ]
  },
  {
   "cell_type": "markdown",
   "id": "97473e81",
   "metadata": {},
   "source": [
    "### Variant Model Petri Net"
   ]
  },
  {
   "cell_type": "markdown",
   "id": "d65f2859",
   "metadata": {},
   "source": [
    "Import the primarly generated variant log for our measure computation, while we generate the variant model with the original log."
   ]
  },
  {
   "cell_type": "code",
   "execution_count": 11,
   "id": "808796e2",
   "metadata": {},
   "outputs": [],
   "source": [
    "filename_variant = \"../src/data/csv/order_process_variant_log.csv\" \n",
    "object_types = [\"order\",\"item\",\"delivery\"]\n",
    "parameters = {\"obj_names\": object_types,\n",
    "              \"val_names\": [],\n",
    "              \"act_name\": \"event_activity\",\n",
    "              \"time_name\": \"event_timestamp\",\n",
    "              \"sep\": \",\"}\n",
    "ocel_variant = ocel_import_factory_csv.apply(file_path=filename_variant, parameters=parameters)"
   ]
  },
  {
   "cell_type": "code",
   "execution_count": 12,
   "id": "50217a11",
   "metadata": {},
   "outputs": [
    {
     "name": "stderr",
     "output_type": "stream",
     "text": [
      "Generating Variant Models: 100%|██████████| 12/12 [00:03<00:00,  3.21it/s]\n",
      "Processing Variant Nets: 100%|██████████| 12/12 [00:00<00:00, 5984.74it/s]"
     ]
    },
    {
     "name": "stdout",
     "output_type": "stream",
     "text": [
      "#########Start generating Object-Centric Petri Net#########\n",
      "#########Finished generating Object-Centric Petri Net#########\n"
     ]
    },
    {
     "name": "stderr",
     "output_type": "stream",
     "text": [
      "\n"
     ]
    }
   ],
   "source": [
    "filename = \"../src/data/jsonocel/order_process.jsonocel\"\n",
    "ots = [\"order\",\"item\",\"delivery\"]\n",
    "ocel = ocel_import_factory.apply(filename)\n",
    "variant_ocpn = generate_variant_model(ocel,save_path_logs='../src/data/csv/order_variants/order_variant',object_types = ots,save_path_visuals=f\"../reports/figures/order_variant_total.svg\" )"
   ]
  },
  {
   "cell_type": "code",
   "execution_count": 13,
   "id": "6da2c58f",
   "metadata": {},
   "outputs": [
    {
     "name": "stderr",
     "output_type": "stream",
     "text": [
      "Check the arcs: 100%|██████████| 378/378 [00:00<00:00, 7777.33it/s]\n",
      "Calculate Generalization for all process executions: 100%|██████████| 48/48 [00:00<00:00, 58.76it/s]\n"
     ]
    },
    {
     "data": {
      "text/plain": [
       "0.5652"
      ]
     },
     "execution_count": 13,
     "metadata": {},
     "output_type": "execute_result"
    }
   ],
   "source": [
    "value = negative_events_without_weighting (ocel, variant_ocpn)\n",
    "value"
   ]
  },
  {
   "cell_type": "markdown",
   "id": "eaab8829",
   "metadata": {},
   "source": [
    "# P2P Log"
   ]
  },
  {
   "cell_type": "markdown",
   "id": "a7816235",
   "metadata": {},
   "source": [
    "### Standard Petri Net"
   ]
  },
  {
   "cell_type": "markdown",
   "id": "8500148a",
   "metadata": {},
   "source": [
    "In a first step, we load the OCEL-log into the notebook and generate the object-centric petri net."
   ]
  },
  {
   "cell_type": "code",
   "execution_count": 14,
   "id": "425aa3b1",
   "metadata": {},
   "outputs": [],
   "source": [
    "filename = \"../src/data/jsonocel/p2p-normal.jsonocel\"\n",
    "ocel = ocel_import_factory.apply(filename)\n",
    "ocpn = ocpn_discovery_factory.apply(ocel, parameters={\"debug\": False})"
   ]
  },
  {
   "cell_type": "code",
   "execution_count": 15,
   "id": "b611a86c",
   "metadata": {},
   "outputs": [
    {
     "name": "stderr",
     "output_type": "stream",
     "text": [
      "Check the arcs: 100%|██████████| 40/40 [00:00<?, ?it/s]\n",
      "Calculate Generalization for all process executions: 100%|██████████| 80/80 [00:00<00:00, 240.30it/s]\n"
     ]
    },
    {
     "data": {
      "text/plain": [
       "0.1845"
      ]
     },
     "execution_count": 15,
     "metadata": {},
     "output_type": "execute_result"
    }
   ],
   "source": [
    "value = negative_events_without_weighting (ocel, ocpn)\n",
    "value"
   ]
  },
  {
   "cell_type": "markdown",
   "id": "9a051ca9",
   "metadata": {},
   "source": [
    "### Happy Path Petri Net"
   ]
  },
  {
   "cell_type": "code",
   "execution_count": 16,
   "id": "9910bb98",
   "metadata": {},
   "outputs": [],
   "source": [
    "happy_path__ocel = get_happy_path_log(filename)"
   ]
  },
  {
   "cell_type": "code",
   "execution_count": 17,
   "id": "84d3b838",
   "metadata": {},
   "outputs": [],
   "source": [
    "happy_path_ocpn = ocpn_discovery_factory.apply(happy_path__ocel, parameters={\"debug\": False})"
   ]
  },
  {
   "cell_type": "code",
   "execution_count": 18,
   "id": "aedb409b",
   "metadata": {},
   "outputs": [
    {
     "name": "stderr",
     "output_type": "stream",
     "text": [
      "Check the arcs: 100%|██████████| 38/38 [00:00<?, ?it/s]\n",
      "Calculate Generalization for all process executions: 100%|██████████| 80/80 [00:00<00:00, 245.38it/s]\n"
     ]
    },
    {
     "data": {
      "text/plain": [
       "0.1958"
      ]
     },
     "execution_count": 18,
     "metadata": {},
     "output_type": "execute_result"
    }
   ],
   "source": [
    "value = negative_events_without_weighting (ocel, happy_path_ocpn)\n",
    "value"
   ]
  },
  {
   "cell_type": "markdown",
   "id": "e3ec2ccf",
   "metadata": {},
   "source": [
    "### Flower Model Petri Net"
   ]
  },
  {
   "cell_type": "code",
   "execution_count": 19,
   "id": "5deafd77",
   "metadata": {},
   "outputs": [],
   "source": [
    "ots = [\"PURCHORD\",\"INVOICE\",\"PURCHREQ\",\"MATERIAL\",\"GDSRCPT\"]"
   ]
  },
  {
   "cell_type": "code",
   "execution_count": 20,
   "id": "8caa38bd",
   "metadata": {},
   "outputs": [],
   "source": [
    "flower_ocpn = create_flower_model(filename,ots)"
   ]
  },
  {
   "cell_type": "code",
   "execution_count": 21,
   "id": "6b926427",
   "metadata": {},
   "outputs": [
    {
     "name": "stderr",
     "output_type": "stream",
     "text": [
      "Check the arcs: 100%|██████████| 38/38 [00:00<00:00, 37966.54it/s]\n",
      "Calculate Generalization for all process executions: 100%|██████████| 80/80 [00:00<00:00, 289.83it/s]\n"
     ]
    },
    {
     "data": {
      "text/plain": [
       "0.8611"
      ]
     },
     "execution_count": 21,
     "metadata": {},
     "output_type": "execute_result"
    }
   ],
   "source": [
    "value = negative_events_without_weighting (ocel, flower_ocpn)\n",
    "value"
   ]
  },
  {
   "cell_type": "markdown",
   "id": "bf4b6669",
   "metadata": {},
   "source": [
    "### Variant Model Petri Net"
   ]
  },
  {
   "cell_type": "markdown",
   "id": "298076ae",
   "metadata": {},
   "source": [
    "Import the primarly generated variant log for our measure computation, while we generate the variant model with the original log."
   ]
  },
  {
   "cell_type": "code",
   "execution_count": 22,
   "id": "4544bcab",
   "metadata": {},
   "outputs": [],
   "source": [
    "filename_variant = \"../src/data/csv/p2p_variant_log.csv\" \n",
    "object_types = [\"PURCHORD\",\"INVOICE\",\"PURCHREQ\",\"MATERIAL\",\"GDSRCPT\"]\n",
    "parameters = {\"obj_names\": object_types,\n",
    "              \"val_names\": [],\n",
    "              \"act_name\": \"event_activity\",\n",
    "              \"time_name\": \"event_timestamp\",\n",
    "              \"sep\": \",\"}\n",
    "ocel_variant = ocel_import_factory_csv.apply(file_path=filename_variant, parameters=parameters)"
   ]
  },
  {
   "cell_type": "code",
   "execution_count": 23,
   "id": "2d3b946c",
   "metadata": {},
   "outputs": [
    {
     "name": "stderr",
     "output_type": "stream",
     "text": [
      "Generating Variant Models: 100%|██████████| 20/20 [00:05<00:00,  3.98it/s]\n",
      "Processing Variant Nets: 100%|██████████| 20/20 [00:00<00:00, 3998.19it/s]"
     ]
    },
    {
     "name": "stdout",
     "output_type": "stream",
     "text": [
      "#########Start generating Object-Centric Petri Net#########\n",
      "#########Finished generating Object-Centric Petri Net#########\n"
     ]
    },
    {
     "name": "stderr",
     "output_type": "stream",
     "text": [
      "\n"
     ]
    }
   ],
   "source": [
    "filename = \"../src/data/jsonocel/p2p-normal.jsonocel\"\n",
    "ots = [\"PURCHORD\",\"INVOICE\",\"PURCHREQ\",\"MATERIAL\",\"GDSRCPT\"]\n",
    "ocel = ocel_import_factory.apply(filename)\n",
    "variant_ocpn = generate_variant_model(ocel,save_path_logs='../src/data/csv/p2p_variants/p2p_variant',object_types = ots ,save_path_visuals=f\"../reports/figures/p2p_variant_total.svg\" )"
   ]
  },
  {
   "cell_type": "code",
   "execution_count": 24,
   "id": "7ec778a1",
   "metadata": {},
   "outputs": [
    {
     "name": "stderr",
     "output_type": "stream",
     "text": [
      "Check the arcs: 100%|██████████| 760/760 [00:00<00:00, 10928.88it/s]\n",
      "Calculate Generalization for all process executions: 100%|██████████| 80/80 [00:00<00:00, 249.61it/s]\n"
     ]
    },
    {
     "data": {
      "text/plain": [
       "0.7143"
      ]
     },
     "execution_count": 24,
     "metadata": {},
     "output_type": "execute_result"
    }
   ],
   "source": [
    "value = negative_events_without_weighting (ocel, variant_ocpn)\n",
    "value"
   ]
  },
  {
   "cell_type": "markdown",
   "id": "406b591f",
   "metadata": {},
   "source": [
    "# BPI-Challenge 2017 Log"
   ]
  },
  {
   "cell_type": "markdown",
   "id": "cef9fbd0",
   "metadata": {},
   "source": [
    "### Standard Petri Net"
   ]
  },
  {
   "cell_type": "markdown",
   "id": "35f37d90",
   "metadata": {},
   "source": [
    "In a first step, we load the OCEL-log into the notebook and generate the object-centric petri net."
   ]
  },
  {
   "cell_type": "code",
   "execution_count": 25,
   "id": "97d78201",
   "metadata": {},
   "outputs": [],
   "source": [
    "filename = \"../src/data/jsonocel/BPI2017-Final.jsonocel\"\n",
    "ocel = ocel_import_factory.apply(filename)\n",
    "ocpn = ocpn_discovery_factory.apply(ocel, parameters={\"debug\": False})"
   ]
  },
  {
   "cell_type": "code",
   "execution_count": 26,
   "id": "24ab8753",
   "metadata": {},
   "outputs": [
    {
     "name": "stderr",
     "output_type": "stream",
     "text": [
      "Check the arcs: 100%|██████████| 120/120 [00:00<00:00, 119980.09it/s]\n",
      "Calculate Generalization for all process executions: 100%|██████████| 31509/31509 [03:24<00:00, 154.40it/s]\n"
     ]
    },
    {
     "data": {
      "text/plain": [
       "0.3569"
      ]
     },
     "execution_count": 26,
     "metadata": {},
     "output_type": "execute_result"
    }
   ],
   "source": [
    "value = negative_events_without_weighting (ocel, ocpn)\n",
    "value"
   ]
  },
  {
   "cell_type": "markdown",
   "id": "07f22ca5",
   "metadata": {},
   "source": [
    "### Happy Path Petri Net"
   ]
  },
  {
   "cell_type": "code",
   "execution_count": 27,
   "id": "da118f4e",
   "metadata": {},
   "outputs": [],
   "source": [
    "happy_path__ocel = get_happy_path_log(filename)"
   ]
  },
  {
   "cell_type": "code",
   "execution_count": 28,
   "id": "d570317a",
   "metadata": {},
   "outputs": [],
   "source": [
    "happy_path_ocpn = ocpn_discovery_factory.apply(happy_path__ocel, parameters={\"debug\": False})"
   ]
  },
  {
   "cell_type": "code",
   "execution_count": 29,
   "id": "9582914a",
   "metadata": {},
   "outputs": [
    {
     "name": "stderr",
     "output_type": "stream",
     "text": [
      "Check the arcs: 100%|██████████| 26/26 [00:00<00:00, 76153.56it/s]\n",
      "Calculate Generalization for all process executions: 100%|██████████| 31509/31509 [03:09<00:00, 166.08it/s]\n"
     ]
    },
    {
     "data": {
      "text/plain": [
       "0.1077"
      ]
     },
     "execution_count": 29,
     "metadata": {},
     "output_type": "execute_result"
    }
   ],
   "source": [
    "value = negative_events_without_weighting (ocel, happy_path_ocpn)\n",
    "value"
   ]
  },
  {
   "cell_type": "markdown",
   "id": "9a62a8d3",
   "metadata": {},
   "source": [
    "### Flower Model Petri Net"
   ]
  },
  {
   "cell_type": "code",
   "execution_count": 30,
   "id": "69ddb486",
   "metadata": {},
   "outputs": [],
   "source": [
    "ots = [\"application\",\"offer\"]"
   ]
  },
  {
   "cell_type": "code",
   "execution_count": 31,
   "id": "a60d3fcb",
   "metadata": {},
   "outputs": [],
   "source": [
    "flower_ocpn = create_flower_model(filename,ots)"
   ]
  },
  {
   "cell_type": "code",
   "execution_count": null,
   "id": "ca71b5f5",
   "metadata": {},
   "outputs": [
    {
     "name": "stderr",
     "output_type": "stream",
     "text": [
      "Check the arcs: 100%|██████████| 56/56 [00:00<00:00, 56097.69it/s]\n",
      "Calculate Generalization for all process executions:  52%|█████▏    | 16237/31509 [02:04<01:24, 181.50it/s]"
     ]
    }
   ],
   "source": [
    "value = negative_events_without_weighting (ocel, flower_ocpn)\n",
    "value"
   ]
  },
  {
   "cell_type": "markdown",
   "id": "a4a026f0",
   "metadata": {},
   "source": [
    "### Variant Model Petri Net"
   ]
  },
  {
   "cell_type": "markdown",
   "id": "66d68a4b",
   "metadata": {},
   "source": [
    "Import the primarly generated variant log for our measure computation, while we generate the variant model with the original log."
   ]
  },
  {
   "cell_type": "code",
   "execution_count": null,
   "id": "d553002c",
   "metadata": {},
   "outputs": [],
   "source": [
    "filename_variant = \"../src/data/csv/bpi2017_variant_log.csv\" \n",
    "object_types = [\"application\",\"offer\"]\n",
    "parameters = {\"obj_names\": object_types,\n",
    "              \"val_names\": [],\n",
    "              \"act_name\": \"event_activity\",\n",
    "              \"time_name\": \"event_timestamp\",\n",
    "              \"sep\": \",\"}\n",
    "ocel_variant = ocel_import_factory_csv.apply(file_path=filename_variant, parameters=parameters)"
   ]
  },
  {
   "cell_type": "markdown",
   "id": "c934c956",
   "metadata": {},
   "source": [
    "We import the pickle file for the variant model of the bpi challenge that we generated in the process models notebook."
   ]
  },
  {
   "cell_type": "code",
   "execution_count": null,
   "id": "5bc14dd6",
   "metadata": {},
   "outputs": [],
   "source": [
    "with open(\"../src/data/csv/bpi_variant_ocpn.pickle\", \"rb\") as file:\n",
    "    variant_ocpn = pickle.load(file)\n",
    "\n",
    "print(variant_ocpn)"
   ]
  },
  {
   "cell_type": "code",
   "execution_count": null,
   "id": "76eb9de3",
   "metadata": {},
   "outputs": [],
   "source": [
    "value = negative_events_without_weighting (ocel, variant_ocpn)\n",
    "value"
   ]
  },
  {
   "cell_type": "code",
   "execution_count": null,
   "id": "504d9663",
   "metadata": {},
   "outputs": [],
   "source": []
  }
 ],
 "metadata": {
  "kernelspec": {
   "display_name": "Python 3 (ipykernel)",
   "language": "python",
   "name": "python3"
  },
  "language_info": {
   "codemirror_mode": {
    "name": "ipython",
    "version": 3
   },
   "file_extension": ".py",
   "mimetype": "text/x-python",
   "name": "python",
   "nbconvert_exporter": "python",
   "pygments_lexer": "ipython3",
   "version": "3.8.6"
  }
 },
 "nbformat": 4,
 "nbformat_minor": 5
}
