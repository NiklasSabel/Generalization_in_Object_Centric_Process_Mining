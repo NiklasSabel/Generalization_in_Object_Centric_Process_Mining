{
 "cells": [
  {
   "cell_type": "markdown",
   "id": "3629febf",
   "metadata": {},
   "source": [
    "# Test Avatar Input Generation"
   ]
  },
  {
   "cell_type": "code",
   "execution_count": 1,
   "id": "c9aeff9a",
   "metadata": {
    "ExecuteTime": {
     "end_time": "2023-04-19T09:23:44.009119Z",
     "start_time": "2023-04-19T09:23:43.943092Z"
    },
    "pycharm": {
     "is_executing": true
    }
   },
   "outputs": [],
   "source": [
    "import warnings\n",
    "warnings.filterwarnings('ignore')"
   ]
  },
  {
   "cell_type": "code",
   "execution_count": 12,
   "id": "7cd21f2c",
   "metadata": {
    "pycharm": {
     "is_executing": true
    }
   },
   "outputs": [],
   "source": [
    "from ocpa.objects.log.importer.ocel import factory as ocel_import_factory\n",
    "from ocpa.objects.log.importer.csv import factory as ocel_import_factory_csv\n",
    "from ocpa.algo.discovery.ocpn import algorithm as ocpn_discovery_factory\n",
    "from src.utils import get_happy_path_log, create_flower_model, generate_variant_model, sample_traces\n",
    "import numpy as np\n",
    "from tqdm import tqdm\n",
    "import random"
   ]
  },
  {
   "cell_type": "code",
   "execution_count": 13,
   "id": "8cd80041",
   "metadata": {},
   "outputs": [],
   "source": [
    "filename = \"../src/data/jsonocel/order_process.jsonocel\"\n",
    "ocel = ocel_import_factory.apply(filename)\n",
    "ocpn = ocpn_discovery_factory.apply(ocel, parameters={\"debug\": False})\n",
    "log = sample_traces(ocel, ocpn, 1000)"
   ]
  },
  {
   "cell_type": "code",
   "execution_count": 17,
   "id": "4a0779b7",
   "metadata": {},
   "outputs": [],
   "source": [
    "happy_path__ocel = get_happy_path_log(filename)\n",
    "happy_path_ocpn = ocpn_discovery_factory.apply(happy_path__ocel, parameters={\"debug\": False})\n",
    "log_happy = sample_traces(ocel, happy_path_ocpn, 5)"
   ]
  },
  {
   "cell_type": "code",
   "execution_count": 20,
   "id": "01c18723",
   "metadata": {},
   "outputs": [],
   "source": [
    "ots = [\"order\",\"item\",\"delivery\"]\n",
    "flower_ocpn = create_flower_model(filename,ots)\n",
    "log_flower = sample_traces(ocel, flower_ocpn, 5)"
   ]
  },
  {
   "cell_type": "code",
   "execution_count": 25,
   "id": "1161fde8",
   "metadata": {},
   "outputs": [
    {
     "name": "stderr",
     "output_type": "stream",
     "text": [
      "Generating Variant Models: 100%|██████████| 12/12 [00:01<00:00,  7.61it/s]\n",
      "Processing Variant Nets: 100%|██████████| 12/12 [00:00<00:00, 19988.74it/s]"
     ]
    },
    {
     "name": "stdout",
     "output_type": "stream",
     "text": [
      "#########Start generating Object-Centric Petri Net#########\n",
      "#########Finished generating Object-Centric Petri Net#########\n"
     ]
    },
    {
     "name": "stderr",
     "output_type": "stream",
     "text": [
      "\n"
     ]
    }
   ],
   "source": [
    "filename = \"../src/data/jsonocel/order_process.jsonocel\"\n",
    "ots = [\"order\",\"item\",\"delivery\"]\n",
    "ocel = ocel_import_factory.apply(filename)\n",
    "variant_ocpn = generate_variant_model(ocel,save_path_logs='../src/data/csv/order_process_variants/order_variant',object_types = ots )\n",
    "log_variant = sample_traces(ocel, variant_ocpn, 20)"
   ]
  },
  {
   "cell_type": "markdown",
   "id": "2f5acca2",
   "metadata": {},
   "source": [
    "# O2C Log"
   ]
  },
  {
   "cell_type": "markdown",
   "id": "79f9f1b6",
   "metadata": {},
   "source": [
    "### Standard Petri Net"
   ]
  },
  {
   "cell_type": "markdown",
   "id": "ea029b35",
   "metadata": {},
   "source": [
    "In a first step, we generate a sample from the object-centric petri net."
   ]
  },
  {
   "cell_type": "code",
   "execution_count": 29,
   "id": "24e6f796",
   "metadata": {
    "scrolled": true
   },
   "outputs": [
    {
     "name": "stderr",
     "output_type": "stream",
     "text": [
      "Check the arcs: 100%|██████████| 46/46 [00:00<00:00, 43259.64it/s]\n",
      "Generate the traces: 100%|██████████| 5/5 [00:00<00:00, 1663.61it/s]\n"
     ]
    }
   ],
   "source": [
    "filename = \"../src/data/jsonocel/order_process.jsonocel\"\n",
    "ocel = ocel_import_factory.apply(filename)\n",
    "ocpn = ocpn_discovery_factory.apply(ocel, parameters={\"debug\": False})\n",
    "log = sample_traces(ocel, ocpn, 5)"
   ]
  },
  {
   "cell_type": "code",
   "execution_count": 30,
   "id": "73bdf014",
   "metadata": {},
   "outputs": [
    {
     "data": {
      "text/plain": [
       "[['Place Order',\n",
       "  'Fuel Car',\n",
       "  'Confirm Order',\n",
       "  'Payment Reminder',\n",
       "  'Pick Item',\n",
       "  'Pay Order',\n",
       "  'Item out of stock',\n",
       "  'Reorder Item',\n",
       "  'Pick Item',\n",
       "  'Load Cargo',\n",
       "  'Start Route',\n",
       "  'End Route'],\n",
       " ['Place Order',\n",
       "  'Confirm Order',\n",
       "  'Payment Reminder',\n",
       "  'Payment Reminder',\n",
       "  'Pick Item',\n",
       "  'Pay Order',\n",
       "  'Load Cargo',\n",
       "  'Item out of stock',\n",
       "  'Fuel Car',\n",
       "  'Start Route',\n",
       "  'End Route'],\n",
       " ['Fuel Car',\n",
       "  'Place Order',\n",
       "  'Confirm Order',\n",
       "  'Pick Item',\n",
       "  'Load Cargo',\n",
       "  'Payment Reminder',\n",
       "  'Item out of stock',\n",
       "  'Pay Order',\n",
       "  'Reorder Item',\n",
       "  'Start Route',\n",
       "  'Pick Item',\n",
       "  'Load Cargo',\n",
       "  'End Route'],\n",
       " ['Fuel Car',\n",
       "  'Place Order',\n",
       "  'Confirm Order',\n",
       "  'Item out of stock',\n",
       "  'Pay Order',\n",
       "  'Pick Item',\n",
       "  'Reorder Item',\n",
       "  'Load Cargo',\n",
       "  'Pick Item',\n",
       "  'Start Route',\n",
       "  'End Route'],\n",
       " ['Place Order',\n",
       "  'Fuel Car',\n",
       "  'Confirm Order',\n",
       "  'Item out of stock',\n",
       "  'Pay Order',\n",
       "  'Reorder Item',\n",
       "  'Pick Item',\n",
       "  'Load Cargo',\n",
       "  'Start Route',\n",
       "  'End Route']]"
      ]
     },
     "execution_count": 30,
     "metadata": {},
     "output_type": "execute_result"
    }
   ],
   "source": [
    "log"
   ]
  },
  {
   "cell_type": "code",
   "execution_count": 32,
   "id": "11f6e632",
   "metadata": {},
   "outputs": [],
   "source": [
    "# Adapt the log such that each trace is only one complete string separated by commas\n",
    "activity_strings = [', '.join(trace) for trace in log]"
   ]
  },
  {
   "cell_type": "code",
   "execution_count": 33,
   "id": "ab9cdd61",
   "metadata": {},
   "outputs": [
    {
     "data": {
      "text/plain": [
       "['Place Order, Fuel Car, Confirm Order, Payment Reminder, Pick Item, Pay Order, Item out of stock, Reorder Item, Pick Item, Load Cargo, Start Route, End Route',\n",
       " 'Place Order, Confirm Order, Payment Reminder, Payment Reminder, Pick Item, Pay Order, Load Cargo, Item out of stock, Fuel Car, Start Route, End Route',\n",
       " 'Fuel Car, Place Order, Confirm Order, Pick Item, Load Cargo, Payment Reminder, Item out of stock, Pay Order, Reorder Item, Start Route, Pick Item, Load Cargo, End Route',\n",
       " 'Fuel Car, Place Order, Confirm Order, Item out of stock, Pay Order, Pick Item, Reorder Item, Load Cargo, Pick Item, Start Route, End Route',\n",
       " 'Place Order, Fuel Car, Confirm Order, Item out of stock, Pay Order, Reorder Item, Pick Item, Load Cargo, Start Route, End Route']"
      ]
     },
     "execution_count": 33,
     "metadata": {},
     "output_type": "execute_result"
    }
   ],
   "source": [
    "activity_strings"
   ]
  },
  {
   "cell_type": "code",
   "execution_count": null,
   "id": "cd41f917",
   "metadata": {},
   "outputs": [],
   "source": []
  },
  {
   "cell_type": "code",
   "execution_count": null,
   "id": "603f29e2",
   "metadata": {},
   "outputs": [],
   "source": []
  },
  {
   "cell_type": "code",
   "execution_count": null,
   "id": "4f228e23",
   "metadata": {},
   "outputs": [],
   "source": []
  }
 ],
 "metadata": {
  "kernelspec": {
   "display_name": "Python 3 (ipykernel)",
   "language": "python",
   "name": "python3"
  },
  "language_info": {
   "codemirror_mode": {
    "name": "ipython",
    "version": 3
   },
   "file_extension": ".py",
   "mimetype": "text/x-python",
   "name": "python",
   "nbconvert_exporter": "python",
   "pygments_lexer": "ipython3",
   "version": "3.8.6"
  }
 },
 "nbformat": 4,
 "nbformat_minor": 5
}
