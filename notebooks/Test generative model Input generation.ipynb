{
 "cells": [
  {
   "cell_type": "markdown",
   "id": "3629febf",
   "metadata": {},
   "source": [
    "# Test Avatar Input Generation"
   ]
  },
  {
   "cell_type": "code",
   "execution_count": 1,
   "id": "c9aeff9a",
   "metadata": {
    "ExecuteTime": {
     "end_time": "2023-05-02T15:36:08.153294Z",
     "start_time": "2023-05-02T15:36:07.998517Z"
    }
   },
   "outputs": [],
   "source": [
    "import warnings\n",
    "warnings.filterwarnings('ignore')"
   ]
  },
  {
   "cell_type": "code",
   "execution_count": 2,
   "id": "7cd21f2c",
   "metadata": {
    "pycharm": {
     "is_executing": true
    }
   },
   "outputs": [],
   "source": [
    "from ocpa.objects.log.importer.ocel import factory as ocel_import_factory\n",
    "from ocpa.objects.log.importer.csv import factory as ocel_import_factory_csv\n",
    "from ocpa.algo.discovery.ocpn import algorithm as ocpn_discovery_factory\n",
    "from src.utils import get_happy_path_log, create_flower_model, generate_variant_model, sample_traces\n",
    "import numpy as np\n",
    "from tqdm import tqdm\n",
    "import random"
   ]
  },
  {
   "cell_type": "code",
   "execution_count": 8,
   "id": "8cd80041",
   "metadata": {},
   "outputs": [
    {
     "name": "stderr",
     "output_type": "stream",
     "text": [
      "Check the arcs: 100%|██████████| 46/46 [00:00<00:00, 45557.97it/s]\n",
      "Generate the traces: 100%|██████████| 1000/1000 [00:00<00:00, 20007.17it/s]\n"
     ]
    }
   ],
   "source": [
    "filename = \"../src/data/jsonocel/order_process.jsonocel\"\n",
    "ocel = ocel_import_factory.apply(filename)\n",
    "ocpn = ocpn_discovery_factory.apply(ocel, parameters={\"debug\": False})\n",
    "log = sample_traces(ocel, ocpn, 1000)"
   ]
  },
  {
   "cell_type": "code",
   "execution_count": 9,
   "id": "4a0779b7",
   "metadata": {},
   "outputs": [
    {
     "name": "stderr",
     "output_type": "stream",
     "text": [
      "Check the arcs: 100%|██████████| 26/26 [00:00<?, ?it/s]\n",
      "Generate the traces: 100%|██████████| 1000/1000 [00:00<00:00, 28474.76it/s]\n"
     ]
    }
   ],
   "source": [
    "happy_path__ocel = get_happy_path_log(filename)\n",
    "happy_path_ocpn = ocpn_discovery_factory.apply(happy_path__ocel, parameters={\"debug\": False})\n",
    "log_happy = sample_traces(ocel, happy_path_ocpn, 1000)"
   ]
  },
  {
   "cell_type": "code",
   "execution_count": 10,
   "id": "01c18723",
   "metadata": {},
   "outputs": [
    {
     "name": "stderr",
     "output_type": "stream",
     "text": [
      "Check the arcs: 100%|██████████| 32/32 [00:00<00:00, 33197.56it/s]\n",
      "Generate the traces: 100%|██████████| 1000/1000 [00:01<00:00, 725.67it/s]\n"
     ]
    }
   ],
   "source": [
    "ots = [\"order\",\"item\",\"delivery\"]\n",
    "flower_ocpn = create_flower_model(filename,ots)\n",
    "log_flower = sample_traces(ocel, flower_ocpn, 1000)"
   ]
  },
  {
   "cell_type": "code",
   "execution_count": 11,
   "id": "1161fde8",
   "metadata": {},
   "outputs": [
    {
     "name": "stderr",
     "output_type": "stream",
     "text": [
      "Generating Variant Models: 100%|██████████| 12/12 [00:01<00:00,  7.70it/s]\n",
      "Processing Variant Nets: 100%|██████████| 12/12 [00:00<00:00, 11969.48it/s]\n"
     ]
    },
    {
     "name": "stdout",
     "output_type": "stream",
     "text": [
      "#########Start generating Object-Centric Petri Net#########\n",
      "#########Finished generating Object-Centric Petri Net#########\n"
     ]
    },
    {
     "name": "stderr",
     "output_type": "stream",
     "text": [
      "Check the arcs: 100%|██████████| 378/378 [00:00<00:00, 17068.56it/s]\n",
      "Generate the traces: 100%|██████████| 20/20 [00:00<00:00, 930.15it/s]\n"
     ]
    }
   ],
   "source": [
    "filename = \"../src/data/jsonocel/order_process.jsonocel\"\n",
    "ots = [\"order\",\"item\",\"delivery\"]\n",
    "ocel = ocel_import_factory.apply(filename)\n",
    "variant_ocpn = generate_variant_model(ocel,save_path_logs='../src/data/csv/order_process_variants/order_variant',object_types = ots )\n",
    "log_variant = sample_traces(ocel, variant_ocpn, 20)"
   ]
  },
  {
   "cell_type": "markdown",
   "id": "2f5acca2",
   "metadata": {},
   "source": [
    "# O2C Log"
   ]
  },
  {
   "cell_type": "markdown",
   "id": "79f9f1b6",
   "metadata": {},
   "source": [
    "### Standard Petri Net"
   ]
  },
  {
   "cell_type": "markdown",
   "id": "ea029b35",
   "metadata": {},
   "source": [
    "In a first step, we generate a sample from the object-centric petri net."
   ]
  },
  {
   "cell_type": "code",
   "execution_count": 14,
   "id": "24e6f796",
   "metadata": {
    "scrolled": true
   },
   "outputs": [
    {
     "name": "stderr",
     "output_type": "stream",
     "text": [
      "Check the arcs: 100%|██████████| 46/46 [00:00<00:00, 88503.66it/s]\n",
      "Generate the traces: 100%|██████████| 1000/1000 [00:00<00:00, 25439.76it/s]\n"
     ]
    }
   ],
   "source": [
    "filename = \"../src/data/jsonocel/order_process.jsonocel\"\n",
    "ocel = ocel_import_factory.apply(filename)\n",
    "ocpn = ocpn_discovery_factory.apply(ocel, parameters={\"debug\": False})\n",
    "log = sample_traces(ocel, ocpn, 1000)"
   ]
  },
  {
   "cell_type": "code",
   "execution_count": 15,
   "id": "4f228e23",
   "metadata": {},
   "outputs": [
    {
     "name": "stderr",
     "output_type": "stream",
     "text": [
      "Check the arcs: 100%|██████████| 26/26 [00:00<00:00, 33056.05it/s]\n",
      "Generate the traces: 100%|██████████| 1000/1000 [00:00<00:00, 37635.30it/s]\n"
     ]
    }
   ],
   "source": [
    "happy_path__ocel = get_happy_path_log(filename)\n",
    "happy_path_ocpn = ocpn_discovery_factory.apply(happy_path__ocel, parameters={\"debug\": False})\n",
    "log_happy = sample_traces(ocel, happy_path_ocpn, 1000)"
   ]
  },
  {
   "cell_type": "code",
   "execution_count": 16,
   "id": "c20575f8",
   "metadata": {},
   "outputs": [
    {
     "name": "stderr",
     "output_type": "stream",
     "text": [
      "Check the arcs: 100%|██████████| 32/32 [00:00<00:00, 32009.95it/s]\n",
      "Generate the traces: 100%|██████████| 1000/1000 [00:01<00:00, 666.01it/s]\n"
     ]
    }
   ],
   "source": [
    "ots = [\"order\",\"item\",\"delivery\"]\n",
    "flower_ocpn = create_flower_model(filename,ots)\n",
    "log_flower = sample_traces(ocel, flower_ocpn, 1000)"
   ]
  },
  {
   "cell_type": "code",
   "execution_count": 17,
   "id": "96cbdd95",
   "metadata": {},
   "outputs": [
    {
     "name": "stderr",
     "output_type": "stream",
     "text": [
      "Generating Variant Models: 100%|██████████| 12/12 [00:01<00:00,  7.01it/s]\n",
      "Processing Variant Nets: 100%|██████████| 12/12 [00:00<00:00, 11941.08it/s]\n"
     ]
    },
    {
     "name": "stdout",
     "output_type": "stream",
     "text": [
      "#########Start generating Object-Centric Petri Net#########\n",
      "#########Finished generating Object-Centric Petri Net#########\n"
     ]
    },
    {
     "name": "stderr",
     "output_type": "stream",
     "text": [
      "Check the arcs: 100%|██████████| 378/378 [00:00<00:00, 28846.24it/s]\n",
      "Generate the traces: 100%|██████████| 20/20 [00:00<00:00, 959.94it/s]\n"
     ]
    }
   ],
   "source": [
    "filename = \"../src/data/jsonocel/order_process.jsonocel\"\n",
    "ots = [\"order\",\"item\",\"delivery\"]\n",
    "ocel = ocel_import_factory.apply(filename)\n",
    "variant_ocpn = generate_variant_model(ocel,save_path_logs='../src/data/csv/order_process_variants/order_variant',object_types = ots,save_path_visuals=f\"../reports/figures/order_variant_total.svg\" )\n",
    "log_variant = sample_traces(ocel, variant_ocpn, 20)"
   ]
  },
  {
   "cell_type": "code",
   "execution_count": null,
   "id": "d065b32f",
   "metadata": {},
   "outputs": [],
   "source": []
  }
 ],
 "metadata": {
  "kernelspec": {
   "display_name": "Python 3 (ipykernel)",
   "language": "python",
   "name": "python3"
  },
  "language_info": {
   "codemirror_mode": {
    "name": "ipython",
    "version": 3
   },
   "file_extension": ".py",
   "mimetype": "text/x-python",
   "name": "python",
   "nbconvert_exporter": "python",
   "pygments_lexer": "ipython3",
   "version": "3.8.6"
  }
 },
 "nbformat": 4,
 "nbformat_minor": 5
}
