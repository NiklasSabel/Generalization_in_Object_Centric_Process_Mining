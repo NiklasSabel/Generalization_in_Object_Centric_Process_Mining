{
 "cells": [
  {
   "cell_type": "markdown",
   "id": "3629febf",
   "metadata": {},
   "source": [
    "# Process Models"
   ]
  },
  {
   "cell_type": "markdown",
   "id": "ad07bf88",
   "metadata": {},
   "source": [
    "In this notebook, we try to generate our first three different process models for our selected datasets such that we are able to use our metrics on different variations of the same log."
   ]
  },
  {
   "cell_type": "code",
   "execution_count": 1,
   "id": "c9aeff9a",
   "metadata": {},
   "outputs": [],
   "source": [
    "import warnings\n",
    "warnings.filterwarnings('ignore')"
   ]
  },
  {
   "cell_type": "code",
   "execution_count": 27,
   "id": "7cd21f2c",
   "metadata": {},
   "outputs": [],
   "source": [
    "from ocpa.visualization.log.variants import factory as variants_visualization_factory\n",
    "from src.utils import get_happy_path_log, save_process_model_visualization, create_flower_model\n",
    "from ocpa.objects.log.importer.ocel import factory as ocel_import_factory\n",
    "from ocpa.algo.discovery.ocpn import algorithm as ocpn_discovery_factory\n",
    "from ocpa.visualization.log.variants import factory as variants_visualization_factory\n",
    "from ocpa.algo.util.filtering.log.variant_filtering import filter_infrequent_variants\n",
    "import numpy as np"
   ]
  },
  {
   "cell_type": "markdown",
   "id": "d0d36a81",
   "metadata": {},
   "source": [
    "## P2P Happy Path Model"
   ]
  },
  {
   "cell_type": "code",
   "execution_count": 3,
   "id": "bfa789fa",
   "metadata": {},
   "outputs": [],
   "source": [
    "load_path = \"../src/data/jsonocel/p2p-normal.jsonocel\"\n",
    "save_path = \"../src/data/jsonocel/p2p-normal-happy-path.jsonocel\""
   ]
  },
  {
   "cell_type": "code",
   "execution_count": 4,
   "id": "1ccbe482",
   "metadata": {},
   "outputs": [],
   "source": [
    "ocel = get_happy_path_log(load_path, save_path)"
   ]
  },
  {
   "cell_type": "code",
   "execution_count": 5,
   "id": "09c27fb7",
   "metadata": {},
   "outputs": [
    {
     "name": "stdout",
     "output_type": "stream",
     "text": [
      "Number of process executions: 11\n",
      "Number of variants: 1\n",
      "([['Create Purchase Requisition', [[0, 0], [5, 10, 8, 6, 4, 3, 7]]], ['Create Purchase Order', [[1, 1], [5, 10, 8, 9, 6, 4, 3, 7]]], ['Receive Goods', [[2, 2], [5, 8, 9, 6, 4, 3, 7, 0]]], ['Issue Goods Receipt', [[3, 3], [5, 8, 9, 6, 4, 3, 7, 0]]], ['Verify Material', [[4, 4], [5, 8, 6, 4, 3, 7]]], ['Plan Goods Issue', [[5, 5], [5, 8, 6, 4, 3, 7]]], ['Receive Invoice', [[4, 4], [2, 1, 9]]], ['Goods Issue', [[6, 6], [5, 8, 6, 4, 3, 7]]], ['Clear Invoice', [[5, 5], [1, 9, 2, 0]]]], {0: ('GDSRCPT', 'GDSRCPT_1'), 1: ('INVOICE', 'INVOICE_1'), 2: ('INVOICE', 'INVOICE_2'), 3: ('MATERIAL', 'MATERIAL_1'), 4: ('MATERIAL', 'MATERIAL_2'), 5: ('MATERIAL', 'MATERIAL_3'), 6: ('MATERIAL', 'MATERIAL_4'), 7: ('MATERIAL', 'MATERIAL_5'), 8: ('MATERIAL', 'MATERIAL_6'), 9: ('PURCHORD', 'PURCHORD_1'), 10: ('PURCHREQ', 'PURCHREQ_1')})\n"
     ]
    }
   ],
   "source": [
    "print(\"Number of process executions: \"+str(len(ocel.process_executions)))\n",
    "print(\"Number of variants: \"+str(len(ocel.variants)))\n",
    "variant_layouting = variants_visualization_factory.apply(ocel)\n",
    "print(variant_layouting[ocel.variants[0]])"
   ]
  },
  {
   "cell_type": "code",
   "execution_count": 6,
   "id": "e48b6663",
   "metadata": {},
   "outputs": [],
   "source": [
    "save_process_model_visualization(ocel,\"../reports/figures/p2p-normal-happy-path.svg\" )"
   ]
  },
  {
   "cell_type": "markdown",
   "id": "46b16f87",
   "metadata": {},
   "source": [
    "## P2P Flower Model"
   ]
  },
  {
   "cell_type": "code",
   "execution_count": 3,
   "id": "a713fff3",
   "metadata": {},
   "outputs": [],
   "source": [
    "load_path = \"../src/data/jsonocel/p2p-normal.jsonocel\"\n",
    "save_path = \"../reports/figures/p2p-normal-flower-model.svg\""
   ]
  },
  {
   "cell_type": "code",
   "execution_count": 4,
   "id": "f558fb11",
   "metadata": {},
   "outputs": [],
   "source": [
    "ots = [\"PURCHORD\",\"INVOICE\",\"PURCHREQ\",\"MATERIAL\",\"GDSRCPT\"]"
   ]
  },
  {
   "cell_type": "code",
   "execution_count": 5,
   "id": "789ca67e",
   "metadata": {},
   "outputs": [],
   "source": [
    "flower_ocpn = create_flower_model(load_path,ots,save_path)"
   ]
  },
  {
   "cell_type": "code",
   "execution_count": 6,
   "id": "a40c7485",
   "metadata": {},
   "outputs": [
    {
     "data": {
      "text/plain": [
       "<ocpa.objects.oc_petri_net.obj.ObjectCentricPetriNet at 0x25ef85d4fa0>"
      ]
     },
     "execution_count": 6,
     "metadata": {},
     "output_type": "execute_result"
    }
   ],
   "source": [
    "flower_ocpn"
   ]
  },
  {
   "cell_type": "markdown",
   "id": "eb3c38f0",
   "metadata": {},
   "source": [
    "## O2C Happy Path Model"
   ]
  },
  {
   "cell_type": "code",
   "execution_count": 7,
   "id": "d704852d",
   "metadata": {},
   "outputs": [],
   "source": [
    "load_path = \"../src/data/jsonocel/order_process.jsonocel\"\n",
    "save_path = \"../src/data/jsonocel/order_process_happy_path.jsonocel\""
   ]
  },
  {
   "cell_type": "code",
   "execution_count": 8,
   "id": "383c696b",
   "metadata": {},
   "outputs": [],
   "source": [
    "ocel = get_happy_path_log(load_path, save_path)"
   ]
  },
  {
   "cell_type": "code",
   "execution_count": 9,
   "id": "ab3c96c2",
   "metadata": {},
   "outputs": [
    {
     "name": "stdout",
     "output_type": "stream",
     "text": [
      "Number of process executions: 15\n",
      "Number of variants: 1\n",
      "([['Place Order', [[0, 0], [1, 3, 2]]], ['Confirm Order', [[1, 1], [1, 3, 2]]], ['Pick Item', [[2, 2], [2]]], ['Pick Item', [[2, 2], [1]]], ['Pay Order', [[2, 2], [3]]], ['Start Route', [[5, 5], [1, 0, 2]]], ['End Route', [[6, 6], [1, 0, 2]]], ['Fuel Car', [[4, 4], [0]]], ['Load Cargo', [[3, 3], [1, 0, 2]]]], {0: ('delivery', 'delivery_1'), 1: ('item', 'item_1'), 2: ('item', 'item_2'), 3: ('order', 'order_1')})\n"
     ]
    }
   ],
   "source": [
    "print(\"Number of process executions: \"+str(len(ocel.process_executions)))\n",
    "print(\"Number of variants: \"+str(len(ocel.variants)))\n",
    "variant_layouting = variants_visualization_factory.apply(ocel)\n",
    "print(variant_layouting[ocel.variants[0]])"
   ]
  },
  {
   "cell_type": "code",
   "execution_count": 10,
   "id": "18ee3ce4",
   "metadata": {},
   "outputs": [],
   "source": [
    "save_process_model_visualization(ocel,\"../reports/figures/order_process_happy_path.svg\" )"
   ]
  },
  {
   "cell_type": "markdown",
   "id": "3fd00b8a",
   "metadata": {},
   "source": [
    "## O2C Flower Model"
   ]
  },
  {
   "cell_type": "code",
   "execution_count": 7,
   "id": "2bb6e303",
   "metadata": {},
   "outputs": [],
   "source": [
    "load_path = \"../src/data/jsonocel/order_process.jsonocel\"\n",
    "save_path = \"../reports/figures/order_process-flower-model.svg\" "
   ]
  },
  {
   "cell_type": "code",
   "execution_count": 8,
   "id": "81923764",
   "metadata": {},
   "outputs": [],
   "source": [
    "ots = [\"order\",\"item\",\"delivery\"]"
   ]
  },
  {
   "cell_type": "code",
   "execution_count": 9,
   "id": "c0795138",
   "metadata": {},
   "outputs": [],
   "source": [
    "flower_ocpn = create_flower_model(load_path,ots,save_path)"
   ]
  },
  {
   "cell_type": "code",
   "execution_count": 10,
   "id": "85ea4b9f",
   "metadata": {},
   "outputs": [
    {
     "data": {
      "text/plain": [
       "<ocpa.objects.oc_petri_net.obj.ObjectCentricPetriNet at 0x25ef87b4400>"
      ]
     },
     "execution_count": 10,
     "metadata": {},
     "output_type": "execute_result"
    }
   ],
   "source": [
    "flower_ocpn"
   ]
  },
  {
   "cell_type": "markdown",
   "id": "576cac4e",
   "metadata": {},
   "source": [
    "## BPI-Challenge 2017 Happy Path Model"
   ]
  },
  {
   "cell_type": "code",
   "execution_count": 11,
   "id": "299be774",
   "metadata": {},
   "outputs": [],
   "source": [
    "load_path = \"../src/data/jsonocel/BPI2017-Final.jsonocel\"\n",
    "save_path = \"../src/data/jsonocel/BPI2017-Final-happy-path.jsonocel\""
   ]
  },
  {
   "cell_type": "code",
   "execution_count": 12,
   "id": "4a6a5095",
   "metadata": {},
   "outputs": [],
   "source": [
    "ocel = get_happy_path_log(load_path, save_path)"
   ]
  },
  {
   "cell_type": "code",
   "execution_count": 13,
   "id": "61e09b70",
   "metadata": {},
   "outputs": [
    {
     "name": "stdout",
     "output_type": "stream",
     "text": [
      "Number of process executions: 2162\n",
      "Number of variants: 1\n",
      "([['Create application', [[0, 0], [0]]], ['Submit', [[1, 1], [0]]], ['Complete', [[4, 4], [0]]], ['Accept', [[2, 2], [0]]], ['Create offer', [[3, 3], [0, 1]]], ['Send (mail and online)', [[4, 4], [1]]], ['Call', [[5, 5], [0, 1]]], ['Cancel application', [[6, 6], [0, 1]]], ['Cancel offer', [[7, 7], [0, 1]]]], {0: ('application', 'application_1'), 1: ('offer', 'offer_1')})\n"
     ]
    }
   ],
   "source": [
    "print(\"Number of process executions: \"+str(len(ocel.process_executions)))\n",
    "print(\"Number of variants: \"+str(len(ocel.variants)))\n",
    "variant_layouting = variants_visualization_factory.apply(ocel)\n",
    "print(variant_layouting[ocel.variants[0]])"
   ]
  },
  {
   "cell_type": "code",
   "execution_count": 14,
   "id": "5a26c8d3",
   "metadata": {},
   "outputs": [],
   "source": [
    "save_process_model_visualization(ocel,\"../reports/figures/BPI2017-Final-happy-path.svg\" )"
   ]
  },
  {
   "cell_type": "markdown",
   "id": "3712d14b",
   "metadata": {},
   "source": [
    "## BPI-Challenge 2017 Flower Model"
   ]
  },
  {
   "cell_type": "code",
   "execution_count": 11,
   "id": "e2d35e2d",
   "metadata": {},
   "outputs": [],
   "source": [
    "load_path = \"../src/data/jsonocel/BPI2017-Final.jsonocel\"\n",
    "save_path = \"../reports/figures/BPI2017-Final-flower-model.svg\""
   ]
  },
  {
   "cell_type": "code",
   "execution_count": 12,
   "id": "582e4985",
   "metadata": {},
   "outputs": [],
   "source": [
    "ots = [\"application\",\"offer\"]"
   ]
  },
  {
   "cell_type": "code",
   "execution_count": 13,
   "id": "57f08fc1",
   "metadata": {},
   "outputs": [],
   "source": [
    "flower_ocpn = create_flower_model(load_path,ots,save_path)"
   ]
  },
  {
   "cell_type": "code",
   "execution_count": 14,
   "id": "e77b3290",
   "metadata": {},
   "outputs": [
    {
     "data": {
      "text/plain": [
       "<ocpa.objects.oc_petri_net.obj.ObjectCentricPetriNet at 0x25e83746280>"
      ]
     },
     "execution_count": 14,
     "metadata": {},
     "output_type": "execute_result"
    }
   ],
   "source": [
    "flower_ocpn"
   ]
  },
  {
   "cell_type": "code",
   "execution_count": null,
   "id": "904fbf80",
   "metadata": {},
   "outputs": [],
   "source": []
  },
  {
   "cell_type": "code",
   "execution_count": null,
   "id": "609d045f",
   "metadata": {},
   "outputs": [],
   "source": []
  },
  {
   "cell_type": "markdown",
   "id": "ebf2db5c",
   "metadata": {},
   "source": [
    "# Further models"
   ]
  },
  {
   "cell_type": "code",
   "execution_count": 56,
   "id": "bbe485ef",
   "metadata": {},
   "outputs": [],
   "source": [
    "filename = \"../src/data/jsonocel/order_process.jsonocel\"\n",
    "ocel = ocel_import_factory.apply(filename)\n",
    "ocpn = ocpn_discovery_factory.apply(ocel, parameters={\"debug\": False})"
   ]
  },
  {
   "cell_type": "code",
   "execution_count": 57,
   "id": "0aa38f44",
   "metadata": {},
   "outputs": [
    {
     "data": {
      "text/plain": [
       "['f1c25cbfdfe557c69a3bb3f9e42e4a3b',\n",
       " 'e4e64b37eb1f8630c30a52929915220a',\n",
       " 'b5bea0f480eef15be9faebd77c4ce2ad',\n",
       " 'b7fe50bc12d7cc0037265eeef19786a0',\n",
       " 'ced9381e5ba90f25b6489d0af0d4e431',\n",
       " '5612d835e29bdf86df3ac5d7bd2e48f1',\n",
       " '5479da620fa4328191220709ec517b3b',\n",
       " 'edd415935c5d0aa0171ea1029949ffb6',\n",
       " '719236f225f38f0775d66ee24c52a471',\n",
       " 'e1116cdc4745967501449ebb0d1f2f4a',\n",
       " '87f89afef94c61aa0e108afecbef4376',\n",
       " '27ee43072ec2ed20a3680585e5196fb4']"
      ]
     },
     "execution_count": 57,
     "metadata": {},
     "output_type": "execute_result"
    }
   ],
   "source": [
    "ocel.variants"
   ]
  },
  {
   "cell_type": "code",
   "execution_count": 62,
   "id": "e2ca7153",
   "metadata": {},
   "outputs": [],
   "source": [
    "ocel_variant_logs = []\n",
    "ocpn_nets = []\n",
    "n = 0 # variable for number of variants\n",
    "for variant in ocel.variants:\n",
    "    filtered = ocel.log.log[ocel.log.log.event_variant.apply(lambda x: n in x)]\n",
    "    filtered.to_csv(f'../src/data/csv/order_variant{n}.csv')\n",
    "    filename = f\"../src/data/csv/order_variant{n}.csv\"\n",
    "    object_types = [\"order\",\"item\",\"delivery\"]\n",
    "    parameters = {\"obj_names\": object_types,\n",
    "              \"val_names\": [],\n",
    "              \"act_name\": \"event_activity\",\n",
    "              \"time_name\": \"event_timestamp\",\n",
    "              \"sep\": \",\"}\n",
    "    ocel_new = ocel_import_factory_csv.apply(file_path=filename, parameters=parameters)\n",
    "    ocpn_new = ocpn_discovery_factory.apply(ocel_new, parameters={\"debug\": False})\n",
    "    ocel_variant_logs.append(ocel_new)\n",
    "    ocpn_nets.append(ocpn_new)\n",
    "    n = n + 1"
   ]
  },
  {
   "cell_type": "code",
   "execution_count": 63,
   "id": "a441a22e",
   "metadata": {},
   "outputs": [
    {
     "name": "stdout",
     "output_type": "stream",
     "text": [
      "Number of process executions: 15\n",
      "Number of variants: 1\n",
      "Number of process executions: 7\n",
      "Number of variants: 1\n",
      "Number of process executions: 7\n",
      "Number of variants: 1\n",
      "Number of process executions: 6\n",
      "Number of variants: 1\n",
      "Number of process executions: 3\n",
      "Number of variants: 1\n",
      "Number of process executions: 2\n",
      "Number of variants: 1\n",
      "Number of process executions: 2\n",
      "Number of variants: 1\n",
      "Number of process executions: 2\n",
      "Number of variants: 1\n",
      "Number of process executions: 1\n",
      "Number of variants: 1\n",
      "Number of process executions: 1\n",
      "Number of variants: 1\n",
      "Number of process executions: 1\n",
      "Number of variants: 1\n",
      "Number of process executions: 1\n",
      "Number of variants: 1\n"
     ]
    }
   ],
   "source": [
    "for log in ocel_variant_logs:\n",
    "    print(\"Number of process executions: \"+str(len(log.process_executions)))\n",
    "    print(\"Number of variants: \"+str(len(log.variants)))"
   ]
  },
  {
   "cell_type": "code",
   "execution_count": 64,
   "id": "4989d3e4",
   "metadata": {},
   "outputs": [
    {
     "name": "stdout",
     "output_type": "stream",
     "text": [
      "Number of process executions: 48\n",
      "Number of variants: 12\n"
     ]
    }
   ],
   "source": [
    "print(\"Number of process executions: \"+str(len(ocel.process_executions)))\n",
    "print(\"Number of variants: \"+str(len(ocel.variants)))"
   ]
  },
  {
   "cell_type": "code",
   "execution_count": 51,
   "id": "e83ae56d",
   "metadata": {},
   "outputs": [
    {
     "data": {
      "text/plain": [
       "['T',\n",
       " '_AXIS_LEN',\n",
       " '_AXIS_ORDERS',\n",
       " '_AXIS_TO_AXIS_NUMBER',\n",
       " '_HANDLED_TYPES',\n",
       " '__abs__',\n",
       " '__add__',\n",
       " '__and__',\n",
       " '__annotations__',\n",
       " '__array__',\n",
       " '__array_priority__',\n",
       " '__array_ufunc__',\n",
       " '__array_wrap__',\n",
       " '__bool__',\n",
       " '__class__',\n",
       " '__contains__',\n",
       " '__copy__',\n",
       " '__dataframe__',\n",
       " '__deepcopy__',\n",
       " '__delattr__',\n",
       " '__delitem__',\n",
       " '__dict__',\n",
       " '__dir__',\n",
       " '__divmod__',\n",
       " '__doc__',\n",
       " '__eq__',\n",
       " '__finalize__',\n",
       " '__floordiv__',\n",
       " '__format__',\n",
       " '__ge__',\n",
       " '__getattr__',\n",
       " '__getattribute__',\n",
       " '__getitem__',\n",
       " '__getstate__',\n",
       " '__gt__',\n",
       " '__hash__',\n",
       " '__iadd__',\n",
       " '__iand__',\n",
       " '__ifloordiv__',\n",
       " '__imod__',\n",
       " '__imul__',\n",
       " '__init__',\n",
       " '__init_subclass__',\n",
       " '__invert__',\n",
       " '__ior__',\n",
       " '__ipow__',\n",
       " '__isub__',\n",
       " '__iter__',\n",
       " '__itruediv__',\n",
       " '__ixor__',\n",
       " '__le__',\n",
       " '__len__',\n",
       " '__lt__',\n",
       " '__matmul__',\n",
       " '__mod__',\n",
       " '__module__',\n",
       " '__mul__',\n",
       " '__ne__',\n",
       " '__neg__',\n",
       " '__new__',\n",
       " '__nonzero__',\n",
       " '__or__',\n",
       " '__pos__',\n",
       " '__pow__',\n",
       " '__radd__',\n",
       " '__rand__',\n",
       " '__rdivmod__',\n",
       " '__reduce__',\n",
       " '__reduce_ex__',\n",
       " '__repr__',\n",
       " '__rfloordiv__',\n",
       " '__rmatmul__',\n",
       " '__rmod__',\n",
       " '__rmul__',\n",
       " '__ror__',\n",
       " '__round__',\n",
       " '__rpow__',\n",
       " '__rsub__',\n",
       " '__rtruediv__',\n",
       " '__rxor__',\n",
       " '__setattr__',\n",
       " '__setitem__',\n",
       " '__setstate__',\n",
       " '__sizeof__',\n",
       " '__str__',\n",
       " '__sub__',\n",
       " '__subclasshook__',\n",
       " '__truediv__',\n",
       " '__weakref__',\n",
       " '__xor__',\n",
       " '_accessors',\n",
       " '_accum_func',\n",
       " '_add_numeric_operations',\n",
       " '_agg_by_level',\n",
       " '_agg_examples_doc',\n",
       " '_agg_summary_and_see_also_doc',\n",
       " '_align_frame',\n",
       " '_align_series',\n",
       " '_append',\n",
       " '_arith_method',\n",
       " '_as_manager',\n",
       " '_attrs',\n",
       " '_box_col_values',\n",
       " '_can_fast_transpose',\n",
       " '_check_inplace_and_allows_duplicate_labels',\n",
       " '_check_inplace_setting',\n",
       " '_check_is_chained_assignment_possible',\n",
       " '_check_label_or_level_ambiguity',\n",
       " '_check_setitem_copy',\n",
       " '_clear_item_cache',\n",
       " '_clip_with_one_bound',\n",
       " '_clip_with_scalar',\n",
       " '_cmp_method',\n",
       " '_combine_frame',\n",
       " '_consolidate',\n",
       " '_consolidate_inplace',\n",
       " '_construct_axes_dict',\n",
       " '_construct_axes_from_arguments',\n",
       " '_construct_result',\n",
       " '_constructor',\n",
       " '_constructor_sliced',\n",
       " '_convert',\n",
       " '_count_level',\n",
       " '_data',\n",
       " '_dir_additions',\n",
       " '_dir_deletions',\n",
       " '_dispatch_frame_op',\n",
       " '_drop_axis',\n",
       " '_drop_labels_or_levels',\n",
       " '_ensure_valid_index',\n",
       " '_find_valid_index',\n",
       " '_flags',\n",
       " '_from_arrays',\n",
       " '_get_agg_axis',\n",
       " '_get_axis',\n",
       " '_get_axis_name',\n",
       " '_get_axis_number',\n",
       " '_get_axis_resolvers',\n",
       " '_get_block_manager_axis',\n",
       " '_get_bool_data',\n",
       " '_get_cleaned_column_resolvers',\n",
       " '_get_column_array',\n",
       " '_get_index_resolvers',\n",
       " '_get_item_cache',\n",
       " '_get_label_or_level_values',\n",
       " '_get_numeric_data',\n",
       " '_get_value',\n",
       " '_getitem_bool_array',\n",
       " '_getitem_multilevel',\n",
       " '_gotitem',\n",
       " '_hidden_attrs',\n",
       " '_indexed_same',\n",
       " '_info_axis',\n",
       " '_info_axis_name',\n",
       " '_info_axis_number',\n",
       " '_info_repr',\n",
       " '_init_mgr',\n",
       " '_inplace_method',\n",
       " '_internal_names',\n",
       " '_internal_names_set',\n",
       " '_is_copy',\n",
       " '_is_homogeneous_type',\n",
       " '_is_label_or_level_reference',\n",
       " '_is_label_reference',\n",
       " '_is_level_reference',\n",
       " '_is_mixed_type',\n",
       " '_is_view',\n",
       " '_iset_item',\n",
       " '_iset_item_mgr',\n",
       " '_iset_not_inplace',\n",
       " '_item_cache',\n",
       " '_iter_column_arrays',\n",
       " '_ixs',\n",
       " '_join_compat',\n",
       " '_logical_func',\n",
       " '_logical_method',\n",
       " '_maybe_cache_changed',\n",
       " '_maybe_update_cacher',\n",
       " '_metadata',\n",
       " '_mgr',\n",
       " '_min_count_stat_function',\n",
       " '_needs_reindex_multi',\n",
       " '_protect_consolidate',\n",
       " '_reduce',\n",
       " '_reduce_axis1',\n",
       " '_reindex_axes',\n",
       " '_reindex_columns',\n",
       " '_reindex_index',\n",
       " '_reindex_multi',\n",
       " '_reindex_with_indexers',\n",
       " '_rename',\n",
       " '_replace_columnwise',\n",
       " '_repr_data_resource_',\n",
       " '_repr_fits_horizontal_',\n",
       " '_repr_fits_vertical_',\n",
       " '_repr_html_',\n",
       " '_repr_latex_',\n",
       " '_reset_cache',\n",
       " '_reset_cacher',\n",
       " '_sanitize_column',\n",
       " '_series',\n",
       " '_set_axis',\n",
       " '_set_axis_name',\n",
       " '_set_axis_nocheck',\n",
       " '_set_is_copy',\n",
       " '_set_item',\n",
       " '_set_item_frame_value',\n",
       " '_set_item_mgr',\n",
       " '_set_value',\n",
       " '_setitem_array',\n",
       " '_setitem_frame',\n",
       " '_setitem_slice',\n",
       " '_slice',\n",
       " '_stat_axis',\n",
       " '_stat_axis_name',\n",
       " '_stat_axis_number',\n",
       " '_stat_function',\n",
       " '_stat_function_ddof',\n",
       " '_take',\n",
       " '_take_with_is_copy',\n",
       " '_to_dict_of_blocks',\n",
       " '_typ',\n",
       " '_update_inplace',\n",
       " '_validate_dtype',\n",
       " '_values',\n",
       " '_where',\n",
       " 'abs',\n",
       " 'add',\n",
       " 'add_prefix',\n",
       " 'add_suffix',\n",
       " 'agg',\n",
       " 'aggregate',\n",
       " 'align',\n",
       " 'all',\n",
       " 'any',\n",
       " 'append',\n",
       " 'apply',\n",
       " 'applymap',\n",
       " 'asfreq',\n",
       " 'asof',\n",
       " 'assign',\n",
       " 'astype',\n",
       " 'at',\n",
       " 'at_time',\n",
       " 'attrs',\n",
       " 'axes',\n",
       " 'backfill',\n",
       " 'between_time',\n",
       " 'bfill',\n",
       " 'bool',\n",
       " 'boxplot',\n",
       " 'clip',\n",
       " 'columns',\n",
       " 'combine',\n",
       " 'combine_first',\n",
       " 'compare',\n",
       " 'convert_dtypes',\n",
       " 'copy',\n",
       " 'corr',\n",
       " 'corrwith',\n",
       " 'count',\n",
       " 'cov',\n",
       " 'cummax',\n",
       " 'cummin',\n",
       " 'cumprod',\n",
       " 'cumsum',\n",
       " 'delivery',\n",
       " 'describe',\n",
       " 'diff',\n",
       " 'div',\n",
       " 'divide',\n",
       " 'dot',\n",
       " 'drop',\n",
       " 'drop_duplicates',\n",
       " 'droplevel',\n",
       " 'dropna',\n",
       " 'dtypes',\n",
       " 'duplicated',\n",
       " 'empty',\n",
       " 'eq',\n",
       " 'equals',\n",
       " 'eval',\n",
       " 'event_activity',\n",
       " 'event_id',\n",
       " 'event_index',\n",
       " 'event_start_timestamp',\n",
       " 'event_timestamp',\n",
       " 'event_variant',\n",
       " 'ewm',\n",
       " 'expanding',\n",
       " 'explode',\n",
       " 'ffill',\n",
       " 'fillna',\n",
       " 'filter',\n",
       " 'first',\n",
       " 'first_valid_index',\n",
       " 'flags',\n",
       " 'floordiv',\n",
       " 'from_dict',\n",
       " 'from_records',\n",
       " 'ge',\n",
       " 'get',\n",
       " 'groupby',\n",
       " 'gt',\n",
       " 'head',\n",
       " 'hist',\n",
       " 'iat',\n",
       " 'idxmax',\n",
       " 'idxmin',\n",
       " 'iloc',\n",
       " 'index',\n",
       " 'infer_objects',\n",
       " 'info',\n",
       " 'insert',\n",
       " 'interpolate',\n",
       " 'isetitem',\n",
       " 'isin',\n",
       " 'isna',\n",
       " 'isnull',\n",
       " 'item',\n",
       " 'items',\n",
       " 'iteritems',\n",
       " 'iterrows',\n",
       " 'itertuples',\n",
       " 'join',\n",
       " 'keys',\n",
       " 'kurt',\n",
       " 'kurtosis',\n",
       " 'last',\n",
       " 'last_valid_index',\n",
       " 'le',\n",
       " 'loc',\n",
       " 'lookup',\n",
       " 'lt',\n",
       " 'mad',\n",
       " 'mask',\n",
       " 'max',\n",
       " 'mean',\n",
       " 'median',\n",
       " 'melt',\n",
       " 'memory_usage',\n",
       " 'merge',\n",
       " 'min',\n",
       " 'mod',\n",
       " 'mode',\n",
       " 'mul',\n",
       " 'multiply',\n",
       " 'ndim',\n",
       " 'ne',\n",
       " 'nlargest',\n",
       " 'notna',\n",
       " 'notnull',\n",
       " 'nsmallest',\n",
       " 'nunique',\n",
       " 'order',\n",
       " 'pad',\n",
       " 'pct_change',\n",
       " 'pipe',\n",
       " 'pivot',\n",
       " 'pivot_table',\n",
       " 'plot',\n",
       " 'pop',\n",
       " 'pow',\n",
       " 'prod',\n",
       " 'product',\n",
       " 'quantile',\n",
       " 'query',\n",
       " 'radd',\n",
       " 'rank',\n",
       " 'rdiv',\n",
       " 'reindex',\n",
       " 'reindex_like',\n",
       " 'rename',\n",
       " 'rename_axis',\n",
       " 'reorder_levels',\n",
       " 'replace',\n",
       " 'resample',\n",
       " 'reset_index',\n",
       " 'rfloordiv',\n",
       " 'rmod',\n",
       " 'rmul',\n",
       " 'rolling',\n",
       " 'round',\n",
       " 'rpow',\n",
       " 'rsub',\n",
       " 'rtruediv',\n",
       " 'sample',\n",
       " 'select_dtypes',\n",
       " 'sem',\n",
       " 'set_axis',\n",
       " 'set_flags',\n",
       " 'set_index',\n",
       " 'shape',\n",
       " 'shift',\n",
       " 'size',\n",
       " 'skew',\n",
       " 'slice_shift',\n",
       " 'sort_index',\n",
       " 'sort_values',\n",
       " 'squeeze',\n",
       " 'stack',\n",
       " 'std',\n",
       " 'style',\n",
       " 'sub',\n",
       " 'subtract',\n",
       " 'sum',\n",
       " 'swapaxes',\n",
       " 'swaplevel',\n",
       " 'tail',\n",
       " 'take',\n",
       " 'to_clipboard',\n",
       " 'to_csv',\n",
       " 'to_dict',\n",
       " 'to_excel',\n",
       " 'to_feather',\n",
       " 'to_gbq',\n",
       " 'to_hdf',\n",
       " 'to_html',\n",
       " 'to_json',\n",
       " 'to_latex',\n",
       " 'to_markdown',\n",
       " 'to_numpy',\n",
       " 'to_orc',\n",
       " 'to_parquet',\n",
       " 'to_period',\n",
       " 'to_pickle',\n",
       " 'to_records',\n",
       " 'to_sql',\n",
       " 'to_stata',\n",
       " 'to_string',\n",
       " 'to_timestamp',\n",
       " 'to_xarray',\n",
       " 'to_xml',\n",
       " 'transform',\n",
       " 'transpose',\n",
       " 'truediv',\n",
       " 'truncate',\n",
       " 'tz_convert',\n",
       " 'tz_localize',\n",
       " 'unstack',\n",
       " 'update',\n",
       " 'value_counts',\n",
       " 'values',\n",
       " 'var',\n",
       " 'where',\n",
       " 'xs']"
      ]
     },
     "execution_count": 51,
     "metadata": {},
     "output_type": "execute_result"
    }
   ],
   "source": []
  },
  {
   "cell_type": "code",
   "execution_count": 40,
   "id": "cb70b79a",
   "metadata": {},
   "outputs": [
    {
     "data": {
      "text/plain": [
       "list"
      ]
     },
     "execution_count": 40,
     "metadata": {},
     "output_type": "execute_result"
    }
   ],
   "source": [
    "type(ocel.log.log.event_variant[0])"
   ]
  },
  {
   "cell_type": "code",
   "execution_count": 30,
   "id": "821c46e3",
   "metadata": {},
   "outputs": [
    {
     "name": "stdout",
     "output_type": "stream",
     "text": [
      "Number of process executions: 15\n",
      "Number of variants: 1\n",
      "([['Place Order', [[0, 0], [1, 2, 3]]], ['Confirm Order', [[1, 1], [1, 2, 3]]], ['Pick Item', [[2, 2], [2]]], ['Pick Item', [[2, 2], [1]]], ['Pay Order', [[2, 2], [3]]], ['Start Route', [[5, 5], [1, 0, 2]]], ['End Route', [[6, 6], [1, 0, 2]]], ['Fuel Car', [[4, 4], [0]]], ['Load Cargo', [[3, 3], [1, 2, 0]]]], {0: ('delivery', 'delivery_1'), 1: ('item', 'item_1'), 2: ('item', 'item_2'), 3: ('order', 'order_1')})\n"
     ]
    }
   ],
   "source": [
    "print(\"Number of process executions: \"+str(len(filtered.process_executions)))\n",
    "print(\"Number of variants: \"+str(len(filtered.variants)))\n",
    "variant_layouting = variants_visualization_factory.apply(filtered)\n",
    "print(variant_layouting[filtered.variants[0]])"
   ]
  },
  {
   "cell_type": "code",
   "execution_count": null,
   "id": "e3691237",
   "metadata": {},
   "outputs": [],
   "source": []
  }
 ],
 "metadata": {
  "kernelspec": {
   "display_name": "Python 3 (ipykernel)",
   "language": "python",
   "name": "python3"
  },
  "language_info": {
   "codemirror_mode": {
    "name": "ipython",
    "version": 3
   },
   "file_extension": ".py",
   "mimetype": "text/x-python",
   "name": "python",
   "nbconvert_exporter": "python",
   "pygments_lexer": "ipython3",
   "version": "3.8.6"
  }
 },
 "nbformat": 4,
 "nbformat_minor": 5
}
