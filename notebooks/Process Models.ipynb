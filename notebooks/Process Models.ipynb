{
 "cells": [
  {
   "cell_type": "markdown",
   "id": "3629febf",
   "metadata": {},
   "source": [
    "# Process Models"
   ]
  },
  {
   "cell_type": "markdown",
   "id": "ad07bf88",
   "metadata": {},
   "source": [
    "In this notebook, we try to generate our first three different process models for our selected datasets such that we are able to use our metrics on different variations of the same log."
   ]
  },
  {
   "cell_type": "code",
   "execution_count": 1,
   "id": "c9aeff9a",
   "metadata": {},
   "outputs": [],
   "source": [
    "import warnings\n",
    "warnings.filterwarnings('ignore')"
   ]
  },
  {
   "cell_type": "code",
   "execution_count": 2,
   "id": "7cd21f2c",
   "metadata": {},
   "outputs": [],
   "source": [
    "from ocpa.visualization.log.variants import factory as variants_visualization_factory\n",
    "from src.utils import get_happy_path_log, save_process_model_visualization, create_flower_model"
   ]
  },
  {
   "cell_type": "markdown",
   "id": "d0d36a81",
   "metadata": {},
   "source": [
    "## P2P Happy Path Model"
   ]
  },
  {
   "cell_type": "code",
   "execution_count": 3,
   "id": "bfa789fa",
   "metadata": {},
   "outputs": [],
   "source": [
    "load_path = \"../src/data/jsonocel/p2p-normal.jsonocel\"\n",
    "save_path = \"../src/data/jsonocel/p2p-normal-happy-path.jsonocel\""
   ]
  },
  {
   "cell_type": "code",
   "execution_count": 4,
   "id": "1ccbe482",
   "metadata": {},
   "outputs": [],
   "source": [
    "ocel = get_happy_path_log(load_path, save_path)"
   ]
  },
  {
   "cell_type": "code",
   "execution_count": 5,
   "id": "09c27fb7",
   "metadata": {},
   "outputs": [
    {
     "name": "stdout",
     "output_type": "stream",
     "text": [
      "Number of process executions: 11\n",
      "Number of variants: 1\n",
      "([['Create Purchase Requisition', [[0, 0], [5, 10, 8, 6, 4, 3, 7]]], ['Create Purchase Order', [[1, 1], [5, 10, 8, 9, 6, 4, 3, 7]]], ['Receive Goods', [[2, 2], [5, 8, 9, 6, 4, 3, 7, 0]]], ['Issue Goods Receipt', [[3, 3], [5, 8, 9, 6, 4, 3, 7, 0]]], ['Verify Material', [[4, 4], [5, 8, 6, 4, 3, 7]]], ['Plan Goods Issue', [[5, 5], [5, 8, 6, 4, 3, 7]]], ['Receive Invoice', [[4, 4], [2, 1, 9]]], ['Goods Issue', [[6, 6], [5, 8, 6, 4, 3, 7]]], ['Clear Invoice', [[5, 5], [1, 9, 2, 0]]]], {0: ('GDSRCPT', 'GDSRCPT_1'), 1: ('INVOICE', 'INVOICE_1'), 2: ('INVOICE', 'INVOICE_2'), 3: ('MATERIAL', 'MATERIAL_1'), 4: ('MATERIAL', 'MATERIAL_2'), 5: ('MATERIAL', 'MATERIAL_3'), 6: ('MATERIAL', 'MATERIAL_4'), 7: ('MATERIAL', 'MATERIAL_5'), 8: ('MATERIAL', 'MATERIAL_6'), 9: ('PURCHORD', 'PURCHORD_1'), 10: ('PURCHREQ', 'PURCHREQ_1')})\n"
     ]
    }
   ],
   "source": [
    "print(\"Number of process executions: \"+str(len(ocel.process_executions)))\n",
    "print(\"Number of variants: \"+str(len(ocel.variants)))\n",
    "variant_layouting = variants_visualization_factory.apply(ocel)\n",
    "print(variant_layouting[ocel.variants[0]])"
   ]
  },
  {
   "cell_type": "code",
   "execution_count": 6,
   "id": "e48b6663",
   "metadata": {},
   "outputs": [],
   "source": [
    "save_process_model_visualization(ocel,\"../reports/figures/p2p-normal-happy-path.svg\" )"
   ]
  },
  {
   "cell_type": "markdown",
   "id": "46b16f87",
   "metadata": {},
   "source": [
    "## P2P Flower Model"
   ]
  },
  {
   "cell_type": "code",
   "execution_count": 3,
   "id": "a713fff3",
   "metadata": {},
   "outputs": [],
   "source": [
    "load_path = \"../src/data/jsonocel/p2p-normal.jsonocel\"\n",
    "save_path = \"../reports/figures/p2p-normal-flower-model.svg\""
   ]
  },
  {
   "cell_type": "code",
   "execution_count": 4,
   "id": "f558fb11",
   "metadata": {},
   "outputs": [],
   "source": [
    "ots = [\"PURCHORD\",\"INVOICE\",\"PURCHREQ\",\"MATERIAL\",\"GDSRCPT\"]"
   ]
  },
  {
   "cell_type": "code",
   "execution_count": 5,
   "id": "789ca67e",
   "metadata": {},
   "outputs": [],
   "source": [
    "flower_ocpn = create_flower_model(load_path,ots,save_path)"
   ]
  },
  {
   "cell_type": "code",
   "execution_count": 6,
   "id": "a40c7485",
   "metadata": {},
   "outputs": [
    {
     "data": {
      "text/plain": [
       "<ocpa.objects.oc_petri_net.obj.ObjectCentricPetriNet at 0x25ef85d4fa0>"
      ]
     },
     "execution_count": 6,
     "metadata": {},
     "output_type": "execute_result"
    }
   ],
   "source": [
    "flower_ocpn"
   ]
  },
  {
   "cell_type": "markdown",
   "id": "eb3c38f0",
   "metadata": {},
   "source": [
    "## O2C Happy Path Model"
   ]
  },
  {
   "cell_type": "code",
   "execution_count": 7,
   "id": "d704852d",
   "metadata": {},
   "outputs": [],
   "source": [
    "load_path = \"../src/data/jsonocel/order_process.jsonocel\"\n",
    "save_path = \"../src/data/jsonocel/order_process_happy_path.jsonocel\""
   ]
  },
  {
   "cell_type": "code",
   "execution_count": 8,
   "id": "383c696b",
   "metadata": {},
   "outputs": [],
   "source": [
    "ocel = get_happy_path_log(load_path, save_path)"
   ]
  },
  {
   "cell_type": "code",
   "execution_count": 9,
   "id": "ab3c96c2",
   "metadata": {},
   "outputs": [
    {
     "name": "stdout",
     "output_type": "stream",
     "text": [
      "Number of process executions: 15\n",
      "Number of variants: 1\n",
      "([['Place Order', [[0, 0], [1, 3, 2]]], ['Confirm Order', [[1, 1], [1, 3, 2]]], ['Pick Item', [[2, 2], [2]]], ['Pick Item', [[2, 2], [1]]], ['Pay Order', [[2, 2], [3]]], ['Start Route', [[5, 5], [1, 0, 2]]], ['End Route', [[6, 6], [1, 0, 2]]], ['Fuel Car', [[4, 4], [0]]], ['Load Cargo', [[3, 3], [1, 0, 2]]]], {0: ('delivery', 'delivery_1'), 1: ('item', 'item_1'), 2: ('item', 'item_2'), 3: ('order', 'order_1')})\n"
     ]
    }
   ],
   "source": [
    "print(\"Number of process executions: \"+str(len(ocel.process_executions)))\n",
    "print(\"Number of variants: \"+str(len(ocel.variants)))\n",
    "variant_layouting = variants_visualization_factory.apply(ocel)\n",
    "print(variant_layouting[ocel.variants[0]])"
   ]
  },
  {
   "cell_type": "code",
   "execution_count": 10,
   "id": "18ee3ce4",
   "metadata": {},
   "outputs": [],
   "source": [
    "save_process_model_visualization(ocel,\"../reports/figures/order_process_happy_path.svg\" )"
   ]
  },
  {
   "cell_type": "markdown",
   "id": "3fd00b8a",
   "metadata": {},
   "source": [
    "## O2C Flower Model"
   ]
  },
  {
   "cell_type": "code",
   "execution_count": 7,
   "id": "2bb6e303",
   "metadata": {},
   "outputs": [],
   "source": [
    "load_path = \"../src/data/jsonocel/order_process.jsonocel\"\n",
    "save_path = \"../reports/figures/order_process-flower-model.svg\" "
   ]
  },
  {
   "cell_type": "code",
   "execution_count": 8,
   "id": "81923764",
   "metadata": {},
   "outputs": [],
   "source": [
    "ots = [\"order\",\"item\",\"delivery\"]"
   ]
  },
  {
   "cell_type": "code",
   "execution_count": 9,
   "id": "c0795138",
   "metadata": {},
   "outputs": [],
   "source": [
    "flower_ocpn = create_flower_model(load_path,ots,save_path)"
   ]
  },
  {
   "cell_type": "code",
   "execution_count": 10,
   "id": "85ea4b9f",
   "metadata": {},
   "outputs": [
    {
     "data": {
      "text/plain": [
       "<ocpa.objects.oc_petri_net.obj.ObjectCentricPetriNet at 0x25ef87b4400>"
      ]
     },
     "execution_count": 10,
     "metadata": {},
     "output_type": "execute_result"
    }
   ],
   "source": [
    "flower_ocpn"
   ]
  },
  {
   "cell_type": "markdown",
   "id": "576cac4e",
   "metadata": {},
   "source": [
    "## BPI-Challenge 2017 Happy Path Model"
   ]
  },
  {
   "cell_type": "code",
   "execution_count": 11,
   "id": "299be774",
   "metadata": {},
   "outputs": [],
   "source": [
    "load_path = \"../src/data/jsonocel/BPI2017-Final.jsonocel\"\n",
    "save_path = \"../src/data/jsonocel/BPI2017-Final-happy-path.jsonocel\""
   ]
  },
  {
   "cell_type": "code",
   "execution_count": 12,
   "id": "4a6a5095",
   "metadata": {},
   "outputs": [],
   "source": [
    "ocel = get_happy_path_log(load_path, save_path)"
   ]
  },
  {
   "cell_type": "code",
   "execution_count": 13,
   "id": "61e09b70",
   "metadata": {},
   "outputs": [
    {
     "name": "stdout",
     "output_type": "stream",
     "text": [
      "Number of process executions: 2162\n",
      "Number of variants: 1\n",
      "([['Create application', [[0, 0], [0]]], ['Submit', [[1, 1], [0]]], ['Complete', [[4, 4], [0]]], ['Accept', [[2, 2], [0]]], ['Create offer', [[3, 3], [0, 1]]], ['Send (mail and online)', [[4, 4], [1]]], ['Call', [[5, 5], [0, 1]]], ['Cancel application', [[6, 6], [0, 1]]], ['Cancel offer', [[7, 7], [0, 1]]]], {0: ('application', 'application_1'), 1: ('offer', 'offer_1')})\n"
     ]
    }
   ],
   "source": [
    "print(\"Number of process executions: \"+str(len(ocel.process_executions)))\n",
    "print(\"Number of variants: \"+str(len(ocel.variants)))\n",
    "variant_layouting = variants_visualization_factory.apply(ocel)\n",
    "print(variant_layouting[ocel.variants[0]])"
   ]
  },
  {
   "cell_type": "code",
   "execution_count": 14,
   "id": "5a26c8d3",
   "metadata": {},
   "outputs": [],
   "source": [
    "save_process_model_visualization(ocel,\"../reports/figures/BPI2017-Final-happy-path.svg\" )"
   ]
  },
  {
   "cell_type": "markdown",
   "id": "3712d14b",
   "metadata": {},
   "source": [
    "## BPI-Challenge 2017 Flower Model"
   ]
  },
  {
   "cell_type": "code",
   "execution_count": 11,
   "id": "e2d35e2d",
   "metadata": {},
   "outputs": [],
   "source": [
    "load_path = \"../src/data/jsonocel/BPI2017-Final.jsonocel\"\n",
    "save_path = \"../reports/figures/BPI2017-Final-flower-model.svg\""
   ]
  },
  {
   "cell_type": "code",
   "execution_count": 12,
   "id": "582e4985",
   "metadata": {},
   "outputs": [],
   "source": [
    "ots = [\"application\",\"offer\"]"
   ]
  },
  {
   "cell_type": "code",
   "execution_count": 13,
   "id": "57f08fc1",
   "metadata": {},
   "outputs": [],
   "source": [
    "flower_ocpn = create_flower_model(load_path,ots,save_path)"
   ]
  },
  {
   "cell_type": "code",
   "execution_count": 14,
   "id": "e77b3290",
   "metadata": {},
   "outputs": [
    {
     "data": {
      "text/plain": [
       "<ocpa.objects.oc_petri_net.obj.ObjectCentricPetriNet at 0x25e83746280>"
      ]
     },
     "execution_count": 14,
     "metadata": {},
     "output_type": "execute_result"
    }
   ],
   "source": [
    "flower_ocpn"
   ]
  }
 ],
 "metadata": {
  "kernelspec": {
   "display_name": "Python 3 (ipykernel)",
   "language": "python",
   "name": "python3"
  },
  "language_info": {
   "codemirror_mode": {
    "name": "ipython",
    "version": 3
   },
   "file_extension": ".py",
   "mimetype": "text/x-python",
   "name": "python",
   "nbconvert_exporter": "python",
   "pygments_lexer": "ipython3",
   "version": "3.8.6"
  }
 },
 "nbformat": 4,
 "nbformat_minor": 5
}