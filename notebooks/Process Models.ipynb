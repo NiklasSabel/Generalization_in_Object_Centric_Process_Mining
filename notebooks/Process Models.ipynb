{
 "cells": [
  {
   "cell_type": "markdown",
   "id": "3629febf",
   "metadata": {},
   "source": [
    "# Process Models"
   ]
  },
  {
   "cell_type": "markdown",
   "id": "ad07bf88",
   "metadata": {},
   "source": [
    "In this notebook, we try to generate our first three different process models for our selected datasets such that we are able to use our metrics on different variations of the same log."
   ]
  },
  {
   "cell_type": "code",
   "execution_count": 1,
   "id": "c9aeff9a",
   "metadata": {},
   "outputs": [],
   "source": [
    "import warnings\n",
    "warnings.filterwarnings('ignore')"
   ]
  },
  {
   "cell_type": "code",
   "execution_count": 2,
   "id": "7cd21f2c",
   "metadata": {},
   "outputs": [],
   "source": [
    "from ocpa.visualization.log.variants import factory as variants_visualization_factory\n",
    "from src.utils import get_happy_path_log, save_process_model_visualization, create_flower_model, generate_variant_model\n",
    "from ocpa.objects.log.importer.ocel import factory as ocel_import_factory\n",
    "from ocpa.algo.discovery.ocpn import algorithm as ocpn_discovery_factory\n",
    "from ocpa.visualization.log.variants import factory as variants_visualization_factory\n",
    "from ocpa.algo.util.filtering.log.variant_filtering import filter_infrequent_variants\n",
    "from ocpa.objects.log.importer.csv import factory as ocel_import_factory_csv\n",
    "from ocpa.objects.oc_petri_net.obj import ObjectCentricPetriNet\n",
    "from ocpa.visualization.oc_petri_net import factory as ocpn_vis_factory\n",
    "import numpy as np\n",
    "import re\n",
    "import os"
   ]
  },
  {
   "cell_type": "markdown",
   "id": "d0d36a81",
   "metadata": {},
   "source": [
    "## P2P Happy Path Model"
   ]
  },
  {
   "cell_type": "code",
   "execution_count": 3,
   "id": "bfa789fa",
   "metadata": {},
   "outputs": [],
   "source": [
    "load_path = \"../src/data/jsonocel/p2p-normal.jsonocel\"\n",
    "save_path = \"../src/data/jsonocel/p2p-normal-happy-path.jsonocel\""
   ]
  },
  {
   "cell_type": "code",
   "execution_count": 4,
   "id": "1ccbe482",
   "metadata": {},
   "outputs": [],
   "source": [
    "ocel = get_happy_path_log(load_path, save_path)"
   ]
  },
  {
   "cell_type": "code",
   "execution_count": 5,
   "id": "09c27fb7",
   "metadata": {},
   "outputs": [
    {
     "name": "stdout",
     "output_type": "stream",
     "text": [
      "Number of process executions: 11\n",
      "Number of variants: 1\n",
      "([['Create Purchase Requisition', [[0, 0], [5, 10, 8, 6, 4, 3, 7]]], ['Create Purchase Order', [[1, 1], [5, 10, 8, 9, 6, 4, 3, 7]]], ['Receive Goods', [[2, 2], [5, 8, 9, 6, 4, 3, 7, 0]]], ['Issue Goods Receipt', [[3, 3], [5, 8, 9, 6, 4, 3, 7, 0]]], ['Verify Material', [[4, 4], [5, 8, 6, 4, 3, 7]]], ['Plan Goods Issue', [[5, 5], [5, 8, 6, 4, 3, 7]]], ['Receive Invoice', [[4, 4], [2, 1, 9]]], ['Goods Issue', [[6, 6], [5, 8, 6, 4, 3, 7]]], ['Clear Invoice', [[5, 5], [1, 9, 2, 0]]]], {0: ('GDSRCPT', 'GDSRCPT_1'), 1: ('INVOICE', 'INVOICE_1'), 2: ('INVOICE', 'INVOICE_2'), 3: ('MATERIAL', 'MATERIAL_1'), 4: ('MATERIAL', 'MATERIAL_2'), 5: ('MATERIAL', 'MATERIAL_3'), 6: ('MATERIAL', 'MATERIAL_4'), 7: ('MATERIAL', 'MATERIAL_5'), 8: ('MATERIAL', 'MATERIAL_6'), 9: ('PURCHORD', 'PURCHORD_1'), 10: ('PURCHREQ', 'PURCHREQ_1')})\n"
     ]
    }
   ],
   "source": [
    "print(\"Number of process executions: \"+str(len(ocel.process_executions)))\n",
    "print(\"Number of variants: \"+str(len(ocel.variants)))\n",
    "variant_layouting = variants_visualization_factory.apply(ocel)\n",
    "print(variant_layouting[ocel.variants[0]])"
   ]
  },
  {
   "cell_type": "code",
   "execution_count": 6,
   "id": "e48b6663",
   "metadata": {},
   "outputs": [],
   "source": [
    "save_process_model_visualization(ocel,\"../reports/figures/p2p-normal-happy-path.svg\" )"
   ]
  },
  {
   "cell_type": "markdown",
   "id": "46b16f87",
   "metadata": {},
   "source": [
    "## P2P Flower Model"
   ]
  },
  {
   "cell_type": "code",
   "execution_count": 3,
   "id": "a713fff3",
   "metadata": {},
   "outputs": [],
   "source": [
    "load_path = \"../src/data/jsonocel/p2p-normal.jsonocel\"\n",
    "save_path = \"../reports/figures/p2p-normal-flower-model.svg\""
   ]
  },
  {
   "cell_type": "code",
   "execution_count": 4,
   "id": "f558fb11",
   "metadata": {},
   "outputs": [],
   "source": [
    "ots = [\"PURCHORD\",\"INVOICE\",\"PURCHREQ\",\"MATERIAL\",\"GDSRCPT\"]"
   ]
  },
  {
   "cell_type": "code",
   "execution_count": 5,
   "id": "789ca67e",
   "metadata": {},
   "outputs": [],
   "source": [
    "flower_ocpn = create_flower_model(load_path,ots,save_path)"
   ]
  },
  {
   "cell_type": "code",
   "execution_count": 6,
   "id": "a40c7485",
   "metadata": {},
   "outputs": [
    {
     "data": {
      "text/plain": [
       "<ocpa.objects.oc_petri_net.obj.ObjectCentricPetriNet at 0x25ef85d4fa0>"
      ]
     },
     "execution_count": 6,
     "metadata": {},
     "output_type": "execute_result"
    }
   ],
   "source": [
    "flower_ocpn"
   ]
  },
  {
   "cell_type": "markdown",
   "id": "07aa5cac",
   "metadata": {},
   "source": [
    "## P2P Variant Model"
   ]
  },
  {
   "cell_type": "code",
   "execution_count": 12,
   "id": "31c3e980",
   "metadata": {},
   "outputs": [],
   "source": [
    "filename = \"../src/data/jsonocel/p2p-normal.jsonocel\"\n",
    "ocel = ocel_import_factory.apply(filename)"
   ]
  },
  {
   "cell_type": "code",
   "execution_count": 13,
   "id": "8516b399",
   "metadata": {},
   "outputs": [],
   "source": [
    "variant_ocpn = generate_variant_model(ocel,save_path_logs='../src/data/csv/p2p_variants/p2p_variant',object_types = [\"PURCHORD\",\"INVOICE\",\"PURCHREQ\",\"MATERIAL\",\"GDSRCPT\"] ,save_path_visuals=f\"../reports/figures/p2p_variant_total.svg\" )"
   ]
  },
  {
   "cell_type": "code",
   "execution_count": 14,
   "id": "03d30caa",
   "metadata": {},
   "outputs": [
    {
     "data": {
      "text/plain": [
       "<ocpa.objects.oc_petri_net.obj.ObjectCentricPetriNet at 0x259c790adc0>"
      ]
     },
     "execution_count": 14,
     "metadata": {},
     "output_type": "execute_result"
    }
   ],
   "source": [
    "variant_ocpn"
   ]
  },
  {
   "cell_type": "markdown",
   "id": "eb3c38f0",
   "metadata": {},
   "source": [
    "## O2C Happy Path Model"
   ]
  },
  {
   "cell_type": "code",
   "execution_count": 7,
   "id": "d704852d",
   "metadata": {},
   "outputs": [],
   "source": [
    "load_path = \"../src/data/jsonocel/order_process.jsonocel\"\n",
    "save_path = \"../src/data/jsonocel/order_process_happy_path.jsonocel\""
   ]
  },
  {
   "cell_type": "code",
   "execution_count": 8,
   "id": "383c696b",
   "metadata": {},
   "outputs": [],
   "source": [
    "ocel = get_happy_path_log(load_path, save_path)"
   ]
  },
  {
   "cell_type": "code",
   "execution_count": 9,
   "id": "ab3c96c2",
   "metadata": {},
   "outputs": [
    {
     "name": "stdout",
     "output_type": "stream",
     "text": [
      "Number of process executions: 15\n",
      "Number of variants: 1\n",
      "([['Place Order', [[0, 0], [1, 3, 2]]], ['Confirm Order', [[1, 1], [1, 3, 2]]], ['Pick Item', [[2, 2], [2]]], ['Pick Item', [[2, 2], [1]]], ['Pay Order', [[2, 2], [3]]], ['Start Route', [[5, 5], [1, 0, 2]]], ['End Route', [[6, 6], [1, 0, 2]]], ['Fuel Car', [[4, 4], [0]]], ['Load Cargo', [[3, 3], [1, 0, 2]]]], {0: ('delivery', 'delivery_1'), 1: ('item', 'item_1'), 2: ('item', 'item_2'), 3: ('order', 'order_1')})\n"
     ]
    }
   ],
   "source": [
    "print(\"Number of process executions: \"+str(len(ocel.process_executions)))\n",
    "print(\"Number of variants: \"+str(len(ocel.variants)))\n",
    "variant_layouting = variants_visualization_factory.apply(ocel)\n",
    "print(variant_layouting[ocel.variants[0]])"
   ]
  },
  {
   "cell_type": "code",
   "execution_count": 10,
   "id": "18ee3ce4",
   "metadata": {},
   "outputs": [],
   "source": [
    "save_process_model_visualization(ocel,\"../reports/figures/order_process_happy_path.svg\" )"
   ]
  },
  {
   "cell_type": "markdown",
   "id": "3fd00b8a",
   "metadata": {},
   "source": [
    "## O2C Flower Model"
   ]
  },
  {
   "cell_type": "code",
   "execution_count": 7,
   "id": "2bb6e303",
   "metadata": {},
   "outputs": [],
   "source": [
    "load_path = \"../src/data/jsonocel/order_process.jsonocel\"\n",
    "save_path = \"../reports/figures/order_process-flower-model.svg\" "
   ]
  },
  {
   "cell_type": "code",
   "execution_count": 8,
   "id": "81923764",
   "metadata": {},
   "outputs": [],
   "source": [
    "ots = [\"order\",\"item\",\"delivery\"]"
   ]
  },
  {
   "cell_type": "code",
   "execution_count": 9,
   "id": "c0795138",
   "metadata": {},
   "outputs": [],
   "source": [
    "flower_ocpn = create_flower_model(load_path,ots,save_path)"
   ]
  },
  {
   "cell_type": "code",
   "execution_count": 10,
   "id": "85ea4b9f",
   "metadata": {},
   "outputs": [
    {
     "data": {
      "text/plain": [
       "<ocpa.objects.oc_petri_net.obj.ObjectCentricPetriNet at 0x25ef87b4400>"
      ]
     },
     "execution_count": 10,
     "metadata": {},
     "output_type": "execute_result"
    }
   ],
   "source": [
    "flower_ocpn"
   ]
  },
  {
   "cell_type": "markdown",
   "id": "daa82324",
   "metadata": {},
   "source": [
    "## O2C Variant Model"
   ]
  },
  {
   "cell_type": "code",
   "execution_count": 7,
   "id": "b22cd292",
   "metadata": {},
   "outputs": [],
   "source": [
    "filename = \"../src/data/jsonocel/order_process.jsonocel\"\n",
    "ocel = ocel_import_factory.apply(filename)"
   ]
  },
  {
   "cell_type": "code",
   "execution_count": 8,
   "id": "36cf75c3",
   "metadata": {},
   "outputs": [],
   "source": [
    "variant_ocpn = generate_variant_model(ocel,save_path_logs='../src/data/csv/order_variants/order_variant',object_types = [\"order\",\"item\",\"delivery\"],save_path_visuals=f\"../reports/figures/order_variant_total.svg\" )"
   ]
  },
  {
   "cell_type": "code",
   "execution_count": 9,
   "id": "f7ad940a",
   "metadata": {},
   "outputs": [
    {
     "data": {
      "text/plain": [
       "<ocpa.objects.oc_petri_net.obj.ObjectCentricPetriNet at 0x259c7298370>"
      ]
     },
     "execution_count": 9,
     "metadata": {},
     "output_type": "execute_result"
    }
   ],
   "source": [
    "variant_ocpn"
   ]
  },
  {
   "cell_type": "markdown",
   "id": "576cac4e",
   "metadata": {},
   "source": [
    "## BPI-Challenge 2017 Happy Path Model"
   ]
  },
  {
   "cell_type": "code",
   "execution_count": 11,
   "id": "299be774",
   "metadata": {},
   "outputs": [],
   "source": [
    "load_path = \"../src/data/jsonocel/BPI2017-Final.jsonocel\"\n",
    "save_path = \"../src/data/jsonocel/BPI2017-Final-happy-path.jsonocel\""
   ]
  },
  {
   "cell_type": "code",
   "execution_count": 12,
   "id": "4a6a5095",
   "metadata": {},
   "outputs": [],
   "source": [
    "ocel = get_happy_path_log(load_path, save_path)"
   ]
  },
  {
   "cell_type": "code",
   "execution_count": 13,
   "id": "61e09b70",
   "metadata": {},
   "outputs": [
    {
     "name": "stdout",
     "output_type": "stream",
     "text": [
      "Number of process executions: 2162\n",
      "Number of variants: 1\n",
      "([['Create application', [[0, 0], [0]]], ['Submit', [[1, 1], [0]]], ['Complete', [[4, 4], [0]]], ['Accept', [[2, 2], [0]]], ['Create offer', [[3, 3], [0, 1]]], ['Send (mail and online)', [[4, 4], [1]]], ['Call', [[5, 5], [0, 1]]], ['Cancel application', [[6, 6], [0, 1]]], ['Cancel offer', [[7, 7], [0, 1]]]], {0: ('application', 'application_1'), 1: ('offer', 'offer_1')})\n"
     ]
    }
   ],
   "source": [
    "print(\"Number of process executions: \"+str(len(ocel.process_executions)))\n",
    "print(\"Number of variants: \"+str(len(ocel.variants)))\n",
    "variant_layouting = variants_visualization_factory.apply(ocel)\n",
    "print(variant_layouting[ocel.variants[0]])"
   ]
  },
  {
   "cell_type": "code",
   "execution_count": 14,
   "id": "5a26c8d3",
   "metadata": {},
   "outputs": [],
   "source": [
    "save_process_model_visualization(ocel,\"../reports/figures/BPI2017-Final-happy-path.svg\" )"
   ]
  },
  {
   "cell_type": "markdown",
   "id": "3712d14b",
   "metadata": {},
   "source": [
    "## BPI-Challenge 2017 Flower Model"
   ]
  },
  {
   "cell_type": "code",
   "execution_count": 11,
   "id": "e2d35e2d",
   "metadata": {},
   "outputs": [],
   "source": [
    "load_path = \"../src/data/jsonocel/BPI2017-Final.jsonocel\"\n",
    "save_path = \"../reports/figures/BPI2017-Final-flower-model.svg\""
   ]
  },
  {
   "cell_type": "code",
   "execution_count": 12,
   "id": "582e4985",
   "metadata": {},
   "outputs": [],
   "source": [
    "ots = [\"application\",\"offer\"]"
   ]
  },
  {
   "cell_type": "code",
   "execution_count": 13,
   "id": "57f08fc1",
   "metadata": {},
   "outputs": [],
   "source": [
    "flower_ocpn = create_flower_model(load_path,ots,save_path)"
   ]
  },
  {
   "cell_type": "code",
   "execution_count": 14,
   "id": "e77b3290",
   "metadata": {},
   "outputs": [
    {
     "data": {
      "text/plain": [
       "<ocpa.objects.oc_petri_net.obj.ObjectCentricPetriNet at 0x25e83746280>"
      ]
     },
     "execution_count": 14,
     "metadata": {},
     "output_type": "execute_result"
    }
   ],
   "source": [
    "flower_ocpn"
   ]
  },
  {
   "cell_type": "markdown",
   "id": "afe4f86e",
   "metadata": {},
   "source": [
    "## BPI-Challenge 2017 Variant Model"
   ]
  },
  {
   "cell_type": "code",
   "execution_count": 15,
   "id": "68f32f4a",
   "metadata": {},
   "outputs": [],
   "source": [
    "filename = \"../src/data/jsonocel/BPI2017-Final.jsonocel\"\n",
    "ocel = ocel_import_factory.apply(filename)"
   ]
  },
  {
   "cell_type": "code",
   "execution_count": 16,
   "id": "b54ea409",
   "metadata": {},
   "outputs": [
    {
     "ename": "KeyboardInterrupt",
     "evalue": "",
     "output_type": "error",
     "traceback": [
      "\u001b[1;31m---------------------------------------------------------------------------\u001b[0m",
      "\u001b[1;31mKeyboardInterrupt\u001b[0m                         Traceback (most recent call last)",
      "Cell \u001b[1;32mIn[16], line 1\u001b[0m\n\u001b[1;32m----> 1\u001b[0m variant_ocpn \u001b[38;5;241m=\u001b[39m \u001b[43mgenerate_variant_model\u001b[49m\u001b[43m(\u001b[49m\u001b[43mocel\u001b[49m\u001b[43m,\u001b[49m\u001b[43msave_path_logs\u001b[49m\u001b[38;5;241;43m=\u001b[39;49m\u001b[38;5;124;43m'\u001b[39;49m\u001b[38;5;124;43m../src/data/csv/bpi2017_variants/bpi_variant\u001b[39;49m\u001b[38;5;124;43m'\u001b[39;49m\u001b[43m,\u001b[49m\u001b[43mobject_types\u001b[49m\u001b[43m \u001b[49m\u001b[38;5;241;43m=\u001b[39;49m\u001b[43m \u001b[49m\u001b[43m[\u001b[49m\u001b[38;5;124;43m\"\u001b[39;49m\u001b[38;5;124;43mapplication\u001b[39;49m\u001b[38;5;124;43m\"\u001b[39;49m\u001b[43m,\u001b[49m\u001b[38;5;124;43m\"\u001b[39;49m\u001b[38;5;124;43moffer\u001b[39;49m\u001b[38;5;124;43m\"\u001b[39;49m\u001b[43m]\u001b[49m\u001b[43m,\u001b[49m\u001b[43msave_path_visuals\u001b[49m\u001b[38;5;241;43m=\u001b[39;49m\u001b[38;5;124;43mf\u001b[39;49m\u001b[38;5;124;43m\"\u001b[39;49m\u001b[38;5;124;43m../reports/figures/BPI2017_variant_total.svg\u001b[39;49m\u001b[38;5;124;43m\"\u001b[39;49m\u001b[43m \u001b[49m\u001b[43m)\u001b[49m\n",
      "File \u001b[1;32m~\\PycharmProjects\\Generalization in Object-Centric Process Mining\\src\\utils.py:114\u001b[0m, in \u001b[0;36mgenerate_variant_model\u001b[1;34m(ocel, save_path_logs, object_types, save_path_visuals)\u001b[0m\n\u001b[0;32m    108\u001b[0m parameters \u001b[38;5;241m=\u001b[39m {\u001b[38;5;124m\"\u001b[39m\u001b[38;5;124mobj_names\u001b[39m\u001b[38;5;124m\"\u001b[39m: object_types,\n\u001b[0;32m    109\u001b[0m           \u001b[38;5;124m\"\u001b[39m\u001b[38;5;124mval_names\u001b[39m\u001b[38;5;124m\"\u001b[39m: [],\n\u001b[0;32m    110\u001b[0m           \u001b[38;5;124m\"\u001b[39m\u001b[38;5;124mact_name\u001b[39m\u001b[38;5;124m\"\u001b[39m: \u001b[38;5;124m\"\u001b[39m\u001b[38;5;124mevent_activity\u001b[39m\u001b[38;5;124m\"\u001b[39m,\n\u001b[0;32m    111\u001b[0m           \u001b[38;5;124m\"\u001b[39m\u001b[38;5;124mtime_name\u001b[39m\u001b[38;5;124m\"\u001b[39m: \u001b[38;5;124m\"\u001b[39m\u001b[38;5;124mevent_timestamp\u001b[39m\u001b[38;5;124m\"\u001b[39m,\n\u001b[0;32m    112\u001b[0m           \u001b[38;5;124m\"\u001b[39m\u001b[38;5;124msep\u001b[39m\u001b[38;5;124m\"\u001b[39m: \u001b[38;5;124m\"\u001b[39m\u001b[38;5;124m,\u001b[39m\u001b[38;5;124m\"\u001b[39m}\n\u001b[0;32m    113\u001b[0m ocel_new \u001b[38;5;241m=\u001b[39m ocel_import_factory_csv\u001b[38;5;241m.\u001b[39mapply(file_path\u001b[38;5;241m=\u001b[39mfilename, parameters\u001b[38;5;241m=\u001b[39mparameters)\n\u001b[1;32m--> 114\u001b[0m ocpn_new \u001b[38;5;241m=\u001b[39m \u001b[43mocpn_discovery_factory\u001b[49m\u001b[38;5;241;43m.\u001b[39;49m\u001b[43mapply\u001b[49m\u001b[43m(\u001b[49m\u001b[43mocel_new\u001b[49m\u001b[43m,\u001b[49m\u001b[43m \u001b[49m\u001b[43mparameters\u001b[49m\u001b[38;5;241;43m=\u001b[39;49m\u001b[43m{\u001b[49m\u001b[38;5;124;43m\"\u001b[39;49m\u001b[38;5;124;43mdebug\u001b[39;49m\u001b[38;5;124;43m\"\u001b[39;49m\u001b[43m:\u001b[49m\u001b[43m \u001b[49m\u001b[38;5;28;43;01mFalse\u001b[39;49;00m\u001b[43m}\u001b[49m\u001b[43m)\u001b[49m\n\u001b[0;32m    115\u001b[0m \u001b[38;5;66;03m# append all the variant petri nets to our predefined list\u001b[39;00m\n\u001b[0;32m    116\u001b[0m ocpn_nets\u001b[38;5;241m.\u001b[39mappend(ocpn_new)\n",
      "File \u001b[1;32m~\\PycharmProjects\\Generalization in Object-Centric Process Mining\\venv\\lib\\site-packages\\ocpa\\algo\\discovery\\ocpn\\algorithm.py:13\u001b[0m, in \u001b[0;36mapply\u001b[1;34m(ocel, variant, parameters)\u001b[0m\n\u001b[0;32m     11\u001b[0m \u001b[38;5;28;01mdef\u001b[39;00m \u001b[38;5;21mapply\u001b[39m(ocel, variant\u001b[38;5;241m=\u001b[39mINDUCTIVE, parameters\u001b[38;5;241m=\u001b[39m\u001b[38;5;28;01mNone\u001b[39;00m):\n\u001b[0;32m     12\u001b[0m     \u001b[38;5;28;01mif\u001b[39;00m \u001b[38;5;28mtype\u001b[39m(ocel) \u001b[38;5;241m==\u001b[39m OCEL:\n\u001b[1;32m---> 13\u001b[0m         \u001b[38;5;28;01mreturn\u001b[39;00m \u001b[43mVERSIONS\u001b[49m\u001b[43m[\u001b[49m\u001b[43mvariant\u001b[49m\u001b[43m]\u001b[49m\u001b[43m(\u001b[49m\u001b[43mocel\u001b[49m\u001b[38;5;241;43m.\u001b[39;49m\u001b[43mlog\u001b[49m\u001b[38;5;241;43m.\u001b[39;49m\u001b[43mlog\u001b[49m\u001b[43m,\u001b[49m\u001b[43m \u001b[49m\u001b[43mparameters\u001b[49m\u001b[38;5;241;43m=\u001b[39;49m\u001b[43mparameters\u001b[49m\u001b[43m)\u001b[49m\n\u001b[0;32m     14\u001b[0m     \u001b[38;5;28;01mif\u001b[39;00m \u001b[38;5;28mtype\u001b[39m(ocel) \u001b[38;5;241m==\u001b[39m ObjectCentricEventLog:\n\u001b[0;32m     15\u001b[0m         df, _ \u001b[38;5;241m=\u001b[39m convert_factory\u001b[38;5;241m.\u001b[39mapply(ocel, variant\u001b[38;5;241m=\u001b[39m\u001b[38;5;124m'\u001b[39m\u001b[38;5;124mjson_to_mdl\u001b[39m\u001b[38;5;124m'\u001b[39m)\n",
      "File \u001b[1;32m~\\PycharmProjects\\Generalization in Object-Centric Process Mining\\venv\\lib\\site-packages\\ocpa\\algo\\discovery\\ocpn\\versions\\inductive.py:136\u001b[0m, in \u001b[0;36mapply\u001b[1;34m(df, discovery_algorithm, parameters)\u001b[0m\n\u001b[0;32m    135\u001b[0m \u001b[38;5;28;01mdef\u001b[39;00m \u001b[38;5;21mapply\u001b[39m(df, discovery_algorithm\u001b[38;5;241m=\u001b[39mdiscover_inductive, parameters\u001b[38;5;241m=\u001b[39m\u001b[38;5;28;01mNone\u001b[39;00m):\n\u001b[1;32m--> 136\u001b[0m     ret \u001b[38;5;241m=\u001b[39m \u001b[43mdiscover_nets\u001b[49m\u001b[43m(\u001b[49m\u001b[43mdf\u001b[49m\u001b[43m,\u001b[49m\u001b[43m \u001b[49m\u001b[43mdiscovery_algorithm\u001b[49m\u001b[43m,\u001b[49m\u001b[43m \u001b[49m\u001b[43mparameters\u001b[49m\u001b[43m)\u001b[49m\n\u001b[0;32m    137\u001b[0m     nets \u001b[38;5;241m=\u001b[39m ret[\u001b[38;5;124m\"\u001b[39m\u001b[38;5;124mnets\u001b[39m\u001b[38;5;124m\"\u001b[39m]\n\u001b[0;32m    138\u001b[0m     object_count_persp \u001b[38;5;241m=\u001b[39m ret[\u001b[38;5;124m\"\u001b[39m\u001b[38;5;124mobject_count\u001b[39m\u001b[38;5;124m\"\u001b[39m]\n",
      "File \u001b[1;32m~\\PycharmProjects\\Generalization in Object-Centric Process Mining\\venv\\lib\\site-packages\\ocpa\\algo\\discovery\\ocpn\\versions\\inductive.py:126\u001b[0m, in \u001b[0;36mdiscover_nets\u001b[1;34m(df, discovery_algorithm, parameters)\u001b[0m\n\u001b[0;32m    123\u001b[0m     \u001b[38;5;28mprint\u001b[39m(\u001b[38;5;28mlen\u001b[39m(log))\n\u001b[0;32m    124\u001b[0m     \u001b[38;5;28mprint\u001b[39m(persp, \u001b[38;5;124m\"\u001b[39m\u001b[38;5;124mdiscovered net\u001b[39m\u001b[38;5;124m\"\u001b[39m)\n\u001b[1;32m--> 126\u001b[0m object_count \u001b[38;5;241m=\u001b[39m \u001b[43mproject_log_with_object_count\u001b[49m\u001b[43m(\u001b[49m\n\u001b[0;32m    127\u001b[0m \u001b[43m    \u001b[49m\u001b[43mdf\u001b[49m\u001b[43m,\u001b[49m\u001b[43m \u001b[49m\u001b[43mpersp\u001b[49m\u001b[43m,\u001b[49m\u001b[43m \u001b[49m\u001b[43mparameters\u001b[49m\u001b[38;5;241;43m=\u001b[39;49m\u001b[43mparameters\u001b[49m\u001b[43m)\u001b[49m\n\u001b[0;32m    129\u001b[0m ret[\u001b[38;5;124m\"\u001b[39m\u001b[38;5;124mnets\u001b[39m\u001b[38;5;124m\"\u001b[39m][persp] \u001b[38;5;241m=\u001b[39m [net, im, fm]\n\u001b[0;32m    130\u001b[0m ret[\u001b[38;5;124m\"\u001b[39m\u001b[38;5;124mobject_count\u001b[39m\u001b[38;5;124m\"\u001b[39m][persp] \u001b[38;5;241m=\u001b[39m object_count\n",
      "File \u001b[1;32m~\\PycharmProjects\\Generalization in Object-Centric Process Mining\\venv\\lib\\site-packages\\ocpa\\algo\\util\\util.py:54\u001b[0m, in \u001b[0;36mproject_log_with_object_count\u001b[1;34m(df, persp, parameters)\u001b[0m\n\u001b[0;32m     51\u001b[0m cols \u001b[38;5;241m=\u001b[39m [x \u001b[38;5;28;01mfor\u001b[39;00m x \u001b[38;5;129;01min\u001b[39;00m df\u001b[38;5;241m.\u001b[39mcolumns \u001b[38;5;28;01mif\u001b[39;00m x\u001b[38;5;241m.\u001b[39mstartswith(\u001b[38;5;124m\"\u001b[39m\u001b[38;5;124mevent_\u001b[39m\u001b[38;5;124m\"\u001b[39m) \u001b[38;5;129;01mor\u001b[39;00m x \u001b[38;5;241m==\u001b[39m persp]\n\u001b[0;32m     52\u001b[0m df \u001b[38;5;241m=\u001b[39m df[cols]\u001b[38;5;241m.\u001b[39mdropna(subset\u001b[38;5;241m=\u001b[39m[persp])\n\u001b[1;32m---> 54\u001b[0m df \u001b[38;5;241m=\u001b[39m \u001b[43mdf\u001b[49m\u001b[38;5;241;43m.\u001b[39;49m\u001b[43mgroupby\u001b[49m\u001b[43m(\u001b[49m\u001b[43m[\u001b[49m\u001b[38;5;124;43m\"\u001b[39;49m\u001b[38;5;124;43mevent_activity\u001b[39;49m\u001b[38;5;124;43m\"\u001b[39;49m\u001b[43m,\u001b[49m\u001b[43m \u001b[49m\u001b[43mpersp\u001b[49m\u001b[43m]\u001b[49m\u001b[43m)\u001b[49m\u001b[38;5;241;43m.\u001b[39;49m\u001b[43mfirst\u001b[49m\u001b[43m(\u001b[49m\u001b[43m)\u001b[49m\n\u001b[0;32m     55\u001b[0m values \u001b[38;5;241m=\u001b[39m df\u001b[38;5;241m.\u001b[39mgroupby([\u001b[38;5;124m\"\u001b[39m\u001b[38;5;124mevent_id\u001b[39m\u001b[38;5;124m\"\u001b[39m, \u001b[38;5;124m\"\u001b[39m\u001b[38;5;124mevent_activity\u001b[39m\u001b[38;5;124m\"\u001b[39m])\u001b[38;5;241m.\u001b[39msize()\u001b[38;5;241m.\u001b[39mto_dict()\n\u001b[0;32m     57\u001b[0m ret \u001b[38;5;241m=\u001b[39m {}\n",
      "File \u001b[1;32m~\\PycharmProjects\\Generalization in Object-Centric Process Mining\\venv\\lib\\site-packages\\pandas\\core\\groupby\\groupby.py:2580\u001b[0m, in \u001b[0;36mGroupBy.first\u001b[1;34m(self, numeric_only, min_count)\u001b[0m\n\u001b[0;32m   2577\u001b[0m     \u001b[38;5;28;01melse\u001b[39;00m:  \u001b[38;5;66;03m# pragma: no cover\u001b[39;00m\n\u001b[0;32m   2578\u001b[0m         \u001b[38;5;28;01mraise\u001b[39;00m \u001b[38;5;167;01mTypeError\u001b[39;00m(\u001b[38;5;28mtype\u001b[39m(obj))\n\u001b[1;32m-> 2580\u001b[0m \u001b[38;5;28;01mreturn\u001b[39;00m \u001b[38;5;28;43mself\u001b[39;49m\u001b[38;5;241;43m.\u001b[39;49m\u001b[43m_agg_general\u001b[49m\u001b[43m(\u001b[49m\n\u001b[0;32m   2581\u001b[0m \u001b[43m    \u001b[49m\u001b[43mnumeric_only\u001b[49m\u001b[38;5;241;43m=\u001b[39;49m\u001b[43mnumeric_only\u001b[49m\u001b[43m,\u001b[49m\n\u001b[0;32m   2582\u001b[0m \u001b[43m    \u001b[49m\u001b[43mmin_count\u001b[49m\u001b[38;5;241;43m=\u001b[39;49m\u001b[43mmin_count\u001b[49m\u001b[43m,\u001b[49m\n\u001b[0;32m   2583\u001b[0m \u001b[43m    \u001b[49m\u001b[43malias\u001b[49m\u001b[38;5;241;43m=\u001b[39;49m\u001b[38;5;124;43m\"\u001b[39;49m\u001b[38;5;124;43mfirst\u001b[39;49m\u001b[38;5;124;43m\"\u001b[39;49m\u001b[43m,\u001b[49m\n\u001b[0;32m   2584\u001b[0m \u001b[43m    \u001b[49m\u001b[43mnpfunc\u001b[49m\u001b[38;5;241;43m=\u001b[39;49m\u001b[43mfirst_compat\u001b[49m\u001b[43m,\u001b[49m\n\u001b[0;32m   2585\u001b[0m \u001b[43m\u001b[49m\u001b[43m)\u001b[49m\n",
      "File \u001b[1;32m~\\PycharmProjects\\Generalization in Object-Centric Process Mining\\venv\\lib\\site-packages\\pandas\\core\\groupby\\groupby.py:1711\u001b[0m, in \u001b[0;36mGroupBy._agg_general\u001b[1;34m(self, numeric_only, min_count, alias, npfunc)\u001b[0m\n\u001b[0;32m   1699\u001b[0m \u001b[38;5;129m@final\u001b[39m\n\u001b[0;32m   1700\u001b[0m \u001b[38;5;28;01mdef\u001b[39;00m \u001b[38;5;21m_agg_general\u001b[39m(\n\u001b[0;32m   1701\u001b[0m     \u001b[38;5;28mself\u001b[39m,\n\u001b[1;32m   (...)\u001b[0m\n\u001b[0;32m   1706\u001b[0m     npfunc: Callable,\n\u001b[0;32m   1707\u001b[0m ):\n\u001b[0;32m   1709\u001b[0m     \u001b[38;5;28;01mwith\u001b[39;00m \u001b[38;5;28mself\u001b[39m\u001b[38;5;241m.\u001b[39m_group_selection_context():\n\u001b[0;32m   1710\u001b[0m         \u001b[38;5;66;03m# try a cython aggregation if we can\u001b[39;00m\n\u001b[1;32m-> 1711\u001b[0m         result \u001b[38;5;241m=\u001b[39m \u001b[38;5;28;43mself\u001b[39;49m\u001b[38;5;241;43m.\u001b[39;49m\u001b[43m_cython_agg_general\u001b[49m\u001b[43m(\u001b[49m\n\u001b[0;32m   1712\u001b[0m \u001b[43m            \u001b[49m\u001b[43mhow\u001b[49m\u001b[38;5;241;43m=\u001b[39;49m\u001b[43malias\u001b[49m\u001b[43m,\u001b[49m\n\u001b[0;32m   1713\u001b[0m \u001b[43m            \u001b[49m\u001b[43malt\u001b[49m\u001b[38;5;241;43m=\u001b[39;49m\u001b[43mnpfunc\u001b[49m\u001b[43m,\u001b[49m\n\u001b[0;32m   1714\u001b[0m \u001b[43m            \u001b[49m\u001b[43mnumeric_only\u001b[49m\u001b[38;5;241;43m=\u001b[39;49m\u001b[43mnumeric_only\u001b[49m\u001b[43m,\u001b[49m\n\u001b[0;32m   1715\u001b[0m \u001b[43m            \u001b[49m\u001b[43mmin_count\u001b[49m\u001b[38;5;241;43m=\u001b[39;49m\u001b[43mmin_count\u001b[49m\u001b[43m,\u001b[49m\n\u001b[0;32m   1716\u001b[0m \u001b[43m        \u001b[49m\u001b[43m)\u001b[49m\n\u001b[0;32m   1717\u001b[0m         \u001b[38;5;28;01mreturn\u001b[39;00m result\u001b[38;5;241m.\u001b[39m__finalize__(\u001b[38;5;28mself\u001b[39m\u001b[38;5;241m.\u001b[39mobj, method\u001b[38;5;241m=\u001b[39m\u001b[38;5;124m\"\u001b[39m\u001b[38;5;124mgroupby\u001b[39m\u001b[38;5;124m\"\u001b[39m)\n",
      "File \u001b[1;32m~\\PycharmProjects\\Generalization in Object-Centric Process Mining\\venv\\lib\\site-packages\\pandas\\core\\groupby\\groupby.py:1810\u001b[0m, in \u001b[0;36mGroupBy._cython_agg_general\u001b[1;34m(self, how, alt, numeric_only, min_count, ignore_failures, **kwargs)\u001b[0m\n\u001b[0;32m   1806\u001b[0m     \u001b[38;5;28;01mreturn\u001b[39;00m result\n\u001b[0;32m   1808\u001b[0m \u001b[38;5;66;03m# TypeError -> we may have an exception in trying to aggregate\u001b[39;00m\n\u001b[0;32m   1809\u001b[0m \u001b[38;5;66;03m#  continue and exclude the block\u001b[39;00m\n\u001b[1;32m-> 1810\u001b[0m new_mgr \u001b[38;5;241m=\u001b[39m \u001b[43mdata\u001b[49m\u001b[38;5;241;43m.\u001b[39;49m\u001b[43mgrouped_reduce\u001b[49m\u001b[43m(\u001b[49m\u001b[43marray_func\u001b[49m\u001b[43m,\u001b[49m\u001b[43m \u001b[49m\u001b[43mignore_failures\u001b[49m\u001b[38;5;241;43m=\u001b[39;49m\u001b[43mignore_failures\u001b[49m\u001b[43m)\u001b[49m\n\u001b[0;32m   1812\u001b[0m \u001b[38;5;28;01mif\u001b[39;00m \u001b[38;5;129;01mnot\u001b[39;00m is_ser \u001b[38;5;129;01mand\u001b[39;00m \u001b[38;5;28mlen\u001b[39m(new_mgr) \u001b[38;5;241m<\u001b[39m orig_len:\n\u001b[0;32m   1813\u001b[0m     warn_dropping_nuisance_columns_deprecated(\u001b[38;5;28mtype\u001b[39m(\u001b[38;5;28mself\u001b[39m), how, numeric_only)\n",
      "File \u001b[1;32m~\\PycharmProjects\\Generalization in Object-Centric Process Mining\\venv\\lib\\site-packages\\pandas\\core\\internals\\managers.py:1527\u001b[0m, in \u001b[0;36mBlockManager.grouped_reduce\u001b[1;34m(self, func, ignore_failures)\u001b[0m\n\u001b[0;32m   1525\u001b[0m \u001b[38;5;28;01melse\u001b[39;00m:\n\u001b[0;32m   1526\u001b[0m     \u001b[38;5;28;01mtry\u001b[39;00m:\n\u001b[1;32m-> 1527\u001b[0m         applied \u001b[38;5;241m=\u001b[39m \u001b[43mblk\u001b[49m\u001b[38;5;241;43m.\u001b[39;49m\u001b[43mapply\u001b[49m\u001b[43m(\u001b[49m\u001b[43mfunc\u001b[49m\u001b[43m)\u001b[49m\n\u001b[0;32m   1528\u001b[0m     \u001b[38;5;28;01mexcept\u001b[39;00m (\u001b[38;5;167;01mTypeError\u001b[39;00m, \u001b[38;5;167;01mNotImplementedError\u001b[39;00m):\n\u001b[0;32m   1529\u001b[0m         \u001b[38;5;28;01mif\u001b[39;00m \u001b[38;5;129;01mnot\u001b[39;00m ignore_failures:\n",
      "File \u001b[1;32m~\\PycharmProjects\\Generalization in Object-Centric Process Mining\\venv\\lib\\site-packages\\pandas\\core\\internals\\blocks.py:351\u001b[0m, in \u001b[0;36mBlock.apply\u001b[1;34m(self, func, **kwargs)\u001b[0m\n\u001b[0;32m    345\u001b[0m \u001b[38;5;129m@final\u001b[39m\n\u001b[0;32m    346\u001b[0m \u001b[38;5;28;01mdef\u001b[39;00m \u001b[38;5;21mapply\u001b[39m(\u001b[38;5;28mself\u001b[39m, func, \u001b[38;5;241m*\u001b[39m\u001b[38;5;241m*\u001b[39mkwargs) \u001b[38;5;241m-\u001b[39m\u001b[38;5;241m>\u001b[39m \u001b[38;5;28mlist\u001b[39m[Block]:\n\u001b[0;32m    347\u001b[0m \u001b[38;5;250m    \u001b[39m\u001b[38;5;124;03m\"\"\"\u001b[39;00m\n\u001b[0;32m    348\u001b[0m \u001b[38;5;124;03m    apply the function to my values; return a block if we are not\u001b[39;00m\n\u001b[0;32m    349\u001b[0m \u001b[38;5;124;03m    one\u001b[39;00m\n\u001b[0;32m    350\u001b[0m \u001b[38;5;124;03m    \"\"\"\u001b[39;00m\n\u001b[1;32m--> 351\u001b[0m     result \u001b[38;5;241m=\u001b[39m \u001b[43mfunc\u001b[49m\u001b[43m(\u001b[49m\u001b[38;5;28;43mself\u001b[39;49m\u001b[38;5;241;43m.\u001b[39;49m\u001b[43mvalues\u001b[49m\u001b[43m,\u001b[49m\u001b[43m \u001b[49m\u001b[38;5;241;43m*\u001b[39;49m\u001b[38;5;241;43m*\u001b[39;49m\u001b[43mkwargs\u001b[49m\u001b[43m)\u001b[49m\n\u001b[0;32m    353\u001b[0m     \u001b[38;5;28;01mreturn\u001b[39;00m \u001b[38;5;28mself\u001b[39m\u001b[38;5;241m.\u001b[39m_split_op_result(result)\n",
      "File \u001b[1;32m~\\PycharmProjects\\Generalization in Object-Centric Process Mining\\venv\\lib\\site-packages\\pandas\\core\\groupby\\groupby.py:1791\u001b[0m, in \u001b[0;36mGroupBy._cython_agg_general.<locals>.array_func\u001b[1;34m(values)\u001b[0m\n\u001b[0;32m   1789\u001b[0m \u001b[38;5;28;01mdef\u001b[39;00m \u001b[38;5;21marray_func\u001b[39m(values: ArrayLike) \u001b[38;5;241m-\u001b[39m\u001b[38;5;241m>\u001b[39m ArrayLike:\n\u001b[0;32m   1790\u001b[0m     \u001b[38;5;28;01mtry\u001b[39;00m:\n\u001b[1;32m-> 1791\u001b[0m         result \u001b[38;5;241m=\u001b[39m \u001b[38;5;28;43mself\u001b[39;49m\u001b[38;5;241;43m.\u001b[39;49m\u001b[43mgrouper\u001b[49m\u001b[38;5;241;43m.\u001b[39;49m\u001b[43m_cython_operation\u001b[49m\u001b[43m(\u001b[49m\n\u001b[0;32m   1792\u001b[0m \u001b[43m            \u001b[49m\u001b[38;5;124;43m\"\u001b[39;49m\u001b[38;5;124;43maggregate\u001b[39;49m\u001b[38;5;124;43m\"\u001b[39;49m\u001b[43m,\u001b[49m\n\u001b[0;32m   1793\u001b[0m \u001b[43m            \u001b[49m\u001b[43mvalues\u001b[49m\u001b[43m,\u001b[49m\n\u001b[0;32m   1794\u001b[0m \u001b[43m            \u001b[49m\u001b[43mhow\u001b[49m\u001b[43m,\u001b[49m\n\u001b[0;32m   1795\u001b[0m \u001b[43m            \u001b[49m\u001b[43maxis\u001b[49m\u001b[38;5;241;43m=\u001b[39;49m\u001b[43mdata\u001b[49m\u001b[38;5;241;43m.\u001b[39;49m\u001b[43mndim\u001b[49m\u001b[43m \u001b[49m\u001b[38;5;241;43m-\u001b[39;49m\u001b[43m \u001b[49m\u001b[38;5;241;43m1\u001b[39;49m\u001b[43m,\u001b[49m\n\u001b[0;32m   1796\u001b[0m \u001b[43m            \u001b[49m\u001b[43mmin_count\u001b[49m\u001b[38;5;241;43m=\u001b[39;49m\u001b[43mmin_count\u001b[49m\u001b[43m,\u001b[49m\n\u001b[0;32m   1797\u001b[0m \u001b[43m            \u001b[49m\u001b[38;5;241;43m*\u001b[39;49m\u001b[38;5;241;43m*\u001b[39;49m\u001b[43mkwargs\u001b[49m\u001b[43m,\u001b[49m\n\u001b[0;32m   1798\u001b[0m \u001b[43m        \u001b[49m\u001b[43m)\u001b[49m\n\u001b[0;32m   1799\u001b[0m     \u001b[38;5;28;01mexcept\u001b[39;00m \u001b[38;5;167;01mNotImplementedError\u001b[39;00m:\n\u001b[0;32m   1800\u001b[0m         \u001b[38;5;66;03m# generally if we have numeric_only=False\u001b[39;00m\n\u001b[0;32m   1801\u001b[0m         \u001b[38;5;66;03m# and non-applicable functions\u001b[39;00m\n\u001b[0;32m   1802\u001b[0m         \u001b[38;5;66;03m# try to python agg\u001b[39;00m\n\u001b[0;32m   1803\u001b[0m         \u001b[38;5;66;03m# TODO: shouldn't min_count matter?\u001b[39;00m\n\u001b[0;32m   1804\u001b[0m         result \u001b[38;5;241m=\u001b[39m \u001b[38;5;28mself\u001b[39m\u001b[38;5;241m.\u001b[39m_agg_py_fallback(values, ndim\u001b[38;5;241m=\u001b[39mdata\u001b[38;5;241m.\u001b[39mndim, alt\u001b[38;5;241m=\u001b[39malt)\n",
      "File \u001b[1;32m~\\PycharmProjects\\Generalization in Object-Centric Process Mining\\venv\\lib\\site-packages\\pandas\\core\\groupby\\ops.py:1035\u001b[0m, in \u001b[0;36mBaseGrouper._cython_operation\u001b[1;34m(self, kind, values, how, axis, min_count, **kwargs)\u001b[0m\n\u001b[0;32m   1030\u001b[0m \u001b[38;5;250m\u001b[39m\u001b[38;5;124;03m\"\"\"\u001b[39;00m\n\u001b[0;32m   1031\u001b[0m \u001b[38;5;124;03mReturns the values of a cython operation.\u001b[39;00m\n\u001b[0;32m   1032\u001b[0m \u001b[38;5;124;03m\"\"\"\u001b[39;00m\n\u001b[0;32m   1033\u001b[0m \u001b[38;5;28;01massert\u001b[39;00m kind \u001b[38;5;129;01min\u001b[39;00m [\u001b[38;5;124m\"\u001b[39m\u001b[38;5;124mtransform\u001b[39m\u001b[38;5;124m\"\u001b[39m, \u001b[38;5;124m\"\u001b[39m\u001b[38;5;124maggregate\u001b[39m\u001b[38;5;124m\"\u001b[39m]\n\u001b[1;32m-> 1035\u001b[0m cy_op \u001b[38;5;241m=\u001b[39m WrappedCythonOp(kind\u001b[38;5;241m=\u001b[39mkind, how\u001b[38;5;241m=\u001b[39mhow, has_dropped_na\u001b[38;5;241m=\u001b[39m\u001b[38;5;28;43mself\u001b[39;49m\u001b[38;5;241;43m.\u001b[39;49m\u001b[43mhas_dropped_na\u001b[49m)\n\u001b[0;32m   1037\u001b[0m ids, _, _ \u001b[38;5;241m=\u001b[39m \u001b[38;5;28mself\u001b[39m\u001b[38;5;241m.\u001b[39mgroup_info\n\u001b[0;32m   1038\u001b[0m ngroups \u001b[38;5;241m=\u001b[39m \u001b[38;5;28mself\u001b[39m\u001b[38;5;241m.\u001b[39mngroups\n",
      "File \u001b[1;32m~\\PycharmProjects\\Generalization in Object-Centric Process Mining\\venv\\lib\\site-packages\\pandas\\_libs\\properties.pyx:36\u001b[0m, in \u001b[0;36mpandas._libs.properties.CachedProperty.__get__\u001b[1;34m()\u001b[0m\n",
      "File \u001b[1;32m~\\PycharmProjects\\Generalization in Object-Centric Process Mining\\venv\\lib\\site-packages\\pandas\\core\\groupby\\ops.py:942\u001b[0m, in \u001b[0;36mBaseGrouper.has_dropped_na\u001b[1;34m(self)\u001b[0m\n\u001b[0;32m    936\u001b[0m \u001b[38;5;129m@final\u001b[39m\n\u001b[0;32m    937\u001b[0m \u001b[38;5;129m@cache_readonly\u001b[39m\n\u001b[0;32m    938\u001b[0m \u001b[38;5;28;01mdef\u001b[39;00m \u001b[38;5;21mhas_dropped_na\u001b[39m(\u001b[38;5;28mself\u001b[39m) \u001b[38;5;241m-\u001b[39m\u001b[38;5;241m>\u001b[39m \u001b[38;5;28mbool\u001b[39m:\n\u001b[0;32m    939\u001b[0m \u001b[38;5;250m    \u001b[39m\u001b[38;5;124;03m\"\"\"\u001b[39;00m\n\u001b[0;32m    940\u001b[0m \u001b[38;5;124;03m    Whether grouper has null value(s) that are dropped.\u001b[39;00m\n\u001b[0;32m    941\u001b[0m \u001b[38;5;124;03m    \"\"\"\u001b[39;00m\n\u001b[1;32m--> 942\u001b[0m     \u001b[38;5;28;01mreturn\u001b[39;00m \u001b[38;5;28mbool\u001b[39m((\u001b[38;5;28;43mself\u001b[39;49m\u001b[38;5;241;43m.\u001b[39;49m\u001b[43mgroup_info\u001b[49m[\u001b[38;5;241m0\u001b[39m] \u001b[38;5;241m<\u001b[39m \u001b[38;5;241m0\u001b[39m)\u001b[38;5;241m.\u001b[39many())\n",
      "File \u001b[1;32m~\\PycharmProjects\\Generalization in Object-Centric Process Mining\\venv\\lib\\site-packages\\pandas\\_libs\\properties.pyx:36\u001b[0m, in \u001b[0;36mpandas._libs.properties.CachedProperty.__get__\u001b[1;34m()\u001b[0m\n",
      "File \u001b[1;32m~\\PycharmProjects\\Generalization in Object-Centric Process Mining\\venv\\lib\\site-packages\\pandas\\core\\groupby\\ops.py:946\u001b[0m, in \u001b[0;36mBaseGrouper.group_info\u001b[1;34m(self)\u001b[0m\n\u001b[0;32m    944\u001b[0m \u001b[38;5;129m@cache_readonly\u001b[39m\n\u001b[0;32m    945\u001b[0m \u001b[38;5;28;01mdef\u001b[39;00m \u001b[38;5;21mgroup_info\u001b[39m(\u001b[38;5;28mself\u001b[39m) \u001b[38;5;241m-\u001b[39m\u001b[38;5;241m>\u001b[39m \u001b[38;5;28mtuple\u001b[39m[npt\u001b[38;5;241m.\u001b[39mNDArray[np\u001b[38;5;241m.\u001b[39mintp], npt\u001b[38;5;241m.\u001b[39mNDArray[np\u001b[38;5;241m.\u001b[39mintp], \u001b[38;5;28mint\u001b[39m]:\n\u001b[1;32m--> 946\u001b[0m     comp_ids, obs_group_ids \u001b[38;5;241m=\u001b[39m \u001b[38;5;28;43mself\u001b[39;49m\u001b[38;5;241;43m.\u001b[39;49m\u001b[43m_get_compressed_codes\u001b[49m\u001b[43m(\u001b[49m\u001b[43m)\u001b[49m\n\u001b[0;32m    948\u001b[0m     ngroups \u001b[38;5;241m=\u001b[39m \u001b[38;5;28mlen\u001b[39m(obs_group_ids)\n\u001b[0;32m    949\u001b[0m     comp_ids \u001b[38;5;241m=\u001b[39m ensure_platform_int(comp_ids)\n",
      "File \u001b[1;32m~\\PycharmProjects\\Generalization in Object-Centric Process Mining\\venv\\lib\\site-packages\\pandas\\core\\groupby\\ops.py:973\u001b[0m, in \u001b[0;36mBaseGrouper._get_compressed_codes\u001b[1;34m(self)\u001b[0m\n\u001b[0;32m    971\u001b[0m \u001b[38;5;28;01mif\u001b[39;00m \u001b[38;5;28mlen\u001b[39m(\u001b[38;5;28mself\u001b[39m\u001b[38;5;241m.\u001b[39mgroupings) \u001b[38;5;241m>\u001b[39m \u001b[38;5;241m1\u001b[39m:\n\u001b[0;32m    972\u001b[0m     group_index \u001b[38;5;241m=\u001b[39m get_group_index(\u001b[38;5;28mself\u001b[39m\u001b[38;5;241m.\u001b[39mcodes, \u001b[38;5;28mself\u001b[39m\u001b[38;5;241m.\u001b[39mshape, sort\u001b[38;5;241m=\u001b[39m\u001b[38;5;28;01mTrue\u001b[39;00m, xnull\u001b[38;5;241m=\u001b[39m\u001b[38;5;28;01mTrue\u001b[39;00m)\n\u001b[1;32m--> 973\u001b[0m     \u001b[38;5;28;01mreturn\u001b[39;00m \u001b[43mcompress_group_index\u001b[49m\u001b[43m(\u001b[49m\u001b[43mgroup_index\u001b[49m\u001b[43m,\u001b[49m\u001b[43m \u001b[49m\u001b[43msort\u001b[49m\u001b[38;5;241;43m=\u001b[39;49m\u001b[38;5;28;43mself\u001b[39;49m\u001b[38;5;241;43m.\u001b[39;49m\u001b[43m_sort\u001b[49m\u001b[43m)\u001b[49m\n\u001b[0;32m    974\u001b[0m     \u001b[38;5;66;03m# FIXME: compress_group_index's second return value is int64, not intp\u001b[39;00m\n\u001b[0;32m    976\u001b[0m ping \u001b[38;5;241m=\u001b[39m \u001b[38;5;28mself\u001b[39m\u001b[38;5;241m.\u001b[39mgroupings[\u001b[38;5;241m0\u001b[39m]\n",
      "File \u001b[1;32m~\\PycharmProjects\\Generalization in Object-Centric Process Mining\\venv\\lib\\site-packages\\pandas\\core\\sorting.py:699\u001b[0m, in \u001b[0;36mcompress_group_index\u001b[1;34m(group_index, sort)\u001b[0m\n\u001b[0;32m    696\u001b[0m comp_ids, obs_group_ids \u001b[38;5;241m=\u001b[39m table\u001b[38;5;241m.\u001b[39mget_labels_groupby(group_index)\n\u001b[0;32m    698\u001b[0m \u001b[38;5;28;01mif\u001b[39;00m sort \u001b[38;5;129;01mand\u001b[39;00m \u001b[38;5;28mlen\u001b[39m(obs_group_ids) \u001b[38;5;241m>\u001b[39m \u001b[38;5;241m0\u001b[39m:\n\u001b[1;32m--> 699\u001b[0m     obs_group_ids, comp_ids \u001b[38;5;241m=\u001b[39m \u001b[43m_reorder_by_uniques\u001b[49m\u001b[43m(\u001b[49m\u001b[43mobs_group_ids\u001b[49m\u001b[43m,\u001b[49m\u001b[43m \u001b[49m\u001b[43mcomp_ids\u001b[49m\u001b[43m)\u001b[49m\n\u001b[0;32m    701\u001b[0m \u001b[38;5;28;01mreturn\u001b[39;00m ensure_int64(comp_ids), ensure_int64(obs_group_ids)\n",
      "File \u001b[1;32m~\\PycharmProjects\\Generalization in Object-Centric Process Mining\\venv\\lib\\site-packages\\pandas\\core\\sorting.py:729\u001b[0m, in \u001b[0;36m_reorder_by_uniques\u001b[1;34m(uniques, labels)\u001b[0m\n\u001b[0;32m    727\u001b[0m \u001b[38;5;66;03m# move labels to right locations (ie, unsort ascending labels)\u001b[39;00m\n\u001b[0;32m    728\u001b[0m labels \u001b[38;5;241m=\u001b[39m reverse_indexer\u001b[38;5;241m.\u001b[39mtake(labels)\n\u001b[1;32m--> 729\u001b[0m \u001b[43mnp\u001b[49m\u001b[38;5;241;43m.\u001b[39;49m\u001b[43mputmask\u001b[49m\u001b[43m(\u001b[49m\u001b[43mlabels\u001b[49m\u001b[43m,\u001b[49m\u001b[43m \u001b[49m\u001b[43mmask\u001b[49m\u001b[43m,\u001b[49m\u001b[43m \u001b[49m\u001b[38;5;241;43m-\u001b[39;49m\u001b[38;5;241;43m1\u001b[39;49m\u001b[43m)\u001b[49m\n\u001b[0;32m    731\u001b[0m \u001b[38;5;66;03m# sort observed ids\u001b[39;00m\n\u001b[0;32m    732\u001b[0m uniques \u001b[38;5;241m=\u001b[39m uniques\u001b[38;5;241m.\u001b[39mtake(sorter)\n",
      "File \u001b[1;32m<__array_function__ internals>:200\u001b[0m, in \u001b[0;36mputmask\u001b[1;34m(*args, **kwargs)\u001b[0m\n",
      "\u001b[1;31mKeyboardInterrupt\u001b[0m: "
     ]
    }
   ],
   "source": [
    "variant_ocpn = generate_variant_model(ocel,save_path_logs='../src/data/csv/bpi2017_variants/bpi_variant',object_types = [\"application\",\"offer\"],save_path_visuals=f\"../reports/figures/BPI2017_variant_total.svg\" )"
   ]
  },
  {
   "cell_type": "code",
   "execution_count": null,
   "id": "e5b3f089",
   "metadata": {},
   "outputs": [],
   "source": [
    "variant_ocpn"
   ]
  }
 ],
 "metadata": {
  "kernelspec": {
   "display_name": "Python 3 (ipykernel)",
   "language": "python",
   "name": "python3"
  },
  "language_info": {
   "codemirror_mode": {
    "name": "ipython",
    "version": 3
   },
   "file_extension": ".py",
   "mimetype": "text/x-python",
   "name": "python",
   "nbconvert_exporter": "python",
   "pygments_lexer": "ipython3",
   "version": "3.8.6"
  }
 },
 "nbformat": 4,
 "nbformat_minor": 5
}
