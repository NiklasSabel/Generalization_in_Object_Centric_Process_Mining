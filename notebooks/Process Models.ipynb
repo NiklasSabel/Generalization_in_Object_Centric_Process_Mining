{
 "cells": [
  {
   "cell_type": "markdown",
   "id": "3629febf",
   "metadata": {},
   "source": [
    "# Process Models"
   ]
  },
  {
   "cell_type": "markdown",
   "id": "ad07bf88",
   "metadata": {},
   "source": [
    "In this notebook, we try to generate different process models for our selected datasets such that we are able to use our metrics on different variations of the same log. We also plot different metrics that give an overview on the dataset."
   ]
  },
  {
   "cell_type": "code",
   "execution_count": 2,
   "id": "c9aeff9a",
   "metadata": {},
   "outputs": [],
   "source": [
    "import warnings\n",
    "warnings.filterwarnings('ignore')"
   ]
  },
  {
   "cell_type": "code",
   "execution_count": 3,
   "id": "7cd21f2c",
   "metadata": {},
   "outputs": [],
   "source": [
    "from src.utils import get_happy_path_log, save_process_model_visualization, create_flower_model, generate_variant_model\n",
    "from ocpa.objects.log.importer.ocel import factory as ocel_import_factory\n",
    "from ocpa.algo.discovery.ocpn import algorithm as ocpn_discovery_factory\n",
    "from ocpa.visualization.oc_petri_net import factory as ocpn_vis_factory\n",
    "import os"
   ]
  },
  {
   "cell_type": "markdown",
   "id": "2438a2f7",
   "metadata": {},
   "source": [
    "For better clarity, we define a function that incorporates every single model generation."
   ]
  },
  {
   "cell_type": "code",
   "execution_count": 1,
   "id": "63d39e4c",
   "metadata": {},
   "outputs": [],
   "source": [
    "def model_generation(log_name, ots):\n",
    "    #set the path for the graphviz package\n",
    "    os.environ[\"PATH\"] += os.pathsep + 'C:/Program Files/Graphviz/bin'\n",
    "    # define the path of the original file\n",
    "    load_path = f\"../src/data/jsonocel/{log_name}.jsonocel\"\n",
    "    #generate the normal ocpn model\n",
    "    ocel = ocel_import_factory.apply(load_path)\n",
    "    print(\"Number of process executions: \"+str(len(ocel.process_executions)))\n",
    "    print(\"Number of variants: \"+str(len(ocel.variants)))\n",
    "    ocpn = ocpn_discovery_factory.apply(ocel, parameters = {\"debug\":False})\n",
    "    gviz = ocpn_vis_factory.apply(ocpn, parameters={'format': 'svg'})\n",
    "    ocpn_vis_factory.save(gviz,f\"../reports/figures/{log_name}.svg\")\n",
    "    print('###### OCPA ocpn model generated #####')\n",
    "    #definesave path for the happy path model\n",
    "    save_path = f\"../src/data/jsonocel/{log_name}-happy-path.jsonocel\"\n",
    "    #generate the happy path model\n",
    "    ocel = get_happy_path_log(load_path, save_path)\n",
    "    #save the process model picture\n",
    "    save_process_model_visualization(ocel,f\"../reports/figures/{log_name}-happy-path.svg\" )\n",
    "    print('###### Happy path model generated #####')\n",
    "    #define the save path for the flower model visualization\n",
    "    save_path_flower = f\"../reports/figures/{log_name}-flower-model.svg\"\n",
    "    #create the flower model based on the given object types\n",
    "    flower_ocpn = create_flower_model(load_path,ots,save_path_flower)\n",
    "    print('###### Flower model generated #####')\n",
    "    #get the ocel_log for the variant model\n",
    "    ocel = ocel_import_factory.apply(load_path)\n",
    "    #generate the variant model\n",
    "    variant_ocpn = generate_variant_model(ocel,save_path_logs=f'../src/data/csv/{log_name}_variants/{log_name}_variant',object_types = ots  )\n",
    "    print('###### Variant model generated #####')"
   ]
  },
  {
   "cell_type": "markdown",
   "id": "d0d36a81",
   "metadata": {},
   "source": [
    "## P2P Log"
   ]
  },
  {
   "cell_type": "code",
   "execution_count": 6,
   "id": "8c7fbcc5",
   "metadata": {},
   "outputs": [
    {
     "name": "stdout",
     "output_type": "stream",
     "text": [
      "Number of process executions: 80\n",
      "Number of variants: 20\n",
      "###### OCPA ocpn model generated #####\n",
      "###### Happy path model generated #####\n",
      "###### Flower model generated #####\n"
     ]
    },
    {
     "name": "stderr",
     "output_type": "stream",
     "text": [
      "Generating Variant Models: 100%|██████████| 20/20 [00:02<00:00,  9.50it/s]\n",
      "Processing Variant Nets: 100%|██████████| 20/20 [00:00<00:00, 9979.31it/s]\n"
     ]
    },
    {
     "name": "stdout",
     "output_type": "stream",
     "text": [
      "#########Start generating Object-Centric Petri Net#########\n",
      "#########Finished generating Object-Centric Petri Net#########\n",
      "###### Variant model generated #####\n"
     ]
    }
   ],
   "source": [
    "model_generation('p2p-normal',ots = [\"PURCHORD\",\"INVOICE\",\"PURCHREQ\",\"MATERIAL\",\"GDSRCPT\"] )"
   ]
  },
  {
   "cell_type": "markdown",
   "id": "eb3c38f0",
   "metadata": {},
   "source": [
    "## O2C Log"
   ]
  },
  {
   "cell_type": "code",
   "execution_count": 14,
   "id": "35b3b72a",
   "metadata": {},
   "outputs": [
    {
     "name": "stdout",
     "output_type": "stream",
     "text": [
      "Number of process executions: 48\n",
      "Number of variants: 12\n",
      "###### OCPA ocpn model generated #####\n",
      "###### Happy path model generated #####\n",
      "###### Flower model generated #####\n"
     ]
    },
    {
     "name": "stderr",
     "output_type": "stream",
     "text": [
      "\n",
      "Generating Variant Models:   0%|          | 0/12 [00:00<?, ?it/s]\u001B[A\n",
      "Generating Variant Models:  17%|█▋        | 2/12 [00:00<00:00, 12.51it/s]\u001B[A\n",
      "Generating Variant Models:  33%|███▎      | 4/12 [00:00<00:00, 12.93it/s]\u001B[A\n",
      "Generating Variant Models:  50%|█████     | 6/12 [00:00<00:00, 12.45it/s]\u001B[A\n",
      "Generating Variant Models:  67%|██████▋   | 8/12 [00:00<00:00, 12.19it/s]\u001B[A\n",
      "Generating Variant Models: 100%|██████████| 12/12 [00:01<00:00,  8.03it/s]\u001B[A\n",
      "\n",
      "Processing Variant Nets: 100%|██████████| 12/12 [00:00<00:00, 11989.43it/s]\n"
     ]
    },
    {
     "name": "stdout",
     "output_type": "stream",
     "text": [
      "#########Start generating Object-Centric Petri Net#########\n",
      "#########Finished generating Object-Centric Petri Net#########\n",
      "###### Variant model generated #####\n"
     ]
    }
   ],
   "source": [
    "model_generation('order_process',ots = [\"order\",\"item\",\"delivery\"])"
   ]
  },
  {
   "cell_type": "markdown",
   "id": "576cac4e",
   "metadata": {},
   "source": [
    "## BPI-Challenge 2017 log"
   ]
  },
  {
   "cell_type": "code",
   "execution_count": null,
   "id": "fc7f5735",
   "metadata": {},
   "outputs": [],
   "source": [
    "model_generation('BPI2017-Final',ots = [\"application\",\"offer\"] )"
   ]
  },
  {
   "cell_type": "markdown",
   "id": "7b90f0b2",
   "metadata": {},
   "source": [
    "# DS3 log"
   ]
  },
  {
   "cell_type": "code",
   "execution_count": 4,
   "id": "4b7e9738",
   "metadata": {},
   "outputs": [
    {
     "name": "stdout",
     "output_type": "stream",
     "text": [
      "Number of process executions: 4825\n",
      "Number of variants: 3377\n",
      "###### OCPA ocpn model generated #####\n",
      "###### Happy path model generated #####\n",
      "###### Flower model generated #####\n"
     ]
    },
    {
     "name": "stderr",
     "output_type": "stream",
     "text": [
      "Generating Variant Models: 100%|██████████| 3377/3377 [09:20<00:00,  6.03it/s]\n",
      "Processing Variant Nets: 100%|██████████| 3377/3377 [00:00<00:00, 18619.10it/s]\n"
     ]
    },
    {
     "name": "stdout",
     "output_type": "stream",
     "text": [
      "#########Start generating Object-Centric Petri Net#########\n",
      "#########Finished generating Object-Centric Petri Net#########\n",
      "###### Variant model generated #####\n"
     ]
    }
   ],
   "source": [
    "model_generation('DS3',ots = [\"incident\",\"customer\"] )"
   ]
  },
  {
   "cell_type": "markdown",
   "id": "03ef6b1f",
   "metadata": {},
   "source": [
    "# DS4 log"
   ]
  },
  {
   "cell_type": "code",
   "execution_count": 5,
   "id": "7eecca56",
   "metadata": {},
   "outputs": [
    {
     "name": "stdout",
     "output_type": "stream",
     "text": [
      "Number of process executions: 14507\n",
      "Number of variants: 7259\n",
      "###### OCPA ocpn model generated #####\n",
      "###### Happy path model generated #####\n",
      "###### Flower model generated #####\n"
     ]
    },
    {
     "name": "stderr",
     "output_type": "stream",
     "text": [
      "Generating Variant Models:  11%|█         | 795/7259 [11:10<1:30:49,  1.19it/s]\n"
     ]
    },
    {
     "ename": "KeyboardInterrupt",
     "evalue": "",
     "output_type": "error",
     "traceback": [
      "\u001B[1;31m---------------------------------------------------------------------------\u001B[0m",
      "\u001B[1;31mKeyboardInterrupt\u001B[0m                         Traceback (most recent call last)",
      "Cell \u001B[1;32mIn[5], line 1\u001B[0m\n\u001B[1;32m----> 1\u001B[0m \u001B[43mmodel_generation\u001B[49m\u001B[43m(\u001B[49m\u001B[38;5;124;43m'\u001B[39;49m\u001B[38;5;124;43mDS4\u001B[39;49m\u001B[38;5;124;43m'\u001B[39;49m\u001B[43m,\u001B[49m\u001B[43mots\u001B[49m\u001B[43m \u001B[49m\u001B[38;5;241;43m=\u001B[39;49m\u001B[43m \u001B[49m\u001B[43m[\u001B[49m\u001B[38;5;124;43m\"\u001B[39;49m\u001B[38;5;124;43mPayment application\u001B[39;49m\u001B[38;5;124;43m\"\u001B[39;49m\u001B[43m,\u001B[49m\u001B[38;5;124;43m\"\u001B[39;49m\u001B[38;5;124;43mControl summary\u001B[39;49m\u001B[38;5;124;43m\"\u001B[39;49m\u001B[43m,\u001B[49m\u001B[38;5;124;43m\"\u001B[39;49m\u001B[38;5;124;43mEntitlement application\u001B[39;49m\u001B[38;5;124;43m\"\u001B[39;49m\u001B[43m,\u001B[49m\u001B[38;5;124;43m\"\u001B[39;49m\u001B[38;5;124;43mGeo parcel document\u001B[39;49m\u001B[38;5;124;43m\"\u001B[39;49m\u001B[43m,\u001B[49m\u001B[38;5;124;43m\"\u001B[39;49m\u001B[38;5;124;43mInspection\u001B[39;49m\u001B[38;5;124;43m\"\u001B[39;49m\u001B[43m,\u001B[49m\u001B[38;5;124;43m\"\u001B[39;49m\u001B[38;5;124;43mReference alignment\u001B[39;49m\u001B[38;5;124;43m\"\u001B[39;49m\u001B[43m]\u001B[49m\u001B[43m \u001B[49m\u001B[43m)\u001B[49m\n",
      "Cell \u001B[1;32mIn[1], line 29\u001B[0m, in \u001B[0;36mmodel_generation\u001B[1;34m(log_name, ots)\u001B[0m\n\u001B[0;32m     27\u001B[0m ocel \u001B[38;5;241m=\u001B[39m ocel_import_factory\u001B[38;5;241m.\u001B[39mapply(load_path)\n\u001B[0;32m     28\u001B[0m \u001B[38;5;66;03m#generate the variant model\u001B[39;00m\n\u001B[1;32m---> 29\u001B[0m variant_ocpn \u001B[38;5;241m=\u001B[39m \u001B[43mgenerate_variant_model\u001B[49m\u001B[43m(\u001B[49m\u001B[43mocel\u001B[49m\u001B[43m,\u001B[49m\u001B[43msave_path_logs\u001B[49m\u001B[38;5;241;43m=\u001B[39;49m\u001B[38;5;124;43mf\u001B[39;49m\u001B[38;5;124;43m'\u001B[39;49m\u001B[38;5;124;43m../src/data/csv/\u001B[39;49m\u001B[38;5;132;43;01m{\u001B[39;49;00m\u001B[43mlog_name\u001B[49m\u001B[38;5;132;43;01m}\u001B[39;49;00m\u001B[38;5;124;43m_variants/\u001B[39;49m\u001B[38;5;132;43;01m{\u001B[39;49;00m\u001B[43mlog_name\u001B[49m\u001B[38;5;132;43;01m}\u001B[39;49;00m\u001B[38;5;124;43m_variant\u001B[39;49m\u001B[38;5;124;43m'\u001B[39;49m\u001B[43m,\u001B[49m\u001B[43mobject_types\u001B[49m\u001B[43m \u001B[49m\u001B[38;5;241;43m=\u001B[39;49m\u001B[43m \u001B[49m\u001B[43mots\u001B[49m\u001B[43m  \u001B[49m\u001B[43m)\u001B[49m\n\u001B[0;32m     30\u001B[0m \u001B[38;5;28mprint\u001B[39m(\u001B[38;5;124m'\u001B[39m\u001B[38;5;124m###### Variant model generated #####\u001B[39m\u001B[38;5;124m'\u001B[39m)\n",
      "File \u001B[1;32m~\\PycharmProjects\\Generalization in Object-Centric Process Mining\\src\\utils.py:117\u001B[0m, in \u001B[0;36mgenerate_variant_model\u001B[1;34m(ocel, save_path_logs, object_types, save_path_visuals)\u001B[0m\n\u001B[0;32m    109\u001B[0m parameters \u001B[38;5;241m=\u001B[39m {\n\u001B[0;32m    110\u001B[0m     \u001B[38;5;124m\"\u001B[39m\u001B[38;5;124mobj_names\u001B[39m\u001B[38;5;124m\"\u001B[39m: object_types,\n\u001B[0;32m    111\u001B[0m     \u001B[38;5;124m\"\u001B[39m\u001B[38;5;124mval_names\u001B[39m\u001B[38;5;124m\"\u001B[39m: [],\n\u001B[1;32m   (...)\u001B[0m\n\u001B[0;32m    114\u001B[0m     \u001B[38;5;124m\"\u001B[39m\u001B[38;5;124msep\u001B[39m\u001B[38;5;124m\"\u001B[39m: \u001B[38;5;124m\"\u001B[39m\u001B[38;5;124m,\u001B[39m\u001B[38;5;124m\"\u001B[39m,\n\u001B[0;32m    115\u001B[0m }\n\u001B[0;32m    116\u001B[0m ocel_new \u001B[38;5;241m=\u001B[39m ocel_import_factory_csv\u001B[38;5;241m.\u001B[39mapply(file_path\u001B[38;5;241m=\u001B[39mfilename, parameters\u001B[38;5;241m=\u001B[39mparameters)\n\u001B[1;32m--> 117\u001B[0m ocpn_new \u001B[38;5;241m=\u001B[39m \u001B[43mocpn_discovery_factory\u001B[49m\u001B[38;5;241;43m.\u001B[39;49m\u001B[43mapply\u001B[49m\u001B[43m(\u001B[49m\u001B[43mocel_new\u001B[49m\u001B[43m,\u001B[49m\u001B[43m \u001B[49m\u001B[43mparameters\u001B[49m\u001B[38;5;241;43m=\u001B[39;49m\u001B[43m{\u001B[49m\u001B[38;5;124;43m\"\u001B[39;49m\u001B[38;5;124;43mdebug\u001B[39;49m\u001B[38;5;124;43m\"\u001B[39;49m\u001B[43m:\u001B[49m\u001B[43m \u001B[49m\u001B[38;5;28;43;01mFalse\u001B[39;49;00m\u001B[43m}\u001B[49m\u001B[43m)\u001B[49m\n\u001B[0;32m    118\u001B[0m \u001B[38;5;66;03m# append all the variant petri nets to our predefined list\u001B[39;00m\n\u001B[0;32m    119\u001B[0m ocpn_nets\u001B[38;5;241m.\u001B[39mappend(ocpn_new)\n",
      "File \u001B[1;32m~\\PycharmProjects\\Generalization in Object-Centric Process Mining\\venv\\lib\\site-packages\\ocpa\\algo\\discovery\\ocpn\\algorithm.py:13\u001B[0m, in \u001B[0;36mapply\u001B[1;34m(ocel, variant, parameters)\u001B[0m\n\u001B[0;32m     11\u001B[0m \u001B[38;5;28;01mdef\u001B[39;00m \u001B[38;5;21mapply\u001B[39m(ocel, variant\u001B[38;5;241m=\u001B[39mINDUCTIVE, parameters\u001B[38;5;241m=\u001B[39m\u001B[38;5;28;01mNone\u001B[39;00m):\n\u001B[0;32m     12\u001B[0m     \u001B[38;5;28;01mif\u001B[39;00m \u001B[38;5;28mtype\u001B[39m(ocel) \u001B[38;5;241m==\u001B[39m OCEL:\n\u001B[1;32m---> 13\u001B[0m         \u001B[38;5;28;01mreturn\u001B[39;00m \u001B[43mVERSIONS\u001B[49m\u001B[43m[\u001B[49m\u001B[43mvariant\u001B[49m\u001B[43m]\u001B[49m\u001B[43m(\u001B[49m\u001B[43mocel\u001B[49m\u001B[38;5;241;43m.\u001B[39;49m\u001B[43mlog\u001B[49m\u001B[38;5;241;43m.\u001B[39;49m\u001B[43mlog\u001B[49m\u001B[43m,\u001B[49m\u001B[43m \u001B[49m\u001B[43mparameters\u001B[49m\u001B[38;5;241;43m=\u001B[39;49m\u001B[43mparameters\u001B[49m\u001B[43m)\u001B[49m\n\u001B[0;32m     14\u001B[0m     \u001B[38;5;28;01mif\u001B[39;00m \u001B[38;5;28mtype\u001B[39m(ocel) \u001B[38;5;241m==\u001B[39m ObjectCentricEventLog:\n\u001B[0;32m     15\u001B[0m         df, _ \u001B[38;5;241m=\u001B[39m convert_factory\u001B[38;5;241m.\u001B[39mapply(ocel, variant\u001B[38;5;241m=\u001B[39m\u001B[38;5;124m'\u001B[39m\u001B[38;5;124mjson_to_mdl\u001B[39m\u001B[38;5;124m'\u001B[39m)\n",
      "File \u001B[1;32m~\\PycharmProjects\\Generalization in Object-Centric Process Mining\\venv\\lib\\site-packages\\ocpa\\algo\\discovery\\ocpn\\versions\\inductive.py:136\u001B[0m, in \u001B[0;36mapply\u001B[1;34m(df, discovery_algorithm, parameters)\u001B[0m\n\u001B[0;32m    135\u001B[0m \u001B[38;5;28;01mdef\u001B[39;00m \u001B[38;5;21mapply\u001B[39m(df, discovery_algorithm\u001B[38;5;241m=\u001B[39mdiscover_inductive, parameters\u001B[38;5;241m=\u001B[39m\u001B[38;5;28;01mNone\u001B[39;00m):\n\u001B[1;32m--> 136\u001B[0m     ret \u001B[38;5;241m=\u001B[39m \u001B[43mdiscover_nets\u001B[49m\u001B[43m(\u001B[49m\u001B[43mdf\u001B[49m\u001B[43m,\u001B[49m\u001B[43m \u001B[49m\u001B[43mdiscovery_algorithm\u001B[49m\u001B[43m,\u001B[49m\u001B[43m \u001B[49m\u001B[43mparameters\u001B[49m\u001B[43m)\u001B[49m\n\u001B[0;32m    137\u001B[0m     nets \u001B[38;5;241m=\u001B[39m ret[\u001B[38;5;124m\"\u001B[39m\u001B[38;5;124mnets\u001B[39m\u001B[38;5;124m\"\u001B[39m]\n\u001B[0;32m    138\u001B[0m     object_count_persp \u001B[38;5;241m=\u001B[39m ret[\u001B[38;5;124m\"\u001B[39m\u001B[38;5;124mobject_count\u001B[39m\u001B[38;5;124m\"\u001B[39m]\n",
      "File \u001B[1;32m~\\PycharmProjects\\Generalization in Object-Centric Process Mining\\venv\\lib\\site-packages\\ocpa\\algo\\discovery\\ocpn\\versions\\inductive.py:78\u001B[0m, in \u001B[0;36mdiscover_nets\u001B[1;34m(df, discovery_algorithm, parameters)\u001B[0m\n\u001B[0;32m     75\u001B[0m min_node_freq \u001B[38;5;241m=\u001B[39m parameters[\u001B[38;5;124m\"\u001B[39m\u001B[38;5;124mmin_node_freq\u001B[39m\u001B[38;5;124m\"\u001B[39m] \u001B[38;5;28;01mif\u001B[39;00m \u001B[38;5;124m\"\u001B[39m\u001B[38;5;124mmin_node_freq\u001B[39m\u001B[38;5;124m\"\u001B[39m \u001B[38;5;129;01min\u001B[39;00m parameters \u001B[38;5;28;01melse\u001B[39;00m \u001B[38;5;241m0\u001B[39m\n\u001B[0;32m     76\u001B[0m min_edge_freq \u001B[38;5;241m=\u001B[39m parameters[\u001B[38;5;124m\"\u001B[39m\u001B[38;5;124mmin_edge_freq\u001B[39m\u001B[38;5;124m\"\u001B[39m] \u001B[38;5;28;01mif\u001B[39;00m \u001B[38;5;124m\"\u001B[39m\u001B[38;5;124mmin_edge_freq\u001B[39m\u001B[38;5;124m\"\u001B[39m \u001B[38;5;129;01min\u001B[39;00m parameters \u001B[38;5;28;01melse\u001B[39;00m \u001B[38;5;241m0\u001B[39m\n\u001B[1;32m---> 78\u001B[0m df \u001B[38;5;241m=\u001B[39m \u001B[43mclean_frequency\u001B[49m\u001B[43m(\u001B[49m\u001B[43mdf\u001B[49m\u001B[43m,\u001B[49m\u001B[43m \u001B[49m\u001B[43mmin_node_freq\u001B[49m\u001B[43m)\u001B[49m\n\u001B[0;32m     79\u001B[0m df \u001B[38;5;241m=\u001B[39m clean_arc_frequency(df, min_edge_freq)\n\u001B[0;32m     81\u001B[0m \u001B[38;5;28;01mif\u001B[39;00m \u001B[38;5;28mlen\u001B[39m(df) \u001B[38;5;241m==\u001B[39m \u001B[38;5;241m0\u001B[39m:\n",
      "File \u001B[1;32m~\\PycharmProjects\\Generalization in Object-Centric Process Mining\\venv\\lib\\site-packages\\ocpa\\objects\\log\\importer\\csv\\util.py:65\u001B[0m, in \u001B[0;36mclean_frequency\u001B[1;34m(df, min_acti_freq)\u001B[0m\n\u001B[0;32m     63\u001B[0m \u001B[38;5;28;01mexcept\u001B[39;00m:\n\u001B[0;32m     64\u001B[0m     \u001B[38;5;28;01mpass\u001B[39;00m\n\u001B[1;32m---> 65\u001B[0m activ \u001B[38;5;241m=\u001B[39m \u001B[38;5;28mdict\u001B[39m(\u001B[43mdf\u001B[49m\u001B[38;5;241;43m.\u001B[39;49m\u001B[43mgroupby\u001B[49m\u001B[43m(\u001B[49m\u001B[38;5;124;43m\"\u001B[39;49m\u001B[38;5;124;43mevent_id\u001B[39;49m\u001B[38;5;124;43m\"\u001B[39;49m\u001B[43m)\u001B[49m\u001B[38;5;241;43m.\u001B[39;49m\u001B[43mfirst\u001B[49m\u001B[43m(\u001B[49m\u001B[43m)\u001B[49m[\n\u001B[0;32m     66\u001B[0m              \u001B[38;5;124m\"\u001B[39m\u001B[38;5;124mevent_activity\u001B[39m\u001B[38;5;124m\"\u001B[39m]\u001B[38;5;241m.\u001B[39mvalue_counts())\n\u001B[0;32m     67\u001B[0m activ \u001B[38;5;241m=\u001B[39m [x \u001B[38;5;28;01mfor\u001B[39;00m x, y \u001B[38;5;129;01min\u001B[39;00m activ\u001B[38;5;241m.\u001B[39mitems() \u001B[38;5;28;01mif\u001B[39;00m y \u001B[38;5;241m>\u001B[39m\u001B[38;5;241m=\u001B[39m min_acti_freq]\n\u001B[0;32m     68\u001B[0m \u001B[38;5;28;01mreturn\u001B[39;00m df[df[\u001B[38;5;124m\"\u001B[39m\u001B[38;5;124mevent_activity\u001B[39m\u001B[38;5;124m\"\u001B[39m]\u001B[38;5;241m.\u001B[39misin(activ)]\n",
      "File \u001B[1;32m~\\PycharmProjects\\Generalization in Object-Centric Process Mining\\venv\\lib\\site-packages\\pandas\\core\\groupby\\groupby.py:2580\u001B[0m, in \u001B[0;36mGroupBy.first\u001B[1;34m(self, numeric_only, min_count)\u001B[0m\n\u001B[0;32m   2577\u001B[0m     \u001B[38;5;28;01melse\u001B[39;00m:  \u001B[38;5;66;03m# pragma: no cover\u001B[39;00m\n\u001B[0;32m   2578\u001B[0m         \u001B[38;5;28;01mraise\u001B[39;00m \u001B[38;5;167;01mTypeError\u001B[39;00m(\u001B[38;5;28mtype\u001B[39m(obj))\n\u001B[1;32m-> 2580\u001B[0m \u001B[38;5;28;01mreturn\u001B[39;00m \u001B[38;5;28;43mself\u001B[39;49m\u001B[38;5;241;43m.\u001B[39;49m\u001B[43m_agg_general\u001B[49m\u001B[43m(\u001B[49m\n\u001B[0;32m   2581\u001B[0m \u001B[43m    \u001B[49m\u001B[43mnumeric_only\u001B[49m\u001B[38;5;241;43m=\u001B[39;49m\u001B[43mnumeric_only\u001B[49m\u001B[43m,\u001B[49m\n\u001B[0;32m   2582\u001B[0m \u001B[43m    \u001B[49m\u001B[43mmin_count\u001B[49m\u001B[38;5;241;43m=\u001B[39;49m\u001B[43mmin_count\u001B[49m\u001B[43m,\u001B[49m\n\u001B[0;32m   2583\u001B[0m \u001B[43m    \u001B[49m\u001B[43malias\u001B[49m\u001B[38;5;241;43m=\u001B[39;49m\u001B[38;5;124;43m\"\u001B[39;49m\u001B[38;5;124;43mfirst\u001B[39;49m\u001B[38;5;124;43m\"\u001B[39;49m\u001B[43m,\u001B[49m\n\u001B[0;32m   2584\u001B[0m \u001B[43m    \u001B[49m\u001B[43mnpfunc\u001B[49m\u001B[38;5;241;43m=\u001B[39;49m\u001B[43mfirst_compat\u001B[49m\u001B[43m,\u001B[49m\n\u001B[0;32m   2585\u001B[0m \u001B[43m\u001B[49m\u001B[43m)\u001B[49m\n",
      "File \u001B[1;32m~\\PycharmProjects\\Generalization in Object-Centric Process Mining\\venv\\lib\\site-packages\\pandas\\core\\groupby\\groupby.py:1711\u001B[0m, in \u001B[0;36mGroupBy._agg_general\u001B[1;34m(self, numeric_only, min_count, alias, npfunc)\u001B[0m\n\u001B[0;32m   1699\u001B[0m \u001B[38;5;129m@final\u001B[39m\n\u001B[0;32m   1700\u001B[0m \u001B[38;5;28;01mdef\u001B[39;00m \u001B[38;5;21m_agg_general\u001B[39m(\n\u001B[0;32m   1701\u001B[0m     \u001B[38;5;28mself\u001B[39m,\n\u001B[1;32m   (...)\u001B[0m\n\u001B[0;32m   1706\u001B[0m     npfunc: Callable,\n\u001B[0;32m   1707\u001B[0m ):\n\u001B[0;32m   1709\u001B[0m     \u001B[38;5;28;01mwith\u001B[39;00m \u001B[38;5;28mself\u001B[39m\u001B[38;5;241m.\u001B[39m_group_selection_context():\n\u001B[0;32m   1710\u001B[0m         \u001B[38;5;66;03m# try a cython aggregation if we can\u001B[39;00m\n\u001B[1;32m-> 1711\u001B[0m         result \u001B[38;5;241m=\u001B[39m \u001B[38;5;28;43mself\u001B[39;49m\u001B[38;5;241;43m.\u001B[39;49m\u001B[43m_cython_agg_general\u001B[49m\u001B[43m(\u001B[49m\n\u001B[0;32m   1712\u001B[0m \u001B[43m            \u001B[49m\u001B[43mhow\u001B[49m\u001B[38;5;241;43m=\u001B[39;49m\u001B[43malias\u001B[49m\u001B[43m,\u001B[49m\n\u001B[0;32m   1713\u001B[0m \u001B[43m            \u001B[49m\u001B[43malt\u001B[49m\u001B[38;5;241;43m=\u001B[39;49m\u001B[43mnpfunc\u001B[49m\u001B[43m,\u001B[49m\n\u001B[0;32m   1714\u001B[0m \u001B[43m            \u001B[49m\u001B[43mnumeric_only\u001B[49m\u001B[38;5;241;43m=\u001B[39;49m\u001B[43mnumeric_only\u001B[49m\u001B[43m,\u001B[49m\n\u001B[0;32m   1715\u001B[0m \u001B[43m            \u001B[49m\u001B[43mmin_count\u001B[49m\u001B[38;5;241;43m=\u001B[39;49m\u001B[43mmin_count\u001B[49m\u001B[43m,\u001B[49m\n\u001B[0;32m   1716\u001B[0m \u001B[43m        \u001B[49m\u001B[43m)\u001B[49m\n\u001B[0;32m   1717\u001B[0m         \u001B[38;5;28;01mreturn\u001B[39;00m result\u001B[38;5;241m.\u001B[39m__finalize__(\u001B[38;5;28mself\u001B[39m\u001B[38;5;241m.\u001B[39mobj, method\u001B[38;5;241m=\u001B[39m\u001B[38;5;124m\"\u001B[39m\u001B[38;5;124mgroupby\u001B[39m\u001B[38;5;124m\"\u001B[39m)\n",
      "File \u001B[1;32m~\\PycharmProjects\\Generalization in Object-Centric Process Mining\\venv\\lib\\site-packages\\pandas\\core\\groupby\\groupby.py:1810\u001B[0m, in \u001B[0;36mGroupBy._cython_agg_general\u001B[1;34m(self, how, alt, numeric_only, min_count, ignore_failures, **kwargs)\u001B[0m\n\u001B[0;32m   1806\u001B[0m     \u001B[38;5;28;01mreturn\u001B[39;00m result\n\u001B[0;32m   1808\u001B[0m \u001B[38;5;66;03m# TypeError -> we may have an exception in trying to aggregate\u001B[39;00m\n\u001B[0;32m   1809\u001B[0m \u001B[38;5;66;03m#  continue and exclude the block\u001B[39;00m\n\u001B[1;32m-> 1810\u001B[0m new_mgr \u001B[38;5;241m=\u001B[39m \u001B[43mdata\u001B[49m\u001B[38;5;241;43m.\u001B[39;49m\u001B[43mgrouped_reduce\u001B[49m\u001B[43m(\u001B[49m\u001B[43marray_func\u001B[49m\u001B[43m,\u001B[49m\u001B[43m \u001B[49m\u001B[43mignore_failures\u001B[49m\u001B[38;5;241;43m=\u001B[39;49m\u001B[43mignore_failures\u001B[49m\u001B[43m)\u001B[49m\n\u001B[0;32m   1812\u001B[0m \u001B[38;5;28;01mif\u001B[39;00m \u001B[38;5;129;01mnot\u001B[39;00m is_ser \u001B[38;5;129;01mand\u001B[39;00m \u001B[38;5;28mlen\u001B[39m(new_mgr) \u001B[38;5;241m<\u001B[39m orig_len:\n\u001B[0;32m   1813\u001B[0m     warn_dropping_nuisance_columns_deprecated(\u001B[38;5;28mtype\u001B[39m(\u001B[38;5;28mself\u001B[39m), how, numeric_only)\n",
      "File \u001B[1;32m~\\PycharmProjects\\Generalization in Object-Centric Process Mining\\venv\\lib\\site-packages\\pandas\\core\\internals\\managers.py:1518\u001B[0m, in \u001B[0;36mBlockManager.grouped_reduce\u001B[1;34m(self, func, ignore_failures)\u001B[0m\n\u001B[0;32m   1516\u001B[0m \u001B[38;5;28;01mfor\u001B[39;00m sb \u001B[38;5;129;01min\u001B[39;00m blk\u001B[38;5;241m.\u001B[39m_split():\n\u001B[0;32m   1517\u001B[0m     \u001B[38;5;28;01mtry\u001B[39;00m:\n\u001B[1;32m-> 1518\u001B[0m         applied \u001B[38;5;241m=\u001B[39m \u001B[43msb\u001B[49m\u001B[38;5;241;43m.\u001B[39;49m\u001B[43mapply\u001B[49m\u001B[43m(\u001B[49m\u001B[43mfunc\u001B[49m\u001B[43m)\u001B[49m\n\u001B[0;32m   1519\u001B[0m     \u001B[38;5;28;01mexcept\u001B[39;00m (\u001B[38;5;167;01mTypeError\u001B[39;00m, \u001B[38;5;167;01mNotImplementedError\u001B[39;00m):\n\u001B[0;32m   1520\u001B[0m         \u001B[38;5;28;01mif\u001B[39;00m \u001B[38;5;129;01mnot\u001B[39;00m ignore_failures:\n",
      "File \u001B[1;32m~\\PycharmProjects\\Generalization in Object-Centric Process Mining\\venv\\lib\\site-packages\\pandas\\core\\internals\\blocks.py:351\u001B[0m, in \u001B[0;36mBlock.apply\u001B[1;34m(self, func, **kwargs)\u001B[0m\n\u001B[0;32m    345\u001B[0m \u001B[38;5;129m@final\u001B[39m\n\u001B[0;32m    346\u001B[0m \u001B[38;5;28;01mdef\u001B[39;00m \u001B[38;5;21mapply\u001B[39m(\u001B[38;5;28mself\u001B[39m, func, \u001B[38;5;241m*\u001B[39m\u001B[38;5;241m*\u001B[39mkwargs) \u001B[38;5;241m-\u001B[39m\u001B[38;5;241m>\u001B[39m \u001B[38;5;28mlist\u001B[39m[Block]:\n\u001B[0;32m    347\u001B[0m \u001B[38;5;250m    \u001B[39m\u001B[38;5;124;03m\"\"\"\u001B[39;00m\n\u001B[0;32m    348\u001B[0m \u001B[38;5;124;03m    apply the function to my values; return a block if we are not\u001B[39;00m\n\u001B[0;32m    349\u001B[0m \u001B[38;5;124;03m    one\u001B[39;00m\n\u001B[0;32m    350\u001B[0m \u001B[38;5;124;03m    \"\"\"\u001B[39;00m\n\u001B[1;32m--> 351\u001B[0m     result \u001B[38;5;241m=\u001B[39m \u001B[43mfunc\u001B[49m\u001B[43m(\u001B[49m\u001B[38;5;28;43mself\u001B[39;49m\u001B[38;5;241;43m.\u001B[39;49m\u001B[43mvalues\u001B[49m\u001B[43m,\u001B[49m\u001B[43m \u001B[49m\u001B[38;5;241;43m*\u001B[39;49m\u001B[38;5;241;43m*\u001B[39;49m\u001B[43mkwargs\u001B[49m\u001B[43m)\u001B[49m\n\u001B[0;32m    353\u001B[0m     \u001B[38;5;28;01mreturn\u001B[39;00m \u001B[38;5;28mself\u001B[39m\u001B[38;5;241m.\u001B[39m_split_op_result(result)\n",
      "File \u001B[1;32m~\\PycharmProjects\\Generalization in Object-Centric Process Mining\\venv\\lib\\site-packages\\pandas\\core\\groupby\\groupby.py:1791\u001B[0m, in \u001B[0;36mGroupBy._cython_agg_general.<locals>.array_func\u001B[1;34m(values)\u001B[0m\n\u001B[0;32m   1789\u001B[0m \u001B[38;5;28;01mdef\u001B[39;00m \u001B[38;5;21marray_func\u001B[39m(values: ArrayLike) \u001B[38;5;241m-\u001B[39m\u001B[38;5;241m>\u001B[39m ArrayLike:\n\u001B[0;32m   1790\u001B[0m     \u001B[38;5;28;01mtry\u001B[39;00m:\n\u001B[1;32m-> 1791\u001B[0m         result \u001B[38;5;241m=\u001B[39m \u001B[38;5;28;43mself\u001B[39;49m\u001B[38;5;241;43m.\u001B[39;49m\u001B[43mgrouper\u001B[49m\u001B[38;5;241;43m.\u001B[39;49m\u001B[43m_cython_operation\u001B[49m\u001B[43m(\u001B[49m\n\u001B[0;32m   1792\u001B[0m \u001B[43m            \u001B[49m\u001B[38;5;124;43m\"\u001B[39;49m\u001B[38;5;124;43maggregate\u001B[39;49m\u001B[38;5;124;43m\"\u001B[39;49m\u001B[43m,\u001B[49m\n\u001B[0;32m   1793\u001B[0m \u001B[43m            \u001B[49m\u001B[43mvalues\u001B[49m\u001B[43m,\u001B[49m\n\u001B[0;32m   1794\u001B[0m \u001B[43m            \u001B[49m\u001B[43mhow\u001B[49m\u001B[43m,\u001B[49m\n\u001B[0;32m   1795\u001B[0m \u001B[43m            \u001B[49m\u001B[43maxis\u001B[49m\u001B[38;5;241;43m=\u001B[39;49m\u001B[43mdata\u001B[49m\u001B[38;5;241;43m.\u001B[39;49m\u001B[43mndim\u001B[49m\u001B[43m \u001B[49m\u001B[38;5;241;43m-\u001B[39;49m\u001B[43m \u001B[49m\u001B[38;5;241;43m1\u001B[39;49m\u001B[43m,\u001B[49m\n\u001B[0;32m   1796\u001B[0m \u001B[43m            \u001B[49m\u001B[43mmin_count\u001B[49m\u001B[38;5;241;43m=\u001B[39;49m\u001B[43mmin_count\u001B[49m\u001B[43m,\u001B[49m\n\u001B[0;32m   1797\u001B[0m \u001B[43m            \u001B[49m\u001B[38;5;241;43m*\u001B[39;49m\u001B[38;5;241;43m*\u001B[39;49m\u001B[43mkwargs\u001B[49m\u001B[43m,\u001B[49m\n\u001B[0;32m   1798\u001B[0m \u001B[43m        \u001B[49m\u001B[43m)\u001B[49m\n\u001B[0;32m   1799\u001B[0m     \u001B[38;5;28;01mexcept\u001B[39;00m \u001B[38;5;167;01mNotImplementedError\u001B[39;00m:\n\u001B[0;32m   1800\u001B[0m         \u001B[38;5;66;03m# generally if we have numeric_only=False\u001B[39;00m\n\u001B[0;32m   1801\u001B[0m         \u001B[38;5;66;03m# and non-applicable functions\u001B[39;00m\n\u001B[0;32m   1802\u001B[0m         \u001B[38;5;66;03m# try to python agg\u001B[39;00m\n\u001B[0;32m   1803\u001B[0m         \u001B[38;5;66;03m# TODO: shouldn't min_count matter?\u001B[39;00m\n\u001B[0;32m   1804\u001B[0m         result \u001B[38;5;241m=\u001B[39m \u001B[38;5;28mself\u001B[39m\u001B[38;5;241m.\u001B[39m_agg_py_fallback(values, ndim\u001B[38;5;241m=\u001B[39mdata\u001B[38;5;241m.\u001B[39mndim, alt\u001B[38;5;241m=\u001B[39malt)\n",
      "File \u001B[1;32m~\\PycharmProjects\\Generalization in Object-Centric Process Mining\\venv\\lib\\site-packages\\pandas\\core\\groupby\\ops.py:1039\u001B[0m, in \u001B[0;36mBaseGrouper._cython_operation\u001B[1;34m(self, kind, values, how, axis, min_count, **kwargs)\u001B[0m\n\u001B[0;32m   1037\u001B[0m ids, _, _ \u001B[38;5;241m=\u001B[39m \u001B[38;5;28mself\u001B[39m\u001B[38;5;241m.\u001B[39mgroup_info\n\u001B[0;32m   1038\u001B[0m ngroups \u001B[38;5;241m=\u001B[39m \u001B[38;5;28mself\u001B[39m\u001B[38;5;241m.\u001B[39mngroups\n\u001B[1;32m-> 1039\u001B[0m \u001B[38;5;28;01mreturn\u001B[39;00m \u001B[43mcy_op\u001B[49m\u001B[38;5;241;43m.\u001B[39;49m\u001B[43mcython_operation\u001B[49m\u001B[43m(\u001B[49m\n\u001B[0;32m   1040\u001B[0m \u001B[43m    \u001B[49m\u001B[43mvalues\u001B[49m\u001B[38;5;241;43m=\u001B[39;49m\u001B[43mvalues\u001B[49m\u001B[43m,\u001B[49m\n\u001B[0;32m   1041\u001B[0m \u001B[43m    \u001B[49m\u001B[43maxis\u001B[49m\u001B[38;5;241;43m=\u001B[39;49m\u001B[43maxis\u001B[49m\u001B[43m,\u001B[49m\n\u001B[0;32m   1042\u001B[0m \u001B[43m    \u001B[49m\u001B[43mmin_count\u001B[49m\u001B[38;5;241;43m=\u001B[39;49m\u001B[43mmin_count\u001B[49m\u001B[43m,\u001B[49m\n\u001B[0;32m   1043\u001B[0m \u001B[43m    \u001B[49m\u001B[43mcomp_ids\u001B[49m\u001B[38;5;241;43m=\u001B[39;49m\u001B[43mids\u001B[49m\u001B[43m,\u001B[49m\n\u001B[0;32m   1044\u001B[0m \u001B[43m    \u001B[49m\u001B[43mngroups\u001B[49m\u001B[38;5;241;43m=\u001B[39;49m\u001B[43mngroups\u001B[49m\u001B[43m,\u001B[49m\n\u001B[0;32m   1045\u001B[0m \u001B[43m    \u001B[49m\u001B[38;5;241;43m*\u001B[39;49m\u001B[38;5;241;43m*\u001B[39;49m\u001B[43mkwargs\u001B[49m\u001B[43m,\u001B[49m\n\u001B[0;32m   1046\u001B[0m \u001B[43m\u001B[49m\u001B[43m)\u001B[49m\n",
      "File \u001B[1;32m~\\PycharmProjects\\Generalization in Object-Centric Process Mining\\venv\\lib\\site-packages\\pandas\\core\\groupby\\ops.py:708\u001B[0m, in \u001B[0;36mWrappedCythonOp.cython_operation\u001B[1;34m(self, values, axis, min_count, comp_ids, ngroups, **kwargs)\u001B[0m\n\u001B[0;32m    698\u001B[0m \u001B[38;5;28;01mif\u001B[39;00m \u001B[38;5;129;01mnot\u001B[39;00m \u001B[38;5;28misinstance\u001B[39m(values, np\u001B[38;5;241m.\u001B[39mndarray):\n\u001B[0;32m    699\u001B[0m     \u001B[38;5;66;03m# i.e. ExtensionArray\u001B[39;00m\n\u001B[0;32m    700\u001B[0m     \u001B[38;5;28;01mreturn\u001B[39;00m \u001B[38;5;28mself\u001B[39m\u001B[38;5;241m.\u001B[39m_ea_wrap_cython_operation(\n\u001B[0;32m    701\u001B[0m         values,\n\u001B[0;32m    702\u001B[0m         min_count\u001B[38;5;241m=\u001B[39mmin_count,\n\u001B[1;32m   (...)\u001B[0m\n\u001B[0;32m    705\u001B[0m         \u001B[38;5;241m*\u001B[39m\u001B[38;5;241m*\u001B[39mkwargs,\n\u001B[0;32m    706\u001B[0m     )\n\u001B[1;32m--> 708\u001B[0m \u001B[38;5;28;01mreturn\u001B[39;00m \u001B[38;5;28;43mself\u001B[39;49m\u001B[38;5;241;43m.\u001B[39;49m\u001B[43m_cython_op_ndim_compat\u001B[49m\u001B[43m(\u001B[49m\n\u001B[0;32m    709\u001B[0m \u001B[43m    \u001B[49m\u001B[43mvalues\u001B[49m\u001B[43m,\u001B[49m\n\u001B[0;32m    710\u001B[0m \u001B[43m    \u001B[49m\u001B[43mmin_count\u001B[49m\u001B[38;5;241;43m=\u001B[39;49m\u001B[43mmin_count\u001B[49m\u001B[43m,\u001B[49m\n\u001B[0;32m    711\u001B[0m \u001B[43m    \u001B[49m\u001B[43mngroups\u001B[49m\u001B[38;5;241;43m=\u001B[39;49m\u001B[43mngroups\u001B[49m\u001B[43m,\u001B[49m\n\u001B[0;32m    712\u001B[0m \u001B[43m    \u001B[49m\u001B[43mcomp_ids\u001B[49m\u001B[38;5;241;43m=\u001B[39;49m\u001B[43mcomp_ids\u001B[49m\u001B[43m,\u001B[49m\n\u001B[0;32m    713\u001B[0m \u001B[43m    \u001B[49m\u001B[43mmask\u001B[49m\u001B[38;5;241;43m=\u001B[39;49m\u001B[38;5;28;43;01mNone\u001B[39;49;00m\u001B[43m,\u001B[49m\n\u001B[0;32m    714\u001B[0m \u001B[43m    \u001B[49m\u001B[38;5;241;43m*\u001B[39;49m\u001B[38;5;241;43m*\u001B[39;49m\u001B[43mkwargs\u001B[49m\u001B[43m,\u001B[49m\n\u001B[0;32m    715\u001B[0m \u001B[43m\u001B[49m\u001B[43m)\u001B[49m\n",
      "File \u001B[1;32m~\\PycharmProjects\\Generalization in Object-Centric Process Mining\\venv\\lib\\site-packages\\pandas\\core\\groupby\\ops.py:527\u001B[0m, in \u001B[0;36mWrappedCythonOp._cython_op_ndim_compat\u001B[1;34m(self, values, min_count, ngroups, comp_ids, mask, result_mask, **kwargs)\u001B[0m\n\u001B[0;32m    524\u001B[0m     \u001B[38;5;66;03m# otherwise we have OHLC\u001B[39;00m\n\u001B[0;32m    525\u001B[0m     \u001B[38;5;28;01mreturn\u001B[39;00m res\u001B[38;5;241m.\u001B[39mT\n\u001B[1;32m--> 527\u001B[0m \u001B[38;5;28;01mreturn\u001B[39;00m \u001B[38;5;28;43mself\u001B[39;49m\u001B[38;5;241;43m.\u001B[39;49m\u001B[43m_call_cython_op\u001B[49m\u001B[43m(\u001B[49m\n\u001B[0;32m    528\u001B[0m \u001B[43m    \u001B[49m\u001B[43mvalues\u001B[49m\u001B[43m,\u001B[49m\n\u001B[0;32m    529\u001B[0m \u001B[43m    \u001B[49m\u001B[43mmin_count\u001B[49m\u001B[38;5;241;43m=\u001B[39;49m\u001B[43mmin_count\u001B[49m\u001B[43m,\u001B[49m\n\u001B[0;32m    530\u001B[0m \u001B[43m    \u001B[49m\u001B[43mngroups\u001B[49m\u001B[38;5;241;43m=\u001B[39;49m\u001B[43mngroups\u001B[49m\u001B[43m,\u001B[49m\n\u001B[0;32m    531\u001B[0m \u001B[43m    \u001B[49m\u001B[43mcomp_ids\u001B[49m\u001B[38;5;241;43m=\u001B[39;49m\u001B[43mcomp_ids\u001B[49m\u001B[43m,\u001B[49m\n\u001B[0;32m    532\u001B[0m \u001B[43m    \u001B[49m\u001B[43mmask\u001B[49m\u001B[38;5;241;43m=\u001B[39;49m\u001B[43mmask\u001B[49m\u001B[43m,\u001B[49m\n\u001B[0;32m    533\u001B[0m \u001B[43m    \u001B[49m\u001B[43mresult_mask\u001B[49m\u001B[38;5;241;43m=\u001B[39;49m\u001B[43mresult_mask\u001B[49m\u001B[43m,\u001B[49m\n\u001B[0;32m    534\u001B[0m \u001B[43m    \u001B[49m\u001B[38;5;241;43m*\u001B[39;49m\u001B[38;5;241;43m*\u001B[39;49m\u001B[43mkwargs\u001B[49m\u001B[43m,\u001B[49m\n\u001B[0;32m    535\u001B[0m \u001B[43m\u001B[49m\u001B[43m)\u001B[49m\n",
      "File \u001B[1;32m~\\PycharmProjects\\Generalization in Object-Centric Process Mining\\venv\\lib\\site-packages\\pandas\\core\\groupby\\ops.py:575\u001B[0m, in \u001B[0;36mWrappedCythonOp._call_cython_op\u001B[1;34m(self, values, min_count, ngroups, comp_ids, mask, result_mask, **kwargs)\u001B[0m\n\u001B[0;32m    572\u001B[0m values \u001B[38;5;241m=\u001B[39m \u001B[38;5;28mself\u001B[39m\u001B[38;5;241m.\u001B[39m_get_cython_vals(values)\n\u001B[0;32m    573\u001B[0m out_dtype \u001B[38;5;241m=\u001B[39m \u001B[38;5;28mself\u001B[39m\u001B[38;5;241m.\u001B[39m_get_out_dtype(values\u001B[38;5;241m.\u001B[39mdtype)\n\u001B[1;32m--> 575\u001B[0m result \u001B[38;5;241m=\u001B[39m maybe_fill(\u001B[43mnp\u001B[49m\u001B[38;5;241;43m.\u001B[39;49m\u001B[43mempty\u001B[49m\u001B[43m(\u001B[49m\u001B[43mout_shape\u001B[49m\u001B[43m,\u001B[49m\u001B[43m \u001B[49m\u001B[43mdtype\u001B[49m\u001B[38;5;241;43m=\u001B[39;49m\u001B[43mout_dtype\u001B[49m\u001B[43m)\u001B[49m)\n\u001B[0;32m    576\u001B[0m \u001B[38;5;28;01mif\u001B[39;00m \u001B[38;5;28mself\u001B[39m\u001B[38;5;241m.\u001B[39mkind \u001B[38;5;241m==\u001B[39m \u001B[38;5;124m\"\u001B[39m\u001B[38;5;124maggregate\u001B[39m\u001B[38;5;124m\"\u001B[39m:\n\u001B[0;32m    577\u001B[0m     counts \u001B[38;5;241m=\u001B[39m np\u001B[38;5;241m.\u001B[39mzeros(ngroups, dtype\u001B[38;5;241m=\u001B[39mnp\u001B[38;5;241m.\u001B[39mint64)\n",
      "\u001B[1;31mKeyboardInterrupt\u001B[0m: "
     ]
    }
   ],
   "source": [
    "model_generation('DS4',ots = [\"Payment application\",\"Control summary\",\"Entitlement application\",\"Geo parcel document\",\"Inspection\",\"Reference alignment\"] )"
   ]
  },
  {
   "cell_type": "code",
   "execution_count": null,
   "id": "6d606b66",
   "metadata": {},
   "outputs": [],
   "source": []
  }
 ],
 "metadata": {
  "kernelspec": {
   "display_name": "Python 3 (ipykernel)",
   "language": "python",
   "name": "python3"
  },
  "language_info": {
   "codemirror_mode": {
    "name": "ipython",
    "version": 3
   },
   "file_extension": ".py",
   "mimetype": "text/x-python",
   "name": "python",
   "nbconvert_exporter": "python",
   "pygments_lexer": "ipython3",
   "version": "3.8.6"
  }
 },
 "nbformat": 4,
 "nbformat_minor": 5
}
