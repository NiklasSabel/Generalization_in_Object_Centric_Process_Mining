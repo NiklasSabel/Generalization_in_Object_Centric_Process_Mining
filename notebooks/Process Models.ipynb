{
 "cells": [
  {
   "cell_type": "markdown",
   "id": "3629febf",
   "metadata": {},
   "source": [
    "# Process Models"
   ]
  },
  {
   "cell_type": "markdown",
   "id": "ad07bf88",
   "metadata": {},
   "source": [
    "In this notebook, we try to generate different process models for our selected datasets such that we are able to use our metrics on different variations of the same log. We also plot different metrics that give an overview on the dataset."
   ]
  },
  {
   "cell_type": "code",
   "execution_count": 1,
   "id": "c9aeff9a",
   "metadata": {},
   "outputs": [],
   "source": [
    "import warnings\n",
    "warnings.filterwarnings('ignore')"
   ]
  },
  {
   "cell_type": "code",
   "execution_count": 2,
   "id": "7cd21f2c",
   "metadata": {},
   "outputs": [],
   "source": [
    "from src.utils import get_happy_path_log, save_process_model_visualization, create_flower_model, generate_variant_model\n",
    "from ocpa.objects.log.importer.ocel import factory as ocel_import_factory\n",
    "from ocpa.visualization.log.variants import factory as variants_visualization_factory\n",
    "from ocpa.algo.discovery.ocpn import algorithm as ocpn_discovery_factory\n",
    "from ocpa.visualization.oc_petri_net import factory as ocpn_vis_factory\n",
    "import os"
   ]
  },
  {
   "cell_type": "markdown",
   "id": "2438a2f7",
   "metadata": {},
   "source": [
    "For better clarity, we define a function that incorporates every single model generation."
   ]
  },
  {
   "cell_type": "code",
   "execution_count": 3,
   "id": "63d39e4c",
   "metadata": {},
   "outputs": [],
   "source": [
    "def model_generation(log_name, ots, parameters= None):\n",
    "    #set the path for the graphviz package\n",
    "    os.environ[\"PATH\"] += os.pathsep + 'C:/Program Files/Graphviz/bin'\n",
    "    # define the path of the original file\n",
    "    load_path = f\"../src/data/jsonocel/{log_name}.jsonocel\"\n",
    "    #generate the normal ocpn model\n",
    "    ocel = ocel_import_factory.apply(load_path, parameters = parameters)\n",
    "    print(\"Number of process executions: \"+str(len(ocel.process_executions)))\n",
    "    print(\"Number of variants: \"+str(len(ocel.variants)))\n",
    "    ocpn = ocpn_discovery_factory.apply(ocel, parameters = {\"debug\":False})\n",
    "    gviz = ocpn_vis_factory.apply(ocpn, parameters={'format': 'svg'})\n",
    "    ocpn_vis_factory.save(gviz,f\"../reports/figures/{log_name}.svg\")\n",
    "    print('###### OCPA ocpn model generated #####')\n",
    "    #definesave path for the happy path model\n",
    "    save_path = f\"../src/data/jsonocel/{log_name}-happy-path.jsonocel\"\n",
    "    #generate the happy path model\n",
    "    ocel = get_happy_path_log(load_path, save_path, parameters = parameters)\n",
    "    #save the process model picture\n",
    "    save_process_model_visualization(ocel,f\"../reports/figures/{log_name}-happy-path.svg\" )\n",
    "    print('###### Happy path model generated #####')\n",
    "    #define the save path for the flower model visualization\n",
    "    save_path_flower = f\"../reports/figures/{log_name}-flower-model.svg\"\n",
    "    #create the flower model based on the given object types\n",
    "    flower_ocpn = create_flower_model(load_path,ots,save_path_flower, parameters = parameters)\n",
    "    print('###### Flower model generated #####')\n",
    "    #get the ocel_log for the variant model\n",
    "    ocel = ocel_import_factory.apply(load_path, parameters = parameters)\n",
    "    #generate the variant model\n",
    "    variant_ocpn = generate_variant_model(ocel,save_path_logs=f'../src/data/csv/{log_name}_variants/{log_name}_variant',object_types = ots ,save_path_visuals=f\"../reports/figures/{log_name}_variant_total.svg\" )\n",
    "    print('###### Variant model generated #####')"
   ]
  },
  {
   "cell_type": "markdown",
   "id": "d0d36a81",
   "metadata": {},
   "source": [
    "## P2P Log"
   ]
  },
  {
   "cell_type": "code",
   "execution_count": 13,
   "id": "8c7fbcc5",
   "metadata": {},
   "outputs": [
    {
     "name": "stdout",
     "output_type": "stream",
     "text": [
      "Number of process executions: 80\n",
      "Number of variants: 20\n",
      "###### OCPA ocpn model generated #####\n",
      "###### Happy path model generated #####\n",
      "###### Flower model generated #####\n"
     ]
    },
    {
     "name": "stderr",
     "output_type": "stream",
     "text": [
      "\n",
      "Generating Variant Models:   0%|          | 0/20 [00:00<?, ?it/s]\u001b[A\n",
      "Generating Variant Models:   5%|▌         | 1/20 [00:00<00:02,  8.05it/s]\u001b[A\n",
      "Generating Variant Models:  10%|█         | 2/20 [00:00<00:02,  8.56it/s]\u001b[A\n",
      "Generating Variant Models:  15%|█▌        | 3/20 [00:00<00:01,  8.72it/s]\u001b[A\n",
      "Generating Variant Models:  25%|██▌       | 5/20 [00:00<00:01,  9.23it/s]\u001b[A\n",
      "Generating Variant Models:  35%|███▌      | 7/20 [00:00<00:01,  9.48it/s]\u001b[A\n",
      "Generating Variant Models:  40%|████      | 8/20 [00:00<00:01,  9.55it/s]\u001b[A\n",
      "Generating Variant Models:  50%|█████     | 10/20 [00:01<00:00, 10.02it/s]\u001b[A\n",
      "Generating Variant Models:  60%|██████    | 12/20 [00:01<00:00, 10.29it/s]\u001b[A\n",
      "Generating Variant Models:  70%|███████   | 14/20 [00:01<00:00, 10.35it/s]\u001b[A\n",
      "Generating Variant Models:  80%|████████  | 16/20 [00:01<00:00, 10.19it/s]\u001b[A\n",
      "Generating Variant Models:  90%|█████████ | 18/20 [00:01<00:00, 10.43it/s]\u001b[A\n",
      "Generating Variant Models: 100%|██████████| 20/20 [00:01<00:00, 10.12it/s]\u001b[A\n",
      "\n",
      "Processing Variant Nets: 100%|██████████| 20/20 [00:00<00:00, 15647.47it/s]\n"
     ]
    },
    {
     "name": "stdout",
     "output_type": "stream",
     "text": [
      "#########Start generating Object-Centric Petri Net#########\n",
      "#########Finished generating Object-Centric Petri Net#########\n",
      "###### Variant model generated #####\n"
     ]
    }
   ],
   "source": [
    "model_generation('p2p-normal',ots = [\"PURCHORD\",\"INVOICE\",\"PURCHREQ\",\"MATERIAL\",\"GDSRCPT\"] )"
   ]
  },
  {
   "cell_type": "markdown",
   "id": "eb3c38f0",
   "metadata": {},
   "source": [
    "## O2C Log"
   ]
  },
  {
   "cell_type": "code",
   "execution_count": 14,
   "id": "35b3b72a",
   "metadata": {},
   "outputs": [
    {
     "name": "stdout",
     "output_type": "stream",
     "text": [
      "Number of process executions: 48\n",
      "Number of variants: 12\n",
      "###### OCPA ocpn model generated #####\n",
      "###### Happy path model generated #####\n",
      "###### Flower model generated #####\n"
     ]
    },
    {
     "name": "stderr",
     "output_type": "stream",
     "text": [
      "\n",
      "Generating Variant Models:   0%|          | 0/12 [00:00<?, ?it/s]\u001b[A\n",
      "Generating Variant Models:  17%|█▋        | 2/12 [00:00<00:00, 12.51it/s]\u001b[A\n",
      "Generating Variant Models:  33%|███▎      | 4/12 [00:00<00:00, 12.93it/s]\u001b[A\n",
      "Generating Variant Models:  50%|█████     | 6/12 [00:00<00:00, 12.45it/s]\u001b[A\n",
      "Generating Variant Models:  67%|██████▋   | 8/12 [00:00<00:00, 12.19it/s]\u001b[A\n",
      "Generating Variant Models: 100%|██████████| 12/12 [00:01<00:00,  8.03it/s]\u001b[A\n",
      "\n",
      "Processing Variant Nets: 100%|██████████| 12/12 [00:00<00:00, 11989.43it/s]\n"
     ]
    },
    {
     "name": "stdout",
     "output_type": "stream",
     "text": [
      "#########Start generating Object-Centric Petri Net#########\n",
      "#########Finished generating Object-Centric Petri Net#########\n",
      "###### Variant model generated #####\n"
     ]
    }
   ],
   "source": [
    "model_generation('order_process',ots = [\"order\",\"item\",\"delivery\"])"
   ]
  },
  {
   "cell_type": "markdown",
   "id": "576cac4e",
   "metadata": {},
   "source": [
    "## BPI-Challenge 2017 log"
   ]
  },
  {
   "cell_type": "code",
   "execution_count": null,
   "id": "fc7f5735",
   "metadata": {},
   "outputs": [],
   "source": [
    "model_generation('BPI2017-Final',ots = [\"application\",\"offer\"] )"
   ]
  },
  {
   "cell_type": "markdown",
   "id": "511da563",
   "metadata": {},
   "source": [
    "## transfer_order log"
   ]
  },
  {
   "cell_type": "code",
   "execution_count": 15,
   "id": "cc2c6d4e",
   "metadata": {},
   "outputs": [
    {
     "name": "stdout",
     "output_type": "stream",
     "text": [
      "Number of process executions: 5\n",
      "Number of variants: 5\n",
      "###### OCPA ocpn model generated #####\n",
      "###### Happy path model generated #####\n",
      "###### Flower model generated #####\n"
     ]
    },
    {
     "name": "stderr",
     "output_type": "stream",
     "text": [
      "\n",
      "Generating Variant Models:   0%|          | 0/5 [00:00<?, ?it/s]\u001b[A\n",
      "Generating Variant Models:  20%|██        | 1/5 [00:06<00:25,  6.38s/it]\u001b[A\n",
      "Generating Variant Models:  40%|████      | 2/5 [00:06<00:08,  2.77s/it]\u001b[A\n",
      "Generating Variant Models:  60%|██████    | 3/5 [00:06<00:03,  1.56s/it]\u001b[A\n",
      "Generating Variant Models: 100%|██████████| 5/5 [00:06<00:00,  1.39s/it]\u001b[A\n",
      "\n",
      "Processing Variant Nets: 100%|██████████| 5/5 [00:00<00:00, 4994.41it/s]\n"
     ]
    },
    {
     "name": "stdout",
     "output_type": "stream",
     "text": [
      "#########Start generating Object-Centric Petri Net#########\n",
      "#########Finished generating Object-Centric Petri Net#########\n",
      "###### Variant model generated #####\n"
     ]
    }
   ],
   "source": [
    "model_generation('transfer_order_ocel_standard',ots = [\"MATNR\",\"WERKS\",\"QNAME\",\"NLPLA\",\"NLQNR\"] )"
   ]
  },
  {
   "cell_type": "markdown",
   "id": "7b90f0b2",
   "metadata": {},
   "source": [
    "# running-example log"
   ]
  },
  {
   "cell_type": "code",
   "execution_count": 25,
   "id": "4b7e9738",
   "metadata": {},
   "outputs": [],
   "source": [
    "parameters = {\"execution_extraction\": \"leading_type\",\n",
    "              \"leading_type\": \"orders\"}"
   ]
  },
  {
   "cell_type": "code",
   "execution_count": null,
   "id": "f3b67778",
   "metadata": {},
   "outputs": [
    {
     "name": "stdout",
     "output_type": "stream",
     "text": [
      "Number of process executions: 2000\n"
     ]
    }
   ],
   "source": [
    "model_generation('running-example_ocel_standard',ots = [\"customers\",\"items\",\"orders\",\"packages\",\"products\"], parameters=parameters )"
   ]
  },
  {
   "cell_type": "markdown",
   "id": "03ef6b1f",
   "metadata": {},
   "source": [
    "# recruiting log"
   ]
  },
  {
   "cell_type": "code",
   "execution_count": 4,
   "id": "7eecca56",
   "metadata": {},
   "outputs": [],
   "source": [
    "parameters = {\"execution_extraction\": \"leading_type\",\n",
    "              \"leading_type\": \"applications\"}"
   ]
  },
  {
   "cell_type": "code",
   "execution_count": 6,
   "id": "df26a6c8",
   "metadata": {},
   "outputs": [
    {
     "name": "stdout",
     "output_type": "stream",
     "text": [
      "Number of process executions: 916\n",
      "Number of variants: 916\n",
      "###### OCPA ocpn model generated #####\n",
      "###### Happy path model generated #####\n",
      "###### Flower model generated #####\n"
     ]
    },
    {
     "name": "stderr",
     "output_type": "stream",
     "text": [
      "Generating Variant Models:   0%|          | 0/916 [00:00<?, ?it/s]\n"
     ]
    },
    {
     "ename": "TypeError",
     "evalue": "argument of type 'float' is not iterable",
     "output_type": "error",
     "traceback": [
      "\u001b[1;31m---------------------------------------------------------------------------\u001b[0m",
      "\u001b[1;31mTypeError\u001b[0m                                 Traceback (most recent call last)",
      "Cell \u001b[1;32mIn[6], line 1\u001b[0m\n\u001b[1;32m----> 1\u001b[0m \u001b[43mmodel_generation\u001b[49m\u001b[43m(\u001b[49m\u001b[38;5;124;43m'\u001b[39;49m\u001b[38;5;124;43mrecruiting_ocel_standard\u001b[39;49m\u001b[38;5;124;43m'\u001b[39;49m\u001b[43m,\u001b[49m\u001b[43mots\u001b[49m\u001b[43m \u001b[49m\u001b[38;5;241;43m=\u001b[39;49m\u001b[43m \u001b[49m\u001b[43m[\u001b[49m\u001b[38;5;124;43m\"\u001b[39;49m\u001b[38;5;124;43mapplicants\u001b[39;49m\u001b[38;5;124;43m\"\u001b[39;49m\u001b[43m,\u001b[49m\u001b[38;5;124;43m\"\u001b[39;49m\u001b[38;5;124;43mapplications\u001b[39;49m\u001b[38;5;124;43m\"\u001b[39;49m\u001b[43m,\u001b[49m\u001b[38;5;124;43m\"\u001b[39;49m\u001b[38;5;124;43moffers\u001b[39;49m\u001b[38;5;124;43m\"\u001b[39;49m\u001b[43m,\u001b[49m\u001b[38;5;124;43m\"\u001b[39;49m\u001b[38;5;124;43mvacancies\u001b[39;49m\u001b[38;5;124;43m\"\u001b[39;49m\u001b[43m,\u001b[49m\u001b[38;5;124;43m\"\u001b[39;49m\u001b[38;5;124;43mrecruiters\u001b[39;49m\u001b[38;5;124;43m\"\u001b[39;49m\u001b[43m,\u001b[49m\u001b[38;5;124;43m\"\u001b[39;49m\u001b[38;5;124;43mmanagers\u001b[39;49m\u001b[38;5;124;43m\"\u001b[39;49m\u001b[43m]\u001b[49m\u001b[43m,\u001b[49m\u001b[43m \u001b[49m\u001b[43mparameters\u001b[49m\u001b[43m \u001b[49m\u001b[38;5;241;43m=\u001b[39;49m\u001b[43mparameters\u001b[49m\u001b[43m \u001b[49m\u001b[43m)\u001b[49m\n",
      "Cell \u001b[1;32mIn[3], line 29\u001b[0m, in \u001b[0;36mmodel_generation\u001b[1;34m(log_name, ots, parameters)\u001b[0m\n\u001b[0;32m     27\u001b[0m ocel \u001b[38;5;241m=\u001b[39m ocel_import_factory\u001b[38;5;241m.\u001b[39mapply(load_path, parameters \u001b[38;5;241m=\u001b[39m parameters)\n\u001b[0;32m     28\u001b[0m \u001b[38;5;66;03m#generate the variant model\u001b[39;00m\n\u001b[1;32m---> 29\u001b[0m variant_ocpn \u001b[38;5;241m=\u001b[39m \u001b[43mgenerate_variant_model\u001b[49m\u001b[43m(\u001b[49m\u001b[43mocel\u001b[49m\u001b[43m,\u001b[49m\u001b[43msave_path_logs\u001b[49m\u001b[38;5;241;43m=\u001b[39;49m\u001b[38;5;124;43mf\u001b[39;49m\u001b[38;5;124;43m'\u001b[39;49m\u001b[38;5;124;43m../src/data/csv/\u001b[39;49m\u001b[38;5;132;43;01m{\u001b[39;49;00m\u001b[43mlog_name\u001b[49m\u001b[38;5;132;43;01m}\u001b[39;49;00m\u001b[38;5;124;43m_variants/\u001b[39;49m\u001b[38;5;132;43;01m{\u001b[39;49;00m\u001b[43mlog_name\u001b[49m\u001b[38;5;132;43;01m}\u001b[39;49;00m\u001b[38;5;124;43m_variant\u001b[39;49m\u001b[38;5;124;43m'\u001b[39;49m\u001b[43m,\u001b[49m\u001b[43mobject_types\u001b[49m\u001b[43m \u001b[49m\u001b[38;5;241;43m=\u001b[39;49m\u001b[43m \u001b[49m\u001b[43mots\u001b[49m\u001b[43m \u001b[49m\u001b[43m,\u001b[49m\u001b[43msave_path_visuals\u001b[49m\u001b[38;5;241;43m=\u001b[39;49m\u001b[38;5;124;43mf\u001b[39;49m\u001b[38;5;124;43m\"\u001b[39;49m\u001b[38;5;124;43m../reports/figures/\u001b[39;49m\u001b[38;5;132;43;01m{\u001b[39;49;00m\u001b[43mlog_name\u001b[49m\u001b[38;5;132;43;01m}\u001b[39;49;00m\u001b[38;5;124;43m_variant_total.svg\u001b[39;49m\u001b[38;5;124;43m\"\u001b[39;49m\u001b[43m \u001b[49m\u001b[43m)\u001b[49m\n\u001b[0;32m     30\u001b[0m \u001b[38;5;28mprint\u001b[39m(\u001b[38;5;124m'\u001b[39m\u001b[38;5;124m###### Variant model generated #####\u001b[39m\u001b[38;5;124m'\u001b[39m)\n",
      "File \u001b[1;32m~\\PycharmProjects\\Generalization in Object-Centric Process Mining\\src\\utils.py:105\u001b[0m, in \u001b[0;36mgenerate_variant_model\u001b[1;34m(ocel, save_path_logs, object_types, save_path_visuals)\u001b[0m\n\u001b[0;32m    102\u001b[0m n \u001b[38;5;241m=\u001b[39m \u001b[38;5;241m0\u001b[39m \u001b[38;5;66;03m# running variable for number of variants\u001b[39;00m\n\u001b[0;32m    103\u001b[0m \u001b[38;5;28;01mfor\u001b[39;00m variant \u001b[38;5;129;01min\u001b[39;00m tqdm(ocel\u001b[38;5;241m.\u001b[39mvariants, desc\u001b[38;5;241m=\u001b[39m\u001b[38;5;124m\"\u001b[39m\u001b[38;5;124mGenerating Variant Models\u001b[39m\u001b[38;5;124m\"\u001b[39m):\n\u001b[0;32m    104\u001b[0m     \u001b[38;5;66;03m# for each variant filter the log on all the cases belonging to this variant\u001b[39;00m\n\u001b[1;32m--> 105\u001b[0m     filtered \u001b[38;5;241m=\u001b[39m ocel\u001b[38;5;241m.\u001b[39mlog\u001b[38;5;241m.\u001b[39mlog[\u001b[43mocel\u001b[49m\u001b[38;5;241;43m.\u001b[39;49m\u001b[43mlog\u001b[49m\u001b[38;5;241;43m.\u001b[39;49m\u001b[43mlog\u001b[49m\u001b[38;5;241;43m.\u001b[39;49m\u001b[43mevent_variant\u001b[49m\u001b[38;5;241;43m.\u001b[39;49m\u001b[43mapply\u001b[49m\u001b[43m(\u001b[49m\u001b[38;5;28;43;01mlambda\u001b[39;49;00m\u001b[43m \u001b[49m\u001b[43mx\u001b[49m\u001b[43m:\u001b[49m\u001b[43m \u001b[49m\u001b[43mn\u001b[49m\u001b[43m \u001b[49m\u001b[38;5;129;43;01min\u001b[39;49;00m\u001b[43m \u001b[49m\u001b[43mx\u001b[49m\u001b[43m)\u001b[49m]\n\u001b[0;32m    106\u001b[0m     \u001b[38;5;66;03m# save the pandas df to a csv file such that we can reload it as object-centric log\u001b[39;00m\n\u001b[0;32m    107\u001b[0m     filename \u001b[38;5;241m=\u001b[39m \u001b[38;5;124mf\u001b[39m\u001b[38;5;124m\"\u001b[39m\u001b[38;5;132;01m{\u001b[39;00msave_path_logs\u001b[38;5;132;01m}\u001b[39;00m\u001b[38;5;132;01m{\u001b[39;00mn\u001b[38;5;132;01m}\u001b[39;00m\u001b[38;5;124m.csv\u001b[39m\u001b[38;5;124m\"\u001b[39m\n",
      "File \u001b[1;32m~\\PycharmProjects\\Generalization in Object-Centric Process Mining\\venv\\lib\\site-packages\\pandas\\core\\series.py:4771\u001b[0m, in \u001b[0;36mSeries.apply\u001b[1;34m(self, func, convert_dtype, args, **kwargs)\u001b[0m\n\u001b[0;32m   4661\u001b[0m \u001b[38;5;28;01mdef\u001b[39;00m \u001b[38;5;21mapply\u001b[39m(\n\u001b[0;32m   4662\u001b[0m     \u001b[38;5;28mself\u001b[39m,\n\u001b[0;32m   4663\u001b[0m     func: AggFuncType,\n\u001b[1;32m   (...)\u001b[0m\n\u001b[0;32m   4666\u001b[0m     \u001b[38;5;241m*\u001b[39m\u001b[38;5;241m*\u001b[39mkwargs,\n\u001b[0;32m   4667\u001b[0m ) \u001b[38;5;241m-\u001b[39m\u001b[38;5;241m>\u001b[39m DataFrame \u001b[38;5;241m|\u001b[39m Series:\n\u001b[0;32m   4668\u001b[0m \u001b[38;5;250m    \u001b[39m\u001b[38;5;124;03m\"\"\"\u001b[39;00m\n\u001b[0;32m   4669\u001b[0m \u001b[38;5;124;03m    Invoke function on values of Series.\u001b[39;00m\n\u001b[0;32m   4670\u001b[0m \n\u001b[1;32m   (...)\u001b[0m\n\u001b[0;32m   4769\u001b[0m \u001b[38;5;124;03m    dtype: float64\u001b[39;00m\n\u001b[0;32m   4770\u001b[0m \u001b[38;5;124;03m    \"\"\"\u001b[39;00m\n\u001b[1;32m-> 4771\u001b[0m     \u001b[38;5;28;01mreturn\u001b[39;00m \u001b[43mSeriesApply\u001b[49m\u001b[43m(\u001b[49m\u001b[38;5;28;43mself\u001b[39;49m\u001b[43m,\u001b[49m\u001b[43m \u001b[49m\u001b[43mfunc\u001b[49m\u001b[43m,\u001b[49m\u001b[43m \u001b[49m\u001b[43mconvert_dtype\u001b[49m\u001b[43m,\u001b[49m\u001b[43m \u001b[49m\u001b[43margs\u001b[49m\u001b[43m,\u001b[49m\u001b[43m \u001b[49m\u001b[43mkwargs\u001b[49m\u001b[43m)\u001b[49m\u001b[38;5;241;43m.\u001b[39;49m\u001b[43mapply\u001b[49m\u001b[43m(\u001b[49m\u001b[43m)\u001b[49m\n",
      "File \u001b[1;32m~\\PycharmProjects\\Generalization in Object-Centric Process Mining\\venv\\lib\\site-packages\\pandas\\core\\apply.py:1123\u001b[0m, in \u001b[0;36mSeriesApply.apply\u001b[1;34m(self)\u001b[0m\n\u001b[0;32m   1120\u001b[0m     \u001b[38;5;28;01mreturn\u001b[39;00m \u001b[38;5;28mself\u001b[39m\u001b[38;5;241m.\u001b[39mapply_str()\n\u001b[0;32m   1122\u001b[0m \u001b[38;5;66;03m# self.f is Callable\u001b[39;00m\n\u001b[1;32m-> 1123\u001b[0m \u001b[38;5;28;01mreturn\u001b[39;00m \u001b[38;5;28;43mself\u001b[39;49m\u001b[38;5;241;43m.\u001b[39;49m\u001b[43mapply_standard\u001b[49m\u001b[43m(\u001b[49m\u001b[43m)\u001b[49m\n",
      "File \u001b[1;32m~\\PycharmProjects\\Generalization in Object-Centric Process Mining\\venv\\lib\\site-packages\\pandas\\core\\apply.py:1174\u001b[0m, in \u001b[0;36mSeriesApply.apply_standard\u001b[1;34m(self)\u001b[0m\n\u001b[0;32m   1172\u001b[0m     \u001b[38;5;28;01melse\u001b[39;00m:\n\u001b[0;32m   1173\u001b[0m         values \u001b[38;5;241m=\u001b[39m obj\u001b[38;5;241m.\u001b[39mastype(\u001b[38;5;28mobject\u001b[39m)\u001b[38;5;241m.\u001b[39m_values\n\u001b[1;32m-> 1174\u001b[0m         mapped \u001b[38;5;241m=\u001b[39m \u001b[43mlib\u001b[49m\u001b[38;5;241;43m.\u001b[39;49m\u001b[43mmap_infer\u001b[49m\u001b[43m(\u001b[49m\n\u001b[0;32m   1175\u001b[0m \u001b[43m            \u001b[49m\u001b[43mvalues\u001b[49m\u001b[43m,\u001b[49m\n\u001b[0;32m   1176\u001b[0m \u001b[43m            \u001b[49m\u001b[43mf\u001b[49m\u001b[43m,\u001b[49m\n\u001b[0;32m   1177\u001b[0m \u001b[43m            \u001b[49m\u001b[43mconvert\u001b[49m\u001b[38;5;241;43m=\u001b[39;49m\u001b[38;5;28;43mself\u001b[39;49m\u001b[38;5;241;43m.\u001b[39;49m\u001b[43mconvert_dtype\u001b[49m\u001b[43m,\u001b[49m\n\u001b[0;32m   1178\u001b[0m \u001b[43m        \u001b[49m\u001b[43m)\u001b[49m\n\u001b[0;32m   1180\u001b[0m \u001b[38;5;28;01mif\u001b[39;00m \u001b[38;5;28mlen\u001b[39m(mapped) \u001b[38;5;129;01mand\u001b[39;00m \u001b[38;5;28misinstance\u001b[39m(mapped[\u001b[38;5;241m0\u001b[39m], ABCSeries):\n\u001b[0;32m   1181\u001b[0m     \u001b[38;5;66;03m# GH#43986 Need to do list(mapped) in order to get treated as nested\u001b[39;00m\n\u001b[0;32m   1182\u001b[0m     \u001b[38;5;66;03m#  See also GH#25959 regarding EA support\u001b[39;00m\n\u001b[0;32m   1183\u001b[0m     \u001b[38;5;28;01mreturn\u001b[39;00m obj\u001b[38;5;241m.\u001b[39m_constructor_expanddim(\u001b[38;5;28mlist\u001b[39m(mapped), index\u001b[38;5;241m=\u001b[39mobj\u001b[38;5;241m.\u001b[39mindex)\n",
      "File \u001b[1;32m~\\PycharmProjects\\Generalization in Object-Centric Process Mining\\venv\\lib\\site-packages\\pandas\\_libs\\lib.pyx:2924\u001b[0m, in \u001b[0;36mpandas._libs.lib.map_infer\u001b[1;34m()\u001b[0m\n",
      "File \u001b[1;32m~\\PycharmProjects\\Generalization in Object-Centric Process Mining\\src\\utils.py:105\u001b[0m, in \u001b[0;36mgenerate_variant_model.<locals>.<lambda>\u001b[1;34m(x)\u001b[0m\n\u001b[0;32m    102\u001b[0m n \u001b[38;5;241m=\u001b[39m \u001b[38;5;241m0\u001b[39m \u001b[38;5;66;03m# running variable for number of variants\u001b[39;00m\n\u001b[0;32m    103\u001b[0m \u001b[38;5;28;01mfor\u001b[39;00m variant \u001b[38;5;129;01min\u001b[39;00m tqdm(ocel\u001b[38;5;241m.\u001b[39mvariants, desc\u001b[38;5;241m=\u001b[39m\u001b[38;5;124m\"\u001b[39m\u001b[38;5;124mGenerating Variant Models\u001b[39m\u001b[38;5;124m\"\u001b[39m):\n\u001b[0;32m    104\u001b[0m     \u001b[38;5;66;03m# for each variant filter the log on all the cases belonging to this variant\u001b[39;00m\n\u001b[1;32m--> 105\u001b[0m     filtered \u001b[38;5;241m=\u001b[39m ocel\u001b[38;5;241m.\u001b[39mlog\u001b[38;5;241m.\u001b[39mlog[ocel\u001b[38;5;241m.\u001b[39mlog\u001b[38;5;241m.\u001b[39mlog\u001b[38;5;241m.\u001b[39mevent_variant\u001b[38;5;241m.\u001b[39mapply(\u001b[38;5;28;01mlambda\u001b[39;00m x: \u001b[43mn\u001b[49m\u001b[43m \u001b[49m\u001b[38;5;129;43;01min\u001b[39;49;00m\u001b[43m \u001b[49m\u001b[43mx\u001b[49m)]\n\u001b[0;32m    106\u001b[0m     \u001b[38;5;66;03m# save the pandas df to a csv file such that we can reload it as object-centric log\u001b[39;00m\n\u001b[0;32m    107\u001b[0m     filename \u001b[38;5;241m=\u001b[39m \u001b[38;5;124mf\u001b[39m\u001b[38;5;124m\"\u001b[39m\u001b[38;5;132;01m{\u001b[39;00msave_path_logs\u001b[38;5;132;01m}\u001b[39;00m\u001b[38;5;132;01m{\u001b[39;00mn\u001b[38;5;132;01m}\u001b[39;00m\u001b[38;5;124m.csv\u001b[39m\u001b[38;5;124m\"\u001b[39m\n",
      "\u001b[1;31mTypeError\u001b[0m: argument of type 'float' is not iterable"
     ]
    }
   ],
   "source": [
    "model_generation('recruiting_ocel_standard',ots = [\"applicants\",\"applications\",\"offers\",\"vacancies\",\"recruiters\",\"managers\"], parameters =parameters )"
   ]
  },
  {
   "cell_type": "code",
   "execution_count": null,
   "id": "6d5b9999",
   "metadata": {},
   "outputs": [],
   "source": []
  }
 ],
 "metadata": {
  "kernelspec": {
   "display_name": "Python 3 (ipykernel)",
   "language": "python",
   "name": "python3"
  },
  "language_info": {
   "codemirror_mode": {
    "name": "ipython",
    "version": 3
   },
   "file_extension": ".py",
   "mimetype": "text/x-python",
   "name": "python",
   "nbconvert_exporter": "python",
   "pygments_lexer": "ipython3",
   "version": "3.8.6"
  }
 },
 "nbformat": 4,
 "nbformat_minor": 5
}
