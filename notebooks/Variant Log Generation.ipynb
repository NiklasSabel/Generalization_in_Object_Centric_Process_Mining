{
 "cells": [
  {
   "cell_type": "markdown",
   "id": "3629febf",
   "metadata": {},
   "source": [
    "# Variant Log Generation"
   ]
  },
  {
   "cell_type": "markdown",
   "id": "ad07bf88",
   "metadata": {},
   "source": [
    "We use this notebook to generate the variant logs that are re-used to calculate the measures for our variant models. We do this for the whole log, and also for the filtered log where each variant only appears once."
   ]
  },
  {
   "cell_type": "code",
   "execution_count": 1,
   "id": "c9aeff9a",
   "metadata": {},
   "outputs": [],
   "source": [
    "import warnings\n",
    "warnings.filterwarnings('ignore')"
   ]
  },
  {
   "cell_type": "code",
   "execution_count": 2,
   "id": "7cd21f2c",
   "metadata": {
    "pycharm": {
     "is_executing": true
    }
   },
   "outputs": [],
   "source": [
    "from ocpa.objects.log.importer.ocel import factory as ocel_import_factory\n",
    "from src.utils import generate_variant_log\n",
    "from models.alignment_measure import  filter_case_variants\n",
    "from ocpa.objects.log.importer.csv import factory as ocel_import_factory_csv"
   ]
  },
  {
   "cell_type": "markdown",
   "id": "c17bb122",
   "metadata": {},
   "source": [
    "# P2P"
   ]
  },
  {
   "cell_type": "code",
   "execution_count": null,
   "id": "667cda70",
   "metadata": {},
   "outputs": [],
   "source": [
    "filename = \"../src/data/jsonocel/p2p-normal.jsonocel\"\n",
    "ocel = ocel_import_factory.apply(filename)\n",
    "generate_variant_log(ocel,\"../src/data/csv/p2p_variant_log.csv\" )"
   ]
  },
  {
   "cell_type": "code",
   "execution_count": 4,
   "id": "2fa9f90a",
   "metadata": {},
   "outputs": [
    {
     "data": {
      "text/html": [
       "<div>\n",
       "<style scoped>\n",
       "    .dataframe tbody tr th:only-of-type {\n",
       "        vertical-align: middle;\n",
       "    }\n",
       "\n",
       "    .dataframe tbody tr th {\n",
       "        vertical-align: top;\n",
       "    }\n",
       "\n",
       "    .dataframe thead th {\n",
       "        text-align: right;\n",
       "    }\n",
       "</style>\n",
       "<table border=\"1\" class=\"dataframe\">\n",
       "  <thead>\n",
       "    <tr style=\"text-align: right;\">\n",
       "      <th></th>\n",
       "      <th>event_id</th>\n",
       "      <th>event_activity</th>\n",
       "      <th>event_timestamp</th>\n",
       "      <th>event_start_timestamp</th>\n",
       "      <th>order</th>\n",
       "      <th>item</th>\n",
       "      <th>delivery</th>\n",
       "      <th>event_variant</th>\n",
       "    </tr>\n",
       "    <tr>\n",
       "      <th>event_index</th>\n",
       "      <th></th>\n",
       "      <th></th>\n",
       "      <th></th>\n",
       "      <th></th>\n",
       "      <th></th>\n",
       "      <th></th>\n",
       "      <th></th>\n",
       "      <th></th>\n",
       "    </tr>\n",
       "  </thead>\n",
       "  <tbody>\n",
       "    <tr>\n",
       "      <th>0</th>\n",
       "      <td>0</td>\n",
       "      <td>Place Order_0</td>\n",
       "      <td>2022-10-20 16:56:19.864004</td>\n",
       "      <td>2022-10-20 16:56:19.864004</td>\n",
       "      <td>[order1]</td>\n",
       "      <td>[item3, item2]</td>\n",
       "      <td>[]</td>\n",
       "      <td>[0]</td>\n",
       "    </tr>\n",
       "    <tr>\n",
       "      <th>1</th>\n",
       "      <td>1</td>\n",
       "      <td>Confirm Order_0</td>\n",
       "      <td>2022-10-20 16:56:20.864004</td>\n",
       "      <td>2022-10-20 16:56:20.864004</td>\n",
       "      <td>[order1]</td>\n",
       "      <td>[item3, item2]</td>\n",
       "      <td>[]</td>\n",
       "      <td>[0]</td>\n",
       "    </tr>\n",
       "    <tr>\n",
       "      <th>2</th>\n",
       "      <td>2</td>\n",
       "      <td>Pick Item_0</td>\n",
       "      <td>2022-10-20 17:01:51.864004</td>\n",
       "      <td>2022-10-20 17:01:51.864004</td>\n",
       "      <td>[]</td>\n",
       "      <td>[item3]</td>\n",
       "      <td>[]</td>\n",
       "      <td>[0]</td>\n",
       "    </tr>\n",
       "    <tr>\n",
       "      <th>3</th>\n",
       "      <td>3</td>\n",
       "      <td>Pick Item_0</td>\n",
       "      <td>2022-10-20 17:01:51.864004</td>\n",
       "      <td>2022-10-20 17:01:51.864004</td>\n",
       "      <td>[]</td>\n",
       "      <td>[item2]</td>\n",
       "      <td>[]</td>\n",
       "      <td>[0]</td>\n",
       "    </tr>\n",
       "    <tr>\n",
       "      <th>4</th>\n",
       "      <td>4</td>\n",
       "      <td>Pay Order_0</td>\n",
       "      <td>2022-10-20 17:01:51.864004</td>\n",
       "      <td>2022-10-20 17:01:51.864004</td>\n",
       "      <td>[order1]</td>\n",
       "      <td>[]</td>\n",
       "      <td>[]</td>\n",
       "      <td>[0]</td>\n",
       "    </tr>\n",
       "    <tr>\n",
       "      <th>...</th>\n",
       "      <td>...</td>\n",
       "      <td>...</td>\n",
       "      <td>...</td>\n",
       "      <td>...</td>\n",
       "      <td>...</td>\n",
       "      <td>...</td>\n",
       "      <td>...</td>\n",
       "      <td>...</td>\n",
       "    </tr>\n",
       "    <tr>\n",
       "      <th>2386</th>\n",
       "      <td>2386</td>\n",
       "      <td>Start Route_8</td>\n",
       "      <td>2022-12-17 23:00:15.871959</td>\n",
       "      <td>2022-12-17 23:00:15.871959</td>\n",
       "      <td>[]</td>\n",
       "      <td>[item199, item196]</td>\n",
       "      <td>[delivery64]</td>\n",
       "      <td>[8]</td>\n",
       "    </tr>\n",
       "    <tr>\n",
       "      <th>2387</th>\n",
       "      <td>2387</td>\n",
       "      <td>End Route_8</td>\n",
       "      <td>2022-12-18 04:01:04.871959</td>\n",
       "      <td>2022-12-18 04:01:04.871959</td>\n",
       "      <td>[]</td>\n",
       "      <td>[item199, item196]</td>\n",
       "      <td>[delivery64]</td>\n",
       "      <td>[8]</td>\n",
       "    </tr>\n",
       "    <tr>\n",
       "      <th>2388</th>\n",
       "      <td>2388</td>\n",
       "      <td>Fuel Car_8</td>\n",
       "      <td>2022-12-18 06:59:45.871959</td>\n",
       "      <td>2022-12-18 06:59:45.871959</td>\n",
       "      <td>[]</td>\n",
       "      <td>[]</td>\n",
       "      <td>[delivery193]</td>\n",
       "      <td>[8]</td>\n",
       "    </tr>\n",
       "    <tr>\n",
       "      <th>2389</th>\n",
       "      <td>2389</td>\n",
       "      <td>Start Route_8</td>\n",
       "      <td>2022-12-18 07:25:24.871959</td>\n",
       "      <td>2022-12-18 07:25:24.871959</td>\n",
       "      <td>[]</td>\n",
       "      <td>[item265, item259]</td>\n",
       "      <td>[delivery193]</td>\n",
       "      <td>[8]</td>\n",
       "    </tr>\n",
       "    <tr>\n",
       "      <th>2390</th>\n",
       "      <td>2390</td>\n",
       "      <td>End Route_8</td>\n",
       "      <td>2022-12-18 12:23:32.871959</td>\n",
       "      <td>2022-12-18 12:23:32.871959</td>\n",
       "      <td>[]</td>\n",
       "      <td>[item265, item259]</td>\n",
       "      <td>[delivery193]</td>\n",
       "      <td>[8]</td>\n",
       "    </tr>\n",
       "  </tbody>\n",
       "</table>\n",
       "<p>2391 rows × 8 columns</p>\n",
       "</div>"
      ],
      "text/plain": [
       "             event_id   event_activity            event_timestamp  \\\n",
       "event_index                                                         \n",
       "0                   0    Place Order_0 2022-10-20 16:56:19.864004   \n",
       "1                   1  Confirm Order_0 2022-10-20 16:56:20.864004   \n",
       "2                   2      Pick Item_0 2022-10-20 17:01:51.864004   \n",
       "3                   3      Pick Item_0 2022-10-20 17:01:51.864004   \n",
       "4                   4      Pay Order_0 2022-10-20 17:01:51.864004   \n",
       "...               ...              ...                        ...   \n",
       "2386             2386    Start Route_8 2022-12-17 23:00:15.871959   \n",
       "2387             2387      End Route_8 2022-12-18 04:01:04.871959   \n",
       "2388             2388       Fuel Car_8 2022-12-18 06:59:45.871959   \n",
       "2389             2389    Start Route_8 2022-12-18 07:25:24.871959   \n",
       "2390             2390      End Route_8 2022-12-18 12:23:32.871959   \n",
       "\n",
       "                 event_start_timestamp     order                item  \\\n",
       "event_index                                                            \n",
       "0           2022-10-20 16:56:19.864004  [order1]      [item3, item2]   \n",
       "1           2022-10-20 16:56:20.864004  [order1]      [item3, item2]   \n",
       "2           2022-10-20 17:01:51.864004        []             [item3]   \n",
       "3           2022-10-20 17:01:51.864004        []             [item2]   \n",
       "4           2022-10-20 17:01:51.864004  [order1]                  []   \n",
       "...                                ...       ...                 ...   \n",
       "2386        2022-12-17 23:00:15.871959        []  [item199, item196]   \n",
       "2387        2022-12-18 04:01:04.871959        []  [item199, item196]   \n",
       "2388        2022-12-18 06:59:45.871959        []                  []   \n",
       "2389        2022-12-18 07:25:24.871959        []  [item265, item259]   \n",
       "2390        2022-12-18 12:23:32.871959        []  [item265, item259]   \n",
       "\n",
       "                  delivery event_variant  \n",
       "event_index                               \n",
       "0                       []           [0]  \n",
       "1                       []           [0]  \n",
       "2                       []           [0]  \n",
       "3                       []           [0]  \n",
       "4                       []           [0]  \n",
       "...                    ...           ...  \n",
       "2386          [delivery64]           [8]  \n",
       "2387          [delivery64]           [8]  \n",
       "2388         [delivery193]           [8]  \n",
       "2389         [delivery193]           [8]  \n",
       "2390         [delivery193]           [8]  \n",
       "\n",
       "[2391 rows x 8 columns]"
      ]
     },
     "execution_count": 4,
     "metadata": {},
     "output_type": "execute_result"
    }
   ],
   "source": [
    "filename_filtered = \"../src/data/filtered_traces/p2p-normal_filtered.csv\"\n",
    "object_types = [\"PURCHORD\",\"INVOICE\",\"PURCHREQ\",\"MATERIAL\",\"GDSRCPT\"]\n",
    "parameters = {\"obj_names\": object_types,\n",
    "              \"val_names\": [],\n",
    "              \"act_name\": \"event_activity\",\n",
    "              \"time_name\": \"event_timestamp\",\n",
    "              \"sep\": \",\"}\n",
    "ocel_filtered = ocel_import_factory_csv.apply(file_path=filename_filtered, parameters=parameters)\n",
    "generate_variant_log(ocel_filtered,\"../src/data/filtered_traces/p2p_variant_filtered.csv\", filtered=True )"
   ]
  },
  {
   "cell_type": "markdown",
   "id": "c7daaf12",
   "metadata": {},
   "source": [
    "# Order process"
   ]
  },
  {
   "cell_type": "code",
   "execution_count": 3,
   "id": "d8448274",
   "metadata": {},
   "outputs": [],
   "source": [
    "filename = \"../src/data/jsonocel/order_process.jsonocel\"\n",
    "ocel = ocel_import_factory.apply(filename)\n",
    "generate_variant_log(ocel,\"../src/data/csv/order_process_variant_log.csv\" )"
   ]
  },
  {
   "cell_type": "code",
   "execution_count": null,
   "id": "956acb4c",
   "metadata": {},
   "outputs": [],
   "source": [
    "filename_filtered = \"../src/data/filtered_traces/order_process_filtered.csv\"\n",
    "object_types = [\"order\",\"item\",\"delivery\"]\n",
    "parameters = {\"obj_names\": object_types,\n",
    "              \"val_names\": [],\n",
    "              \"act_name\": \"event_activity\",\n",
    "              \"time_name\": \"event_timestamp\",\n",
    "              \"sep\": \",\"}\n",
    "ocel_filtered = ocel_import_factory_csv.apply(file_path=filename_filtered, parameters=parameters)\n",
    "generate_variant_log(ocel_filtered,\"../src/data/filtered_traces/order_process_variant_filtered.csv\" ,filtered=True)"
   ]
  },
  {
   "cell_type": "markdown",
   "id": "84e80e61",
   "metadata": {},
   "source": [
    "# BPI Challenge"
   ]
  },
  {
   "cell_type": "code",
   "execution_count": null,
   "id": "24f4003e",
   "metadata": {},
   "outputs": [],
   "source": [
    "filename = \"../src/data/jsonocel/BPI2017-Final.jsonocel\"\n",
    "ocel = ocel_import_factory.apply(filename)\n",
    "generate_variant_log(ocel,\"../src/data/csv/bpi2017_variant_log.csv\" )"
   ]
  },
  {
   "cell_type": "code",
   "execution_count": 3,
   "id": "931bc617",
   "metadata": {},
   "outputs": [],
   "source": [
    "filename_filtered = \"../src/data/filtered_traces/BPI2017-Final_filtered.csv\"\n",
    "object_types = [\"application\",\"offer\"]\n",
    "parameters = {\"obj_names\": object_types,\n",
    "              \"val_names\": [],\n",
    "              \"act_name\": \"event_activity\",\n",
    "              \"time_name\": \"event_timestamp\",\n",
    "              \"sep\": \",\"}\n",
    "ocel_filtered = ocel_import_factory_csv.apply(file_path=filename_filtered, parameters=parameters)\n",
    "generate_variant_log(ocel_filtered,\"../src/data/filtered_traces/BPI2017-Final_variant_filtered.csv\" ,filtered=True)"
   ]
  },
  {
   "cell_type": "markdown",
   "id": "0cccbeb2",
   "metadata": {},
   "source": [
    "# DS3"
   ]
  },
  {
   "cell_type": "code",
   "execution_count": null,
   "id": "a48dd592",
   "metadata": {},
   "outputs": [],
   "source": [
    "filename = \"../src/data/jsonocel/DS3.jsonocel\"\n",
    "ocel = ocel_import_factory.apply(filename)\n",
    "generate_variant_log(ocel,\"../src/data/csv/DS3_variant_log.csv\" )"
   ]
  },
  {
   "cell_type": "code",
   "execution_count": null,
   "id": "8c5b41de",
   "metadata": {},
   "outputs": [],
   "source": []
  },
  {
   "cell_type": "markdown",
   "id": "d7dd1f68",
   "metadata": {},
   "source": [
    "# DS4"
   ]
  },
  {
   "cell_type": "code",
   "execution_count": null,
   "id": "42e17b47",
   "metadata": {},
   "outputs": [],
   "source": [
    "filename = \"../src/data/jsonocel/DS4.jsonocel\"\n",
    "ocel = ocel_import_factory.apply(filename)\n",
    "generate_variant_log(ocel,\"../src/data/csv/DS4_variant_log.csv\" )"
   ]
  },
  {
   "cell_type": "code",
   "execution_count": null,
   "id": "78a1e409",
   "metadata": {},
   "outputs": [],
   "source": []
  },
  {
   "cell_type": "code",
   "execution_count": null,
   "id": "2244bfae",
   "metadata": {},
   "outputs": [],
   "source": []
  }
 ],
 "metadata": {
  "kernelspec": {
   "display_name": "Python 3 (ipykernel)",
   "language": "python",
   "name": "python3"
  },
  "language_info": {
   "codemirror_mode": {
    "name": "ipython",
    "version": 3
   },
   "file_extension": ".py",
   "mimetype": "text/x-python",
   "name": "python",
   "nbconvert_exporter": "python",
   "pygments_lexer": "ipython3",
   "version": "3.8.6"
  }
 },
 "nbformat": 4,
 "nbformat_minor": 5
}
