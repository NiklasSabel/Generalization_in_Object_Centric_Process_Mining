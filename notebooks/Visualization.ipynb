{
 "cells": [
  {
   "cell_type": "markdown",
   "id": "1df63fd5",
   "metadata": {},
   "source": [
    "# Visualization of OC-Petri Nets"
   ]
  },
  {
   "cell_type": "markdown",
   "id": "e17781cb",
   "metadata": {},
   "source": [
    "### In this notebook, we visualize the final object centric event logs that will be used for our thesis via the ocpa python package in an object-centric petri net."
   ]
  },
  {
   "cell_type": "code",
   "execution_count": 1,
   "id": "3e93997b",
   "metadata": {},
   "outputs": [
    {
     "name": "stderr",
     "output_type": "stream",
     "text": [
      "C:\\Users\\Nikla\\PycharmProjects\\Generalization in Object-Centric Process Mining\\venv\\lib\\site-packages\\pm4py\\objects\\petri\\__init__.py:19: UserWarning: please use the pm4py.objects.petri_net package instead.\n",
      "  warnings.warn('please use the pm4py.objects.petri_net package instead.')\n",
      "C:\\Users\\Nikla\\PycharmProjects\\Generalization in Object-Centric Process Mining\\venv\\lib\\site-packages\\pm4py\\objects\\petri\\obj.py:19: UserWarning: pm4py.objects.petri.obj is deprecated. Please use the class pm4py.objects.petri_net.obj instead.\n",
      "  warnings.warn(\"pm4py.objects.petri.obj is deprecated. Please use the class pm4py.objects.petri_net.obj instead.\")\n",
      "C:\\Users\\Nikla\\PycharmProjects\\Generalization in Object-Centric Process Mining\\venv\\lib\\site-packages\\pm4py\\objects\\petri\\exporter\\__init__.py:21: UserWarning: please use the pm4py.objects.petri_net.exporter package instead.\n",
      "  warnings.warn('please use the pm4py.objects.petri_net.exporter package instead.')\n",
      "C:\\Users\\Nikla\\PycharmProjects\\Generalization in Object-Centric Process Mining\\venv\\lib\\site-packages\\pm4py\\objects\\petri\\importer\\__init__.py:21: UserWarning: please use the pm4py.objects.petri_net.importer package instead.\n",
      "  warnings.warn('please use the pm4py.objects.petri_net.importer package instead.')\n",
      "C:\\Users\\Nikla\\PycharmProjects\\Generalization in Object-Centric Process Mining\\venv\\lib\\site-packages\\pm4py\\objects\\petri\\petrinet.py:19: UserWarning: pm4py.objects.petri.petrinet is deprecated. Please use the class pm4py.objects.petri_net.obj instead.\n",
      "  warnings.warn(\"pm4py.objects.petri.petrinet is deprecated. Please use the class pm4py.objects.petri_net.obj instead.\")\n",
      "C:\\Users\\Nikla\\PycharmProjects\\Generalization in Object-Centric Process Mining\\venv\\lib\\site-packages\\pm4py\\visualization\\petrinet\\__init__.py:20: UserWarning: please use the pm4py.visualization.petri_net package instead\n",
      "  warnings.warn(\"please use the pm4py.visualization.petri_net package instead\")\n"
     ]
    }
   ],
   "source": [
    "from ocpa.objects.log.importer.ocel import factory as ocel_import_factory\n",
    "from ocpa.objects.log.importer.csv import factory as ocel_import_factory_csv\n",
    "from ocpa.algo.conformance.precision_and_fitness import evaluator as quality_measure_factory\n",
    "from ocpa.algo.discovery.ocpn import algorithm as ocpn_discovery_factory\n",
    "from ocpa.objects.log.exporter.ocel import factory as ocel_export_factory\n",
    "from ocpa.visualization.oc_petri_net import factory as ocpn_vis_factory\n",
    "import os"
   ]
  },
  {
   "cell_type": "code",
   "execution_count": 2,
   "id": "900a22ea",
   "metadata": {},
   "outputs": [],
   "source": [
    "os.environ[\"PATH\"] += os.pathsep + 'C:/Program Files/Graphviz/bin'"
   ]
  },
  {
   "cell_type": "code",
   "execution_count": 3,
   "id": "1963bb75",
   "metadata": {},
   "outputs": [
    {
     "name": "stderr",
     "output_type": "stream",
     "text": [
      "C:\\Users\\Nikla\\PycharmProjects\\Generalization in Object-Centric Process Mining\\venv\\lib\\site-packages\\ocpa\\objects\\log\\importer\\csv\\util.py:49: FutureWarning: Using short name for 'orient' is deprecated. Only the options: ('dict', list, 'series', 'split', 'records', 'index') will be used in a future version. Use one of the above to silence this warning.\n",
      "  stream = df.to_dict('r')\n"
     ]
    }
   ],
   "source": [
    "filename = \"../src/data/jsonocel/p2p-normal.jsonocel\"\n",
    "ocel = ocel_import_factory.apply(filename)\n",
    "ocpn = ocpn_discovery_factory.apply(ocel, parameters = {\"debug\":False})\n",
    "gviz = ocpn_vis_factory.apply(ocpn, parameters={'format': 'svg'})\n",
    "#ocpn_vis_factory.view(gviz) -> cannot be embedded in notebook\n",
    "ocpn_vis_factory.save(gviz,\"../reports/figures/p2p-normal.svg\")"
   ]
  },
  {
   "cell_type": "code",
   "execution_count": 6,
   "id": "15b30e1c",
   "metadata": {},
   "outputs": [
    {
     "name": "stderr",
     "output_type": "stream",
     "text": [
      "C:\\Users\\Nikla\\PycharmProjects\\Generalization in Object-Centric Process Mining\\venv\\lib\\site-packages\\ocpa\\objects\\log\\importer\\csv\\util.py:49: FutureWarning: Using short name for 'orient' is deprecated. Only the options: ('dict', list, 'series', 'split', 'records', 'index') will be used in a future version. Use one of the above to silence this warning.\n",
      "  stream = df.to_dict('r')\n"
     ]
    }
   ],
   "source": [
    "filename = \"../src/data/jsonocel/order_process.jsonocel\"\n",
    "ocel = ocel_import_factory.apply(filename)\n",
    "ocpn = ocpn_discovery_factory.apply(ocel, parameters = {\"debug\":False})\n",
    "gviz = ocpn_vis_factory.apply(ocpn, parameters={'format': 'svg'})\n",
    "#ocpn_vis_factory.view(gviz) -> cannot be embedded in notebook\n",
    "ocpn_vis_factory.save(gviz,\"../reports/figures/order_process.svg\")"
   ]
  },
  {
   "cell_type": "code",
   "execution_count": 8,
   "id": "233b123d",
   "metadata": {},
   "outputs": [
    {
     "name": "stderr",
     "output_type": "stream",
     "text": [
      "C:\\Users\\Nikla\\PycharmProjects\\Generalization in Object-Centric Process Mining\\venv\\lib\\site-packages\\ocpa\\objects\\log\\importer\\csv\\util.py:49: FutureWarning: Using short name for 'orient' is deprecated. Only the options: ('dict', list, 'series', 'split', 'records', 'index') will be used in a future version. Use one of the above to silence this warning.\n",
      "  stream = df.to_dict('r')\n"
     ]
    }
   ],
   "source": [
    "filename = \"../src/data/jsonocel/BPI2017-Final.jsonocel\"\n",
    "ocel = ocel_import_factory.apply(filename)\n",
    "ocpn = ocpn_discovery_factory.apply(ocel, parameters = {\"debug\":False})\n",
    "gviz = ocpn_vis_factory.apply(ocpn, parameters={'format': 'svg'})\n",
    "#ocpn_vis_factory.view(gviz) -> cannot be embedded in notebook\n",
    "ocpn_vis_factory.save(gviz,\"../reports/figures/BPI2017-Final.svg\")"
   ]
  }
 ],
 "metadata": {
  "kernelspec": {
   "display_name": "Python 3 (ipykernel)",
   "language": "python",
   "name": "python3"
  },
  "language_info": {
   "codemirror_mode": {
    "name": "ipython",
    "version": 3
   },
   "file_extension": ".py",
   "mimetype": "text/x-python",
   "name": "python",
   "nbconvert_exporter": "python",
   "pygments_lexer": "ipython3",
   "version": "3.8.6"
  }
 },
 "nbformat": 4,
 "nbformat_minor": 5
}
