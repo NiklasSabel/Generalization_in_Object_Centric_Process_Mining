{
 "cells": [
  {
   "cell_type": "markdown",
   "id": "3629febf",
   "metadata": {},
   "source": [
    "# Runtime Analysis"
   ]
  },
  {
   "cell_type": "markdown",
   "id": "30b2c24a",
   "metadata": {},
   "source": [
    "The purpose of this notebook is to gain insights into the actual execution times of the algorithms employed. Initially, we generate three distinct sets for each of the five logs utilized in our thesis. Specifically, we extract samples consisting of 200, 500, and 800 traces per log. We apply two different settings to show how the running time behaves:\n",
    "\n",
    "1. Considering that the logs feature varying numbers of utilized objects, we leverage the logs comprising 200 traces to conduct a comparative analysis of the running time based on the object quantity.\n",
    "\n",
    "2. Since the logs also vary in different aspects that we cannot fully compensate (e.g., max length of a trace, amount of activities), we compare the running time for the same log based on the amount of traces inside the log. "
   ]
  },
  {
   "cell_type": "markdown",
   "id": "d7434d5f",
   "metadata": {},
   "source": [
    "### Everything in this notebook that is not fully executed was run on the servers in Karlsruhe."
   ]
  },
  {
   "cell_type": "code",
   "execution_count": 1,
   "id": "7cd21f2c",
   "metadata": {
    "pycharm": {
     "is_executing": true
    }
   },
   "outputs": [],
   "source": [
    "import warnings\n",
    "warnings.filterwarnings('ignore')\n",
    "from ocpa.objects.log.importer.ocel import factory as ocel_import_factory\n",
    "from ocpa.algo.discovery.ocpn import algorithm as ocpn_discovery_factory\n",
    "from src.utils import sample_traces, process_log, generate_variant_log\n",
    "from ocpa.objects.log.importer.csv import factory as ocel_import_factory_csv\n",
    "from ocpa.objects.log.exporter.ocel import factory as ocel_export_factory\n",
    "from ocpa.algo.util.filtering.log import case_filtering\n",
    "from models.baseline_measure import baseline_measure\n",
    "from models.alignment_measure import alignment_measure_events\n",
    "from models.negative_events_measure import negative_events_with_weighting\n",
    "from src.utils import get_happy_path_log, create_flower_model, generate_variant_model\n",
    "from models.VAE_measure import get_text_data, decode_sequence, create_lstm_vae, VAE_generalization,create_VAE_input\n",
    "from tqdm import tqdm\n",
    "import numpy as np\n",
    "import time"
   ]
  },
  {
   "cell_type": "code",
   "execution_count": 3,
   "id": "fe417423",
   "metadata": {},
   "outputs": [],
   "source": [
    "def sample_for_runtime(filename,trace_amount):\n",
    "    ocel = ocel_import_factory.apply(f\"../src/data/jsonocel/{filename}.jsonocel\")\n",
    "    ocpn = ocpn_discovery_factory.apply(ocel, parameters={\"debug\": False})\n",
    "    train_log = sample_traces(ocel, ocpn, trace_amount)\n",
    "    #process the sampled log\n",
    "    train_log = [[' '.join(activity.lower() for activity in sublist)] for sublist in train_log]\n",
    "    df_log = process_log(train_log, ocel, ocpn, f'../src/data/runtime/{filename}_{trace_amount}.csv')\n",
    "    return df_log"
   ]
  },
  {
   "cell_type": "code",
   "execution_count": 15,
   "id": "0e653f7f",
   "metadata": {},
   "outputs": [],
   "source": [
    "def filter_for_runtime(filename,trace_amount):\n",
    "    ocel = ocel_import_factory.apply(f\"../src/data/jsonocel/{filename}.jsonocel\")\n",
    "    ocel = case_filtering.filter_process_executions(ocel, ocel.process_executions[:trace_amount])\n",
    "    ocel_export_factory.apply(ocel, f'../src/data/runtime/{filename}_{trace_amount}.jsonocel')\n",
    "    return df_log"
   ]
  },
  {
   "cell_type": "markdown",
   "id": "429a9fb3",
   "metadata": {},
   "source": [
    "# Sample Order Process and P2P Process"
   ]
  },
  {
   "cell_type": "markdown",
   "id": "a8a9ee6c",
   "metadata": {},
   "source": [
    "For the order and the p2p process, we only have 48 and 80 traces respectively. Therefore, we need to sample the needed amount of 200, 500, and 800 traces for these processes. We make use of the sample for runtime function defined above."
   ]
  },
  {
   "cell_type": "code",
   "execution_count": 4,
   "id": "8cd80041",
   "metadata": {},
   "outputs": [],
   "source": [
    "filenames = [\"order_process\",\"p2p-normal\"]\n",
    "sample_sizes = [200 ,500, 800]"
   ]
  },
  {
   "cell_type": "code",
   "execution_count": 5,
   "id": "7c1b1cff",
   "metadata": {},
   "outputs": [
    {
     "name": "stderr",
     "output_type": "stream",
     "text": [
      "Check the arcs: 100%|██████████| 46/46 [00:00<?, ?it/s]\n",
      "Generate the traces: 100%|██████████| 200/200 [00:00<00:00, 11561.09it/s]\n",
      "Check the arcs: 100%|██████████| 46/46 [00:00<00:00, 43670.89it/s]\n",
      "Generate the traces: 100%|██████████| 500/500 [00:00<00:00, 8723.78it/s]\n",
      "Check the arcs: 100%|██████████| 46/46 [00:00<00:00, 38688.19it/s]\n",
      "Generate the traces: 100%|██████████| 800/800 [00:00<00:00, 15322.92it/s]\n",
      "Check the arcs: 100%|██████████| 40/40 [00:00<00:00, 24325.38it/s]\n",
      "Generate the traces: 100%|██████████| 200/200 [00:00<00:00, 7534.57it/s]\n",
      "Check the arcs: 100%|██████████| 40/40 [00:00<?, ?it/s]\n",
      "Generate the traces: 100%|██████████| 500/500 [00:00<00:00, 17820.65it/s]\n",
      "Check the arcs: 100%|██████████| 40/40 [00:00<00:00, 40358.95it/s]\n",
      "Generate the traces: 100%|██████████| 800/800 [00:00<00:00, 11255.00it/s]\n"
     ]
    }
   ],
   "source": [
    "for filename in filenames:\n",
    "    for sample_size in sample_sizes:\n",
    "        df_log = sample_for_runtime(filename,sample_size)"
   ]
  },
  {
   "cell_type": "markdown",
   "id": "5f231b69",
   "metadata": {},
   "source": [
    "Save the files in ocel format for better usability."
   ]
  },
  {
   "cell_type": "code",
   "execution_count": 20,
   "id": "77c709cd",
   "metadata": {},
   "outputs": [],
   "source": [
    "filenames = [\"order_process\",\"p2p-normal\"]\n",
    "objects = [[\"order\",\"item\",\"delivery\"],[\"PURCHORD\",\"INVOICE\",\"PURCHREQ\",\"MATERIAL\",\"GDSRCPT\"]]\n",
    "sample_sizes = [200 ,500, 800]\n",
    "for filename in filenames:\n",
    "    if filename == 'order_process':\n",
    "        object_types = objects[0]\n",
    "    else:\n",
    "        object_types = objects[1]\n",
    "    for sample_size in sample_sizes:\n",
    "        parameters = {\"obj_names\": object_types,\n",
    "                          \"val_names\": [],\n",
    "                          \"act_name\": \"event_activity\",\n",
    "                          \"time_name\": \"event_timestamp\",\n",
    "                          \"sep\": \",\"}\n",
    "        ocel_csv = ocel_import_factory_csv.apply(file_path=f'../src/data/runtime/{filename}_{sample_size}.csv', parameters=parameters)\n",
    "        ocel_export_factory.apply(ocel_csv, f'../src/data/runtime/{filename}_{sample_size}.jsonocel')\n"
   ]
  },
  {
   "cell_type": "markdown",
   "id": "13c03ec2",
   "metadata": {},
   "source": [
    "# Filter BPI, DS3, and DS4"
   ]
  },
  {
   "cell_type": "markdown",
   "id": "c99c5699",
   "metadata": {},
   "source": [
    "For the BPI, DS3, and DS4 process, we have more then enough traces. To make it comparable, we use the ocpa functionality to filter down the traces to the needed amount of 200, 500, and 800 traces for these processes. We make use of the filter for runtime function defined above."
   ]
  },
  {
   "cell_type": "code",
   "execution_count": 16,
   "id": "a1530dc4",
   "metadata": {},
   "outputs": [],
   "source": [
    "filenames = [\"BPI2017-Final\",\"DS3\",\"DS4\"]\n",
    "sample_sizes = [200 ,500, 800]"
   ]
  },
  {
   "cell_type": "code",
   "execution_count": 17,
   "id": "4adc4251",
   "metadata": {},
   "outputs": [],
   "source": [
    "for filename in filenames:\n",
    "    for sample_size in sample_sizes:\n",
    "        df_log = filter_for_runtime(filename,sample_size)"
   ]
  },
  {
   "cell_type": "markdown",
   "id": "60e62ee5",
   "metadata": {},
   "source": [
    "### Generate Variant Log for all samples"
   ]
  },
  {
   "cell_type": "code",
   "execution_count": 30,
   "id": "dfcba9a4",
   "metadata": {},
   "outputs": [],
   "source": [
    "filenames = [\"order_process\",\"p2p-normal\",\"BPI2017-Final\",\"DS3\",\"DS4\"]\n",
    "sample_sizes = [200 ,500, 800]"
   ]
  },
  {
   "cell_type": "code",
   "execution_count": 33,
   "id": "bdd0558b",
   "metadata": {},
   "outputs": [],
   "source": [
    "for filename in filenames:\n",
    "    for sample_size in sample_sizes:\n",
    "        ocel = ocel_import_factory.apply(f\"../src/data/runtime/{filename}_{sample_size}.jsonocel\")\n",
    "        generate_variant_log(ocel,f\"../src/data/runtime/variant_logs/{filename}_{sample_size}_variant_log.csv\" )"
   ]
  },
  {
   "cell_type": "markdown",
   "id": "7acd06c7",
   "metadata": {},
   "source": [
    "# Runtime Baseline Measure"
   ]
  },
  {
   "cell_type": "code",
   "execution_count": 24,
   "id": "9a022965",
   "metadata": {},
   "outputs": [],
   "source": [
    "filenames = [\"order_process\",\"p2p-normal\",\"BPI2017-Final\",\"DS3\",\"DS4\"]\n",
    "sample_sizes = [200 ,500, 800]"
   ]
  },
  {
   "cell_type": "markdown",
   "id": "7ae5283a",
   "metadata": {},
   "source": [
    "### OCPN model"
   ]
  },
  {
   "cell_type": "code",
   "execution_count": 28,
   "id": "159b4fa1",
   "metadata": {},
   "outputs": [
    {
     "name": "stdout",
     "output_type": "stream",
     "text": [
      "The execution time for the baseline measure approach for order_process with 200 traces is 0.0128 seconds\n",
      "The execution time for the baseline measure approach for order_process with 500 traces is 0.0111 seconds\n",
      "The execution time for the baseline measure approach for order_process with 800 traces is 0.0169 seconds\n",
      "The execution time for the baseline measure approach for p2p-normal with 200 traces is 0.0088 seconds\n",
      "The execution time for the baseline measure approach for p2p-normal with 500 traces is 0.0134 seconds\n",
      "The execution time for the baseline measure approach for p2p-normal with 800 traces is 0.0163 seconds\n",
      "The execution time for the baseline measure approach for BPI2017-Final with 200 traces is 0.0293 seconds\n",
      "The execution time for the baseline measure approach for BPI2017-Final with 500 traces is 0.0481 seconds\n",
      "The execution time for the baseline measure approach for BPI2017-Final with 800 traces is 0.0676 seconds\n",
      "The execution time for the baseline measure approach for DS3 with 200 traces is 0.1669 seconds\n",
      "The execution time for the baseline measure approach for DS3 with 500 traces is 0.3186 seconds\n",
      "The execution time for the baseline measure approach for DS3 with 800 traces is 0.4127 seconds\n",
      "The execution time for the baseline measure approach for DS4 with 200 traces is 0.2609 seconds\n",
      "The execution time for the baseline measure approach for DS4 with 500 traces is 0.3232 seconds\n",
      "The execution time for the baseline measure approach for DS4 with 800 traces is 0.392 seconds\n"
     ]
    }
   ],
   "source": [
    "for filename in filenames:\n",
    "    for sample_size in sample_sizes:\n",
    "        ocel = ocel_import_factory.apply(f\"../src/data/runtime/{filename}_{sample_size}.jsonocel\")\n",
    "        ocpn = ocpn_discovery_factory.apply(ocel, parameters={\"debug\": False})\n",
    "        start_time = time.time()\n",
    "        value = baseline_measure(ocel,ocpn,'event_activity','event_id')\n",
    "        execution_time = np.round(time.time() - start_time,4)\n",
    "        print(f\"The execution time for the baseline measure approach for {filename} with {sample_size} traces is {execution_time} seconds\")"
   ]
  },
  {
   "cell_type": "markdown",
   "id": "41469d01",
   "metadata": {},
   "source": [
    "### Happy Path model"
   ]
  },
  {
   "cell_type": "code",
   "execution_count": 29,
   "id": "007cf651",
   "metadata": {},
   "outputs": [
    {
     "name": "stdout",
     "output_type": "stream",
     "text": [
      "The execution time for the baseline measure approach for order_process and the happy path model with 200 traces is 0.0098 seconds\n",
      "The execution time for the baseline measure approach for order_process and the happy path model with 500 traces is 0.0109 seconds\n",
      "The execution time for the baseline measure approach for order_process and the happy path model with 800 traces is 0.0148 seconds\n",
      "The execution time for the baseline measure approach for p2p-normal and the happy path model with 200 traces is 0.007 seconds\n",
      "The execution time for the baseline measure approach for p2p-normal and the happy path model with 500 traces is 0.0111 seconds\n",
      "The execution time for the baseline measure approach for p2p-normal and the happy path model with 800 traces is 0.0146 seconds\n",
      "The execution time for the baseline measure approach for BPI2017-Final and the happy path model with 200 traces is 0.0284 seconds\n",
      "The execution time for the baseline measure approach for BPI2017-Final and the happy path model with 500 traces is 0.0512 seconds\n",
      "The execution time for the baseline measure approach for BPI2017-Final and the happy path model with 800 traces is 0.0692 seconds\n",
      "The execution time for the baseline measure approach for DS3 and the happy path model with 200 traces is 0.1547 seconds\n",
      "The execution time for the baseline measure approach for DS3 and the happy path model with 500 traces is 0.6275 seconds\n",
      "The execution time for the baseline measure approach for DS3 and the happy path model with 800 traces is 0.3829 seconds\n",
      "The execution time for the baseline measure approach for DS4 and the happy path model with 200 traces is 0.1787 seconds\n",
      "The execution time for the baseline measure approach for DS4 and the happy path model with 500 traces is 0.2975 seconds\n",
      "The execution time for the baseline measure approach for DS4 and the happy path model with 800 traces is 0.4805 seconds\n"
     ]
    }
   ],
   "source": [
    "for filename in filenames:\n",
    "    for sample_size in sample_sizes:\n",
    "        ocel = ocel_import_factory.apply(f\"../src/data/runtime/{filename}_{sample_size}.jsonocel\")\n",
    "        happy_path__ocel = get_happy_path_log(f\"../src/data/runtime/{filename}_{sample_size}.jsonocel\")\n",
    "        happy_path_ocpn = ocpn_discovery_factory.apply(happy_path__ocel, parameters={\"debug\": False})\n",
    "        start_time = time.time()\n",
    "        value = baseline_measure(ocel,happy_path_ocpn,'event_activity','event_id')\n",
    "        execution_time = np.round(time.time() - start_time,4)\n",
    "        print(f\"The execution time for the baseline measure approach for {filename} and the happy path model with {sample_size} traces is {execution_time} seconds\")"
   ]
  },
  {
   "cell_type": "markdown",
   "id": "5e92a10f",
   "metadata": {},
   "source": [
    "### Flower model"
   ]
  },
  {
   "cell_type": "code",
   "execution_count": 34,
   "id": "1db07061",
   "metadata": {},
   "outputs": [
    {
     "name": "stdout",
     "output_type": "stream",
     "text": [
      "The execution time for the baseline measure approach for order_process and the flower model with 200 traces is 0.0292 seconds\n",
      "The execution time for the baseline measure approach for order_process and the flower model with 500 traces is 0.0323 seconds\n",
      "The execution time for the baseline measure approach for order_process and the flower model with 800 traces is 0.0457 seconds\n",
      "The execution time for the baseline measure approach for p2p-normal and the flower model with 200 traces is 0.0101 seconds\n",
      "The execution time for the baseline measure approach for p2p-normal and the flower model with 500 traces is 0.0328 seconds\n",
      "The execution time for the baseline measure approach for p2p-normal and the flower model with 800 traces is 0.0255 seconds\n",
      "The execution time for the baseline measure approach for BPI2017-Final and the flower model with 200 traces is 0.039 seconds\n",
      "The execution time for the baseline measure approach for BPI2017-Final and the flower model with 500 traces is 0.1261 seconds\n",
      "The execution time for the baseline measure approach for BPI2017-Final and the flower model with 800 traces is 0.1745 seconds\n",
      "The execution time for the baseline measure approach for DS3 and the flower model with 200 traces is 0.4456 seconds\n",
      "The execution time for the baseline measure approach for DS3 and the flower model with 500 traces is 0.7233 seconds\n",
      "The execution time for the baseline measure approach for DS3 and the flower model with 800 traces is 0.716 seconds\n",
      "The execution time for the baseline measure approach for DS4 and the flower model with 200 traces is 0.3683 seconds\n",
      "The execution time for the baseline measure approach for DS4 and the flower model with 500 traces is 0.7174 seconds\n",
      "The execution time for the baseline measure approach for DS4 and the flower model with 800 traces is 0.5914 seconds\n"
     ]
    }
   ],
   "source": [
    "objects = [[\"order\",\"item\",\"delivery\"],[\"PURCHORD\",\"INVOICE\",\"PURCHREQ\",\"MATERIAL\",\"GDSRCPT\"],[\"application\",\"offer\"],[\"incident\",\"customer\"], [\"Payment application\",\"Control summary\",\"Entitlement application\",\"Geo parcel document\",\"Inspection\",\"Reference alignment\"]]\n",
    "counter = 0\n",
    "for filename in filenames:\n",
    "    ots = objects[counter]\n",
    "    counter += 1\n",
    "    for sample_size in sample_sizes:\n",
    "        ocel = ocel_import_factory.apply(f\"../src/data/runtime/{filename}_{sample_size}.jsonocel\")\n",
    "        flower_ocpn = create_flower_model(f\"../src/data/runtime/{filename}_{sample_size}.jsonocel\",ots)\n",
    "        start_time = time.time()\n",
    "        value = baseline_measure(ocel,flower_ocpn,'event_activity','event_id')\n",
    "        execution_time = np.round(time.time() - start_time,4)\n",
    "        print(f\"The execution time for the baseline measure approach for {filename} and the flower model with {sample_size} traces is {execution_time} seconds\")"
   ]
  },
  {
   "cell_type": "markdown",
   "id": "9d40a7af",
   "metadata": {},
   "source": [
    "### Variant Model"
   ]
  },
  {
   "cell_type": "code",
   "execution_count": 36,
   "id": "7c3a51ea",
   "metadata": {},
   "outputs": [
    {
     "name": "stderr",
     "output_type": "stream",
     "text": [
      "Generating Variant Models: 100%|██████████| 105/105 [00:27<00:00,  3.82it/s]\n",
      "Processing Variant Nets: 100%|██████████| 105/105 [00:00<00:00, 7465.96it/s]\n"
     ]
    },
    {
     "name": "stdout",
     "output_type": "stream",
     "text": [
      "#########Start generating Object-Centric Petri Net#########\n",
      "#########Finished generating Object-Centric Petri Net#########\n",
      "The execution time for the baseline measure approach for order_process and the variant model with 200 traces is 1.1585 seconds\n"
     ]
    },
    {
     "name": "stderr",
     "output_type": "stream",
     "text": [
      "Generating Variant Models: 100%|██████████| 174/174 [00:40<00:00,  4.35it/s]\n",
      "Processing Variant Nets: 100%|██████████| 174/174 [00:00<00:00, 4523.03it/s]\n"
     ]
    },
    {
     "name": "stdout",
     "output_type": "stream",
     "text": [
      "#########Start generating Object-Centric Petri Net#########\n",
      "#########Finished generating Object-Centric Petri Net#########\n",
      "The execution time for the baseline measure approach for order_process and the variant model with 500 traces is 4.6279 seconds\n"
     ]
    },
    {
     "name": "stderr",
     "output_type": "stream",
     "text": [
      "Generating Variant Models: 100%|██████████| 228/228 [01:14<00:00,  3.07it/s]\n",
      "Processing Variant Nets: 100%|██████████| 228/228 [00:00<00:00, 5741.00it/s]\n"
     ]
    },
    {
     "name": "stdout",
     "output_type": "stream",
     "text": [
      "#########Start generating Object-Centric Petri Net#########\n",
      "#########Finished generating Object-Centric Petri Net#########\n",
      "The execution time for the baseline measure approach for order_process and the variant model with 800 traces is 8.808 seconds\n"
     ]
    },
    {
     "name": "stderr",
     "output_type": "stream",
     "text": [
      "Generating Variant Models: 100%|██████████| 2/2 [00:03<00:00,  1.82s/it]\n",
      "Processing Variant Nets: 100%|██████████| 2/2 [00:00<00:00, 1001.51it/s]\n"
     ]
    },
    {
     "name": "stdout",
     "output_type": "stream",
     "text": [
      "#########Start generating Object-Centric Petri Net#########\n",
      "#########Finished generating Object-Centric Petri Net#########\n",
      "The execution time for the baseline measure approach for p2p-normal and the variant model with 200 traces is 0.0548 seconds\n"
     ]
    },
    {
     "name": "stderr",
     "output_type": "stream",
     "text": [
      "Generating Variant Models: 100%|██████████| 2/2 [00:08<00:00,  4.06s/it]\n",
      "Processing Variant Nets: 100%|██████████| 2/2 [00:00<00:00, 2000.14it/s]\n"
     ]
    },
    {
     "name": "stdout",
     "output_type": "stream",
     "text": [
      "#########Start generating Object-Centric Petri Net#########\n",
      "#########Finished generating Object-Centric Petri Net#########\n",
      "The execution time for the baseline measure approach for p2p-normal and the variant model with 500 traces is 0.0519 seconds\n"
     ]
    },
    {
     "name": "stderr",
     "output_type": "stream",
     "text": [
      "Generating Variant Models: 100%|██████████| 2/2 [00:13<00:00,  6.62s/it]\n",
      "Processing Variant Nets: 100%|██████████| 2/2 [00:00<00:00, 1977.51it/s]\n"
     ]
    },
    {
     "name": "stdout",
     "output_type": "stream",
     "text": [
      "#########Start generating Object-Centric Petri Net#########\n",
      "#########Finished generating Object-Centric Petri Net#########\n",
      "The execution time for the baseline measure approach for p2p-normal and the variant model with 800 traces is 0.0831 seconds\n"
     ]
    },
    {
     "name": "stderr",
     "output_type": "stream",
     "text": [
      "Generating Variant Models: 100%|██████████| 199/199 [01:15<00:00,  2.65it/s]\n",
      "Processing Variant Nets: 100%|██████████| 199/199 [00:00<00:00, 5328.87it/s]\n"
     ]
    },
    {
     "name": "stdout",
     "output_type": "stream",
     "text": [
      "#########Start generating Object-Centric Petri Net#########\n",
      "#########Finished generating Object-Centric Petri Net#########\n",
      "The execution time for the baseline measure approach for BPI2017-Final and the variant model with 200 traces is 6.6024 seconds\n"
     ]
    },
    {
     "name": "stderr",
     "output_type": "stream",
     "text": [
      "Generating Variant Models: 100%|██████████| 497/497 [03:00<00:00,  2.75it/s]\n",
      "Processing Variant Nets: 100%|██████████| 497/497 [00:00<00:00, 2693.30it/s]\n"
     ]
    },
    {
     "name": "stdout",
     "output_type": "stream",
     "text": [
      "#########Start generating Object-Centric Petri Net#########\n",
      "#########Finished generating Object-Centric Petri Net#########\n",
      "The execution time for the baseline measure approach for BPI2017-Final and the variant model with 500 traces is 25.6404 seconds\n"
     ]
    },
    {
     "name": "stderr",
     "output_type": "stream",
     "text": [
      "Generating Variant Models: 100%|██████████| 787/787 [04:57<00:00,  2.65it/s]\n",
      "Processing Variant Nets: 100%|██████████| 787/787 [00:00<00:00, 5876.25it/s]\n"
     ]
    },
    {
     "name": "stdout",
     "output_type": "stream",
     "text": [
      "#########Start generating Object-Centric Petri Net#########\n",
      "#########Finished generating Object-Centric Petri Net#########\n",
      "The execution time for the baseline measure approach for BPI2017-Final and the variant model with 800 traces is 66.9893 seconds\n"
     ]
    },
    {
     "name": "stderr",
     "output_type": "stream",
     "text": [
      "Generating Variant Models: 100%|██████████| 200/200 [01:39<00:00,  2.01it/s]\n",
      "Processing Variant Nets: 100%|██████████| 200/200 [00:00<00:00, 10455.44it/s]\n"
     ]
    },
    {
     "name": "stdout",
     "output_type": "stream",
     "text": [
      "#########Start generating Object-Centric Petri Net#########\n",
      "#########Finished generating Object-Centric Petri Net#########\n",
      "The execution time for the baseline measure approach for DS3 and the variant model with 200 traces is 0.7253 seconds\n"
     ]
    },
    {
     "name": "stderr",
     "output_type": "stream",
     "text": [
      "Generating Variant Models: 100%|██████████| 500/500 [01:44<00:00,  4.76it/s]\n",
      "Processing Variant Nets: 100%|██████████| 500/500 [00:00<00:00, 10393.41it/s]\n"
     ]
    },
    {
     "name": "stdout",
     "output_type": "stream",
     "text": [
      "#########Start generating Object-Centric Petri Net#########\n",
      "#########Finished generating Object-Centric Petri Net#########\n",
      "The execution time for the baseline measure approach for DS3 and the variant model with 500 traces is 3.1678 seconds\n"
     ]
    },
    {
     "name": "stderr",
     "output_type": "stream",
     "text": [
      "Generating Variant Models: 100%|██████████| 800/800 [03:19<00:00,  4.02it/s]\n",
      "Processing Variant Nets: 100%|██████████| 800/800 [00:00<00:00, 5854.08it/s]\n"
     ]
    },
    {
     "name": "stdout",
     "output_type": "stream",
     "text": [
      "#########Start generating Object-Centric Petri Net#########\n",
      "#########Finished generating Object-Centric Petri Net#########\n",
      "The execution time for the baseline measure approach for DS3 and the variant model with 800 traces is 7.1009 seconds\n"
     ]
    },
    {
     "name": "stderr",
     "output_type": "stream",
     "text": [
      "Generating Variant Models: 100%|██████████| 200/200 [02:32<00:00,  1.31it/s]\n",
      "Processing Variant Nets: 100%|██████████| 200/200 [00:00<00:00, 1043.72it/s]\n"
     ]
    },
    {
     "name": "stdout",
     "output_type": "stream",
     "text": [
      "#########Start generating Object-Centric Petri Net#########\n",
      "#########Finished generating Object-Centric Petri Net#########\n",
      "The execution time for the baseline measure approach for DS4 and the variant model with 200 traces is 25.0321 seconds\n"
     ]
    },
    {
     "name": "stderr",
     "output_type": "stream",
     "text": [
      "Generating Variant Models: 100%|██████████| 500/500 [04:57<00:00,  1.68it/s]\n",
      "Processing Variant Nets: 100%|██████████| 500/500 [00:00<00:00, 1391.84it/s]\n"
     ]
    },
    {
     "name": "stdout",
     "output_type": "stream",
     "text": [
      "#########Start generating Object-Centric Petri Net#########\n",
      "#########Finished generating Object-Centric Petri Net#########\n",
      "The execution time for the baseline measure approach for DS4 and the variant model with 500 traces is 48.3128 seconds\n"
     ]
    },
    {
     "name": "stderr",
     "output_type": "stream",
     "text": [
      "Generating Variant Models: 100%|██████████| 799/799 [05:58<00:00,  2.23it/s]\n",
      "Processing Variant Nets: 100%|██████████| 799/799 [00:00<00:00, 2900.87it/s]\n"
     ]
    },
    {
     "name": "stdout",
     "output_type": "stream",
     "text": [
      "#########Start generating Object-Centric Petri Net#########\n",
      "#########Finished generating Object-Centric Petri Net#########\n",
      "The execution time for the baseline measure approach for DS4 and the variant model with 800 traces is 125.3297 seconds\n"
     ]
    }
   ],
   "source": [
    "objects = [[\"order\",\"item\",\"delivery\"],[\"PURCHORD\",\"INVOICE\",\"PURCHREQ\",\"MATERIAL\",\"GDSRCPT\"],[\"application\",\"offer\"],[\"incident\",\"customer\"], [\"Payment application\",\"Control summary\",\"Entitlement application\",\"Geo parcel document\",\"Inspection\",\"Reference alignment\"]]\n",
    "counter = 0\n",
    "for filename in filenames:\n",
    "    object_types = objects[counter]\n",
    "    counter += 1\n",
    "    for sample_size in sample_sizes:\n",
    "        parameters = {\"obj_names\": object_types,\n",
    "                      \"val_names\": [],\n",
    "                      \"act_name\": \"event_activity\",\n",
    "                      \"time_name\": \"event_timestamp\",\n",
    "                      \"sep\": \",\"}\n",
    "        ocel_variant = ocel_import_factory_csv.apply(file_path=f\"../src/data/runtime/variant_logs/{filename}_{sample_size}_variant_log.csv\", parameters=parameters)\n",
    "        ocel = ocel_import_factory.apply(f\"../src/data/runtime/{filename}_{sample_size}.jsonocel\")\n",
    "        variant_ocpn = generate_variant_model(ocel,save_path_logs=f\"../src/data/runtime/variant_logs/{filename}/{filename}_{sample_size}\",object_types = object_types, save=True)        \n",
    "        start_time = time.time()\n",
    "        value = baseline_measure(ocel_variant,variant_ocpn,'event_activity','event_id')\n",
    "        execution_time = np.round(time.time() - start_time,4)\n",
    "        print(f\"The execution time for the baseline measure approach for {filename} and the variant model with {sample_size} traces is {execution_time} seconds\")"
   ]
  },
  {
   "cell_type": "markdown",
   "id": "2a12c63c",
   "metadata": {},
   "source": [
    "# Runtime Alignment Measure Events"
   ]
  },
  {
   "cell_type": "markdown",
   "id": "42f72bc0",
   "metadata": {},
   "source": [
    "Examplary for the Alignment Measure, we analyse the running time for the measure based on events."
   ]
  },
  {
   "cell_type": "code",
   "execution_count": 2,
   "id": "d2d92006",
   "metadata": {},
   "outputs": [],
   "source": [
    "filenames = [\"order_process\",\"p2p-normal\",\"BPI2017-Final\",\"DS3\",\"DS4\"]\n",
    "sample_sizes = [200 ,500, 800]"
   ]
  },
  {
   "cell_type": "markdown",
   "id": "5a4114c6",
   "metadata": {},
   "source": [
    "### OCPN model"
   ]
  },
  {
   "cell_type": "code",
   "execution_count": 3,
   "id": "f714c08b",
   "metadata": {},
   "outputs": [
    {
     "name": "stderr",
     "output_type": "stream",
     "text": [
      "Check the arcs: 100%|██████████| 68/68 [00:00<00:00, 25336.47it/s]\n",
      "Save the transitions: 100%|██████████| 11/11 [00:00<00:00, 195.14it/s]\n"
     ]
    },
    {
     "name": "stdout",
     "output_type": "stream",
     "text": [
      "The execution time for the alignment measure approach for order_process with 200 traces is 0.0966 seconds\n"
     ]
    },
    {
     "name": "stderr",
     "output_type": "stream",
     "text": [
      "Check the arcs: 100%|██████████| 68/68 [00:00<00:00, 67156.27it/s]\n",
      "Save the transitions: 100%|██████████| 11/11 [00:00<00:00, 207.16it/s]\n"
     ]
    },
    {
     "name": "stdout",
     "output_type": "stream",
     "text": [
      "The execution time for the alignment measure approach for order_process with 500 traces is 0.0769 seconds\n"
     ]
    },
    {
     "name": "stderr",
     "output_type": "stream",
     "text": [
      "Check the arcs: 100%|██████████| 68/68 [00:00<?, ?it/s]\n",
      "Save the transitions: 100%|██████████| 11/11 [00:00<00:00, 88.09it/s]\n"
     ]
    },
    {
     "name": "stdout",
     "output_type": "stream",
     "text": [
      "The execution time for the alignment measure approach for order_process with 800 traces is 0.1583 seconds\n"
     ]
    },
    {
     "name": "stderr",
     "output_type": "stream",
     "text": [
      "Check the arcs: 100%|██████████| 40/40 [00:00<?, ?it/s]\n",
      "Save the transitions: 100%|██████████| 9/9 [00:00<00:00, 523.20it/s]\n"
     ]
    },
    {
     "name": "stdout",
     "output_type": "stream",
     "text": [
      "The execution time for the alignment measure approach for p2p-normal with 200 traces is 0.0334 seconds\n"
     ]
    },
    {
     "name": "stderr",
     "output_type": "stream",
     "text": [
      "Check the arcs: 100%|██████████| 40/40 [00:00<?, ?it/s]\n",
      "Save the transitions: 100%|██████████| 9/9 [00:00<00:00, 134.91it/s]\n"
     ]
    },
    {
     "name": "stdout",
     "output_type": "stream",
     "text": [
      "The execution time for the alignment measure approach for p2p-normal with 500 traces is 0.0971 seconds\n"
     ]
    },
    {
     "name": "stderr",
     "output_type": "stream",
     "text": [
      "Check the arcs: 100%|██████████| 40/40 [00:00<?, ?it/s]\n",
      "Save the transitions: 100%|██████████| 9/9 [00:00<00:00, 276.20it/s]\n"
     ]
    },
    {
     "name": "stdout",
     "output_type": "stream",
     "text": [
      "The execution time for the alignment measure approach for p2p-normal with 800 traces is 0.049 seconds\n"
     ]
    },
    {
     "name": "stderr",
     "output_type": "stream",
     "text": [
      "Check the arcs: 100%|██████████| 114/114 [00:00<00:00, 10414.73it/s]\n",
      "Save the transitions: 100%|██████████| 19/19 [00:00<00:00, 328.73it/s]\n"
     ]
    },
    {
     "name": "stdout",
     "output_type": "stream",
     "text": [
      "The execution time for the alignment measure approach for BPI2017-Final with 200 traces is 0.0742 seconds\n"
     ]
    },
    {
     "name": "stderr",
     "output_type": "stream",
     "text": [
      "Check the arcs: 100%|██████████| 130/130 [00:00<00:00, 43412.38it/s]\n",
      "Save the transitions: 100%|██████████| 20/20 [00:00<00:00, 110.26it/s]\n"
     ]
    },
    {
     "name": "stdout",
     "output_type": "stream",
     "text": [
      "The execution time for the alignment measure approach for BPI2017-Final with 500 traces is 0.2018 seconds\n"
     ]
    },
    {
     "name": "stderr",
     "output_type": "stream",
     "text": [
      "Check the arcs: 100%|██████████| 146/146 [00:00<?, ?it/s]\n",
      "Save the transitions: 100%|██████████| 20/20 [00:00<00:00, 89.25it/s]\n"
     ]
    },
    {
     "name": "stdout",
     "output_type": "stream",
     "text": [
      "The execution time for the alignment measure approach for BPI2017-Final with 800 traces is 0.2597 seconds\n"
     ]
    },
    {
     "name": "stderr",
     "output_type": "stream",
     "text": [
      "Check the arcs: 100%|██████████| 100/100 [00:00<?, ?it/s]\n",
      "Save the transitions: 100%|██████████| 8/8 [00:00<00:00, 50.45it/s]\n"
     ]
    },
    {
     "name": "stdout",
     "output_type": "stream",
     "text": [
      "The execution time for the alignment measure approach for DS3 with 200 traces is 0.182 seconds\n"
     ]
    },
    {
     "name": "stderr",
     "output_type": "stream",
     "text": [
      "Check the arcs: 100%|██████████| 102/102 [00:00<?, ?it/s]\n",
      "Save the transitions: 100%|██████████| 8/8 [00:00<00:00, 43.61it/s]\n"
     ]
    },
    {
     "name": "stdout",
     "output_type": "stream",
     "text": [
      "The execution time for the alignment measure approach for DS3 with 500 traces is 0.1988 seconds\n"
     ]
    },
    {
     "name": "stderr",
     "output_type": "stream",
     "text": [
      "Check the arcs: 100%|██████████| 124/124 [00:00<00:00, 123420.43it/s]\n",
      "Save the transitions: 100%|██████████| 8/8 [00:00<00:00, 29.39it/s]\n"
     ]
    },
    {
     "name": "stdout",
     "output_type": "stream",
     "text": [
      "The execution time for the alignment measure approach for DS3 with 800 traces is 0.3068 seconds\n"
     ]
    },
    {
     "name": "stderr",
     "output_type": "stream",
     "text": [
      "Check the arcs: 100%|██████████| 342/342 [00:00<00:00, 27170.22it/s]\n",
      "Save the transitions: 100%|██████████| 56/56 [00:01<00:00, 38.66it/s]\n"
     ]
    },
    {
     "name": "stdout",
     "output_type": "stream",
     "text": [
      "The execution time for the alignment measure approach for DS4 with 200 traces is 1.4776 seconds\n"
     ]
    },
    {
     "name": "stderr",
     "output_type": "stream",
     "text": [
      "Check the arcs: 100%|██████████| 314/314 [00:00<00:00, 27904.56it/s]\n",
      "Save the transitions: 100%|██████████| 61/61 [00:02<00:00, 21.39it/s]\n"
     ]
    },
    {
     "name": "stdout",
     "output_type": "stream",
     "text": [
      "The execution time for the alignment measure approach for DS4 with 500 traces is 2.8949 seconds\n"
     ]
    },
    {
     "name": "stderr",
     "output_type": "stream",
     "text": [
      "Check the arcs: 100%|██████████| 312/312 [00:00<00:00, 15416.24it/s]\n",
      "Save the transitions: 100%|██████████| 63/63 [00:03<00:00, 18.06it/s]"
     ]
    },
    {
     "name": "stdout",
     "output_type": "stream",
     "text": [
      "The execution time for the alignment measure approach for DS4 with 800 traces is 3.521 seconds\n"
     ]
    },
    {
     "name": "stderr",
     "output_type": "stream",
     "text": [
      "\n"
     ]
    }
   ],
   "source": [
    "for filename in filenames:\n",
    "    for sample_size in sample_sizes:\n",
    "        ocel = ocel_import_factory.apply(f\"../src/data/runtime/{filename}_{sample_size}.jsonocel\")\n",
    "        ocpn = ocpn_discovery_factory.apply(ocel, parameters={\"debug\": False})\n",
    "        start_time = time.time()\n",
    "        value = alignment_measure_events(ocel,ocpn)\n",
    "        execution_time = np.round(time.time() - start_time,4)\n",
    "        print(f\"The execution time for the alignment measure approach for {filename} with {sample_size} traces is {execution_time} seconds\")"
   ]
  },
  {
   "cell_type": "markdown",
   "id": "072dfcf9",
   "metadata": {},
   "source": [
    "### Happy Path model"
   ]
  },
  {
   "cell_type": "code",
   "execution_count": 40,
   "id": "b1ee1570",
   "metadata": {},
   "outputs": [
    {
     "name": "stderr",
     "output_type": "stream",
     "text": [
      "Check the arcs: 100%|██████████| 30/30 [00:00<00:00, 30023.65it/s]\n",
      "Save the transitions: 100%|██████████| 10/10 [00:00<00:00, 232.50it/s]\n"
     ]
    },
    {
     "name": "stdout",
     "output_type": "stream",
     "text": [
      "The execution time for the alignment measure approach for order_process and the happy path model with 200 traces is 0.068 seconds\n"
     ]
    },
    {
     "name": "stderr",
     "output_type": "stream",
     "text": [
      "Check the arcs: 100%|██████████| 30/30 [00:00<00:00, 34164.84it/s]\n",
      "Save the transitions: 100%|██████████| 10/10 [00:00<00:00, 156.24it/s]\n"
     ]
    },
    {
     "name": "stdout",
     "output_type": "stream",
     "text": [
      "The execution time for the alignment measure approach for order_process and the happy path model with 500 traces is 0.0931 seconds\n"
     ]
    },
    {
     "name": "stderr",
     "output_type": "stream",
     "text": [
      "Check the arcs: 100%|██████████| 30/30 [00:00<00:00, 15311.40it/s]\n",
      "Save the transitions: 100%|██████████| 10/10 [00:00<00:00, 81.62it/s]\n"
     ]
    },
    {
     "name": "stdout",
     "output_type": "stream",
     "text": [
      "The execution time for the alignment measure approach for order_process and the happy path model with 800 traces is 0.1515 seconds\n"
     ]
    },
    {
     "name": "stderr",
     "output_type": "stream",
     "text": [
      "Check the arcs: 100%|██████████| 38/38 [00:00<00:00, 38130.04it/s]\n",
      "Save the transitions: 100%|██████████| 9/9 [00:00<00:00, 290.28it/s]\n"
     ]
    },
    {
     "name": "stdout",
     "output_type": "stream",
     "text": [
      "The execution time for the alignment measure approach for p2p-normal and the happy path model with 200 traces is 0.054 seconds\n"
     ]
    },
    {
     "name": "stderr",
     "output_type": "stream",
     "text": [
      "Check the arcs: 100%|██████████| 38/38 [00:00<00:00, 36149.59it/s]\n",
      "Save the transitions: 100%|██████████| 9/9 [00:00<00:00, 249.19it/s]\n"
     ]
    },
    {
     "name": "stdout",
     "output_type": "stream",
     "text": [
      "The execution time for the alignment measure approach for p2p-normal and the happy path model with 500 traces is 0.0591 seconds\n"
     ]
    },
    {
     "name": "stderr",
     "output_type": "stream",
     "text": [
      "Check the arcs: 100%|██████████| 38/38 [00:00<00:00, 19014.98it/s]\n",
      "Save the transitions: 100%|██████████| 9/9 [00:00<00:00, 83.28it/s]\n"
     ]
    },
    {
     "name": "stdout",
     "output_type": "stream",
     "text": [
      "The execution time for the alignment measure approach for p2p-normal and the happy path model with 800 traces is 0.1403 seconds\n"
     ]
    },
    {
     "name": "stderr",
     "output_type": "stream",
     "text": [
      "Check the arcs: 100%|██████████| 38/38 [00:00<00:00, 37957.50it/s]\n",
      "Save the transitions: 100%|██████████| 9/9 [00:00<00:00, 231.57it/s]\n"
     ]
    },
    {
     "name": "stdout",
     "output_type": "stream",
     "text": [
      "The execution time for the alignment measure approach for BPI2017-Final and the happy path model with 200 traces is 0.0529 seconds\n"
     ]
    },
    {
     "name": "stderr",
     "output_type": "stream",
     "text": [
      "Check the arcs: 100%|██████████| 38/38 [00:00<00:00, 19067.30it/s]\n",
      "Save the transitions: 100%|██████████| 9/9 [00:00<00:00, 63.77it/s]\n"
     ]
    },
    {
     "name": "stdout",
     "output_type": "stream",
     "text": [
      "The execution time for the alignment measure approach for BPI2017-Final and the happy path model with 500 traces is 0.1721 seconds\n"
     ]
    },
    {
     "name": "stderr",
     "output_type": "stream",
     "text": [
      "Check the arcs: 100%|██████████| 42/42 [00:00<00:00, 20946.58it/s]\n",
      "Save the transitions: 100%|██████████| 12/12 [00:00<00:00, 40.84it/s]\n"
     ]
    },
    {
     "name": "stdout",
     "output_type": "stream",
     "text": [
      "The execution time for the alignment measure approach for BPI2017-Final and the happy path model with 800 traces is 0.3308 seconds\n"
     ]
    },
    {
     "name": "stderr",
     "output_type": "stream",
     "text": [
      "Check the arcs: 100%|██████████| 78/78 [00:00<00:00, 73900.09it/s]\n",
      "Save the transitions: 100%|██████████| 6/6 [00:00<00:00, 49.16it/s]\n"
     ]
    },
    {
     "name": "stdout",
     "output_type": "stream",
     "text": [
      "The execution time for the alignment measure approach for DS3 and the happy path model with 200 traces is 0.1393 seconds\n"
     ]
    },
    {
     "name": "stderr",
     "output_type": "stream",
     "text": [
      "Check the arcs: 100%|██████████| 78/78 [00:00<00:00, 39156.88it/s]\n",
      "Save the transitions: 100%|██████████| 6/6 [00:00<00:00, 17.35it/s]\n"
     ]
    },
    {
     "name": "stdout",
     "output_type": "stream",
     "text": [
      "The execution time for the alignment measure approach for DS3 and the happy path model with 500 traces is 0.3868 seconds\n"
     ]
    },
    {
     "name": "stderr",
     "output_type": "stream",
     "text": [
      "Check the arcs: 100%|██████████| 78/78 [00:00<00:00, 127446.71it/s]\n",
      "Save the transitions: 100%|██████████| 6/6 [00:00<00:00, 43.48it/s]\n"
     ]
    },
    {
     "name": "stdout",
     "output_type": "stream",
     "text": [
      "The execution time for the alignment measure approach for DS3 and the happy path model with 800 traces is 0.144 seconds\n"
     ]
    },
    {
     "name": "stderr",
     "output_type": "stream",
     "text": [
      "Check the arcs: 100%|██████████| 154/154 [00:00<00:00, 51923.06it/s]\n",
      "Save the transitions: 100%|██████████| 32/32 [00:00<00:00, 49.29it/s]\n"
     ]
    },
    {
     "name": "stdout",
     "output_type": "stream",
     "text": [
      "The execution time for the alignment measure approach for DS4 and the happy path model with 200 traces is 0.6612 seconds\n"
     ]
    },
    {
     "name": "stderr",
     "output_type": "stream",
     "text": [
      "Check the arcs: 100%|██████████| 154/154 [00:00<00:00, 96738.48it/s]\n",
      "Save the transitions: 100%|██████████| 32/32 [00:01<00:00, 31.71it/s]\n"
     ]
    },
    {
     "name": "stdout",
     "output_type": "stream",
     "text": [
      "The execution time for the alignment measure approach for DS4 and the happy path model with 500 traces is 1.0162 seconds\n"
     ]
    },
    {
     "name": "stderr",
     "output_type": "stream",
     "text": [
      "Check the arcs: 100%|██████████| 142/142 [00:00<00:00, 71508.12it/s]\n",
      "Save the transitions: 100%|██████████| 32/32 [00:01<00:00, 25.85it/s]"
     ]
    },
    {
     "name": "stdout",
     "output_type": "stream",
     "text": [
      "The execution time for the alignment measure approach for DS4 and the happy path model with 800 traces is 1.2589 seconds\n"
     ]
    },
    {
     "name": "stderr",
     "output_type": "stream",
     "text": [
      "\n"
     ]
    }
   ],
   "source": [
    "for filename in filenames:\n",
    "    for sample_size in sample_sizes:\n",
    "        ocel = ocel_import_factory.apply(f\"../src/data/runtime/{filename}_{sample_size}.jsonocel\")\n",
    "        happy_path__ocel = get_happy_path_log(f\"../src/data/runtime/{filename}_{sample_size}.jsonocel\")\n",
    "        happy_path_ocpn = ocpn_discovery_factory.apply(happy_path__ocel, parameters={\"debug\": False})\n",
    "        start_time = time.time()\n",
    "        value = alignment_measure_events(ocel,happy_path_ocpn)\n",
    "        execution_time = np.round(time.time() - start_time,4)\n",
    "        print(f\"The execution time for the alignment measure approach for {filename} and the happy path model with {sample_size} traces is {execution_time} seconds\")"
   ]
  },
  {
   "cell_type": "markdown",
   "id": "59fb1c5a",
   "metadata": {},
   "source": [
    "### Flower model"
   ]
  },
  {
   "cell_type": "code",
   "execution_count": 41,
   "id": "62f1c529",
   "metadata": {},
   "outputs": [
    {
     "name": "stderr",
     "output_type": "stream",
     "text": [
      "Check the arcs: 100%|██████████| 32/32 [00:00<?, ?it/s]\n",
      "Save the transitions: 100%|██████████| 11/11 [00:00<00:00, 912.74it/s]\n"
     ]
    },
    {
     "name": "stdout",
     "output_type": "stream",
     "text": [
      "The execution time for the alignment measure approach for order_process and the flower model with 200 traces is 0.019 seconds\n"
     ]
    },
    {
     "name": "stderr",
     "output_type": "stream",
     "text": [
      "Check the arcs: 100%|██████████| 32/32 [00:00<?, ?it/s]\n",
      "Save the transitions: 100%|██████████| 11/11 [00:00<00:00, 525.54it/s]\n"
     ]
    },
    {
     "name": "stdout",
     "output_type": "stream",
     "text": [
      "The execution time for the alignment measure approach for order_process and the flower model with 500 traces is 0.029 seconds\n"
     ]
    },
    {
     "name": "stderr",
     "output_type": "stream",
     "text": [
      "Check the arcs: 100%|██████████| 32/32 [00:00<?, ?it/s]\n",
      "Save the transitions: 100%|██████████| 11/11 [00:00<00:00, 405.47it/s]\n"
     ]
    },
    {
     "name": "stdout",
     "output_type": "stream",
     "text": [
      "The execution time for the alignment measure approach for order_process and the flower model with 800 traces is 0.0332 seconds\n"
     ]
    },
    {
     "name": "stderr",
     "output_type": "stream",
     "text": [
      "Check the arcs: 100%|██████████| 38/38 [00:00<?, ?it/s]\n",
      "Save the transitions: 100%|██████████| 9/9 [00:00<00:00, 1044.25it/s]\n"
     ]
    },
    {
     "name": "stdout",
     "output_type": "stream",
     "text": [
      "The execution time for the alignment measure approach for p2p-normal and the flower model with 200 traces is 0.0156 seconds\n"
     ]
    },
    {
     "name": "stderr",
     "output_type": "stream",
     "text": [
      "Check the arcs: 100%|██████████| 38/38 [00:00<00:00, 37867.32it/s]\n",
      "Save the transitions: 100%|██████████| 9/9 [00:00<00:00, 562.54it/s]\n"
     ]
    },
    {
     "name": "stdout",
     "output_type": "stream",
     "text": [
      "The execution time for the alignment measure approach for p2p-normal and the flower model with 500 traces is 0.024 seconds\n"
     ]
    },
    {
     "name": "stderr",
     "output_type": "stream",
     "text": [
      "Check the arcs: 100%|██████████| 38/38 [00:00<?, ?it/s]\n",
      "Save the transitions: 100%|██████████| 9/9 [00:00<00:00, 500.00it/s]\n"
     ]
    },
    {
     "name": "stdout",
     "output_type": "stream",
     "text": [
      "The execution time for the alignment measure approach for p2p-normal and the flower model with 800 traces is 0.0229 seconds\n"
     ]
    },
    {
     "name": "stderr",
     "output_type": "stream",
     "text": [
      "Check the arcs: 100%|██████████| 52/52 [00:00<00:00, 55681.34it/s]\n",
      "Save the transitions: 100%|██████████| 19/19 [00:00<00:00, 558.24it/s]\n"
     ]
    },
    {
     "name": "stdout",
     "output_type": "stream",
     "text": [
      "The execution time for the alignment measure approach for BPI2017-Final and the flower model with 200 traces is 0.042 seconds\n"
     ]
    },
    {
     "name": "stderr",
     "output_type": "stream",
     "text": [
      "Check the arcs: 100%|██████████| 54/54 [00:00<00:00, 54081.28it/s]\n",
      "Save the transitions: 100%|██████████| 20/20 [00:00<00:00, 322.16it/s]\n"
     ]
    },
    {
     "name": "stdout",
     "output_type": "stream",
     "text": [
      "The execution time for the alignment measure approach for BPI2017-Final and the flower model with 500 traces is 0.067 seconds\n"
     ]
    },
    {
     "name": "stderr",
     "output_type": "stream",
     "text": [
      "Check the arcs: 100%|██████████| 54/54 [00:00<00:00, 52648.17it/s]\n",
      "Save the transitions: 100%|██████████| 20/20 [00:00<00:00, 172.42it/s]\n"
     ]
    },
    {
     "name": "stdout",
     "output_type": "stream",
     "text": [
      "The execution time for the alignment measure approach for BPI2017-Final and the flower model with 800 traces is 0.121 seconds\n"
     ]
    },
    {
     "name": "stderr",
     "output_type": "stream",
     "text": [
      "Check the arcs: 100%|██████████| 20/20 [00:00<?, ?it/s]\n",
      "Save the transitions: 100%|██████████| 8/8 [00:00<00:00, 140.49it/s]\n"
     ]
    },
    {
     "name": "stdout",
     "output_type": "stream",
     "text": [
      "The execution time for the alignment measure approach for DS3 and the flower model with 200 traces is 0.0627 seconds\n"
     ]
    },
    {
     "name": "stderr",
     "output_type": "stream",
     "text": [
      "Check the arcs: 100%|██████████| 20/20 [00:00<00:00, 19949.13it/s]\n",
      "Save the transitions: 100%|██████████| 8/8 [00:00<00:00, 66.65it/s]\n"
     ]
    },
    {
     "name": "stdout",
     "output_type": "stream",
     "text": [
      "The execution time for the alignment measure approach for DS3 and the flower model with 500 traces is 0.126 seconds\n"
     ]
    },
    {
     "name": "stderr",
     "output_type": "stream",
     "text": [
      "Check the arcs: 100%|██████████| 20/20 [00:00<?, ?it/s]\n",
      "Save the transitions: 100%|██████████| 8/8 [00:00<00:00, 48.72it/s]\n"
     ]
    },
    {
     "name": "stdout",
     "output_type": "stream",
     "text": [
      "The execution time for the alignment measure approach for DS3 and the flower model with 800 traces is 0.1724 seconds\n"
     ]
    },
    {
     "name": "stderr",
     "output_type": "stream",
     "text": [
      "Check the arcs: 100%|██████████| 132/132 [00:00<00:00, 169570.64it/s]\n",
      "Save the transitions: 100%|██████████| 56/56 [00:01<00:00, 42.33it/s]\n"
     ]
    },
    {
     "name": "stdout",
     "output_type": "stream",
     "text": [
      "The execution time for the alignment measure approach for DS4 and the flower model with 200 traces is 1.3329 seconds\n"
     ]
    },
    {
     "name": "stderr",
     "output_type": "stream",
     "text": [
      "Check the arcs: 100%|██████████| 142/142 [00:00<00:00, 47333.00it/s]\n",
      "Save the transitions: 100%|██████████| 61/61 [00:02<00:00, 26.81it/s]\n"
     ]
    },
    {
     "name": "stdout",
     "output_type": "stream",
     "text": [
      "The execution time for the alignment measure approach for DS4 and the flower model with 500 traces is 2.2883 seconds\n"
     ]
    },
    {
     "name": "stderr",
     "output_type": "stream",
     "text": [
      "Check the arcs: 100%|██████████| 146/146 [00:00<00:00, 71689.11it/s]\n",
      "Save the transitions: 100%|██████████| 63/63 [00:02<00:00, 23.89it/s]"
     ]
    },
    {
     "name": "stdout",
     "output_type": "stream",
     "text": [
      "The execution time for the alignment measure approach for DS4 and the flower model with 800 traces is 2.6632 seconds\n"
     ]
    },
    {
     "name": "stderr",
     "output_type": "stream",
     "text": [
      "\n"
     ]
    }
   ],
   "source": [
    "objects = [[\"order\",\"item\",\"delivery\"],[\"PURCHORD\",\"INVOICE\",\"PURCHREQ\",\"MATERIAL\",\"GDSRCPT\"],[\"application\",\"offer\"],[\"incident\",\"customer\"], [\"Payment application\",\"Control summary\",\"Entitlement application\",\"Geo parcel document\",\"Inspection\",\"Reference alignment\"]]\n",
    "counter = 0\n",
    "for filename in filenames:\n",
    "    ots = objects[counter]\n",
    "    counter += 1\n",
    "    for sample_size in sample_sizes:\n",
    "        ocel = ocel_import_factory.apply(f\"../src/data/runtime/{filename}_{sample_size}.jsonocel\")\n",
    "        flower_ocpn = create_flower_model(f\"../src/data/runtime/{filename}_{sample_size}.jsonocel\",ots)\n",
    "        start_time = time.time()\n",
    "        value = alignment_measure_events(ocel,flower_ocpn)\n",
    "        execution_time = np.round(time.time() - start_time,4)\n",
    "        print(f\"The execution time for the alignment measure approach for {filename} and the flower model with {sample_size} traces is {execution_time} seconds\")"
   ]
  },
  {
   "cell_type": "markdown",
   "id": "57bf64c9",
   "metadata": {},
   "source": [
    "### Variant Model"
   ]
  },
  {
   "cell_type": "code",
   "execution_count": 42,
   "id": "0ee8f23e",
   "metadata": {},
   "outputs": [
    {
     "name": "stderr",
     "output_type": "stream",
     "text": [
      "Generating Variant Models: 100%|██████████| 105/105 [00:11<00:00,  9.40it/s]\n",
      "Processing Variant Nets: 100%|██████████| 105/105 [00:00<00:00, 13127.52it/s]\n"
     ]
    },
    {
     "name": "stdout",
     "output_type": "stream",
     "text": [
      "#########Start generating Object-Centric Petri Net#########\n",
      "#########Finished generating Object-Centric Petri Net#########\n"
     ]
    },
    {
     "name": "stderr",
     "output_type": "stream",
     "text": [
      "Check the arcs: 100%|██████████| 3484/3484 [00:01<00:00, 2798.44it/s]\n",
      "Save the transitions: 100%|██████████| 1097/1097 [00:03<00:00, 354.42it/s]\n"
     ]
    },
    {
     "name": "stdout",
     "output_type": "stream",
     "text": [
      "The execution time for the alignment measure approach for order_process and the variant model with 200 traces is 4.3513 seconds\n"
     ]
    },
    {
     "name": "stderr",
     "output_type": "stream",
     "text": [
      "Generating Variant Models: 100%|██████████| 174/174 [00:25<00:00,  6.71it/s]\n",
      "Processing Variant Nets: 100%|██████████| 174/174 [00:00<00:00, 12264.87it/s]\n"
     ]
    },
    {
     "name": "stdout",
     "output_type": "stream",
     "text": [
      "#########Start generating Object-Centric Petri Net#########\n",
      "#########Finished generating Object-Centric Petri Net#########\n"
     ]
    },
    {
     "name": "stderr",
     "output_type": "stream",
     "text": [
      "Check the arcs: 100%|██████████| 5824/5824 [00:04<00:00, 1388.14it/s]\n",
      "Save the transitions: 100%|██████████| 1816/1816 [00:14<00:00, 129.44it/s]\n"
     ]
    },
    {
     "name": "stdout",
     "output_type": "stream",
     "text": [
      "The execution time for the alignment measure approach for order_process and the variant model with 500 traces is 18.2552 seconds\n"
     ]
    },
    {
     "name": "stderr",
     "output_type": "stream",
     "text": [
      "Generating Variant Models: 100%|██████████| 228/228 [01:03<00:00,  3.60it/s]\n",
      "Processing Variant Nets: 100%|██████████| 228/228 [00:00<00:00, 3999.94it/s]\n"
     ]
    },
    {
     "name": "stdout",
     "output_type": "stream",
     "text": [
      "#########Start generating Object-Centric Petri Net#########\n",
      "#########Finished generating Object-Centric Petri Net#########\n"
     ]
    },
    {
     "name": "stderr",
     "output_type": "stream",
     "text": [
      "Check the arcs: 100%|██████████| 7724/7724 [00:13<00:00, 575.04it/s]\n",
      "Save the transitions: 100%|██████████| 2399/2399 [00:37<00:00, 63.97it/s]\n"
     ]
    },
    {
     "name": "stdout",
     "output_type": "stream",
     "text": [
      "The execution time for the alignment measure approach for order_process and the variant model with 800 traces is 50.9762 seconds\n"
     ]
    },
    {
     "name": "stderr",
     "output_type": "stream",
     "text": [
      "Generating Variant Models: 100%|██████████| 2/2 [00:03<00:00,  1.89s/it]\n",
      "Processing Variant Nets: 100%|██████████| 2/2 [00:00<00:00, 1940.01it/s]\n"
     ]
    },
    {
     "name": "stdout",
     "output_type": "stream",
     "text": [
      "#########Start generating Object-Centric Petri Net#########\n",
      "#########Finished generating Object-Centric Petri Net#########\n"
     ]
    },
    {
     "name": "stderr",
     "output_type": "stream",
     "text": [
      "Check the arcs: 100%|██████████| 76/76 [00:00<00:00, 25309.02it/s]\n",
      "Save the transitions: 100%|██████████| 18/18 [00:00<00:00, 391.29it/s]\n"
     ]
    },
    {
     "name": "stdout",
     "output_type": "stream",
     "text": [
      "The execution time for the alignment measure approach for p2p-normal and the variant model with 200 traces is 0.0723 seconds\n"
     ]
    },
    {
     "name": "stderr",
     "output_type": "stream",
     "text": [
      "Generating Variant Models: 100%|██████████| 2/2 [00:07<00:00,  3.77s/it]\n",
      "Processing Variant Nets: 100%|██████████| 2/2 [00:00<00:00, 1994.91it/s]\n"
     ]
    },
    {
     "name": "stdout",
     "output_type": "stream",
     "text": [
      "#########Start generating Object-Centric Petri Net#########\n",
      "#########Finished generating Object-Centric Petri Net#########\n"
     ]
    },
    {
     "name": "stderr",
     "output_type": "stream",
     "text": [
      "Check the arcs: 100%|██████████| 76/76 [00:00<00:00, 37903.34it/s]\n",
      "Save the transitions: 100%|██████████| 18/18 [00:00<00:00, 321.41it/s]\n"
     ]
    },
    {
     "name": "stdout",
     "output_type": "stream",
     "text": [
      "The execution time for the alignment measure approach for p2p-normal and the variant model with 500 traces is 0.077 seconds\n"
     ]
    },
    {
     "name": "stderr",
     "output_type": "stream",
     "text": [
      "Generating Variant Models: 100%|██████████| 2/2 [00:10<00:00,  5.38s/it]\n",
      "Processing Variant Nets: 100%|██████████| 2/2 [00:00<00:00, 1997.29it/s]\n"
     ]
    },
    {
     "name": "stdout",
     "output_type": "stream",
     "text": [
      "#########Start generating Object-Centric Petri Net#########\n",
      "#########Finished generating Object-Centric Petri Net#########\n"
     ]
    },
    {
     "name": "stderr",
     "output_type": "stream",
     "text": [
      "Check the arcs: 100%|██████████| 76/76 [00:00<00:00, 38025.42it/s]\n",
      "Save the transitions: 100%|██████████| 18/18 [00:00<00:00, 246.29it/s]\n"
     ]
    },
    {
     "name": "stdout",
     "output_type": "stream",
     "text": [
      "The execution time for the alignment measure approach for p2p-normal and the variant model with 800 traces is 0.0931 seconds\n"
     ]
    },
    {
     "name": "stderr",
     "output_type": "stream",
     "text": [
      "Generating Variant Models: 100%|██████████| 199/199 [01:09<00:00,  2.87it/s]\n",
      "Processing Variant Nets: 100%|██████████| 199/199 [00:00<00:00, 7960.43it/s]\n"
     ]
    },
    {
     "name": "stdout",
     "output_type": "stream",
     "text": [
      "#########Start generating Object-Centric Petri Net#########\n",
      "#########Finished generating Object-Centric Petri Net#########\n"
     ]
    },
    {
     "name": "stderr",
     "output_type": "stream",
     "text": [
      "Check the arcs: 100%|██████████| 11914/11914 [00:19<00:00, 596.63it/s]\n",
      "Save the transitions: 100%|██████████| 2632/2632 [00:36<00:00, 72.73it/s] \n"
     ]
    },
    {
     "name": "stdout",
     "output_type": "stream",
     "text": [
      "The execution time for the alignment measure approach for BPI2017-Final and the variant model with 200 traces is 56.188 seconds\n"
     ]
    },
    {
     "name": "stderr",
     "output_type": "stream",
     "text": [
      "Generating Variant Models: 100%|██████████| 497/497 [02:47<00:00,  2.97it/s]\n",
      "Processing Variant Nets: 100%|██████████| 497/497 [00:00<00:00, 4477.52it/s]\n"
     ]
    },
    {
     "name": "stdout",
     "output_type": "stream",
     "text": [
      "#########Start generating Object-Centric Petri Net#########\n",
      "#########Finished generating Object-Centric Petri Net#########\n"
     ]
    },
    {
     "name": "stderr",
     "output_type": "stream",
     "text": [
      "Check the arcs: 100%|██████████| 28408/28408 [02:31<00:00, 187.43it/s]\n",
      "Save the transitions: 100%|██████████| 6546/6546 [03:45<00:00, 29.06it/s]\n"
     ]
    },
    {
     "name": "stdout",
     "output_type": "stream",
     "text": [
      "The execution time for the alignment measure approach for BPI2017-Final and the variant model with 500 traces is 376.8567 seconds\n"
     ]
    },
    {
     "name": "stderr",
     "output_type": "stream",
     "text": [
      "Generating Variant Models: 100%|██████████| 787/787 [04:09<00:00,  3.16it/s]\n",
      "Processing Variant Nets: 100%|██████████| 787/787 [00:00<00:00, 4888.24it/s]\n"
     ]
    },
    {
     "name": "stdout",
     "output_type": "stream",
     "text": [
      "#########Start generating Object-Centric Petri Net#########\n",
      "#########Finished generating Object-Centric Petri Net#########\n"
     ]
    },
    {
     "name": "stderr",
     "output_type": "stream",
     "text": [
      "Check the arcs: 100%|██████████| 43640/43640 [06:17<00:00, 115.53it/s]\n",
      "Save the transitions: 100%|██████████| 10335/10335 [08:50<00:00, 19.48it/s]\n"
     ]
    },
    {
     "name": "stdout",
     "output_type": "stream",
     "text": [
      "The execution time for the alignment measure approach for BPI2017-Final and the variant model with 800 traces is 908.2175 seconds\n"
     ]
    },
    {
     "name": "stderr",
     "output_type": "stream",
     "text": [
      "Generating Variant Models: 100%|██████████| 200/200 [01:59<00:00,  1.67it/s]\n",
      "Processing Variant Nets: 100%|██████████| 200/200 [00:00<00:00, 5000.09it/s]\n"
     ]
    },
    {
     "name": "stdout",
     "output_type": "stream",
     "text": [
      "#########Start generating Object-Centric Petri Net#########\n",
      "#########Finished generating Object-Centric Petri Net#########\n"
     ]
    },
    {
     "name": "stderr",
     "output_type": "stream",
     "text": [
      "Check the arcs: 100%|██████████| 12498/12498 [00:09<00:00, 1322.91it/s]\n",
      "Save the transitions: 100%|██████████| 1071/1071 [00:15<00:00, 70.17it/s]\n"
     ]
    },
    {
     "name": "stdout",
     "output_type": "stream",
     "text": [
      "The execution time for the alignment measure approach for DS3 and the variant model with 200 traces is 24.7384 seconds\n"
     ]
    },
    {
     "name": "stderr",
     "output_type": "stream",
     "text": [
      "Generating Variant Models: 100%|██████████| 500/500 [04:08<00:00,  2.01it/s]\n",
      "Processing Variant Nets: 100%|██████████| 500/500 [00:00<00:00, 4386.28it/s]\n"
     ]
    },
    {
     "name": "stdout",
     "output_type": "stream",
     "text": [
      "#########Start generating Object-Centric Petri Net#########\n",
      "#########Finished generating Object-Centric Petri Net#########\n"
     ]
    },
    {
     "name": "stderr",
     "output_type": "stream",
     "text": [
      "Check the arcs: 100%|██████████| 30084/30084 [01:01<00:00, 493.14it/s]\n",
      "Save the transitions: 100%|██████████| 2638/2638 [01:17<00:00, 33.95it/s]\n"
     ]
    },
    {
     "name": "stdout",
     "output_type": "stream",
     "text": [
      "The execution time for the alignment measure approach for DS3 and the variant model with 500 traces is 138.7508 seconds\n"
     ]
    },
    {
     "name": "stderr",
     "output_type": "stream",
     "text": [
      "Generating Variant Models: 100%|██████████| 800/800 [03:09<00:00,  4.22it/s]\n",
      "Processing Variant Nets: 100%|██████████| 800/800 [00:00<00:00, 12049.27it/s]\n"
     ]
    },
    {
     "name": "stdout",
     "output_type": "stream",
     "text": [
      "#########Start generating Object-Centric Petri Net#########\n",
      "#########Finished generating Object-Centric Petri Net#########\n"
     ]
    },
    {
     "name": "stderr",
     "output_type": "stream",
     "text": [
      "Check the arcs: 100%|██████████| 46494/46494 [00:56<00:00, 824.24it/s]\n",
      "Save the transitions: 100%|██████████| 4153/4153 [01:11<00:00, 57.88it/s]\n"
     ]
    },
    {
     "name": "stdout",
     "output_type": "stream",
     "text": [
      "The execution time for the alignment measure approach for DS3 and the variant model with 800 traces is 128.1757 seconds\n"
     ]
    },
    {
     "name": "stderr",
     "output_type": "stream",
     "text": [
      "Generating Variant Models: 100%|██████████| 200/200 [01:37<00:00,  2.05it/s]\n",
      "Processing Variant Nets: 100%|██████████| 200/200 [00:00<00:00, 4196.68it/s]\n"
     ]
    },
    {
     "name": "stdout",
     "output_type": "stream",
     "text": [
      "#########Start generating Object-Centric Petri Net#########\n",
      "#########Finished generating Object-Centric Petri Net#########\n"
     ]
    },
    {
     "name": "stderr",
     "output_type": "stream",
     "text": [
      "Check the arcs: 100%|██████████| 33208/33208 [01:15<00:00, 438.38it/s]\n",
      "Save the transitions: 100%|██████████| 6837/6837 [02:20<00:00, 48.56it/s]\n"
     ]
    },
    {
     "name": "stdout",
     "output_type": "stream",
     "text": [
      "The execution time for the alignment measure approach for DS4 and the variant model with 200 traces is 216.5817 seconds\n"
     ]
    },
    {
     "name": "stderr",
     "output_type": "stream",
     "text": [
      "Generating Variant Models: 100%|██████████| 500/500 [03:17<00:00,  2.53it/s]\n",
      "Processing Variant Nets: 100%|██████████| 500/500 [00:00<00:00, 3879.27it/s]\n"
     ]
    },
    {
     "name": "stdout",
     "output_type": "stream",
     "text": [
      "#########Start generating Object-Centric Petri Net#########\n",
      "#########Finished generating Object-Centric Petri Net#########\n"
     ]
    },
    {
     "name": "stderr",
     "output_type": "stream",
     "text": [
      "Check the arcs: 100%|██████████| 79746/79746 [07:45<00:00, 171.16it/s]\n",
      "Save the transitions: 100%|██████████| 16784/16784 [11:49<00:00, 23.66it/s]\n"
     ]
    },
    {
     "name": "stdout",
     "output_type": "stream",
     "text": [
      "The execution time for the alignment measure approach for DS4 and the variant model with 500 traces is 1175.2838 seconds\n"
     ]
    },
    {
     "name": "stderr",
     "output_type": "stream",
     "text": [
      "Generating Variant Models: 100%|██████████| 799/799 [04:59<00:00,  2.67it/s]\n",
      "Processing Variant Nets: 100%|██████████| 799/799 [00:00<00:00, 4120.74it/s]\n"
     ]
    },
    {
     "name": "stdout",
     "output_type": "stream",
     "text": [
      "#########Start generating Object-Centric Petri Net#########\n",
      "#########Finished generating Object-Centric Petri Net#########\n"
     ]
    },
    {
     "name": "stderr",
     "output_type": "stream",
     "text": [
      "Check the arcs: 100%|██████████| 120656/120656 [19:22<00:00, 103.80it/s]\n",
      "Save the transitions: 100%|██████████| 25901/25901 [25:45<00:00, 16.75it/s]"
     ]
    },
    {
     "name": "stdout",
     "output_type": "stream",
     "text": [
      "The execution time for the alignment measure approach for DS4 and the variant model with 800 traces is 2708.4326 seconds\n"
     ]
    },
    {
     "name": "stderr",
     "output_type": "stream",
     "text": [
      "\n"
     ]
    }
   ],
   "source": [
    "objects = [[\"order\",\"item\",\"delivery\"],[\"PURCHORD\",\"INVOICE\",\"PURCHREQ\",\"MATERIAL\",\"GDSRCPT\"],[\"application\",\"offer\"],[\"incident\",\"customer\"], [\"Payment application\",\"Control summary\",\"Entitlement application\",\"Geo parcel document\",\"Inspection\",\"Reference alignment\"]]\n",
    "counter = 0\n",
    "for filename in filenames:\n",
    "    object_types = objects[counter]\n",
    "    counter += 1\n",
    "    for sample_size in sample_sizes:\n",
    "        parameters = {\"obj_names\": object_types,\n",
    "                      \"val_names\": [],\n",
    "                      \"act_name\": \"event_activity\",\n",
    "                      \"time_name\": \"event_timestamp\",\n",
    "                      \"sep\": \",\"}\n",
    "        ocel_variant = ocel_import_factory_csv.apply(file_path=f\"../src/data/runtime/variant_logs/{filename}_{sample_size}_variant_log.csv\", parameters=parameters)\n",
    "        ocel = ocel_import_factory.apply(f\"../src/data/runtime/{filename}_{sample_size}.jsonocel\")\n",
    "        variant_ocpn = generate_variant_model(ocel,save_path_logs=f\"../src/data/runtime/variant_logs/{filename}/{filename}_{sample_size}\",object_types = object_types)        \n",
    "        start_time = time.time()\n",
    "        value = alignment_measure_events(ocel_variant,variant_ocpn)\n",
    "        execution_time = np.round(time.time() - start_time,4)\n",
    "        print(f\"The execution time for the alignment measure approach for {filename} and the variant model with {sample_size} traces is {execution_time} seconds\")"
   ]
  },
  {
   "cell_type": "markdown",
   "id": "694349d1",
   "metadata": {},
   "source": [
    "# Runtime Negative Events Measure with weighting"
   ]
  },
  {
   "cell_type": "markdown",
   "id": "fa473fc2",
   "metadata": {},
   "source": [
    "Examplary for the Negative Events Measure, we analyse the running time for the measure with the weighting approach."
   ]
  },
  {
   "cell_type": "code",
   "execution_count": 3,
   "id": "73f340bd",
   "metadata": {},
   "outputs": [],
   "source": [
    "filenames = [\"order_process\",\"p2p-normal\",\"BPI2017-Final\",\"DS3\",\"DS4\"]\n",
    "sample_sizes = [200 ,500, 800]"
   ]
  },
  {
   "cell_type": "markdown",
   "id": "9e75b56d",
   "metadata": {},
   "source": [
    "### OCPN model"
   ]
  },
  {
   "cell_type": "code",
   "execution_count": null,
   "id": "24f793d1",
   "metadata": {
    "is_executing": true
   },
   "outputs": [],
   "source": [
    "# Has been run on the server\n",
    "for filename in filenames:\n",
    "    for sample_size in sample_sizes:\n",
    "        ocel = ocel_import_factory.apply(f\"../src/data/runtime/{filename}_{sample_size}.jsonocel\")\n",
    "        ocpn = ocpn_discovery_factory.apply(ocel, parameters={\"debug\": False})\n",
    "        start_time = time.time()\n",
    "        value, AG, DG = negative_events_with_weighting(ocel,ocpn)\n",
    "        execution_time = np.round(time.time() - start_time,4)\n",
    "        print(f\"The execution time for the negative measure approach for {filename} with {sample_size} traces is {execution_time} seconds\")"
   ]
  },
  {
   "cell_type": "markdown",
   "id": "ac80dd61",
   "metadata": {},
   "source": [
    "### Happy Path model"
   ]
  },
  {
   "cell_type": "code",
   "execution_count": null,
   "id": "2b926c3f",
   "metadata": {},
   "outputs": [],
   "source": [
    "# Has been run on the server\n",
    "filenames = [\"order_process\",\"p2p-normal\",\"BPI2017-Final\", \"DS3\",\"DS4\"]\n",
    "sample_sizes = [200 ,500, 800]\n",
    "for filename in filenames:\n",
    "    for sample_size in sample_sizes:\n",
    "        ocel = ocel_import_factory.apply(f\"../src/data/runtime/{filename}_{sample_size}.jsonocel\")\n",
    "        happy_path__ocel = get_happy_path_log(f\"../src/data/runtime/{filename}_{sample_size}.jsonocel\")\n",
    "        happy_path_ocpn = ocpn_discovery_factory.apply(happy_path__ocel, parameters={\"debug\": False})\n",
    "        start_time = time.time()\n",
    "        value, AG, DG = negative_events_with_weighting(ocel,happy_path_ocpn)\n",
    "        execution_time = np.round(time.time() - start_time,4)\n",
    "        print(f\"The execution time for the negative measure approach for {filename} and the happy path model with {sample_size} traces is {execution_time} seconds\")"
   ]
  },
  {
   "cell_type": "markdown",
   "id": "476a519c",
   "metadata": {},
   "source": [
    "### Flower model"
   ]
  },
  {
   "cell_type": "code",
   "execution_count": 4,
   "id": "6b300a5d",
   "metadata": {},
   "outputs": [
    {
     "name": "stderr",
     "output_type": "stream",
     "text": [
      "Check the arcs: 100%|██████████| 32/32 [00:00<?, ?it/s]\n",
      "Calculate Generalization for all process executions: 100%|██████████| 200/200 [00:48<00:00,  4.16it/s]\n"
     ]
    },
    {
     "name": "stdout",
     "output_type": "stream",
     "text": [
      "The execution time for the negative measure approach for order_process and the flower model with 200 traces is 48.1581 seconds\n"
     ]
    },
    {
     "name": "stderr",
     "output_type": "stream",
     "text": [
      "Check the arcs: 100%|██████████| 32/32 [00:00<?, ?it/s]\n",
      "Calculate Generalization for all process executions: 100%|██████████| 500/500 [04:21<00:00,  1.91it/s]\n"
     ]
    },
    {
     "name": "stdout",
     "output_type": "stream",
     "text": [
      "The execution time for the negative measure approach for order_process and the flower model with 500 traces is 262.1218 seconds\n"
     ]
    },
    {
     "name": "stderr",
     "output_type": "stream",
     "text": [
      "Check the arcs: 100%|██████████| 32/32 [00:00<?, ?it/s]\n",
      "Calculate Generalization for all process executions: 100%|██████████| 800/800 [11:30<00:00,  1.16it/s]\n"
     ]
    },
    {
     "name": "stdout",
     "output_type": "stream",
     "text": [
      "The execution time for the negative measure approach for order_process and the flower model with 800 traces is 691.1698 seconds\n"
     ]
    },
    {
     "name": "stderr",
     "output_type": "stream",
     "text": [
      "Check the arcs: 100%|██████████| 38/38 [00:00<?, ?it/s]\n",
      "Calculate Generalization for all process executions: 100%|██████████| 200/200 [00:19<00:00, 10.51it/s]\n"
     ]
    },
    {
     "name": "stdout",
     "output_type": "stream",
     "text": [
      "The execution time for the negative measure approach for p2p-normal and the flower model with 200 traces is 19.1667 seconds\n"
     ]
    },
    {
     "name": "stderr",
     "output_type": "stream",
     "text": [
      "Check the arcs: 100%|██████████| 38/38 [00:00<00:00, 35937.67it/s]\n",
      "Calculate Generalization for all process executions: 100%|██████████| 500/500 [02:10<00:00,  3.83it/s]\n"
     ]
    },
    {
     "name": "stdout",
     "output_type": "stream",
     "text": [
      "The execution time for the negative measure approach for p2p-normal and the flower model with 500 traces is 130.6515 seconds\n"
     ]
    },
    {
     "name": "stderr",
     "output_type": "stream",
     "text": [
      "Check the arcs: 100%|██████████| 38/38 [00:00<?, ?it/s]\n",
      "Calculate Generalization for all process executions: 100%|██████████| 800/800 [05:46<00:00,  2.31it/s]\n"
     ]
    },
    {
     "name": "stdout",
     "output_type": "stream",
     "text": [
      "The execution time for the negative measure approach for p2p-normal and the flower model with 800 traces is 346.4434 seconds\n"
     ]
    },
    {
     "name": "stderr",
     "output_type": "stream",
     "text": [
      "Check the arcs: 100%|██████████| 52/52 [00:00<?, ?it/s]\n",
      "Calculate Generalization for all process executions: 100%|██████████| 200/200 [08:28<00:00,  2.54s/it]\n"
     ]
    },
    {
     "name": "stdout",
     "output_type": "stream",
     "text": [
      "The execution time for the negative measure approach for BPI2017-Final and the flower model with 200 traces is 509.1066 seconds\n"
     ]
    },
    {
     "name": "stderr",
     "output_type": "stream",
     "text": [
      "Check the arcs: 100%|██████████| 54/54 [00:00<00:00, 7384.34it/s]\n",
      "Calculate Generalization for all process executions: 100%|██████████| 500/500 [55:23<00:00,  6.65s/it] \n"
     ]
    },
    {
     "name": "stdout",
     "output_type": "stream",
     "text": [
      "The execution time for the negative measure approach for BPI2017-Final and the flower model with 500 traces is 3323.8055 seconds\n"
     ]
    },
    {
     "name": "stderr",
     "output_type": "stream",
     "text": [
      "Check the arcs: 100%|██████████| 54/54 [00:00<?, ?it/s]\n",
      "Calculate Generalization for all process executions: 100%|██████████| 800/800 [2:06:25<00:00,  9.48s/it]  \n"
     ]
    },
    {
     "name": "stdout",
     "output_type": "stream",
     "text": [
      "The execution time for the negative measure approach for BPI2017-Final and the flower model with 800 traces is 7586.3597 seconds\n"
     ]
    },
    {
     "name": "stderr",
     "output_type": "stream",
     "text": [
      "Check the arcs: 100%|██████████| 20/20 [00:00<?, ?it/s]\n",
      "Calculate Generalization for all process executions: 100%|██████████| 200/200 [1:31:16<00:00, 27.38s/it]\n"
     ]
    },
    {
     "name": "stdout",
     "output_type": "stream",
     "text": [
      "The execution time for the negative measure approach for DS3 and the flower model with 200 traces is 5477.4821 seconds\n"
     ]
    },
    {
     "name": "stderr",
     "output_type": "stream",
     "text": [
      "Check the arcs: 100%|██████████| 20/20 [00:00<00:00, 10225.02it/s]\n",
      "Calculate Generalization for all process executions: 100%|██████████| 500/500 [5:29:15<00:00, 39.51s/it]   \n"
     ]
    },
    {
     "name": "stdout",
     "output_type": "stream",
     "text": [
      "The execution time for the negative measure approach for DS3 and the flower model with 500 traces is 19758.8332 seconds\n"
     ]
    },
    {
     "name": "stderr",
     "output_type": "stream",
     "text": [
      "Check the arcs: 100%|██████████| 20/20 [00:00<?, ?it/s]\n",
      "Calculate Generalization for all process executions: 100%|██████████| 800/800 [9:12:11<00:00, 41.41s/it]   \n"
     ]
    },
    {
     "name": "stdout",
     "output_type": "stream",
     "text": [
      "The execution time for the negative measure approach for DS3 and the flower model with 800 traces is 33134.3191 seconds\n"
     ]
    }
   ],
   "source": [
    "# DS4 has been run on the server\n",
    "filenames = [\"order_process\",\"p2p-normal\",\"BPI2017-Final\",\"DS3\",\"DS4\"]\n",
    "sample_sizes = [200 ,500, 800]\n",
    "objects = [[\"order\",\"item\",\"delivery\"],[\"PURCHORD\",\"INVOICE\",\"PURCHREQ\",\"MATERIAL\",\"GDSRCPT\"],[\"application\",\"offer\"],[\"incident\",\"customer\"], [\"Payment application\",\"Control summary\",\"Entitlement application\",\"Geo parcel document\",\"Inspection\",\"Reference alignment\"]]\n",
    "counter = 0\n",
    "for filename in filenames:\n",
    "    ots = objects[counter]\n",
    "    counter += 1\n",
    "    for sample_size in sample_sizes:\n",
    "        ocel = ocel_import_factory.apply(f\"../src/data/runtime/{filename}_{sample_size}.jsonocel\")\n",
    "        flower_ocpn = create_flower_model(f\"../src/data/runtime/{filename}_{sample_size}.jsonocel\",ots)\n",
    "        start_time = time.time()\n",
    "        value, AG, DG = negative_events_with_weighting(ocel,flower_ocpn)\n",
    "        execution_time = np.round(time.time() - start_time,4)\n",
    "        print(f\"The execution time for the negative measure approach for {filename} and the flower model with {sample_size} traces is {execution_time} seconds\")"
   ]
  },
  {
   "cell_type": "markdown",
   "id": "8b6b3d30",
   "metadata": {},
   "source": [
    "### Variant Model"
   ]
  },
  {
   "cell_type": "code",
   "execution_count": 9,
   "id": "3cca3503",
   "metadata": {},
   "outputs": [
    {
     "name": "stderr",
     "output_type": "stream",
     "text": [
      "Generating Variant Models: 100%|██████████| 174/174 [00:11<00:00, 15.57it/s]\n",
      "Processing Variant Nets: 100%|██████████| 174/174 [00:00<00:00, 15820.70it/s]\n"
     ]
    },
    {
     "name": "stdout",
     "output_type": "stream",
     "text": [
      "#########Start generating Object-Centric Petri Net#########\n",
      "#########Finished generating Object-Centric Petri Net#########\n"
     ]
    },
    {
     "name": "stderr",
     "output_type": "stream",
     "text": [
      "Check the arcs: 100%|██████████| 5824/5824 [00:03<00:00, 1528.64it/s]\n",
      "Calculate Generalization for all process executions:   0%|          | 0/500 [00:15<?, ?it/s]\n"
     ]
    },
    {
     "ename": "KeyboardInterrupt",
     "evalue": "",
     "output_type": "error",
     "traceback": [
      "\u001b[1;31m---------------------------------------------------------------------------\u001b[0m",
      "\u001b[1;31mKeyboardInterrupt\u001b[0m                         Traceback (most recent call last)",
      "Cell \u001b[1;32mIn[9], line 18\u001b[0m\n\u001b[0;32m     16\u001b[0m variant_ocpn \u001b[38;5;241m=\u001b[39m generate_variant_model(ocel,save_path_logs\u001b[38;5;241m=\u001b[39m\u001b[38;5;124mf\u001b[39m\u001b[38;5;124m\"\u001b[39m\u001b[38;5;124m../src/data/runtime/variant_logs/\u001b[39m\u001b[38;5;132;01m{\u001b[39;00mfilename\u001b[38;5;132;01m}\u001b[39;00m\u001b[38;5;124m/\u001b[39m\u001b[38;5;132;01m{\u001b[39;00mfilename\u001b[38;5;132;01m}\u001b[39;00m\u001b[38;5;124m_\u001b[39m\u001b[38;5;132;01m{\u001b[39;00msample_size\u001b[38;5;132;01m}\u001b[39;00m\u001b[38;5;124m\"\u001b[39m,object_types \u001b[38;5;241m=\u001b[39m object_types)        \n\u001b[0;32m     17\u001b[0m start_time \u001b[38;5;241m=\u001b[39m time\u001b[38;5;241m.\u001b[39mtime()\n\u001b[1;32m---> 18\u001b[0m value, AG, DG \u001b[38;5;241m=\u001b[39m \u001b[43mnegative_events_with_weighting\u001b[49m\u001b[43m(\u001b[49m\u001b[43mocel_variant\u001b[49m\u001b[43m,\u001b[49m\u001b[43mvariant_ocpn\u001b[49m\u001b[43m)\u001b[49m\n\u001b[0;32m     19\u001b[0m execution_time \u001b[38;5;241m=\u001b[39m np\u001b[38;5;241m.\u001b[39mround(time\u001b[38;5;241m.\u001b[39mtime() \u001b[38;5;241m-\u001b[39m start_time,\u001b[38;5;241m4\u001b[39m)\n\u001b[0;32m     20\u001b[0m \u001b[38;5;28mprint\u001b[39m(\u001b[38;5;124mf\u001b[39m\u001b[38;5;124m\"\u001b[39m\u001b[38;5;124mThe execution time for the negative measure approach for \u001b[39m\u001b[38;5;132;01m{\u001b[39;00mfilename\u001b[38;5;132;01m}\u001b[39;00m\u001b[38;5;124m and the variant model with \u001b[39m\u001b[38;5;132;01m{\u001b[39;00msample_size\u001b[38;5;132;01m}\u001b[39;00m\u001b[38;5;124m traces is \u001b[39m\u001b[38;5;132;01m{\u001b[39;00mexecution_time\u001b[38;5;132;01m}\u001b[39;00m\u001b[38;5;124m seconds\u001b[39m\u001b[38;5;124m\"\u001b[39m)\n",
      "File \u001b[1;32m~\\PycharmProjects\\Generalization in Object-Centric Process Mining\\models\\negative_events_measure.py:311\u001b[0m, in \u001b[0;36mnegative_events_with_weighting\u001b[1;34m(ocel, ocpn)\u001b[0m\n\u001b[0;32m    309\u001b[0m                 \u001b[38;5;66;03m#after the loop has been broken calculate the sccore and save it in the activity list\u001b[39;00m\n\u001b[0;32m    310\u001b[0m                 score \u001b[38;5;241m=\u001b[39m (window_size \u001b[38;5;241m-\u001b[39m matching_window)\u001b[38;5;241m/\u001b[39mwindow_size\n\u001b[1;32m--> 311\u001b[0m                 activity_dict[activity]\u001b[38;5;241m.\u001b[39mappend(score)\n\u001b[0;32m    312\u001b[0m \u001b[38;5;66;03m#initialise empty lists to store the minimum value of the lists for each activity\u001b[39;00m\n\u001b[0;32m    313\u001b[0m min_values_enabled \u001b[38;5;241m=\u001b[39m []\n",
      "\u001b[1;31mKeyboardInterrupt\u001b[0m: "
     ]
    }
   ],
   "source": [
    "#has been run on the server\n",
    "filenames = [\"order_process\",\"p2p-normal\" ,\"BPI2017-Final\",\"DS3\",\"DS4\"]\n",
    "sample_sizes = [500, 800]\n",
    "objects = [[\"order\",\"item\",\"delivery\"]]\n",
    "counter = 0\n",
    "for filename in filenames:\n",
    "    object_types = objects[counter]\n",
    "    counter += 1\n",
    "    for sample_size in sample_sizes:\n",
    "        parameters = {\"obj_names\": object_types,\n",
    "                      \"val_names\": [],\n",
    "                      \"act_name\": \"event_activity\",\n",
    "                      \"time_name\": \"event_timestamp\",\n",
    "                      \"sep\": \",\"}\n",
    "        ocel_variant = ocel_import_factory_csv.apply(file_path=f\"../src/data/runtime/variant_logs/{filename}_{sample_size}_variant_log.csv\", parameters=parameters)\n",
    "        ocel = ocel_import_factory.apply(f\"../src/data/runtime/{filename}_{sample_size}.jsonocel\")\n",
    "        variant_ocpn = generate_variant_model(ocel,save_path_logs=f\"../src/data/runtime/variant_logs/{filename}/{filename}_{sample_size}\",object_types = object_types)        \n",
    "        start_time = time.time()\n",
    "        value, AG, DG = negative_events_with_weighting(ocel_variant,variant_ocpn)\n",
    "        execution_time = np.round(time.time() - start_time,4)\n",
    "        print(f\"The execution time for the negative measure approach for {filename} and the variant model with {sample_size} traces is {execution_time} seconds\")"
   ]
  },
  {
   "cell_type": "markdown",
   "id": "cefc13f1",
   "metadata": {},
   "source": [
    "# Runtime VAE"
   ]
  },
  {
   "cell_type": "markdown",
   "id": "a461d1fa",
   "metadata": {},
   "source": [
    "In a first step, we train and derive the generated logs for the VAE measure for better usability, but keep the time also."
   ]
  },
  {
   "cell_type": "code",
   "execution_count": 7,
   "id": "cf65bbe4",
   "metadata": {},
   "outputs": [],
   "source": [
    "filenames = [\"order_process\",\"p2p-normal\",\"BPI2017-Final\",\"DS3\",\"DS4\"]\n",
    "sample_sizes = [200 ,500, 800]"
   ]
  },
  {
   "cell_type": "code",
   "execution_count": 3,
   "id": "b9fc2215",
   "metadata": {},
   "outputs": [],
   "source": [
    "def create_VAE_logs(filename, sample_size):\n",
    "    ocel = ocel_import_factory.apply(f\"../src/data/runtime/{filename}_{sample_size}.jsonocel\")\n",
    "    ocpn = ocpn_discovery_factory.apply(ocel, parameters={\"debug\": False})\n",
    "    train_log = create_VAE_input(ocel,f'../src/data/runtime/VAE/{filename}_{sample_size}.txt')\n",
    "    start_time = time.time()\n",
    "    timesteps_max, enc_tokens, characters, char2id, id2char, x, x_decoder = get_text_data(num_samples=sample_size,\n",
    "                                                                                      data_path=f'../src/data/runtime/VAE/{filename}_{sample_size}.txt')\n",
    "    input_dim, timesteps = x.shape[-1], x.shape[-2]\n",
    "    batch_size, latent_dim = 1, 191\n",
    "    intermediate_dim, epochs = 353, 20\n",
    "\n",
    "    vae, enc, gen, stepper = create_lstm_vae(input_dim,\n",
    "                                             batch_size=batch_size,\n",
    "                                             intermediate_dim=intermediate_dim,\n",
    "                                             latent_dim=latent_dim,\n",
    "                                            )\n",
    "    vae.fit([x, x_decoder], x, epochs=epochs, verbose=1)\n",
    "    \n",
    "    #rearrange the input data and get the max amount of characters\n",
    "    max_length = max(len(string) for string in train_log)\n",
    "\n",
    "    def decode(s):\n",
    "        return decode_sequence(s, gen, stepper, input_dim, char2id, id2char, max_length)\n",
    "\n",
    "    log = []\n",
    "\n",
    "    for _ in tqdm(range(sample_size), desc=\"Sample Traces\"):\n",
    "\n",
    "        id_from = np.random.randint(0, x.shape[0] - 1)\n",
    "\n",
    "        m_from, std_from = enc.predict([[x[id_from]]])\n",
    "\n",
    "        seq_from = np.random.normal(size=(latent_dim,))\n",
    "        seq_from = m_from + std_from * seq_from\n",
    "\n",
    "        #print(decode(seq_from))\n",
    "        log.append([decode(seq_from)])\n",
    "    df_log = process_log(log, ocel, ocpn, f'../src/data/runtime/VAE/{filename}_{sample_size}_generated.csv')\n",
    "    execution_time = np.round(time.time() - start_time,4)\n",
    "    print(f\"The execution time for VAE training for {filename} with {sample_size} traces is {execution_time} seconds\")"
   ]
  },
  {
   "cell_type": "code",
   "execution_count": null,
   "id": "7d267adc",
   "metadata": {},
   "outputs": [
    {
     "name": "stdout",
     "output_type": "stream",
     "text": [
      "Number of samples: 200\n",
      "Number of unique input tokens: 13\n",
      "Max sequence length for inputs: 21\n",
      "Model: \"model\"\n",
      "__________________________________________________________________________________________________\n",
      " Layer (type)                   Output Shape         Param #     Connected to                     \n",
      "==================================================================================================\n",
      " input_1 (InputLayer)           [(None, None, 13)]   0           []                               \n",
      "                                                                                                  \n",
      " lstm (LSTM)                    (None, 353)          518204      ['input_1[0][0]']                \n",
      "                                                                                                  \n",
      " dense (Dense)                  (None, 191)          67614       ['lstm[0][0]']                   \n",
      "                                                                                                  \n",
      " dense_1 (Dense)                (None, 191)          67614       ['lstm[0][0]']                   \n",
      "                                                                                                  \n",
      " lambda (Lambda)                (None, 191)          0           ['dense[0][0]',                  \n",
      "                                                                  'dense_1[0][0]']                \n",
      "                                                                                                  \n",
      " input_2 (InputLayer)           [(None, None, 13)]   0           []                               \n",
      "                                                                                                  \n",
      " dense_2 (Dense)                (None, 353)          67776       ['lambda[0][0]']                 \n",
      "                                                                                                  \n",
      " lstm_1 (LSTM)                  [(None, None, 353),  518204      ['input_2[0][0]',                \n",
      "                                 (None, 353),                     'dense_2[0][0]',                \n",
      "                                 (None, 353)]                     'dense_2[0][0]']                \n",
      "                                                                                                  \n",
      " time_distributed (TimeDistribu  (None, None, 13)    4602        ['lstm_1[0][0]']                 \n",
      " ted)                                                                                             \n",
      "                                                                                                  \n",
      "==================================================================================================\n",
      "Total params: 1,244,014\n",
      "Trainable params: 1,244,014\n",
      "Non-trainable params: 0\n",
      "__________________________________________________________________________________________________\n",
      "Train on 200 samples\n",
      "Epoch 1/20\n",
      "200/200 [==============================] - 3s 17ms/sample - loss: 1.4779\n",
      "Epoch 2/20\n",
      "200/200 [==============================] - 1s 6ms/sample - loss: 1.1897\n",
      "Epoch 3/20\n",
      "200/200 [==============================] - 1s 6ms/sample - loss: 1.0570\n",
      "Epoch 4/20\n",
      "200/200 [==============================] - 1s 6ms/sample - loss: 0.9911\n",
      "Epoch 5/20\n",
      "200/200 [==============================] - 1s 5ms/sample - loss: 0.9392\n",
      "Epoch 6/20\n",
      "200/200 [==============================] - 1s 5ms/sample - loss: 0.8879\n",
      "Epoch 7/20\n",
      "200/200 [==============================] - 1s 5ms/sample - loss: 0.8852\n",
      "Epoch 8/20\n",
      "200/200 [==============================] - 1s 5ms/sample - loss: 0.8594\n",
      "Epoch 9/20\n",
      "200/200 [==============================] - 1s 5ms/sample - loss: 0.8220\n",
      "Epoch 10/20\n",
      "200/200 [==============================] - 1s 5ms/sample - loss: 0.8068\n",
      "Epoch 11/20\n",
      "200/200 [==============================] - 1s 5ms/sample - loss: 0.7566\n",
      "Epoch 12/20\n",
      "200/200 [==============================] - 1s 6ms/sample - loss: 0.7329\n",
      "Epoch 13/20\n",
      "200/200 [==============================] - 1s 6ms/sample - loss: 0.7635\n",
      "Epoch 14/20\n",
      "200/200 [==============================] - 1s 5ms/sample - loss: 0.7160\n",
      "Epoch 15/20\n",
      "200/200 [==============================] - 1s 6ms/sample - loss: 0.6842\n",
      "Epoch 16/20\n",
      "200/200 [==============================] - 1s 6ms/sample - loss: 0.6750\n",
      "Epoch 17/20\n",
      "200/200 [==============================] - 1s 5ms/sample - loss: 0.6764\n",
      "Epoch 18/20\n",
      "200/200 [==============================] - 1s 6ms/sample - loss: 0.6551\n",
      "Epoch 19/20\n",
      "200/200 [==============================] - 1s 6ms/sample - loss: 0.6187\n",
      "Epoch 20/20\n",
      "200/200 [==============================] - 1s 5ms/sample - loss: 0.6192\n"
     ]
    },
    {
     "name": "stderr",
     "output_type": "stream",
     "text": [
      "Sample Traces: 100%|██████████| 200/200 [00:13<00:00, 14.97it/s]\n"
     ]
    },
    {
     "name": "stdout",
     "output_type": "stream",
     "text": [
      "The execution time for VAE training for order_process with 200 traces is 41.2974 seconds\n",
      "Number of samples: 500\n",
      "Number of unique input tokens: 13\n",
      "Max sequence length for inputs: 23\n",
      "Model: \"model_4\"\n",
      "__________________________________________________________________________________________________\n",
      " Layer (type)                   Output Shape         Param #     Connected to                     \n",
      "==================================================================================================\n",
      " input_6 (InputLayer)           [(None, None, 13)]   0           []                               \n",
      "                                                                                                  \n",
      " lstm_2 (LSTM)                  (None, 353)          518204      ['input_6[0][0]']                \n",
      "                                                                                                  \n",
      " dense_4 (Dense)                (None, 191)          67614       ['lstm_2[0][0]']                 \n",
      "                                                                                                  \n",
      " dense_5 (Dense)                (None, 191)          67614       ['lstm_2[0][0]']                 \n",
      "                                                                                                  \n",
      " lambda_1 (Lambda)              (None, 191)          0           ['dense_4[0][0]',                \n",
      "                                                                  'dense_5[0][0]']                \n",
      "                                                                                                  \n",
      " input_7 (InputLayer)           [(None, None, 13)]   0           []                               \n",
      "                                                                                                  \n",
      " dense_6 (Dense)                (None, 353)          67776       ['lambda_1[0][0]']               \n",
      "                                                                                                  \n",
      " lstm_3 (LSTM)                  [(None, None, 353),  518204      ['input_7[0][0]',                \n",
      "                                 (None, 353),                     'dense_6[0][0]',                \n",
      "                                 (None, 353)]                     'dense_6[0][0]']                \n",
      "                                                                                                  \n",
      " time_distributed_1 (TimeDistri  (None, None, 13)    4602        ['lstm_3[0][0]']                 \n",
      " buted)                                                                                           \n",
      "                                                                                                  \n",
      "==================================================================================================\n",
      "Total params: 1,244,014\n",
      "Trainable params: 1,244,014\n",
      "Non-trainable params: 0\n",
      "__________________________________________________________________________________________________\n",
      "Train on 500 samples\n",
      "Epoch 1/20\n",
      "500/500 [==============================] - 8s 17ms/sample - loss: 1.1746\n",
      "Epoch 2/20\n",
      "500/500 [==============================] - 3s 7ms/sample - loss: 0.8925\n",
      "Epoch 3/20\n",
      "500/500 [==============================] - 3s 7ms/sample - loss: 0.8039\n",
      "Epoch 4/20\n",
      "500/500 [==============================] - 3s 7ms/sample - loss: 0.7497\n",
      "Epoch 5/20\n",
      "500/500 [==============================] - 3s 6ms/sample - loss: 0.7084\n",
      "Epoch 6/20\n",
      "500/500 [==============================] - 3s 7ms/sample - loss: 0.6781\n",
      "Epoch 7/20\n",
      "500/500 [==============================] - 3s 7ms/sample - loss: 0.6287\n",
      "Epoch 8/20\n",
      "500/500 [==============================] - 3s 7ms/sample - loss: 0.5834\n",
      "Epoch 9/20\n",
      "500/500 [==============================] - 3s 7ms/sample - loss: 0.5594\n",
      "Epoch 10/20\n",
      "500/500 [==============================] - 3s 7ms/sample - loss: 0.5302\n",
      "Epoch 11/20\n",
      "500/500 [==============================] - 3s 7ms/sample - loss: 0.5210\n",
      "Epoch 12/20\n",
      "500/500 [==============================] - 4s 9ms/sample - loss: 0.5413\n",
      "Epoch 13/20\n",
      "500/500 [==============================] - 5s 10ms/sample - loss: 0.5216\n",
      "Epoch 14/20\n",
      "500/500 [==============================] - 5s 9ms/sample - loss: 0.4753\n",
      "Epoch 15/20\n",
      "500/500 [==============================] - 4s 7ms/sample - loss: 0.4596\n",
      "Epoch 16/20\n",
      "500/500 [==============================] - 4s 8ms/sample - loss: 0.4331\n",
      "Epoch 17/20\n",
      "500/500 [==============================] - 4s 7ms/sample - loss: 0.4202\n",
      "Epoch 18/20\n",
      "500/500 [==============================] - 4s 8ms/sample - loss: 0.4376\n",
      "Epoch 19/20\n",
      "500/500 [==============================] - 4s 8ms/sample - loss: 0.4025\n",
      "Epoch 20/20\n",
      "500/500 [==============================] - 4s 8ms/sample - loss: 0.4037\n"
     ]
    },
    {
     "name": "stderr",
     "output_type": "stream",
     "text": [
      "Sample Traces: 100%|██████████| 500/500 [00:28<00:00, 17.48it/s]\n"
     ]
    },
    {
     "name": "stdout",
     "output_type": "stream",
     "text": [
      "The execution time for VAE training for order_process with 500 traces is 112.8398 seconds\n",
      "Number of samples: 800\n",
      "Number of unique input tokens: 13\n",
      "Max sequence length for inputs: 22\n",
      "Model: \"model_8\"\n",
      "__________________________________________________________________________________________________\n",
      " Layer (type)                   Output Shape         Param #     Connected to                     \n",
      "==================================================================================================\n",
      " input_11 (InputLayer)          [(None, None, 13)]   0           []                               \n",
      "                                                                                                  \n",
      " lstm_4 (LSTM)                  (None, 353)          518204      ['input_11[0][0]']               \n",
      "                                                                                                  \n",
      " dense_8 (Dense)                (None, 191)          67614       ['lstm_4[0][0]']                 \n",
      "                                                                                                  \n",
      " dense_9 (Dense)                (None, 191)          67614       ['lstm_4[0][0]']                 \n",
      "                                                                                                  \n",
      " lambda_2 (Lambda)              (None, 191)          0           ['dense_8[0][0]',                \n",
      "                                                                  'dense_9[0][0]']                \n",
      "                                                                                                  \n",
      " input_12 (InputLayer)          [(None, None, 13)]   0           []                               \n",
      "                                                                                                  \n",
      " dense_10 (Dense)               (None, 353)          67776       ['lambda_2[0][0]']               \n",
      "                                                                                                  \n",
      " lstm_5 (LSTM)                  [(None, None, 353),  518204      ['input_12[0][0]',               \n",
      "                                 (None, 353),                     'dense_10[0][0]',               \n",
      "                                 (None, 353)]                     'dense_10[0][0]']               \n",
      "                                                                                                  \n",
      " time_distributed_2 (TimeDistri  (None, None, 13)    4602        ['lstm_5[0][0]']                 \n",
      " buted)                                                                                           \n",
      "                                                                                                  \n",
      "==================================================================================================\n",
      "Total params: 1,244,014\n",
      "Trainable params: 1,244,014\n",
      "Non-trainable params: 0\n",
      "__________________________________________________________________________________________________\n",
      "Train on 800 samples\n",
      "Epoch 1/20\n",
      "800/800 [==============================] - 13s 16ms/sample - loss: 1.1256\n",
      "Epoch 2/20\n",
      "800/800 [==============================] - 13s 16ms/sample - loss: 0.8724\n",
      "Epoch 3/20\n",
      "800/800 [==============================] - 12s 15ms/sample - loss: 0.7809\n",
      "Epoch 4/20\n",
      "800/800 [==============================] - 14s 18ms/sample - loss: 0.7623\n",
      "Epoch 5/20\n",
      "800/800 [==============================] - 10s 12ms/sample - loss: 0.6560\n",
      "Epoch 6/20\n",
      "800/800 [==============================] - 10s 13ms/sample - loss: 0.5942\n",
      "Epoch 7/20\n",
      "800/800 [==============================] - 13s 16ms/sample - loss: 0.5648\n",
      "Epoch 8/20\n",
      "800/800 [==============================] - 12s 15ms/sample - loss: 0.5376\n",
      "Epoch 9/20\n",
      "800/800 [==============================] - 11s 14ms/sample - loss: 0.4989\n",
      "Epoch 10/20\n",
      "800/800 [==============================] - 12s 14ms/sample - loss: 0.4813\n",
      "Epoch 11/20\n",
      "800/800 [==============================] - 11s 13ms/sample - loss: 0.4460\n",
      "Epoch 12/20\n",
      "800/800 [==============================] - 11s 14ms/sample - loss: 0.4550\n",
      "Epoch 13/20\n",
      "800/800 [==============================] - 12s 15ms/sample - loss: 0.4179\n",
      "Epoch 14/20\n",
      "800/800 [==============================] - 12s 15ms/sample - loss: 0.3969\n",
      "Epoch 15/20\n",
      "800/800 [==============================] - 11s 13ms/sample - loss: 0.4058\n",
      "Epoch 16/20\n",
      "800/800 [==============================] - 11s 14ms/sample - loss: 0.3743\n",
      "Epoch 17/20\n",
      "800/800 [==============================] - 11s 14ms/sample - loss: 0.3660\n",
      "Epoch 18/20\n",
      "800/800 [==============================] - 12s 15ms/sample - loss: 0.3376\n",
      "Epoch 19/20\n",
      "800/800 [==============================] - 11s 14ms/sample - loss: 0.3241\n",
      "Epoch 20/20\n",
      "800/800 [==============================] - 11s 14ms/sample - loss: 0.3264\n"
     ]
    },
    {
     "name": "stderr",
     "output_type": "stream",
     "text": [
      "Sample Traces: 100%|██████████| 800/800 [00:48<00:00, 16.63it/s]\n"
     ]
    },
    {
     "name": "stdout",
     "output_type": "stream",
     "text": [
      "The execution time for VAE training for order_process with 800 traces is 282.4236 seconds\n",
      "Number of samples: 200\n",
      "Number of unique input tokens: 11\n",
      "Max sequence length for inputs: 11\n",
      "Model: \"model_12\"\n",
      "__________________________________________________________________________________________________\n",
      " Layer (type)                   Output Shape         Param #     Connected to                     \n",
      "==================================================================================================\n",
      " input_16 (InputLayer)          [(None, None, 11)]   0           []                               \n",
      "                                                                                                  \n",
      " lstm_6 (LSTM)                  (None, 353)          515380      ['input_16[0][0]']               \n",
      "                                                                                                  \n",
      " dense_12 (Dense)               (None, 191)          67614       ['lstm_6[0][0]']                 \n",
      "                                                                                                  \n",
      " dense_13 (Dense)               (None, 191)          67614       ['lstm_6[0][0]']                 \n",
      "                                                                                                  \n",
      " lambda_3 (Lambda)              (None, 191)          0           ['dense_12[0][0]',               \n",
      "                                                                  'dense_13[0][0]']               \n",
      "                                                                                                  \n",
      " input_17 (InputLayer)          [(None, None, 11)]   0           []                               \n",
      "                                                                                                  \n",
      " dense_14 (Dense)               (None, 353)          67776       ['lambda_3[0][0]']               \n",
      "                                                                                                  \n",
      " lstm_7 (LSTM)                  [(None, None, 353),  515380      ['input_17[0][0]',               \n",
      "                                 (None, 353),                     'dense_14[0][0]',               \n",
      "                                 (None, 353)]                     'dense_14[0][0]']               \n",
      "                                                                                                  \n",
      " time_distributed_3 (TimeDistri  (None, None, 11)    3894        ['lstm_7[0][0]']                 \n",
      " buted)                                                                                           \n",
      "                                                                                                  \n",
      "==================================================================================================\n",
      "Total params: 1,237,658\n",
      "Trainable params: 1,237,658\n",
      "Non-trainable params: 0\n",
      "__________________________________________________________________________________________________\n",
      "Train on 200 samples\n",
      "Epoch 1/20\n",
      "200/200 [==============================] - 3s 17ms/sample - loss: 2.0861\n",
      "Epoch 2/20\n",
      "200/200 [==============================] - 1s 3ms/sample - loss: 1.3759\n",
      "Epoch 3/20\n",
      "200/200 [==============================] - 1s 3ms/sample - loss: 1.0032\n",
      "Epoch 4/20\n",
      "200/200 [==============================] - 1s 4ms/sample - loss: 0.8461\n",
      "Epoch 5/20\n",
      "200/200 [==============================] - 1s 3ms/sample - loss: 0.7175\n",
      "Epoch 6/20\n",
      "200/200 [==============================] - 1s 3ms/sample - loss: 0.7027\n",
      "Epoch 7/20\n",
      "200/200 [==============================] - 1s 3ms/sample - loss: 0.7078\n",
      "Epoch 8/20\n",
      "200/200 [==============================] - 1s 3ms/sample - loss: 0.6866\n",
      "Epoch 9/20\n",
      "200/200 [==============================] - 1s 3ms/sample - loss: 0.6775\n",
      "Epoch 10/20\n",
      "200/200 [==============================] - 1s 3ms/sample - loss: 0.6164\n",
      "Epoch 11/20\n",
      "200/200 [==============================] - 1s 4ms/sample - loss: 0.6233\n",
      "Epoch 12/20\n",
      "200/200 [==============================] - 1s 4ms/sample - loss: 0.5805\n",
      "Epoch 13/20\n",
      "200/200 [==============================] - 1s 3ms/sample - loss: 0.5659\n",
      "Epoch 14/20\n",
      "200/200 [==============================] - 1s 3ms/sample - loss: 0.5490\n",
      "Epoch 15/20\n",
      "200/200 [==============================] - 1s 3ms/sample - loss: 0.5288\n",
      "Epoch 16/20\n",
      "200/200 [==============================] - 1s 3ms/sample - loss: 0.5155\n",
      "Epoch 17/20\n",
      "200/200 [==============================] - 1s 3ms/sample - loss: 0.5002\n",
      "Epoch 18/20\n",
      "200/200 [==============================] - 1s 3ms/sample - loss: 0.4851\n",
      "Epoch 19/20\n",
      "200/200 [==============================] - 1s 3ms/sample - loss: 0.4720\n",
      "Epoch 20/20\n",
      "200/200 [==============================] - 1s 3ms/sample - loss: 0.4557\n"
     ]
    },
    {
     "name": "stderr",
     "output_type": "stream",
     "text": [
      "Sample Traces: 100%|██████████| 200/200 [00:10<00:00, 19.36it/s]\n"
     ]
    },
    {
     "name": "stdout",
     "output_type": "stream",
     "text": [
      "The execution time for VAE training for p2p-normal with 200 traces is 29.0265 seconds\n",
      "Number of samples: 500\n",
      "Number of unique input tokens: 11\n",
      "Max sequence length for inputs: 11\n",
      "Model: \"model_16\"\n",
      "__________________________________________________________________________________________________\n",
      " Layer (type)                   Output Shape         Param #     Connected to                     \n",
      "==================================================================================================\n",
      " input_21 (InputLayer)          [(None, None, 11)]   0           []                               \n",
      "                                                                                                  \n",
      " lstm_8 (LSTM)                  (None, 353)          515380      ['input_21[0][0]']               \n",
      "                                                                                                  \n",
      " dense_16 (Dense)               (None, 191)          67614       ['lstm_8[0][0]']                 \n",
      "                                                                                                  \n",
      " dense_17 (Dense)               (None, 191)          67614       ['lstm_8[0][0]']                 \n",
      "                                                                                                  \n",
      " lambda_4 (Lambda)              (None, 191)          0           ['dense_16[0][0]',               \n",
      "                                                                  'dense_17[0][0]']               \n",
      "                                                                                                  \n",
      " input_22 (InputLayer)          [(None, None, 11)]   0           []                               \n",
      "                                                                                                  \n",
      " dense_18 (Dense)               (None, 353)          67776       ['lambda_4[0][0]']               \n",
      "                                                                                                  \n",
      " lstm_9 (LSTM)                  [(None, None, 353),  515380      ['input_22[0][0]',               \n",
      "                                 (None, 353),                     'dense_18[0][0]',               \n",
      "                                 (None, 353)]                     'dense_18[0][0]']               \n",
      "                                                                                                  \n",
      " time_distributed_4 (TimeDistri  (None, None, 11)    3894        ['lstm_9[0][0]']                 \n",
      " buted)                                                                                           \n",
      "                                                                                                  \n",
      "==================================================================================================\n",
      "Total params: 1,237,658\n",
      "Trainable params: 1,237,658\n",
      "Non-trainable params: 0\n",
      "__________________________________________________________________________________________________\n",
      "Train on 500 samples\n",
      "Epoch 1/20\n",
      "500/500 [==============================] - 5s 10ms/sample - loss: 1.6180\n",
      "Epoch 2/20\n",
      "500/500 [==============================] - 2s 3ms/sample - loss: 0.7963\n",
      "Epoch 3/20\n",
      "500/500 [==============================] - 2s 3ms/sample - loss: 0.6716\n",
      "Epoch 4/20\n",
      "500/500 [==============================] - 2s 3ms/sample - loss: 0.6619\n",
      "Epoch 5/20\n",
      "500/500 [==============================] - 2s 4ms/sample - loss: 0.5967\n",
      "Epoch 6/20\n",
      "500/500 [==============================] - 2s 4ms/sample - loss: 0.5504\n",
      "Epoch 7/20\n",
      "500/500 [==============================] - 2s 4ms/sample - loss: 0.5166\n",
      "Epoch 8/20\n",
      "500/500 [==============================] - 2s 4ms/sample - loss: 0.4868\n",
      "Epoch 9/20\n",
      "500/500 [==============================] - 2s 4ms/sample - loss: 0.4554\n",
      "Epoch 10/20\n",
      "500/500 [==============================] - 2s 3ms/sample - loss: 0.4237\n",
      "Epoch 11/20\n",
      "500/500 [==============================] - 2s 3ms/sample - loss: 0.4020\n",
      "Epoch 12/20\n",
      "500/500 [==============================] - 2s 3ms/sample - loss: 0.3765\n",
      "Epoch 13/20\n",
      "500/500 [==============================] - 2s 3ms/sample - loss: 0.3559\n",
      "Epoch 14/20\n",
      "500/500 [==============================] - 2s 3ms/sample - loss: 0.3424\n",
      "Epoch 15/20\n",
      "500/500 [==============================] - 2s 3ms/sample - loss: 0.3340\n",
      "Epoch 16/20\n",
      "500/500 [==============================] - 2s 3ms/sample - loss: 0.3209\n",
      "Epoch 17/20\n",
      "500/500 [==============================] - 2s 4ms/sample - loss: 0.3080\n",
      "Epoch 18/20\n",
      "500/500 [==============================] - 2s 4ms/sample - loss: 0.2988\n",
      "Epoch 19/20\n",
      "500/500 [==============================] - 2s 4ms/sample - loss: 0.2819\n",
      "Epoch 20/20\n",
      "500/500 [==============================] - 2s 4ms/sample - loss: 0.2346\n"
     ]
    },
    {
     "name": "stderr",
     "output_type": "stream",
     "text": [
      "Sample Traces: 100%|██████████| 500/500 [00:23<00:00, 21.56it/s]\n"
     ]
    },
    {
     "name": "stdout",
     "output_type": "stream",
     "text": [
      "The execution time for VAE training for p2p-normal with 500 traces is 64.4985 seconds\n",
      "Number of samples: 800\n",
      "Number of unique input tokens: 11\n",
      "Max sequence length for inputs: 11\n",
      "Model: \"model_20\"\n",
      "__________________________________________________________________________________________________\n",
      " Layer (type)                   Output Shape         Param #     Connected to                     \n",
      "==================================================================================================\n",
      " input_26 (InputLayer)          [(None, None, 11)]   0           []                               \n",
      "                                                                                                  \n",
      " lstm_10 (LSTM)                 (None, 353)          515380      ['input_26[0][0]']               \n",
      "                                                                                                  \n",
      " dense_20 (Dense)               (None, 191)          67614       ['lstm_10[0][0]']                \n",
      "                                                                                                  \n",
      " dense_21 (Dense)               (None, 191)          67614       ['lstm_10[0][0]']                \n",
      "                                                                                                  \n",
      " lambda_5 (Lambda)              (None, 191)          0           ['dense_20[0][0]',               \n",
      "                                                                  'dense_21[0][0]']               \n",
      "                                                                                                  \n",
      " input_27 (InputLayer)          [(None, None, 11)]   0           []                               \n",
      "                                                                                                  \n",
      " dense_22 (Dense)               (None, 353)          67776       ['lambda_5[0][0]']               \n",
      "                                                                                                  \n",
      " lstm_11 (LSTM)                 [(None, None, 353),  515380      ['input_27[0][0]',               \n",
      "                                 (None, 353),                     'dense_22[0][0]',               \n",
      "                                 (None, 353)]                     'dense_22[0][0]']               \n",
      "                                                                                                  \n",
      " time_distributed_5 (TimeDistri  (None, None, 11)    3894        ['lstm_11[0][0]']                \n",
      " buted)                                                                                           \n",
      "                                                                                                  \n",
      "==================================================================================================\n",
      "Total params: 1,237,658\n",
      "Trainable params: 1,237,658\n",
      "Non-trainable params: 0\n",
      "__________________________________________________________________________________________________\n",
      "Train on 800 samples\n",
      "Epoch 1/20\n",
      "800/800 [==============================] - 6s 8ms/sample - loss: 1.3303\n",
      "Epoch 2/20\n",
      "800/800 [==============================] - 3s 3ms/sample - loss: 0.7059\n",
      "Epoch 3/20\n",
      "800/800 [==============================] - 2s 3ms/sample - loss: 0.6205\n",
      "Epoch 4/20\n",
      "800/800 [==============================] - 3s 3ms/sample - loss: 0.5552\n",
      "Epoch 5/20\n",
      "800/800 [==============================] - 3s 3ms/sample - loss: 0.5146\n",
      "Epoch 6/20\n",
      "800/800 [==============================] - 3s 3ms/sample - loss: 0.4744\n",
      "Epoch 7/20\n",
      "800/800 [==============================] - 3s 3ms/sample - loss: 0.4272\n",
      "Epoch 8/20\n",
      "800/800 [==============================] - 3s 3ms/sample - loss: 0.3870\n",
      "Epoch 9/20\n",
      "800/800 [==============================] - 3s 3ms/sample - loss: 0.3636\n",
      "Epoch 10/20\n",
      "800/800 [==============================] - 2s 3ms/sample - loss: 0.3332\n",
      "Epoch 11/20\n",
      "800/800 [==============================] - 3s 3ms/sample - loss: 0.3212\n",
      "Epoch 12/20\n",
      "800/800 [==============================] - 3s 4ms/sample - loss: 0.3180\n",
      "Epoch 13/20\n",
      "800/800 [==============================] - 3s 4ms/sample - loss: 0.3050\n",
      "Epoch 14/20\n",
      "800/800 [==============================] - 3s 4ms/sample - loss: 0.2838\n",
      "Epoch 15/20\n",
      "800/800 [==============================] - 3s 4ms/sample - loss: 0.2457\n",
      "Epoch 16/20\n",
      "800/800 [==============================] - 3s 4ms/sample - loss: 0.2183\n",
      "Epoch 17/20\n",
      "800/800 [==============================] - 3s 4ms/sample - loss: 0.2009\n",
      "Epoch 18/20\n",
      "800/800 [==============================] - 3s 4ms/sample - loss: 0.1893\n",
      "Epoch 19/20\n",
      "800/800 [==============================] - 3s 4ms/sample - loss: 0.1907\n",
      "Epoch 20/20\n",
      "800/800 [==============================] - 3s 4ms/sample - loss: 0.1820\n"
     ]
    },
    {
     "name": "stderr",
     "output_type": "stream",
     "text": [
      "Sample Traces: 100%|██████████| 800/800 [00:37<00:00, 21.54it/s]\n"
     ]
    },
    {
     "name": "stdout",
     "output_type": "stream",
     "text": [
      "The execution time for VAE training for p2p-normal with 800 traces is 98.547 seconds\n",
      "Number of samples: 200\n",
      "Number of unique input tokens: 24\n",
      "Max sequence length for inputs: 70\n",
      "Model: \"model_24\"\n",
      "__________________________________________________________________________________________________\n",
      " Layer (type)                   Output Shape         Param #     Connected to                     \n",
      "==================================================================================================\n",
      " input_31 (InputLayer)          [(None, None, 24)]   0           []                               \n",
      "                                                                                                  \n",
      " lstm_12 (LSTM)                 (None, 353)          533736      ['input_31[0][0]']               \n",
      "                                                                                                  \n",
      " dense_24 (Dense)               (None, 191)          67614       ['lstm_12[0][0]']                \n",
      "                                                                                                  \n",
      " dense_25 (Dense)               (None, 191)          67614       ['lstm_12[0][0]']                \n",
      "                                                                                                  \n",
      " lambda_6 (Lambda)              (None, 191)          0           ['dense_24[0][0]',               \n",
      "                                                                  'dense_25[0][0]']               \n",
      "                                                                                                  \n",
      " input_32 (InputLayer)          [(None, None, 24)]   0           []                               \n",
      "                                                                                                  \n",
      " dense_26 (Dense)               (None, 353)          67776       ['lambda_6[0][0]']               \n",
      "                                                                                                  \n",
      " lstm_13 (LSTM)                 [(None, None, 353),  533736      ['input_32[0][0]',               \n",
      "                                 (None, 353),                     'dense_26[0][0]',               \n",
      "                                 (None, 353)]                     'dense_26[0][0]']               \n",
      "                                                                                                  \n",
      " time_distributed_6 (TimeDistri  (None, None, 24)    8496        ['lstm_13[0][0]']                \n",
      " buted)                                                                                           \n",
      "                                                                                                  \n",
      "==================================================================================================\n",
      "Total params: 1,278,972\n",
      "Trainable params: 1,278,972\n",
      "Non-trainable params: 0\n",
      "__________________________________________________________________________________________________\n",
      "Train on 200 samples\n",
      "Epoch 1/20\n",
      "200/200 [==============================] - 12s 61ms/sample - loss: 1.8909\n",
      "Epoch 2/20\n",
      "200/200 [==============================] - 7s 37ms/sample - loss: 1.5865\n",
      "Epoch 3/20\n",
      "200/200 [==============================] - 8s 38ms/sample - loss: 1.4361\n",
      "Epoch 4/20\n",
      "200/200 [==============================] - 7s 37ms/sample - loss: 1.3638\n",
      "Epoch 5/20\n",
      "200/200 [==============================] - 9s 43ms/sample - loss: 1.3128\n",
      "Epoch 6/20\n",
      "200/200 [==============================] - 7s 37ms/sample - loss: 1.2695\n",
      "Epoch 7/20\n",
      "200/200 [==============================] - 10s 50ms/sample - loss: 1.2498\n",
      "Epoch 8/20\n",
      "200/200 [==============================] - 7s 37ms/sample - loss: 1.1969\n",
      "Epoch 9/20\n",
      "200/200 [==============================] - 8s 41ms/sample - loss: 1.1440\n",
      "Epoch 10/20\n",
      "200/200 [==============================] - 8s 41ms/sample - loss: 1.2615\n",
      "Epoch 11/20\n",
      "200/200 [==============================] - 8s 41ms/sample - loss: 1.1302\n",
      "Epoch 12/20\n",
      "200/200 [==============================] - 8s 41ms/sample - loss: 1.0705\n",
      "Epoch 13/20\n",
      "200/200 [==============================] - 9s 45ms/sample - loss: 0.9865\n",
      "Epoch 14/20\n",
      "200/200 [==============================] - 9s 44ms/sample - loss: 0.8969\n",
      "Epoch 15/20\n",
      "200/200 [==============================] - 9s 47ms/sample - loss: 0.8237\n",
      "Epoch 16/20\n",
      "200/200 [==============================] - 8s 38ms/sample - loss: 0.7354\n",
      "Epoch 17/20\n",
      "200/200 [==============================] - 8s 38ms/sample - loss: 0.6673\n",
      "Epoch 18/20\n",
      "200/200 [==============================] - 8s 41ms/sample - loss: 0.6189\n",
      "Epoch 19/20\n",
      "200/200 [==============================] - 8s 41ms/sample - loss: 0.5756\n",
      "Epoch 20/20\n",
      "200/200 [==============================] - 8s 41ms/sample - loss: 0.5372\n"
     ]
    },
    {
     "name": "stderr",
     "output_type": "stream",
     "text": [
      "Sample Traces: 100%|██████████| 200/200 [00:50<00:00,  3.93it/s]\n"
     ]
    },
    {
     "name": "stdout",
     "output_type": "stream",
     "text": [
      "The execution time for VAE training for BPI2017-Final with 200 traces is 221.1716 seconds\n",
      "Number of samples: 500\n",
      "Number of unique input tokens: 25\n",
      "Max sequence length for inputs: 70\n",
      "Model: \"model_28\"\n",
      "__________________________________________________________________________________________________\n",
      " Layer (type)                   Output Shape         Param #     Connected to                     \n",
      "==================================================================================================\n",
      " input_36 (InputLayer)          [(None, None, 25)]   0           []                               \n",
      "                                                                                                  \n",
      " lstm_14 (LSTM)                 (None, 353)          535148      ['input_36[0][0]']               \n",
      "                                                                                                  \n",
      " dense_28 (Dense)               (None, 191)          67614       ['lstm_14[0][0]']                \n",
      "                                                                                                  \n",
      " dense_29 (Dense)               (None, 191)          67614       ['lstm_14[0][0]']                \n",
      "                                                                                                  \n",
      " lambda_7 (Lambda)              (None, 191)          0           ['dense_28[0][0]',               \n",
      "                                                                  'dense_29[0][0]']               \n",
      "                                                                                                  \n",
      " input_37 (InputLayer)          [(None, None, 25)]   0           []                               \n",
      "                                                                                                  \n",
      " dense_30 (Dense)               (None, 353)          67776       ['lambda_7[0][0]']               \n",
      "                                                                                                  \n",
      " lstm_15 (LSTM)                 [(None, None, 353),  535148      ['input_37[0][0]',               \n",
      "                                 (None, 353),                     'dense_30[0][0]',               \n",
      "                                 (None, 353)]                     'dense_30[0][0]']               \n",
      "                                                                                                  \n",
      " time_distributed_7 (TimeDistri  (None, None, 25)    8850        ['lstm_15[0][0]']                \n",
      " buted)                                                                                           \n",
      "                                                                                                  \n",
      "==================================================================================================\n",
      "Total params: 1,282,150\n",
      "Trainable params: 1,282,150\n",
      "Non-trainable params: 0\n",
      "__________________________________________________________________________________________________\n",
      "Train on 500 samples\n",
      "Epoch 1/20\n",
      "500/500 [==============================] - 25s 51ms/sample - loss: 1.5225\n",
      "Epoch 2/20\n",
      "500/500 [==============================] - 19s 38ms/sample - loss: 1.2312\n",
      "Epoch 3/20\n",
      "500/500 [==============================] - 20s 39ms/sample - loss: 1.1267\n",
      "Epoch 4/20\n",
      "500/500 [==============================] - 23s 46ms/sample - loss: 1.0343\n",
      "Epoch 5/20\n",
      "500/500 [==============================] - 19s 37ms/sample - loss: 0.9117\n",
      "Epoch 6/20\n",
      "500/500 [==============================] - 21s 42ms/sample - loss: 0.7649\n",
      "Epoch 7/20\n",
      "500/500 [==============================] - 22s 43ms/sample - loss: 0.6083\n",
      "Epoch 8/20\n",
      "500/500 [==============================] - 21s 41ms/sample - loss: 0.5163\n",
      "Epoch 9/20\n",
      "500/500 [==============================] - 20s 40ms/sample - loss: 0.4683\n",
      "Epoch 10/20\n",
      "500/500 [==============================] - 23s 46ms/sample - loss: 0.4414\n",
      "Epoch 11/20\n",
      "500/500 [==============================] - 19s 39ms/sample - loss: 0.4166\n",
      "Epoch 12/20\n",
      "500/500 [==============================] - 20s 40ms/sample - loss: 0.3863\n",
      "Epoch 13/20\n",
      "500/500 [==============================] - 20s 41ms/sample - loss: 0.3732\n",
      "Epoch 14/20\n",
      "500/500 [==============================] - 21s 42ms/sample - loss: 0.3604\n",
      "Epoch 15/20\n",
      "500/500 [==============================] - 20s 39ms/sample - loss: 0.3571\n",
      "Epoch 16/20\n",
      "500/500 [==============================] - 22s 43ms/sample - loss: 0.3399\n",
      "Epoch 17/20\n",
      "500/500 [==============================] - 21s 42ms/sample - loss: 0.3293\n",
      "Epoch 18/20\n",
      "500/500 [==============================] - 25s 49ms/sample - loss: 0.3243\n",
      "Epoch 19/20\n",
      "500/500 [==============================] - 21s 43ms/sample - loss: 0.3199\n",
      "Epoch 20/20\n",
      "500/500 [==============================] - 21s 43ms/sample - loss: 0.3194\n"
     ]
    },
    {
     "name": "stderr",
     "output_type": "stream",
     "text": [
      "Sample Traces: 100%|██████████| 500/500 [01:41<00:00,  4.92it/s]\n"
     ]
    },
    {
     "name": "stdout",
     "output_type": "stream",
     "text": [
      "The execution time for VAE training for BPI2017-Final with 500 traces is 525.8119 seconds\n",
      "Number of samples: 800\n",
      "Number of unique input tokens: 25\n",
      "Max sequence length for inputs: 70\n",
      "Model: \"model_32\"\n",
      "__________________________________________________________________________________________________\n",
      " Layer (type)                   Output Shape         Param #     Connected to                     \n",
      "==================================================================================================\n",
      " input_41 (InputLayer)          [(None, None, 25)]   0           []                               \n",
      "                                                                                                  \n",
      " lstm_16 (LSTM)                 (None, 353)          535148      ['input_41[0][0]']               \n",
      "                                                                                                  \n",
      " dense_32 (Dense)               (None, 191)          67614       ['lstm_16[0][0]']                \n",
      "                                                                                                  \n",
      " dense_33 (Dense)               (None, 191)          67614       ['lstm_16[0][0]']                \n",
      "                                                                                                  \n",
      " lambda_8 (Lambda)              (None, 191)          0           ['dense_32[0][0]',               \n",
      "                                                                  'dense_33[0][0]']               \n",
      "                                                                                                  \n",
      " input_42 (InputLayer)          [(None, None, 25)]   0           []                               \n",
      "                                                                                                  \n",
      " dense_34 (Dense)               (None, 353)          67776       ['lambda_8[0][0]']               \n",
      "                                                                                                  \n",
      " lstm_17 (LSTM)                 [(None, None, 353),  535148      ['input_42[0][0]',               \n",
      "                                 (None, 353),                     'dense_34[0][0]',               \n",
      "                                 (None, 353)]                     'dense_34[0][0]']               \n",
      "                                                                                                  \n",
      " time_distributed_8 (TimeDistri  (None, None, 25)    8850        ['lstm_17[0][0]']                \n",
      " buted)                                                                                           \n",
      "                                                                                                  \n",
      "==================================================================================================\n",
      "Total params: 1,282,150\n",
      "Trainable params: 1,282,150\n",
      "Non-trainable params: 0\n",
      "__________________________________________________________________________________________________\n",
      "Train on 800 samples\n",
      "Epoch 1/20\n",
      "800/800 [==============================] - 39s 49ms/sample - loss: 1.3342\n",
      "Epoch 2/20\n",
      "800/800 [==============================] - 36s 45ms/sample - loss: 1.0473\n",
      "Epoch 3/20\n",
      "800/800 [==============================] - 36s 45ms/sample - loss: 0.8998\n",
      "Epoch 4/20\n",
      "800/800 [==============================] - 35s 44ms/sample - loss: 0.6768\n",
      "Epoch 5/20\n",
      "800/800 [==============================] - 37s 46ms/sample - loss: 0.5025\n",
      "Epoch 6/20\n",
      "800/800 [==============================] - 36s 45ms/sample - loss: 0.4233\n",
      "Epoch 7/20\n",
      "800/800 [==============================] - 35s 44ms/sample - loss: 0.3768\n",
      "Epoch 8/20\n",
      "800/800 [==============================] - 37s 46ms/sample - loss: 0.3565\n",
      "Epoch 9/20\n",
      "800/800 [==============================] - 35s 44ms/sample - loss: 0.3347\n",
      "Epoch 10/20\n",
      "800/800 [==============================] - 36s 45ms/sample - loss: 0.3345\n",
      "Epoch 11/20\n",
      "800/800 [==============================] - 38s 48ms/sample - loss: 0.3180\n",
      "Epoch 12/20\n",
      "800/800 [==============================] - 46s 58ms/sample - loss: 0.3067\n",
      "Epoch 13/20\n",
      "800/800 [==============================] - 44s 56ms/sample - loss: 0.2967\n",
      "Epoch 14/20\n",
      "800/800 [==============================] - 36s 45ms/sample - loss: 0.2911\n",
      "Epoch 15/20\n",
      "800/800 [==============================] - 34s 42ms/sample - loss: 0.2896\n",
      "Epoch 16/20\n",
      "800/800 [==============================] - 34s 42ms/sample - loss: 0.2813\n",
      "Epoch 17/20\n",
      "800/800 [==============================] - 33s 41ms/sample - loss: 0.2802\n",
      "Epoch 18/20\n",
      "800/800 [==============================] - 34s 42ms/sample - loss: 0.2784\n",
      "Epoch 19/20\n",
      "800/800 [==============================] - 23s 29ms/sample - loss: 0.2690\n",
      "Epoch 20/20\n",
      "800/800 [==============================] - 30s 38ms/sample - loss: 0.2676\n"
     ]
    },
    {
     "name": "stderr",
     "output_type": "stream",
     "text": [
      "Sample Traces: 100%|██████████| 800/800 [00:57<00:00, 13.97it/s]\n"
     ]
    },
    {
     "name": "stdout",
     "output_type": "stream",
     "text": [
      "The execution time for VAE training for BPI2017-Final with 800 traces is 775.6343 seconds\n",
      "Number of samples: 200\n",
      "Number of unique input tokens: 10\n",
      "Max sequence length for inputs: 261\n",
      "Model: \"model_36\"\n",
      "__________________________________________________________________________________________________\n",
      " Layer (type)                   Output Shape         Param #     Connected to                     \n",
      "==================================================================================================\n",
      " input_46 (InputLayer)          [(None, None, 10)]   0           []                               \n",
      "                                                                                                  \n",
      " lstm_18 (LSTM)                 (None, 353)          513968      ['input_46[0][0]']               \n",
      "                                                                                                  \n",
      " dense_36 (Dense)               (None, 191)          67614       ['lstm_18[0][0]']                \n",
      "                                                                                                  \n",
      " dense_37 (Dense)               (None, 191)          67614       ['lstm_18[0][0]']                \n",
      "                                                                                                  \n",
      " lambda_9 (Lambda)              (None, 191)          0           ['dense_36[0][0]',               \n",
      "                                                                  'dense_37[0][0]']               \n",
      "                                                                                                  \n",
      " input_47 (InputLayer)          [(None, None, 10)]   0           []                               \n",
      "                                                                                                  \n",
      " dense_38 (Dense)               (None, 353)          67776       ['lambda_9[0][0]']               \n",
      "                                                                                                  \n",
      " lstm_19 (LSTM)                 [(None, None, 353),  513968      ['input_47[0][0]',               \n",
      "                                 (None, 353),                     'dense_38[0][0]',               \n",
      "                                 (None, 353)]                     'dense_38[0][0]']               \n",
      "                                                                                                  \n",
      " time_distributed_9 (TimeDistri  (None, None, 10)    3540        ['lstm_19[0][0]']                \n",
      " buted)                                                                                           \n",
      "                                                                                                  \n",
      "==================================================================================================\n",
      "Total params: 1,234,480\n",
      "Trainable params: 1,234,480\n",
      "Non-trainable params: 0\n",
      "__________________________________________________________________________________________________\n",
      "Train on 200 samples\n",
      "Epoch 1/20\n",
      "200/200 [==============================] - 38s 192ms/sample - loss: 0.9460\n",
      "Epoch 2/20\n",
      "200/200 [==============================] - 38s 190ms/sample - loss: 0.7870\n",
      "Epoch 3/20\n",
      "200/200 [==============================] - 35s 177ms/sample - loss: 0.7519\n",
      "Epoch 4/20\n",
      "200/200 [==============================] - 41s 207ms/sample - loss: 0.7386\n",
      "Epoch 5/20\n",
      "200/200 [==============================] - 39s 196ms/sample - loss: 0.7296\n",
      "Epoch 6/20\n",
      "200/200 [==============================] - 38s 188ms/sample - loss: 0.7222\n",
      "Epoch 7/20\n",
      "200/200 [==============================] - 38s 191ms/sample - loss: 0.7144\n",
      "Epoch 8/20\n",
      "200/200 [==============================] - 37s 183ms/sample - loss: 0.7072\n",
      "Epoch 9/20\n",
      "200/200 [==============================] - 38s 190ms/sample - loss: 0.6996\n",
      "Epoch 10/20\n",
      "200/200 [==============================] - 37s 186ms/sample - loss: 0.6906\n",
      "Epoch 11/20\n",
      "200/200 [==============================] - 38s 188ms/sample - loss: 0.6817\n",
      "Epoch 12/20\n",
      "200/200 [==============================] - 36s 179ms/sample - loss: 0.6723\n",
      "Epoch 13/20\n",
      "200/200 [==============================] - 37s 186ms/sample - loss: 0.6635\n",
      "Epoch 14/20\n",
      "200/200 [==============================] - 38s 190ms/sample - loss: 0.6529\n",
      "Epoch 15/20\n",
      "200/200 [==============================] - 37s 183ms/sample - loss: 0.6476\n",
      "Epoch 16/20\n",
      "200/200 [==============================] - 43s 215ms/sample - loss: 0.6438\n",
      "Epoch 17/20\n",
      "200/200 [==============================] - 38s 191ms/sample - loss: 0.6362\n",
      "Epoch 18/20\n",
      "200/200 [==============================] - 40s 198ms/sample - loss: 0.6284\n",
      "Epoch 19/20\n",
      "200/200 [==============================] - 38s 190ms/sample - loss: 0.6378\n",
      "Epoch 20/20\n",
      "200/200 [==============================] - 40s 198ms/sample - loss: 0.6369\n"
     ]
    },
    {
     "name": "stderr",
     "output_type": "stream",
     "text": [
      "Sample Traces: 100%|██████████| 200/200 [01:54<00:00,  1.74it/s]\n"
     ]
    },
    {
     "name": "stdout",
     "output_type": "stream",
     "text": [
      "The execution time for VAE training for DS3 with 200 traces is 881.8236 seconds\n",
      "Number of samples: 500\n",
      "Number of unique input tokens: 10\n",
      "Max sequence length for inputs: 261\n",
      "Model: \"model_40\"\n",
      "__________________________________________________________________________________________________\n",
      " Layer (type)                   Output Shape         Param #     Connected to                     \n",
      "==================================================================================================\n",
      " input_51 (InputLayer)          [(None, None, 10)]   0           []                               \n",
      "                                                                                                  \n",
      " lstm_20 (LSTM)                 (None, 353)          513968      ['input_51[0][0]']               \n",
      "                                                                                                  \n",
      " dense_40 (Dense)               (None, 191)          67614       ['lstm_20[0][0]']                \n",
      "                                                                                                  \n",
      " dense_41 (Dense)               (None, 191)          67614       ['lstm_20[0][0]']                \n",
      "                                                                                                  \n",
      " lambda_10 (Lambda)             (None, 191)          0           ['dense_40[0][0]',               \n",
      "                                                                  'dense_41[0][0]']               \n",
      "                                                                                                  \n",
      " input_52 (InputLayer)          [(None, None, 10)]   0           []                               \n",
      "                                                                                                  \n",
      " dense_42 (Dense)               (None, 353)          67776       ['lambda_10[0][0]']              \n",
      "                                                                                                  \n",
      " lstm_21 (LSTM)                 [(None, None, 353),  513968      ['input_52[0][0]',               \n",
      "                                 (None, 353),                     'dense_42[0][0]',               \n",
      "                                 (None, 353)]                     'dense_42[0][0]']               \n",
      "                                                                                                  \n",
      " time_distributed_10 (TimeDistr  (None, None, 10)    3540        ['lstm_21[0][0]']                \n",
      " ibuted)                                                                                          \n",
      "                                                                                                  \n",
      "==================================================================================================\n",
      "Total params: 1,234,480\n",
      "Trainable params: 1,234,480\n",
      "Non-trainable params: 0\n",
      "__________________________________________________________________________________________________\n",
      "Train on 500 samples\n",
      "Epoch 1/20\n",
      "500/500 [==============================] - 106s 213ms/sample - loss: 0.6344\n",
      "Epoch 2/20\n",
      "500/500 [==============================] - 89s 177ms/sample - loss: 0.5574\n",
      "Epoch 3/20\n",
      "500/500 [==============================] - 93s 185ms/sample - loss: 0.5390\n",
      "Epoch 4/20\n",
      "500/500 [==============================] - 93s 185ms/sample - loss: 0.5225\n",
      "Epoch 5/20\n",
      "500/500 [==============================] - 91s 181ms/sample - loss: 0.5053\n",
      "Epoch 6/20\n",
      "500/500 [==============================] - 92s 183ms/sample - loss: 0.4900\n",
      "Epoch 7/20\n",
      "500/500 [==============================] - 91s 181ms/sample - loss: 0.4760\n",
      "Epoch 8/20\n",
      "500/500 [==============================] - 90s 180ms/sample - loss: 0.4665\n",
      "Epoch 9/20\n",
      "500/500 [==============================] - 91s 182ms/sample - loss: 0.4594\n",
      "Epoch 10/20\n",
      "500/500 [==============================] - 90s 179ms/sample - loss: 0.4537\n",
      "Epoch 11/20\n",
      "500/500 [==============================] - 94s 187ms/sample - loss: 0.4631\n",
      "Epoch 12/20\n",
      "500/500 [==============================] - 96s 191ms/sample - loss: 0.4581\n",
      "Epoch 13/20\n",
      "500/500 [==============================] - 97s 195ms/sample - loss: 0.4512\n",
      "Epoch 14/20\n",
      "500/500 [==============================] - 102s 204ms/sample - loss: 0.4460\n",
      "Epoch 15/20\n",
      "500/500 [==============================] - 98s 196ms/sample - loss: 0.4447\n",
      "Epoch 16/20\n",
      "500/500 [==============================] - 97s 193ms/sample - loss: 0.4401\n",
      "Epoch 17/20\n",
      "500/500 [==============================] - 95s 191ms/sample - loss: 0.4470\n",
      "Epoch 18/20\n",
      "500/500 [==============================] - 114s 228ms/sample - loss: 0.4406\n",
      "Epoch 19/20\n",
      "500/500 [==============================] - 100s 200ms/sample - loss: 0.4391\n",
      "Epoch 20/20\n",
      "500/500 [==============================] - 103s 206ms/sample - loss: 0.4393\n"
     ]
    },
    {
     "name": "stderr",
     "output_type": "stream",
     "text": [
      "Sample Traces: 100%|██████████| 500/500 [04:19<00:00,  1.92it/s]\n"
     ]
    },
    {
     "name": "stdout",
     "output_type": "stream",
     "text": [
      "The execution time for VAE training for DS3 with 500 traces is 2185.7187 seconds\n",
      "Number of samples: 800\n",
      "Number of unique input tokens: 10\n",
      "Max sequence length for inputs: 261\n",
      "Model: \"model_44\"\n",
      "__________________________________________________________________________________________________\n",
      " Layer (type)                   Output Shape         Param #     Connected to                     \n",
      "==================================================================================================\n",
      " input_56 (InputLayer)          [(None, None, 10)]   0           []                               \n",
      "                                                                                                  \n",
      " lstm_22 (LSTM)                 (None, 353)          513968      ['input_56[0][0]']               \n",
      "                                                                                                  \n",
      " dense_44 (Dense)               (None, 191)          67614       ['lstm_22[0][0]']                \n",
      "                                                                                                  \n",
      " dense_45 (Dense)               (None, 191)          67614       ['lstm_22[0][0]']                \n",
      "                                                                                                  \n",
      " lambda_11 (Lambda)             (None, 191)          0           ['dense_44[0][0]',               \n",
      "                                                                  'dense_45[0][0]']               \n",
      "                                                                                                  \n",
      " input_57 (InputLayer)          [(None, None, 10)]   0           []                               \n",
      "                                                                                                  \n",
      " dense_46 (Dense)               (None, 353)          67776       ['lambda_11[0][0]']              \n",
      "                                                                                                  \n",
      " lstm_23 (LSTM)                 [(None, None, 353),  513968      ['input_57[0][0]',               \n",
      "                                 (None, 353),                     'dense_46[0][0]',               \n",
      "                                 (None, 353)]                     'dense_46[0][0]']               \n",
      "                                                                                                  \n",
      " time_distributed_11 (TimeDistr  (None, None, 10)    3540        ['lstm_23[0][0]']                \n",
      " ibuted)                                                                                          \n",
      "                                                                                                  \n",
      "==================================================================================================\n",
      "Total params: 1,234,480\n",
      "Trainable params: 1,234,480\n",
      "Non-trainable params: 0\n",
      "__________________________________________________________________________________________________\n",
      "Train on 800 samples\n",
      "Epoch 1/20\n",
      "800/800 [==============================] - 185s 231ms/sample - loss: 0.5124\n",
      "Epoch 2/20\n",
      "800/800 [==============================] - 168s 210ms/sample - loss: 0.4529\n",
      "Epoch 3/20\n",
      "800/800 [==============================] - 169s 211ms/sample - loss: 0.4304\n",
      "Epoch 4/20\n",
      "800/800 [==============================] - 162s 203ms/sample - loss: 0.4079\n",
      "Epoch 5/20\n",
      "800/800 [==============================] - 163s 204ms/sample - loss: 0.3971\n",
      "Epoch 6/20\n",
      "800/800 [==============================] - 157s 196ms/sample - loss: 0.3845\n",
      "Epoch 7/20\n",
      "800/800 [==============================] - 169s 211ms/sample - loss: 0.3830\n",
      "Epoch 8/20\n",
      "800/800 [==============================] - 160s 200ms/sample - loss: 0.3752\n",
      "Epoch 9/20\n",
      "800/800 [==============================] - 164s 205ms/sample - loss: 0.3725\n",
      "Epoch 10/20\n",
      "800/800 [==============================] - 175s 218ms/sample - loss: 0.3687\n",
      "Epoch 11/20\n",
      "800/800 [==============================] - 168s 209ms/sample - loss: 0.3656\n",
      "Epoch 12/20\n",
      "800/800 [==============================] - 184s 230ms/sample - loss: 0.3624\n",
      "Epoch 13/20\n",
      "800/800 [==============================] - 185s 231ms/sample - loss: 0.3616\n",
      "Epoch 14/20\n",
      "800/800 [==============================] - 176s 221ms/sample - loss: 0.3602\n",
      "Epoch 15/20\n",
      "800/800 [==============================] - 177s 221ms/sample - loss: 0.3576\n",
      "Epoch 16/20\n",
      "800/800 [==============================] - 178s 222ms/sample - loss: 0.3539\n",
      "Epoch 17/20\n",
      "800/800 [==============================] - 178s 223ms/sample - loss: 0.3513\n",
      "Epoch 18/20\n",
      "800/800 [==============================] - 192s 239ms/sample - loss: 0.3494\n",
      "Epoch 19/20\n",
      "800/800 [==============================] - 122s 152ms/sample - loss: 0.3554\n",
      "Epoch 20/20\n",
      "800/800 [==============================] - 123s 154ms/sample - loss: 0.3474\n"
     ]
    },
    {
     "name": "stderr",
     "output_type": "stream",
     "text": [
      "Sample Traces: 100%|██████████| 800/800 [05:37<00:00,  2.37it/s]\n"
     ]
    },
    {
     "name": "stdout",
     "output_type": "stream",
     "text": [
      "The execution time for VAE training for DS3 with 800 traces is 3698.4216 seconds\n",
      "Number of samples: 200\n",
      "Number of unique input tokens: 58\n",
      "Max sequence length for inputs: 2975\n",
      "Model: \"model_48\"\n",
      "__________________________________________________________________________________________________\n",
      " Layer (type)                   Output Shape         Param #     Connected to                     \n",
      "==================================================================================================\n",
      " input_61 (InputLayer)          [(None, None, 58)]   0           []                               \n",
      "                                                                                                  \n",
      " lstm_24 (LSTM)                 (None, 353)          581744      ['input_61[0][0]']               \n",
      "                                                                                                  \n",
      " dense_48 (Dense)               (None, 191)          67614       ['lstm_24[0][0]']                \n",
      "                                                                                                  \n",
      " dense_49 (Dense)               (None, 191)          67614       ['lstm_24[0][0]']                \n",
      "                                                                                                  \n",
      " lambda_12 (Lambda)             (None, 191)          0           ['dense_48[0][0]',               \n",
      "                                                                  'dense_49[0][0]']               \n",
      "                                                                                                  \n",
      " input_62 (InputLayer)          [(None, None, 58)]   0           []                               \n",
      "                                                                                                  \n",
      " dense_50 (Dense)               (None, 353)          67776       ['lambda_12[0][0]']              \n",
      "                                                                                                  \n",
      " lstm_25 (LSTM)                 [(None, None, 353),  581744      ['input_62[0][0]',               \n",
      "                                 (None, 353),                     'dense_50[0][0]',               \n",
      "                                 (None, 353)]                     'dense_50[0][0]']               \n",
      "                                                                                                  \n",
      " time_distributed_12 (TimeDistr  (None, None, 58)    20532       ['lstm_25[0][0]']                \n",
      " ibuted)                                                                                          \n",
      "                                                                                                  \n",
      "==================================================================================================\n",
      "Total params: 1,387,024\n",
      "Trainable params: 1,387,024\n",
      "Non-trainable params: 0\n",
      "__________________________________________________________________________________________________\n",
      "Train on 200 samples\n",
      "Epoch 1/20\n",
      "200/200 [==============================] - 938s 5s/sample - loss: 0.3201\n",
      "Epoch 2/20\n",
      "200/200 [==============================] - 1107s 6s/sample - loss: 0.1974\n",
      "Epoch 3/20\n",
      "200/200 [==============================] - 1175s 6s/sample - loss: 0.1787\n",
      "Epoch 4/20\n",
      "200/200 [==============================] - 1244s 6s/sample - loss: 0.1716\n",
      "Epoch 5/20\n",
      "200/200 [==============================] - 1421s 7s/sample - loss: 0.1653\n",
      "Epoch 6/20\n",
      "200/200 [==============================] - 1595s 8s/sample - loss: 0.1560\n",
      "Epoch 7/20\n",
      "200/200 [==============================] - 1506s 8s/sample - loss: 0.1568\n",
      "Epoch 8/20\n",
      "200/200 [==============================] - 1540s 8s/sample - loss: 0.1538\n",
      "Epoch 9/20\n",
      "200/200 [==============================] - 1581s 8s/sample - loss: 0.1469\n",
      "Epoch 10/20\n",
      "200/200 [==============================] - 1601s 8s/sample - loss: 0.1404\n",
      "Epoch 11/20\n",
      "200/200 [==============================] - 1629s 8s/sample - loss: 0.1360\n",
      "Epoch 12/20\n",
      "200/200 [==============================] - 1671s 8s/sample - loss: 0.1331\n",
      "Epoch 13/20\n",
      "200/200 [==============================] - 1612s 8s/sample - loss: 0.1309\n",
      "Epoch 14/20\n",
      "200/200 [==============================] - 1662s 8s/sample - loss: 0.1282\n",
      "Epoch 15/20\n",
      "200/200 [==============================] - 1694s 8s/sample - loss: 0.1248\n",
      "Epoch 16/20\n",
      "200/200 [==============================] - 1708s 9s/sample - loss: 0.1211\n",
      "Epoch 17/20\n",
      "200/200 [==============================] - 1725s 9s/sample - loss: 0.1175\n",
      "Epoch 18/20\n",
      "200/200 [==============================] - 1721s 9s/sample - loss: 0.1127\n",
      "Epoch 19/20\n",
      "128/200 [==================>...........] - ETA: 9:59 - loss: 0.1127 "
     ]
    }
   ],
   "source": [
    "filenames = [\"order_process\",\"p2p-normal\",\"BPI2017-Final\",\"DS3\"]\n",
    "sample_sizes = [200 ,500, 800]\n",
    "for filename in filenames:\n",
    "    for sample_size in sample_sizes:\n",
    "        create_VAE_logs(filename,sample_size)"
   ]
  },
  {
   "cell_type": "code",
   "execution_count": null,
   "id": "1f4d2a8f",
   "metadata": {},
   "outputs": [],
   "source": [
    "#has been run on the server\n",
    "# filenames = [\"DS4\"]\n",
    "# sample_sizes = [200 ,500, 800]\n",
    "# for filename in filenames:\n",
    "#     for sample_size in sample_sizes:\n",
    "#         create_VAE_logs(filename,sample_size)"
   ]
  },
  {
   "cell_type": "markdown",
   "id": "76952743",
   "metadata": {},
   "source": [
    "Calculate generalization for each measure"
   ]
  },
  {
   "cell_type": "code",
   "execution_count": null,
   "id": "6bf0f217",
   "metadata": {},
   "outputs": [
    {
     "name": "stdout",
     "output_type": "stream",
     "text": [
      "Precision of IM-discovered net:  0.5634\n",
      "Fitness of IM-discovered net:  0.9571\n",
      "VAE Generalization= 0.7092\n",
      "The execution time for VAE generalization for order_process and the ocpn model with 200 traces is 55.4598 seconds\n",
      "Precision of IM-discovered net:  0.865\n",
      "Fitness of IM-discovered net:  0.5407\n",
      "VAE Generalization= 0.6655\n",
      "The execution time for VAE generalization for order_process and the happy path model with 200 traces is 16.9993 seconds\n",
      "Precision of IM-discovered net:  0.2893\n",
      "Fitness of IM-discovered net:  1.0\n",
      "VAE Generalization= 0.4487\n",
      "The execution time for VAE generalization for order_process and the flower model with 200 traces is 14.8334 seconds\n"
     ]
    },
    {
     "name": "stderr",
     "output_type": "stream",
     "text": [
      "Generating Variant Models: 100%|██████████| 105/105 [00:18<00:00,  5.81it/s]\n",
      "Processing Variant Nets: 100%|██████████| 105/105 [00:00<00:00, 6997.39it/s]\n"
     ]
    },
    {
     "name": "stdout",
     "output_type": "stream",
     "text": [
      "#########Start generating Object-Centric Petri Net#########\n",
      "#########Finished generating Object-Centric Petri Net#########\n",
      "Precision of IM-discovered net:  0.6364\n",
      "Fitness of IM-discovered net:  0.3377\n",
      "VAE Generalization= 0.4412\n",
      "The execution time for VAE generalization for order_process and the variant with 200 traces is 78.0944 seconds\n",
      "Precision of IM-discovered net:  0.5777\n",
      "Fitness of IM-discovered net:  0.9454\n",
      "VAE Generalization= 0.7172\n",
      "The execution time for VAE generalization for order_process and the ocpn model with 500 traces is 164.6971 seconds\n",
      "Precision of IM-discovered net:  0.8443\n",
      "Fitness of IM-discovered net:  0.4449\n",
      "VAE Generalization= 0.5827\n",
      "The execution time for VAE generalization for order_process and the happy path model with 500 traces is 72.5822 seconds\n",
      "Precision of IM-discovered net:  0.2749\n",
      "Fitness of IM-discovered net:  1.0\n",
      "VAE Generalization= 0.4312\n",
      "The execution time for VAE generalization for order_process and the flower model with 500 traces is 69.1959 seconds\n"
     ]
    },
    {
     "name": "stderr",
     "output_type": "stream",
     "text": [
      "Generating Variant Models: 100%|██████████| 174/174 [00:31<00:00,  5.45it/s]\n",
      "Processing Variant Nets: 100%|██████████| 174/174 [00:00<00:00, 5800.05it/s]\n"
     ]
    },
    {
     "name": "stdout",
     "output_type": "stream",
     "text": [
      "#########Start generating Object-Centric Petri Net#########\n",
      "#########Finished generating Object-Centric Petri Net#########\n"
     ]
    }
   ],
   "source": [
    "# variant model for 500, and everything for 800 has been run on the server\n",
    "filenames = [\"order_process\"]\n",
    "sample_sizes = [200 ,500, 800]\n",
    "objects = [[\"order\",\"item\",\"delivery\"]]\n",
    "counter = 0\n",
    "for filename in filenames:\n",
    "    object_types = objects[counter]\n",
    "    counter += 1\n",
    "    for sample_size in sample_sizes:\n",
    "        ocel = ocel_import_factory.apply(f\"../src/data/runtime/{filename}_{sample_size}.jsonocel\")\n",
    "        ocpn = ocpn_discovery_factory.apply(ocel, parameters={\"debug\": False})\n",
    "        parameters = {\"obj_names\": object_types,\n",
    "                      \"val_names\": [],\n",
    "                      \"act_name\": \"event_activity\",\n",
    "                      \"time_name\": \"event_timestamp\",\n",
    "                      \"sep\": \",\"}\n",
    "        ocel_gen = ocel_import_factory_csv.apply(file_path=f'../src/data/runtime/VAE/{filename}_{sample_size}_generated.csv', parameters=parameters)\n",
    "        start_time = time.time()\n",
    "        generalization = VAE_generalization(ocel_gen, ocpn)\n",
    "        execution_time = np.round(time.time() - start_time,4)\n",
    "        print(f\"The execution time for VAE generalization for {filename} and the ocpn model with {sample_size} traces is {execution_time} seconds\")\n",
    "        happy_path__ocel = get_happy_path_log(f\"../src/data/runtime/{filename}_{sample_size}.jsonocel\")\n",
    "        happy_path_ocpn = ocpn_discovery_factory.apply(happy_path__ocel, parameters={\"debug\": False})\n",
    "        start_time = time.time()\n",
    "        generalization = VAE_generalization(ocel_gen, happy_path_ocpn)\n",
    "        execution_time = np.round(time.time() - start_time,4)\n",
    "        print(f\"The execution time for VAE generalization for {filename} and the happy path model with {sample_size} traces is {execution_time} seconds\")\n",
    "        flower_ocpn = create_flower_model(f\"../src/data/runtime/{filename}_{sample_size}.jsonocel\",object_types)\n",
    "        start_time = time.time()\n",
    "        generalization = VAE_generalization(ocel_gen, flower_ocpn)\n",
    "        execution_time = np.round(time.time() - start_time,4)\n",
    "        print(f\"The execution time for VAE generalization for {filename} and the flower model with {sample_size} traces is {execution_time} seconds\")\n",
    "        variant_ocpn = generate_variant_model(ocel,save_path_logs=f\"../src/data/runtime/variant_logs/{filename}/{filename}_{sample_size}_gen\",object_types = object_types, save=True)        \n",
    "        for transition in variant_ocpn.transitions:\n",
    "            split_string = transition.name.split(\"_\")\n",
    "            transition.name = split_string[0]\n",
    "        start_time = time.time()\n",
    "        generalization = VAE_generalization(ocel_gen, variant_ocpn)\n",
    "        execution_time = np.round(time.time() - start_time,4)\n",
    "        print(f\"The execution time for VAE generalization for {filename} and the variant with {sample_size} traces is {execution_time} seconds\")"
   ]
  },
  {
   "cell_type": "code",
   "execution_count": 3,
   "id": "a69c329c",
   "metadata": {},
   "outputs": [
    {
     "name": "stdout",
     "output_type": "stream",
     "text": [
      "Precision of IM-discovered net:  0.7471\n",
      "Fitness of IM-discovered net:  0.7936\n",
      "VAE Generalization= 0.7697\n",
      "The execution time for VAE generalization for p2p-normal and the ocpn model with 200 traces is 33.3217 seconds\n",
      "Precision of IM-discovered net:  0.8333\n",
      "Fitness of IM-discovered net:  0.6667\n",
      "VAE Generalization= 0.7407\n",
      "The execution time for VAE generalization for p2p-normal and the happy path model with 200 traces is 38.2871 seconds\n",
      "Precision of IM-discovered net:  0.1575\n",
      "Fitness of IM-discovered net:  1.0\n",
      "VAE Generalization= 0.2721\n",
      "The execution time for VAE generalization for p2p-normal and the flower model with 200 traces is 36.8373 seconds\n",
      "Precision of IM-discovered net:  0.7963\n",
      "Fitness of IM-discovered net:  1.0\n",
      "VAE Generalization= 0.8866\n",
      "The execution time for VAE generalization for p2p-normal and the ocpn model with 500 traces is 128.6482 seconds\n",
      "Precision of IM-discovered net:  0.8889\n",
      "Fitness of IM-discovered net:  1.0\n",
      "VAE Generalization= 0.9412\n",
      "The execution time for VAE generalization for p2p-normal and the happy path model with 500 traces is 82.8426 seconds\n",
      "Precision of IM-discovered net:  0.1541\n",
      "Fitness of IM-discovered net:  1.0\n",
      "VAE Generalization= 0.267\n",
      "The execution time for VAE generalization for p2p-normal and the flower model with 500 traces is 94.0553 seconds\n",
      "Precision of IM-discovered net:  0.7963\n",
      "Fitness of IM-discovered net:  1.0\n",
      "VAE Generalization= 0.8866\n",
      "The execution time for VAE generalization for p2p-normal and the ocpn model with 800 traces is 190.0301 seconds\n",
      "Precision of IM-discovered net:  0.8333\n",
      "Fitness of IM-discovered net:  0.6667\n",
      "VAE Generalization= 0.7407\n",
      "The execution time for VAE generalization for p2p-normal and the happy path model with 800 traces is 209.6569 seconds\n",
      "Precision of IM-discovered net:  0.1541\n",
      "Fitness of IM-discovered net:  1.0\n",
      "VAE Generalization= 0.267\n",
      "The execution time for VAE generalization for p2p-normal and the flower model with 800 traces is 181.3364 seconds\n",
      "Precision of IM-discovered net:  0.4917\n",
      "Fitness of IM-discovered net:  0.1896\n",
      "VAE Generalization= 0.2737\n",
      "The execution time for VAE generalization for BPI2017-Final and the ocpn model with 200 traces is 101.0345 seconds\n",
      "Precision of IM-discovered net:  1.0\n",
      "Fitness of IM-discovered net:  0.0908\n",
      "VAE Generalization= 0.1666\n",
      "The execution time for VAE generalization for BPI2017-Final and the happy path model with 200 traces is 40.293 seconds\n",
      "Precision of IM-discovered net:  0.0783\n",
      "Fitness of IM-discovered net:  1.0\n",
      "VAE Generalization= 0.1452\n",
      "The execution time for VAE generalization for BPI2017-Final and the flower model with 200 traces is 45.2837 seconds\n",
      "Precision of IM-discovered net:  0.3629\n",
      "Fitness of IM-discovered net:  0.2172\n",
      "VAE Generalization= 0.2718\n",
      "The execution time for VAE generalization for BPI2017-Final and the ocpn model with 500 traces is 502.7151 seconds\n",
      "Precision of IM-discovered net:  1.0\n",
      "Fitness of IM-discovered net:  0.0732\n",
      "VAE Generalization= 0.1364\n",
      "The execution time for VAE generalization for BPI2017-Final and the happy path model with 500 traces is 162.5771 seconds\n",
      "Precision of IM-discovered net:  0.0832\n",
      "Fitness of IM-discovered net:  1.0\n",
      "VAE Generalization= 0.1536\n",
      "The execution time for VAE generalization for BPI2017-Final and the flower model with 500 traces is 170.7772 seconds\n",
      "Precision of IM-discovered net:  0.3756\n",
      "Fitness of IM-discovered net:  0.1844\n",
      "VAE Generalization= 0.2474\n",
      "The execution time for VAE generalization for BPI2017-Final and the ocpn model with 800 traces is 1087.7688 seconds\n",
      "Precision of IM-discovered net:  0.9503\n",
      "Fitness of IM-discovered net:  0.0719\n",
      "VAE Generalization= 0.1338\n",
      "The execution time for VAE generalization for BPI2017-Final and the happy path model with 800 traces is 408.6848 seconds\n",
      "Precision of IM-discovered net:  0.0785\n",
      "Fitness of IM-discovered net:  1.0\n",
      "VAE Generalization= 0.1456\n",
      "The execution time for VAE generalization for BPI2017-Final and the flower model with 800 traces is 421.2852 seconds\n",
      "Precision of IM-discovered net:  0.1429\n",
      "Fitness of IM-discovered net:  1.0\n",
      "VAE Generalization= 0.25\n",
      "The execution time for VAE generalization for DS3 and the ocpn model with 200 traces is 63788.3016 seconds\n"
     ]
    },
    {
     "ename": "KeyboardInterrupt",
     "evalue": "",
     "output_type": "error",
     "traceback": [
      "\u001b[1;31m---------------------------------------------------------------------------\u001b[0m",
      "\u001b[1;31mKeyboardInterrupt\u001b[0m                         Traceback (most recent call last)",
      "Cell \u001b[1;32mIn[3], line 24\u001b[0m\n\u001b[0;32m     22\u001b[0m happy_path_ocpn \u001b[38;5;241m=\u001b[39m ocpn_discovery_factory\u001b[38;5;241m.\u001b[39mapply(happy_path__ocel, parameters\u001b[38;5;241m=\u001b[39m{\u001b[38;5;124m\"\u001b[39m\u001b[38;5;124mdebug\u001b[39m\u001b[38;5;124m\"\u001b[39m: \u001b[38;5;28;01mFalse\u001b[39;00m})\n\u001b[0;32m     23\u001b[0m start_time \u001b[38;5;241m=\u001b[39m time\u001b[38;5;241m.\u001b[39mtime()\n\u001b[1;32m---> 24\u001b[0m generalization \u001b[38;5;241m=\u001b[39m \u001b[43mVAE_generalization\u001b[49m\u001b[43m(\u001b[49m\u001b[43mocel_gen\u001b[49m\u001b[43m,\u001b[49m\u001b[43m \u001b[49m\u001b[43mhappy_path_ocpn\u001b[49m\u001b[43m)\u001b[49m\n\u001b[0;32m     25\u001b[0m execution_time \u001b[38;5;241m=\u001b[39m np\u001b[38;5;241m.\u001b[39mround(time\u001b[38;5;241m.\u001b[39mtime() \u001b[38;5;241m-\u001b[39m start_time,\u001b[38;5;241m4\u001b[39m)\n\u001b[0;32m     26\u001b[0m \u001b[38;5;28mprint\u001b[39m(\u001b[38;5;124mf\u001b[39m\u001b[38;5;124m\"\u001b[39m\u001b[38;5;124mThe execution time for VAE generalization for \u001b[39m\u001b[38;5;132;01m{\u001b[39;00mfilename\u001b[38;5;132;01m}\u001b[39;00m\u001b[38;5;124m and the happy path model with \u001b[39m\u001b[38;5;132;01m{\u001b[39;00msample_size\u001b[38;5;132;01m}\u001b[39;00m\u001b[38;5;124m traces is \u001b[39m\u001b[38;5;132;01m{\u001b[39;00mexecution_time\u001b[38;5;132;01m}\u001b[39;00m\u001b[38;5;124m seconds\u001b[39m\u001b[38;5;124m\"\u001b[39m)\n",
      "File \u001b[1;32m~\\PycharmProjects\\Generalization in Object-Centric Process Mining\\models\\VAE_measure.py:214\u001b[0m, in \u001b[0;36mVAE_generalization\u001b[1;34m(ocel_gen, ocpn)\u001b[0m\n\u001b[0;32m    207\u001b[0m \u001b[38;5;250m\u001b[39m\u001b[38;5;124;03m\"\"\"\u001b[39;00m\n\u001b[0;32m    208\u001b[0m \u001b[38;5;124;03mCalculates the generalization of the generated object-centric event log from the VAE\u001b[39;00m\n\u001b[0;32m    209\u001b[0m \u001b[38;5;124;03m:param ocel_gen: generated object-centric event log\u001b[39;00m\n\u001b[0;32m    210\u001b[0m \u001b[38;5;124;03m:param ocpn: original object-centric process net\u001b[39;00m\n\u001b[0;32m    211\u001b[0m \u001b[38;5;124;03m:return: generalization\u001b[39;00m\n\u001b[0;32m    212\u001b[0m \u001b[38;5;124;03m\"\"\"\u001b[39;00m\n\u001b[0;32m    213\u001b[0m \u001b[38;5;66;03m# use precision and fitness from the ocpa package\u001b[39;00m\n\u001b[1;32m--> 214\u001b[0m precision, fitness \u001b[38;5;241m=\u001b[39m \u001b[43mquality_measure_factory\u001b[49m\u001b[38;5;241;43m.\u001b[39;49m\u001b[43mapply\u001b[49m\u001b[43m(\u001b[49m\u001b[43mocel_gen\u001b[49m\u001b[43m,\u001b[49m\u001b[43m \u001b[49m\u001b[43mocpn\u001b[49m\u001b[43m)\u001b[49m\n\u001b[0;32m    215\u001b[0m \u001b[38;5;28mprint\u001b[39m(\u001b[38;5;124m\"\u001b[39m\u001b[38;5;124mPrecision of IM-discovered net: \u001b[39m\u001b[38;5;124m\"\u001b[39m,np\u001b[38;5;241m.\u001b[39mround(precision,\u001b[38;5;241m4\u001b[39m))\n\u001b[0;32m    216\u001b[0m \u001b[38;5;28mprint\u001b[39m(\u001b[38;5;124m\"\u001b[39m\u001b[38;5;124mFitness of IM-discovered net: \u001b[39m\u001b[38;5;124m\"\u001b[39m, np\u001b[38;5;241m.\u001b[39mround(fitness,\u001b[38;5;241m4\u001b[39m))\n",
      "File \u001b[1;32m~\\PycharmProjects\\Generalization in Object-Centric Process Mining\\venv\\lib\\site-packages\\ocpa\\algo\\conformance\\precision_and_fitness\\evaluator.py:30\u001b[0m, in \u001b[0;36mapply\u001b[1;34m(ocel, ocpn, contexts, bindings)\u001b[0m\n\u001b[0;32m     28\u001b[0m object_types \u001b[38;5;241m=\u001b[39m ocel\u001b[38;5;241m.\u001b[39mobject_types\n\u001b[0;32m     29\u001b[0m \u001b[38;5;28;01mif\u001b[39;00m contexts \u001b[38;5;241m==\u001b[39m \u001b[38;5;28;01mNone\u001b[39;00m \u001b[38;5;129;01mor\u001b[39;00m bindings \u001b[38;5;241m==\u001b[39m \u001b[38;5;28;01mNone\u001b[39;00m:\n\u001b[1;32m---> 30\u001b[0m     contexts, bindings \u001b[38;5;241m=\u001b[39m \u001b[43mutils\u001b[49m\u001b[38;5;241;43m.\u001b[39;49m\u001b[43mcalculate_contexts_and_bindings\u001b[49m\u001b[43m(\u001b[49m\u001b[43mocel\u001b[49m\u001b[43m)\u001b[49m\n\u001b[0;32m     31\u001b[0m en_l \u001b[38;5;241m=\u001b[39m  replay_context\u001b[38;5;241m.\u001b[39menabled_log_activities(ocel\u001b[38;5;241m.\u001b[39mlog, contexts)\n\u001b[0;32m     32\u001b[0m en_m \u001b[38;5;241m=\u001b[39m  replay_context\u001b[38;5;241m.\u001b[39menabled_model_activities_multiprocessing(contexts, bindings, ocpn, object_types)\n",
      "File \u001b[1;32m~\\PycharmProjects\\Generalization in Object-Centric Process Mining\\venv\\lib\\site-packages\\ocpa\\algo\\conformance\\precision_and_fitness\\utils.py:36\u001b[0m, in \u001b[0;36mcalculate_contexts_and_bindings\u001b[1;34m(ocel)\u001b[0m\n\u001b[0;32m     34\u001b[0m binding_sequence \u001b[38;5;241m=\u001b[39m log\u001b[38;5;241m.\u001b[39mloc[log[\u001b[38;5;124m\"\u001b[39m\u001b[38;5;124mevent_id\u001b[39m\u001b[38;5;124m\"\u001b[39m]\u001b[38;5;241m.\u001b[39misin(preset[event])]\u001b[38;5;241m.\u001b[39mapply(\u001b[38;5;28;01mlambda\u001b[39;00m y: (y[\u001b[38;5;124m\"\u001b[39m\u001b[38;5;124mevent_activity\u001b[39m\u001b[38;5;124m\"\u001b[39m], { ot : [o \u001b[38;5;28;01mfor\u001b[39;00m (ot_,o) \u001b[38;5;129;01min\u001b[39;00m y[\u001b[38;5;124m\"\u001b[39m\u001b[38;5;124mevent_objects\u001b[39m\u001b[38;5;124m\"\u001b[39m] \u001b[38;5;28;01mif\u001b[39;00m ot_ \u001b[38;5;241m==\u001b[39m ot] \u001b[38;5;28;01mfor\u001b[39;00m ot \u001b[38;5;129;01min\u001b[39;00m object_types}), axis \u001b[38;5;241m=\u001b[39m \u001b[38;5;241m1\u001b[39m)\u001b[38;5;241m.\u001b[39mvalues\u001b[38;5;241m.\u001b[39mtolist()\n\u001b[0;32m     35\u001b[0m \u001b[38;5;28;01mfor\u001b[39;00m ob \u001b[38;5;129;01min\u001b[39;00m obs:\n\u001b[1;32m---> 36\u001b[0m     prefix \u001b[38;5;241m=\u001b[39m \u001b[38;5;28mtuple\u001b[39m(exploded_log[(\u001b[43mexploded_log\u001b[49m\u001b[43m[\u001b[49m\u001b[38;5;124;43m\"\u001b[39;49m\u001b[38;5;124;43mevent_objects\u001b[39;49m\u001b[38;5;124;43m\"\u001b[39;49m\u001b[43m]\u001b[49m\u001b[43m \u001b[49m\u001b[38;5;241;43m==\u001b[39;49m\u001b[43m \u001b[49m\u001b[43mob\u001b[49m) \u001b[38;5;241m&\u001b[39m (exploded_log[\u001b[38;5;124m\"\u001b[39m\u001b[38;5;124mevent_id\u001b[39m\u001b[38;5;124m\"\u001b[39m]\u001b[38;5;241m.\u001b[39misin(preset[event]))][\u001b[38;5;124m\"\u001b[39m\u001b[38;5;124mevent_activity\u001b[39m\u001b[38;5;124m\"\u001b[39m]\u001b[38;5;241m.\u001b[39mto_list())\n\u001b[0;32m     37\u001b[0m     \u001b[38;5;28;01mif\u001b[39;00m ob[\u001b[38;5;241m0\u001b[39m] \u001b[38;5;129;01mnot\u001b[39;00m \u001b[38;5;129;01min\u001b[39;00m context\u001b[38;5;241m.\u001b[39mkeys():\n\u001b[0;32m     38\u001b[0m         context[ob[\u001b[38;5;241m0\u001b[39m]] \u001b[38;5;241m=\u001b[39m Counter()\n",
      "File \u001b[1;32m~\\PycharmProjects\\Generalization in Object-Centric Process Mining\\venv\\lib\\site-packages\\pandas\\core\\ops\\common.py:72\u001b[0m, in \u001b[0;36m_unpack_zerodim_and_defer.<locals>.new_method\u001b[1;34m(self, other)\u001b[0m\n\u001b[0;32m     68\u001b[0m             \u001b[38;5;28;01mreturn\u001b[39;00m \u001b[38;5;28mNotImplemented\u001b[39m\n\u001b[0;32m     70\u001b[0m other \u001b[38;5;241m=\u001b[39m item_from_zerodim(other)\n\u001b[1;32m---> 72\u001b[0m \u001b[38;5;28;01mreturn\u001b[39;00m \u001b[43mmethod\u001b[49m\u001b[43m(\u001b[49m\u001b[38;5;28;43mself\u001b[39;49m\u001b[43m,\u001b[49m\u001b[43m \u001b[49m\u001b[43mother\u001b[49m\u001b[43m)\u001b[49m\n",
      "File \u001b[1;32m~\\PycharmProjects\\Generalization in Object-Centric Process Mining\\venv\\lib\\site-packages\\pandas\\core\\arraylike.py:42\u001b[0m, in \u001b[0;36mOpsMixin.__eq__\u001b[1;34m(self, other)\u001b[0m\n\u001b[0;32m     40\u001b[0m \u001b[38;5;129m@unpack_zerodim_and_defer\u001b[39m(\u001b[38;5;124m\"\u001b[39m\u001b[38;5;124m__eq__\u001b[39m\u001b[38;5;124m\"\u001b[39m)\n\u001b[0;32m     41\u001b[0m \u001b[38;5;28;01mdef\u001b[39;00m \u001b[38;5;21m__eq__\u001b[39m(\u001b[38;5;28mself\u001b[39m, other):\n\u001b[1;32m---> 42\u001b[0m     \u001b[38;5;28;01mreturn\u001b[39;00m \u001b[38;5;28;43mself\u001b[39;49m\u001b[38;5;241;43m.\u001b[39;49m\u001b[43m_cmp_method\u001b[49m\u001b[43m(\u001b[49m\u001b[43mother\u001b[49m\u001b[43m,\u001b[49m\u001b[43m \u001b[49m\u001b[43moperator\u001b[49m\u001b[38;5;241;43m.\u001b[39;49m\u001b[43meq\u001b[49m\u001b[43m)\u001b[49m\n",
      "File \u001b[1;32m~\\PycharmProjects\\Generalization in Object-Centric Process Mining\\venv\\lib\\site-packages\\pandas\\core\\series.py:6243\u001b[0m, in \u001b[0;36mSeries._cmp_method\u001b[1;34m(self, other, op)\u001b[0m\n\u001b[0;32m   6240\u001b[0m rvalues \u001b[38;5;241m=\u001b[39m extract_array(other, extract_numpy\u001b[38;5;241m=\u001b[39m\u001b[38;5;28;01mTrue\u001b[39;00m, extract_range\u001b[38;5;241m=\u001b[39m\u001b[38;5;28;01mTrue\u001b[39;00m)\n\u001b[0;32m   6242\u001b[0m \u001b[38;5;28;01mwith\u001b[39;00m np\u001b[38;5;241m.\u001b[39merrstate(\u001b[38;5;28mall\u001b[39m\u001b[38;5;241m=\u001b[39m\u001b[38;5;124m\"\u001b[39m\u001b[38;5;124mignore\u001b[39m\u001b[38;5;124m\"\u001b[39m):\n\u001b[1;32m-> 6243\u001b[0m     res_values \u001b[38;5;241m=\u001b[39m \u001b[43mops\u001b[49m\u001b[38;5;241;43m.\u001b[39;49m\u001b[43mcomparison_op\u001b[49m\u001b[43m(\u001b[49m\u001b[43mlvalues\u001b[49m\u001b[43m,\u001b[49m\u001b[43m \u001b[49m\u001b[43mrvalues\u001b[49m\u001b[43m,\u001b[49m\u001b[43m \u001b[49m\u001b[43mop\u001b[49m\u001b[43m)\u001b[49m\n\u001b[0;32m   6245\u001b[0m \u001b[38;5;28;01mreturn\u001b[39;00m \u001b[38;5;28mself\u001b[39m\u001b[38;5;241m.\u001b[39m_construct_result(res_values, name\u001b[38;5;241m=\u001b[39mres_name)\n",
      "File \u001b[1;32m~\\PycharmProjects\\Generalization in Object-Centric Process Mining\\venv\\lib\\site-packages\\pandas\\core\\ops\\array_ops.py:287\u001b[0m, in \u001b[0;36mcomparison_op\u001b[1;34m(left, right, op)\u001b[0m\n\u001b[0;32m    284\u001b[0m     \u001b[38;5;28;01mreturn\u001b[39;00m invalid_comparison(lvalues, rvalues, op)\n\u001b[0;32m    286\u001b[0m \u001b[38;5;28;01melif\u001b[39;00m is_object_dtype(lvalues\u001b[38;5;241m.\u001b[39mdtype) \u001b[38;5;129;01mor\u001b[39;00m \u001b[38;5;28misinstance\u001b[39m(rvalues, \u001b[38;5;28mstr\u001b[39m):\n\u001b[1;32m--> 287\u001b[0m     res_values \u001b[38;5;241m=\u001b[39m \u001b[43mcomp_method_OBJECT_ARRAY\u001b[49m\u001b[43m(\u001b[49m\u001b[43mop\u001b[49m\u001b[43m,\u001b[49m\u001b[43m \u001b[49m\u001b[43mlvalues\u001b[49m\u001b[43m,\u001b[49m\u001b[43m \u001b[49m\u001b[43mrvalues\u001b[49m\u001b[43m)\u001b[49m\n\u001b[0;32m    289\u001b[0m \u001b[38;5;28;01melse\u001b[39;00m:\n\u001b[0;32m    290\u001b[0m     res_values \u001b[38;5;241m=\u001b[39m _na_arithmetic_op(lvalues, rvalues, op, is_cmp\u001b[38;5;241m=\u001b[39m\u001b[38;5;28;01mTrue\u001b[39;00m)\n",
      "File \u001b[1;32m~\\PycharmProjects\\Generalization in Object-Centric Process Mining\\venv\\lib\\site-packages\\pandas\\core\\ops\\array_ops.py:76\u001b[0m, in \u001b[0;36mcomp_method_OBJECT_ARRAY\u001b[1;34m(op, x, y)\u001b[0m\n\u001b[0;32m     74\u001b[0m \u001b[38;5;28;01melse\u001b[39;00m:\n\u001b[0;32m     75\u001b[0m     result \u001b[38;5;241m=\u001b[39m libops\u001b[38;5;241m.\u001b[39mscalar_compare(x\u001b[38;5;241m.\u001b[39mravel(), y, op)\n\u001b[1;32m---> 76\u001b[0m \u001b[38;5;28;01mreturn\u001b[39;00m \u001b[43mresult\u001b[49m\u001b[38;5;241;43m.\u001b[39;49m\u001b[43mreshape\u001b[49m(x\u001b[38;5;241m.\u001b[39mshape)\n",
      "\u001b[1;31mKeyboardInterrupt\u001b[0m: "
     ]
    }
   ],
   "source": [
    "#has been run on the server\n",
    "filenames = [\"p2p-normal\",\"BPI2017-Final\",\"DS3\",\"DS4\"]\n",
    "sample_sizes = [200 ,500, 800]\n",
    "objects = [[\"PURCHORD\",\"INVOICE\",\"PURCHREQ\",\"MATERIAL\",\"GDSRCPT\"],[\"application\",\"offer\"],[\"incident\",\"customer\"], [\"Payment application\",\"Control summary\",\"Entitlement application\",\"Geo parcel document\",\"Inspection\",\"Reference alignment\"]]\n",
    "counter = 0\n",
    "for filename in filenames:\n",
    "    object_types = objects[counter]\n",
    "    counter += 1\n",
    "    for sample_size in sample_sizes:\n",
    "        ocel = ocel_import_factory.apply(f\"../src/data/runtime/{filename}_{sample_size}.jsonocel\")\n",
    "        ocpn = ocpn_discovery_factory.apply(ocel, parameters={\"debug\": False})\n",
    "        parameters = {\"obj_names\": object_types,\n",
    "                      \"val_names\": [],\n",
    "                      \"act_name\": \"event_activity\",\n",
    "                      \"time_name\": \"event_timestamp\",\n",
    "                      \"sep\": \",\"}\n",
    "        ocel_gen = ocel_import_factory_csv.apply(file_path=f'../src/data/runtime/VAE/{filename}_{sample_size}_generated.csv', parameters=parameters)\n",
    "        start_time = time.time()\n",
    "        generalization = VAE_generalization(ocel_gen, ocpn)\n",
    "        execution_time = np.round(time.time() - start_time,4)\n",
    "        print(f\"The execution time for VAE generalization for {filename} and the ocpn model with {sample_size} traces is {execution_time} seconds\")\n",
    "        happy_path__ocel = get_happy_path_log(f\"../src/data/runtime/{filename}_{sample_size}.jsonocel\")\n",
    "        happy_path_ocpn = ocpn_discovery_factory.apply(happy_path__ocel, parameters={\"debug\": False})\n",
    "        start_time = time.time()\n",
    "        generalization = VAE_generalization(ocel_gen, happy_path_ocpn)\n",
    "        execution_time = np.round(time.time() - start_time,4)\n",
    "        print(f\"The execution time for VAE generalization for {filename} and the happy path model with {sample_size} traces is {execution_time} seconds\")\n",
    "        flower_ocpn = create_flower_model(f\"../src/data/runtime/{filename}_{sample_size}.jsonocel\",object_types)\n",
    "        start_time = time.time()\n",
    "        generalization = VAE_generalization(ocel_gen, flower_ocpn)\n",
    "        execution_time = np.round(time.time() - start_time,4)\n",
    "        print(f\"The execution time for VAE generalization for {filename} and the flower model with {sample_size} traces is {execution_time} seconds\")"
   ]
  }
 ],
 "metadata": {
  "kernelspec": {
   "display_name": "Python 3 (ipykernel)",
   "language": "python",
   "name": "python3"
  },
  "language_info": {
   "codemirror_mode": {
    "name": "ipython",
    "version": 3
   },
   "file_extension": ".py",
   "mimetype": "text/x-python",
   "name": "python",
   "nbconvert_exporter": "python",
   "pygments_lexer": "ipython3",
   "version": "3.8.6"
  }
 },
 "nbformat": 4,
 "nbformat_minor": 5
}
