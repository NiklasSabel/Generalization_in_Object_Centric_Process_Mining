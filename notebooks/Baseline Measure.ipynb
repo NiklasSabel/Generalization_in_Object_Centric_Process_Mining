{
 "cells": [
  {
   "cell_type": "markdown",
   "id": "3629febf",
   "metadata": {},
   "source": [
    "# Baseline Measure"
   ]
  },
  {
   "cell_type": "markdown",
   "id": "ad07bf88",
   "metadata": {},
   "source": [
    "In this notebook, we give a first overview on our baseline measure for an object-centric event log and an object-centric petri net that is defined in the following way:\n",
    "$$\n",
    "Generalization = 1- \\frac{\\sum_{\\text{nodes in log}}(\\sqrt{\\#\\text{executions in log}})^{ -1}}{\\#\\text{nodes in model}}\n",
    "$$"
   ]
  },
  {
   "cell_type": "code",
   "execution_count": 1,
   "id": "c9aeff9a",
   "metadata": {},
   "outputs": [],
   "source": [
    "import warnings\n",
    "warnings.filterwarnings('ignore')"
   ]
  },
  {
   "cell_type": "code",
   "execution_count": 2,
   "id": "7cd21f2c",
   "metadata": {},
   "outputs": [],
   "source": [
    "from ocpa.objects.log.importer.ocel import factory as ocel_import_factory\n",
    "from ocpa.algo.discovery.ocpn import algorithm as ocpn_discovery_factory\n",
    "from src.models.baseline_measure import baseline_measure\n",
    "from src.utils import get_happy_path_log, create_flower_model"
   ]
  },
  {
   "cell_type": "markdown",
   "id": "2f5acca2",
   "metadata": {},
   "source": [
    "# O2C Log"
   ]
  },
  {
   "cell_type": "markdown",
   "id": "79f9f1b6",
   "metadata": {},
   "source": [
    "### Standard Petri Net"
   ]
  },
  {
   "cell_type": "markdown",
   "id": "ea029b35",
   "metadata": {},
   "source": [
    "In a first step, we load the OCEL-log into the notebook and generate the object-centric petri net."
   ]
  },
  {
   "cell_type": "code",
   "execution_count": 3,
   "id": "d8448274",
   "metadata": {},
   "outputs": [],
   "source": [
    "filename = \"../src/data/jsonocel/order_process.jsonocel\"\n",
    "ocel = ocel_import_factory.apply(filename)\n",
    "ocpn = ocpn_discovery_factory.apply(ocel, parameters={\"debug\": False})"
   ]
  },
  {
   "cell_type": "code",
   "execution_count": 4,
   "id": "46403402",
   "metadata": {},
   "outputs": [
    {
     "data": {
      "text/plain": [
       "0.931"
      ]
     },
     "execution_count": 4,
     "metadata": {},
     "output_type": "execute_result"
    }
   ],
   "source": [
    "value = baseline_measure(ocel,ocpn,'event_activity','event_id')\n",
    "value"
   ]
  },
  {
   "cell_type": "markdown",
   "id": "f5a08e25",
   "metadata": {},
   "source": [
    "### Happy Path Petri Net"
   ]
  },
  {
   "cell_type": "code",
   "execution_count": 5,
   "id": "0c4f310f",
   "metadata": {},
   "outputs": [],
   "source": [
    "happy_path__ocel = get_happy_path_log(filename)"
   ]
  },
  {
   "cell_type": "code",
   "execution_count": 6,
   "id": "35668a50",
   "metadata": {},
   "outputs": [],
   "source": [
    "happy_path_ocpn = ocpn_discovery_factory.apply(happy_path__ocel, parameters={\"debug\": False})"
   ]
  },
  {
   "cell_type": "code",
   "execution_count": 7,
   "id": "0105752b",
   "metadata": {},
   "outputs": [
    {
     "data": {
      "text/plain": [
       "0.9052"
      ]
     },
     "execution_count": 7,
     "metadata": {},
     "output_type": "execute_result"
    }
   ],
   "source": [
    "value = baseline_measure(ocel,happy_path_ocpn,'event_activity','event_id')\n",
    "value"
   ]
  },
  {
   "cell_type": "markdown",
   "id": "d5b26a81",
   "metadata": {},
   "source": [
    "### Flower Model Petri Net"
   ]
  },
  {
   "cell_type": "code",
   "execution_count": 8,
   "id": "cf08a8c5",
   "metadata": {},
   "outputs": [],
   "source": [
    "ots = [\"order\",\"item\",\"delivery\"]"
   ]
  },
  {
   "cell_type": "code",
   "execution_count": 9,
   "id": "89072314",
   "metadata": {},
   "outputs": [],
   "source": [
    "flower_ocpn = create_flower_model(filename,ots)"
   ]
  },
  {
   "cell_type": "code",
   "execution_count": 11,
   "id": "4d01ce1d",
   "metadata": {},
   "outputs": [
    {
     "data": {
      "text/plain": [
       "0.931"
      ]
     },
     "execution_count": 11,
     "metadata": {},
     "output_type": "execute_result"
    }
   ],
   "source": [
    "value = baseline_measure(ocel,flower_ocpn,'event_activity','event_id')\n",
    "value"
   ]
  },
  {
   "cell_type": "markdown",
   "id": "eaab8829",
   "metadata": {},
   "source": [
    "# P2P Log"
   ]
  },
  {
   "cell_type": "markdown",
   "id": "a7816235",
   "metadata": {},
   "source": [
    "### Standard Petri Net"
   ]
  },
  {
   "cell_type": "markdown",
   "id": "8500148a",
   "metadata": {},
   "source": [
    "In a first step, we load the OCEL-log into the notebook and generate the object-centric petri net."
   ]
  },
  {
   "cell_type": "code",
   "execution_count": 12,
   "id": "425aa3b1",
   "metadata": {},
   "outputs": [],
   "source": [
    "filename = \"../src/data/jsonocel/p2p-normal.jsonocel\"\n",
    "ocel = ocel_import_factory.apply(filename)\n",
    "ocpn = ocpn_discovery_factory.apply(ocel, parameters={\"debug\": False})"
   ]
  },
  {
   "cell_type": "code",
   "execution_count": 13,
   "id": "b611a86c",
   "metadata": {},
   "outputs": [
    {
     "data": {
      "text/plain": [
       "0.8882"
      ]
     },
     "execution_count": 13,
     "metadata": {},
     "output_type": "execute_result"
    }
   ],
   "source": [
    "value = baseline_measure(ocel,ocpn,'event_activity','event_id')\n",
    "value"
   ]
  },
  {
   "cell_type": "markdown",
   "id": "9a051ca9",
   "metadata": {},
   "source": [
    "### Happy Path Petri Net"
   ]
  },
  {
   "cell_type": "code",
   "execution_count": 14,
   "id": "9910bb98",
   "metadata": {},
   "outputs": [],
   "source": [
    "happy_path__ocel = get_happy_path_log(filename)"
   ]
  },
  {
   "cell_type": "code",
   "execution_count": 15,
   "id": "84d3b838",
   "metadata": {},
   "outputs": [],
   "source": [
    "happy_path_ocpn = ocpn_discovery_factory.apply(happy_path__ocel, parameters={\"debug\": False})"
   ]
  },
  {
   "cell_type": "code",
   "execution_count": 16,
   "id": "aedb409b",
   "metadata": {},
   "outputs": [
    {
     "data": {
      "text/plain": [
       "0.8882"
      ]
     },
     "execution_count": 16,
     "metadata": {},
     "output_type": "execute_result"
    }
   ],
   "source": [
    "value = baseline_measure(ocel,happy_path_ocpn,'event_activity','event_id')\n",
    "value"
   ]
  },
  {
   "cell_type": "markdown",
   "id": "e3ec2ccf",
   "metadata": {},
   "source": [
    "### Flower Model Petri Net"
   ]
  },
  {
   "cell_type": "code",
   "execution_count": 17,
   "id": "5deafd77",
   "metadata": {},
   "outputs": [],
   "source": [
    "ots = [\"PURCHORD\",\"INVOICE\",\"PURCHREQ\",\"MATERIAL\",\"GDSRCPT\"]"
   ]
  },
  {
   "cell_type": "code",
   "execution_count": 18,
   "id": "8caa38bd",
   "metadata": {},
   "outputs": [],
   "source": [
    "flower_ocpn = create_flower_model(filename,ots)"
   ]
  },
  {
   "cell_type": "code",
   "execution_count": 19,
   "id": "6b926427",
   "metadata": {},
   "outputs": [
    {
     "data": {
      "text/plain": [
       "0.8882"
      ]
     },
     "execution_count": 19,
     "metadata": {},
     "output_type": "execute_result"
    }
   ],
   "source": [
    "value = baseline_measure(ocel,flower_ocpn,'event_activity','event_id')\n",
    "value"
   ]
  },
  {
   "cell_type": "markdown",
   "id": "406b591f",
   "metadata": {},
   "source": [
    "# BPI-Challenge 2017 Log"
   ]
  },
  {
   "cell_type": "markdown",
   "id": "cef9fbd0",
   "metadata": {},
   "source": [
    "### Standard Petri Net"
   ]
  },
  {
   "cell_type": "markdown",
   "id": "35f37d90",
   "metadata": {},
   "source": [
    "In a first step, we load the OCEL-log into the notebook and generate the object-centric petri net."
   ]
  },
  {
   "cell_type": "code",
   "execution_count": 20,
   "id": "97d78201",
   "metadata": {},
   "outputs": [],
   "source": [
    "filename = \"../src/data/jsonocel/BPI2017-Final.jsonocel\"\n",
    "ocel = ocel_import_factory.apply(filename)\n",
    "ocpn = ocpn_discovery_factory.apply(ocel, parameters={\"debug\": False})"
   ]
  },
  {
   "cell_type": "code",
   "execution_count": 21,
   "id": "24ab8753",
   "metadata": {},
   "outputs": [
    {
     "data": {
      "text/plain": [
       "0.9606"
      ]
     },
     "execution_count": 21,
     "metadata": {},
     "output_type": "execute_result"
    }
   ],
   "source": [
    "value = baseline_measure(ocel,ocpn,'event_activity','event_id')\n",
    "value"
   ]
  },
  {
   "cell_type": "markdown",
   "id": "07f22ca5",
   "metadata": {},
   "source": [
    "### Happy Path Petri Net"
   ]
  },
  {
   "cell_type": "code",
   "execution_count": 22,
   "id": "da118f4e",
   "metadata": {},
   "outputs": [],
   "source": [
    "happy_path__ocel = get_happy_path_log(filename)"
   ]
  },
  {
   "cell_type": "code",
   "execution_count": 23,
   "id": "d570317a",
   "metadata": {},
   "outputs": [],
   "source": [
    "happy_path_ocpn = ocpn_discovery_factory.apply(happy_path__ocel, parameters={\"debug\": False})"
   ]
  },
  {
   "cell_type": "code",
   "execution_count": 24,
   "id": "9582914a",
   "metadata": {},
   "outputs": [
    {
     "data": {
      "text/plain": [
       "0.9081"
      ]
     },
     "execution_count": 24,
     "metadata": {},
     "output_type": "execute_result"
    }
   ],
   "source": [
    "value = baseline_measure(ocel,happy_path_ocpn,'event_activity','event_id')\n",
    "value"
   ]
  },
  {
   "cell_type": "markdown",
   "id": "9a62a8d3",
   "metadata": {},
   "source": [
    "### Flower Model Petri Net"
   ]
  },
  {
   "cell_type": "code",
   "execution_count": 25,
   "id": "69ddb486",
   "metadata": {},
   "outputs": [],
   "source": [
    "ots = [\"application\",\"offer\"]"
   ]
  },
  {
   "cell_type": "code",
   "execution_count": 26,
   "id": "a60d3fcb",
   "metadata": {},
   "outputs": [],
   "source": [
    "flower_ocpn = create_flower_model(filename,ots)"
   ]
  },
  {
   "cell_type": "code",
   "execution_count": 27,
   "id": "ca71b5f5",
   "metadata": {},
   "outputs": [
    {
     "data": {
      "text/plain": [
       "0.9606"
      ]
     },
     "execution_count": 27,
     "metadata": {},
     "output_type": "execute_result"
    }
   ],
   "source": [
    "value = baseline_measure(ocel,flower_ocpn,'event_activity','event_id')\n",
    "value"
   ]
  }
 ],
 "metadata": {
  "kernelspec": {
   "display_name": "Python 3 (ipykernel)",
   "language": "python",
   "name": "python3"
  },
  "language_info": {
   "codemirror_mode": {
    "name": "ipython",
    "version": 3
   },
   "file_extension": ".py",
   "mimetype": "text/x-python",
   "name": "python",
   "nbconvert_exporter": "python",
   "pygments_lexer": "ipython3",
   "version": "3.8.6"
  }
 },
 "nbformat": 4,
 "nbformat_minor": 5
}